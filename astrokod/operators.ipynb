{
 "cells": [
  {
   "cell_type": "markdown",
   "id": "fecdbf9e",
   "metadata": {},
   "source": [
    "# Operatörler"
   ]
  },
  {
   "cell_type": "markdown",
   "id": "d8242133",
   "metadata": {},
   "source": [
    "Python'da çeşitli operatörler bulunmaktadır.\n",
    "\n",
    "\n",
    "- Aritmetik\n",
    "- Karşılaştırma\n",
    "- Matıksal\n",
    "- Üyelik\n",
    "- Atama"
   ]
  },
  {
   "cell_type": "markdown",
   "id": "af38c8d1",
   "metadata": {},
   "source": [
    "## Aritmetik operatörleri\n",
    "Aritmetik işlmeler yapabilmek için kullanılan operatörlerdir:\n",
    "\n",
    "- Toplama, ```+```\n",
    "- Çıkarma, ```-```\n",
    "- Çarpma, ```*```\n",
    "- Bölme, ```/```\n",
    "- Modüler, ```%```\n",
    "- Kuvvet, ```**```\n",
    "- Kalansız Bölme, ```//```\n",
    "\n",
    "## Karşılaştırma operatörleri\n",
    "\n",
    "Karşılaştırma operatörleri, iki değerin karşılaştırır\n",
    "\n",
    "- Eşitlik denetler, ```==```\n",
    "- Eşitsizlik denetler, ```!=```\n",
    "- Küçüklük denetler, ```<```\n",
    "- Küçüklük veya eşitlik denetler, ```<=```\n",
    "- Büyüklük deneter, ```>```\n",
    "- Büyüklük veya eşitlik denetler, ```>=```\n",
    "\n",
    "## Mantıksal operatörler\n",
    "\n",
    "Mantıksal operatörler, iki mantıksal veriyi karşılaştırır. (Matematikteki mantık derslerini hatırlayalım)\n",
    "\n",
    "- ve, ```and```\n",
    "- veya, ```or```\n",
    "- değil, ```not```\n",
    "\n",
    "## Diğer operatör\n",
    "\n",
    "- Üyelik operatörü , ```in```\n",
    "- Atama operatörü , ```=```\n",
    "- Özdeşlik operatörü, ```is```"
   ]
  }
 ],
 "metadata": {
  "kernelspec": {
   "display_name": "Python 3 (ipykernel)",
   "language": "python",
   "name": "python3"
  },
  "language_info": {
   "codemirror_mode": {
    "name": "ipython",
    "version": 3
   },
   "file_extension": ".py",
   "mimetype": "text/x-python",
   "name": "python",
   "nbconvert_exporter": "python",
   "pygments_lexer": "ipython3",
   "version": "3.9.6"
  }
 },
 "nbformat": 4,
 "nbformat_minor": 5
}
