{
 "cells": [
  {
   "cell_type": "markdown",
   "id": "872d50e7",
   "metadata": {},
   "source": [
    "# Dosya işlemleri\n",
    "\n",
    "Bir programcının çokça yapmak zorunda kalabileceği işlemlerden biride dosya işlemleridir.\n",
    "\n",
    "Dosya işlemlerinden kasıt ise, bir dosyayı okumak, yazmak veya güncellemektir."
   ]
  },
  {
   "cell_type": "markdown",
   "id": "923a4b35",
   "metadata": {},
   "source": [
    "## Dosya türleri\n",
    "\n",
    "Öncelikle dosya türleri hakkında kouşalım.\n",
    "\n",
    "Temelde iki çeşit dosyadan bahsedebiliriz.\n",
    "\n",
    "1. ```ascii```\n",
    "2. ```binary```\n",
    "\n",
    "### ```ascii``` dosya tipi\n",
    "```ascii``` dosya tipi, ```human-readable``` dosya biçimi olup, söz konusu dosyayı bir metin düzenleyici ile açarsanız, içindeki bilgileri okuyabilirsiniz.\n",
    "\n",
    "\n",
    "### ```binary``` dosya tipi\n",
    "```binary``` dosya tipi, ```human-readable``` dosya biçimi değildir. Söz konusu dosyayı bir metin düzenleyici ile açarsanız, içinde acayip acayip şeyler görürsünüz.\n",
    "\n",
    "```{image} ../images/binary.gif\n",
    ":class: bg-primary mb-1\n",
    ":width: 400px\n",
    ":align: center\n",
    "```\n"
   ]
  },
  {
   "cell_type": "markdown",
   "id": "8ef2cbb7",
   "metadata": {},
   "source": [
    "Bunun için ```Python```'ın varsayılan fonksiyonlarından ```open```'i kullanacağız.\n",
    "\n",
    "```open``` bir zorunlu ve çokça seçimli parametre alır.\n",
    "\n",
    "Zorunlu parametre, ```dosya adı```, seçimli parametrelerin ilki dosya açma ```modu```dur.\n",
    "\n",
    "## Dosya açma modlar:\n",
    "\n",
    "Bir dosya açılırken, okuma, yazma ve güncelleme için açılabilir.\n",
    "\n",
    "- Okuma, ```r``` (read)\n",
    "- Yazma, ```w``` (write)\n",
    "- Güncelleme, ```a``` (append)\n",
    "\n",
    "Bir dosya okunurken dosya açma modunu ifade etmek gerek. Edilmezse, dosya varsaıylan olarak okuma (```r```) modunda açılır.\n",
    "\n",
    "<hr>\n",
    "\n"
   ]
  },
  {
   "cell_type": "code",
   "execution_count": null,
   "id": "253e4b4e",
   "metadata": {},
   "outputs": [],
   "source": []
  }
 ],
 "metadata": {
  "kernelspec": {
   "display_name": "Python 3 (ipykernel)",
   "language": "python",
   "name": "python3"
  },
  "language_info": {
   "codemirror_mode": {
    "name": "ipython",
    "version": 3
   },
   "file_extension": ".py",
   "mimetype": "text/x-python",
   "name": "python",
   "nbconvert_exporter": "python",
   "pygments_lexer": "ipython3",
   "version": "3.8.11"
  }
 },
 "nbformat": 4,
 "nbformat_minor": 5
}
