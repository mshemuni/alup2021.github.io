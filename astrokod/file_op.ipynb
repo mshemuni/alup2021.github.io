{
 "cells": [
  {
   "cell_type": "markdown",
   "id": "872d50e7",
   "metadata": {},
   "source": [
    "# Dosya işlemleri\n",
    "\n",
    "Bir programcının çokça yapmak zorunda kalabileceği işlemlerden biride dosya işlemleridir.\n",
    "\n",
    "Dosya işlemlerinden kasıt ise, bir dosyayı okumak, yazmak veya güncellemektir."
   ]
  },
  {
   "cell_type": "markdown",
   "id": "923a4b35",
   "metadata": {},
   "source": [
    "## Dosya türleri\n",
    "\n",
    "Öncelikle dosya türleri hakkında kouşalım.\n",
    "\n",
    "Temelde iki çeşit dosyadan bahsedebiliriz.\n",
    "\n",
    "1. ```ascii```\n",
    "2. ```binary```\n",
    "\n",
    "### ```ascii``` dosya tipi\n",
    "```ascii``` dosya tipi, ```human-readable``` dosya biçimi olup, söz konusu dosyayı bir metin düzenleyici ile açarsanız, içindeki bilgileri okuyabilirsiniz.\n",
    "\n",
    "\n",
    "### ```binary``` dosya tipi\n",
    "```binary``` dosya tipi, ```human-readable``` dosya biçimi değildir. Söz konusu dosyayı bir metin düzenleyici ile açarsanız, içinde acayip acayip şeyler görürsünüz.\n",
    "\n",
    "```{image} ../images/binary.gif\n",
    ":class: bg-primary mb-1\n",
    ":width: 400px\n",
    ":align: center\n",
    "```\n"
   ]
  },
  {
   "cell_type": "markdown",
   "id": "8ef2cbb7",
   "metadata": {},
   "source": [
    "Bunun için ```Python```'ın varsayılan fonksiyonlarından ```open```'i kullanacağız.\n",
    "\n",
    "```open``` bir zorunlu ve çokça seçimli parametre alır.\n",
    "\n",
    "Zorunlu parametre, ```dosya adı```, seçimli parametrelerin ilki dosya açma ```modu```dur.\n",
    "\n",
    "## Dosya açma modlar:\n",
    "\n",
    "Bir dosya açılırken, okuma, yazma ve güncelleme için açılabilir.\n",
    "\n",
    "- Okuma, ```r``` (read)\n",
    "- Yazma, ```w``` (write)\n",
    "- Güncelleme, ```a``` (append)\n",
    "\n",
    "```open``` bir ```TextOIWrapper``` nesnesi oluşturur. Bu nesneyi kullanarak söz konusu dosyayı okyabilir, güncelleyebilir veya dosyaya yazabilirsiniz. \n",
    "\n",
    ":::{note}\n",
    "Bir dosya okunurken dosya açma modunu ifade etmek gerek. Edilmezse, dosya varsaıylan olarak okuma (```r```) modunda açılır.\n",
    ":::\n",
    "\n",
    "### Dosya okuma\n",
    "\n",
    "Bir dosya okumak için ```open``` fonksiyonunun ```r``` kodunda kullanacağız.\n",
    "\n",
    ":::{warning}\n",
    "Bu modda açılan bir dosya eğer halihazırda diskte bulunuyorsa okuma işlemi yapılır. Eğer diskte yoksa HATA alırsınız.\n",
    ":::\n",
    "\n",
    "```bir_dosya.txt```\n",
    "```\n",
    "Lorem ipsum dolor sit amet, consectetur adipiscing elit. Suspendisse a malesuada sapien, sed bibendum ipsum. Mauris scelerisque interdum luctus. Morbi porttitor metus luctus, blandit est ac, vulputate nisi. Curabitur eget tempor mauris, sed facilisis mauris. Cras sed fringilla metus. Curabitur sit amet justo id nunc imperdiet pretium sit amet non est. Cras at justo ex. Nam quis pharetra nibh.\n",
    "Donec pretium blandit tellus malesuada mattis. Suspendisse potenti. Suspendisse tempus nunc eget nibh blandit luctus. Cras condimentum ipsum et sollicitudin finibus. Curabitur sit amet nibh vitae dolor luctus ullamcorper a at lorem. Vestibulum eu purus quis purus efficitur pulvinar sed et nisl. Donec eu urna ut mauris vestibulum vestibulum. Phasellus convallis faucibus elit in sagittis. Lorem ipsum dolor sit amet, consectetur adipiscing elit. Donec purus leo, cursus ac est ut, porta vehicula eros. Curabitur dapibus fringilla semper. Donec tristique elementum condimentum. Suspendisse potenti. Maecenas at odio suscipit, auctor lacus vel, auctor arcu.\n",
    "Proin interdum leo ut tortor dictum suscipit. Proin sollicitudin enim sollicitudin turpis aliquet varius. Maecenas ac elit eget nulla posuere sollicitudin. Phasellus imperdiet ut turpis nec ullamcorper. Morbi maximus imperdiet semper. Interdum et malesuada fames ac ante ipsum primis in faucibus. Donec ultrices tempus lectus, vitae tempus augue finibus a. Proin imperdiet in ex id sodales. Nunc sed odio tempus, efficitur mi eget, ornare mi. Donec turpis nulla, vestibulum et convallis quis, tincidunt auctor lorem. Suspendisse aliquam nisi eros, at aliquet ex dignissim vitae. Praesent ultrices sodales nisi, vitae ultrices felis finibus nec. Nunc felis arcu, convallis nec hendrerit at, blandit eu magna. Aliquam erat volutpat. Pellentesque in pharetra ex, vitae maximus sem.\n",
    "\n",
    "```\n",
    "\n",
    "<hr>\n",
    "\n",
    "Örnek\n",
    "\n",
    "Bir metin dosyasının içeriğini bir ```str``` olarak okuyunuz."
   ]
  },
  {
   "cell_type": "code",
   "execution_count": 21,
   "id": "f4afd4d8",
   "metadata": {},
   "outputs": [
    {
     "data": {
      "text/plain": [
       "'Lorem ipsum dolor sit amet, consectetur adipiscing elit. Suspendisse a malesuada sapien, sed bibendum ipsum. Mauris scelerisque interdum luctus. Morbi porttitor metus luctus, blandit est ac, vulputate nisi. Curabitur eget tempor mauris, sed facilisis mauris. Cras sed fringilla metus. Curabitur sit amet justo id nunc imperdiet pretium sit amet non est. Cras at justo ex. Nam quis pharetra nibh. \\nDonec pretium blandit tellus malesuada mattis. Suspendisse potenti. Suspendisse tempus nunc eget nibh blandit luctus. Cras condimentum ipsum et sollicitudin finibus. Curabitur sit amet nibh vitae dolor luctus ullamcorper a at lorem. Vestibulum eu purus quis purus efficitur pulvinar sed et nisl. Donec eu urna ut mauris vestibulum vestibulum. Phasellus convallis faucibus elit in sagittis. Lorem ipsum dolor sit amet, consectetur adipiscing elit. Donec purus leo, cursus ac est ut, porta vehicula eros. Curabitur dapibus fringilla semper. Donec tristique elementum condimentum. Suspendisse potenti. Maecenas at odio suscipit, auctor lacus vel, auctor arcu.\\nProin interdum leo ut tortor dictum suscipit. Proin sollicitudin enim sollicitudin turpis aliquet varius. Maecenas ac elit eget nulla posuere sollicitudin. Phasellus imperdiet ut turpis nec ullamcorper. Morbi maximus imperdiet semper. Interdum et malesuada fames ac ante ipsum primis in faucibus. Donec ultrices tempus lectus, vitae tempus augue finibus a. Proin imperdiet in ex id sodales. Nunc sed odio tempus, efficitur mi eget, ornare mi. Donec turpis nulla, vestibulum et convallis quis, tincidunt auctor lorem. Suspendisse aliquam nisi eros, at aliquet ex dignissim vitae. Praesent ultrices sodales nisi, vitae ultrices felis finibus nec. Nunc felis arcu, convallis nec hendrerit at, blandit eu magna. Aliquam erat volutpat. Pellentesque in pharetra ex, vitae maximus sem.\\n'"
      ]
     },
     "execution_count": 21,
     "metadata": {},
     "output_type": "execute_result"
    }
   ],
   "source": [
    "f = open(\"bir_dosya.txt\")\n",
    "icerik = f.read()\n",
    "f.close()\n",
    "\n",
    "icerik"
   ]
  },
  {
   "cell_type": "markdown",
   "id": "ae443f6f",
   "metadata": {},
   "source": [
    "<hr>\n",
    "\n",
    "Örnek\n",
    "\n",
    "Bir metin dosyasının satırlarını bir dizi olarak okuyunuz."
   ]
  },
  {
   "cell_type": "code",
   "execution_count": 17,
   "id": "67947825",
   "metadata": {},
   "outputs": [
    {
     "data": {
      "text/plain": [
       "['Lorem ipsum dolor sit amet, consectetur adipiscing elit. Suspendisse a malesuada sapien, sed bibendum ipsum. Mauris scelerisque interdum luctus. Morbi porttitor metus luctus, blandit est ac, vulputate nisi. Curabitur eget tempor mauris, sed facilisis mauris. Cras sed fringilla metus. Curabitur sit amet justo id nunc imperdiet pretium sit amet non est. Cras at justo ex. Nam quis pharetra nibh. \\n',\n",
       " 'Donec pretium blandit tellus malesuada mattis. Suspendisse potenti. Suspendisse tempus nunc eget nibh blandit luctus. Cras condimentum ipsum et sollicitudin finibus. Curabitur sit amet nibh vitae dolor luctus ullamcorper a at lorem. Vestibulum eu purus quis purus efficitur pulvinar sed et nisl. Donec eu urna ut mauris vestibulum vestibulum. Phasellus convallis faucibus elit in sagittis. Lorem ipsum dolor sit amet, consectetur adipiscing elit. Donec purus leo, cursus ac est ut, porta vehicula eros. Curabitur dapibus fringilla semper. Donec tristique elementum condimentum. Suspendisse potenti. Maecenas at odio suscipit, auctor lacus vel, auctor arcu.\\n',\n",
       " 'Proin interdum leo ut tortor dictum suscipit. Proin sollicitudin enim sollicitudin turpis aliquet varius. Maecenas ac elit eget nulla posuere sollicitudin. Phasellus imperdiet ut turpis nec ullamcorper. Morbi maximus imperdiet semper. Interdum et malesuada fames ac ante ipsum primis in faucibus. Donec ultrices tempus lectus, vitae tempus augue finibus a. Proin imperdiet in ex id sodales. Nunc sed odio tempus, efficitur mi eget, ornare mi. Donec turpis nulla, vestibulum et convallis quis, tincidunt auctor lorem. Suspendisse aliquam nisi eros, at aliquet ex dignissim vitae. Praesent ultrices sodales nisi, vitae ultrices felis finibus nec. Nunc felis arcu, convallis nec hendrerit at, blandit eu magna. Aliquam erat volutpat. Pellentesque in pharetra ex, vitae maximus sem.\\n']"
      ]
     },
     "execution_count": 17,
     "metadata": {},
     "output_type": "execute_result"
    }
   ],
   "source": [
    "f = open(\"bir_dosya.txt\")\n",
    "icerik = f.readlines()\n",
    "f.close()\n",
    "\n",
    "icerik"
   ]
  },
  {
   "cell_type": "markdown",
   "id": "e8e4086a",
   "metadata": {},
   "source": [
    "<hr>\n",
    "\n",
    "Örnek\n",
    "\n",
    "Bir metin dosyasının satırlarını bir döngü ile ekrana yazınız"
   ]
  },
  {
   "cell_type": "code",
   "execution_count": 25,
   "id": "ccd4f62f",
   "metadata": {},
   "outputs": [
    {
     "name": "stdout",
     "output_type": "stream",
     "text": [
      "Lorem ipsum dolor sit amet, consectetur adipiscing elit. Suspendisse a malesuada sapien, sed bibendum ipsum. Mauris scelerisque interdum luctus. Morbi porttitor metus luctus, blandit est ac, vulputate nisi. Curabitur eget tempor mauris, sed facilisis mauris. Cras sed fringilla metus. Curabitur sit amet justo id nunc imperdiet pretium sit amet non est. Cras at justo ex. Nam quis pharetra nibh. \n",
      "\n",
      "Donec pretium blandit tellus malesuada mattis. Suspendisse potenti. Suspendisse tempus nunc eget nibh blandit luctus. Cras condimentum ipsum et sollicitudin finibus. Curabitur sit amet nibh vitae dolor luctus ullamcorper a at lorem. Vestibulum eu purus quis purus efficitur pulvinar sed et nisl. Donec eu urna ut mauris vestibulum vestibulum. Phasellus convallis faucibus elit in sagittis. Lorem ipsum dolor sit amet, consectetur adipiscing elit. Donec purus leo, cursus ac est ut, porta vehicula eros. Curabitur dapibus fringilla semper. Donec tristique elementum condimentum. Suspendisse potenti. Maecenas at odio suscipit, auctor lacus vel, auctor arcu.\n",
      "\n",
      "Proin interdum leo ut tortor dictum suscipit. Proin sollicitudin enim sollicitudin turpis aliquet varius. Maecenas ac elit eget nulla posuere sollicitudin. Phasellus imperdiet ut turpis nec ullamcorper. Morbi maximus imperdiet semper. Interdum et malesuada fames ac ante ipsum primis in faucibus. Donec ultrices tempus lectus, vitae tempus augue finibus a. Proin imperdiet in ex id sodales. Nunc sed odio tempus, efficitur mi eget, ornare mi. Donec turpis nulla, vestibulum et convallis quis, tincidunt auctor lorem. Suspendisse aliquam nisi eros, at aliquet ex dignissim vitae. Praesent ultrices sodales nisi, vitae ultrices felis finibus nec. Nunc felis arcu, convallis nec hendrerit at, blandit eu magna. Aliquam erat volutpat. Pellentesque in pharetra ex, vitae maximus sem.\n",
      "\n"
     ]
    }
   ],
   "source": [
    "f = open(\"bir_dosya.txt\")\n",
    "\n",
    "for satir in f:\n",
    "    print(satir)\n",
    "\n",
    "f.close()"
   ]
  },
  {
   "cell_type": "markdown",
   "id": "fe2a842e",
   "metadata": {},
   "source": [
    ":::{warning}\n",
    "```open```'dan sonra ```close``` kullanılmak zorunda. Dosya açıldıktan sonra kapanması şarttır.\n",
    ":::\n",
    "\n",
    "Açılan dosyanın her zaman kapanacağından emin olamayabiliriz. Örneğin dosya kapanmadan önce kodumuz hata verirse, dosya kapnma işlemi gerçekleşmeden programımız duracaktır.\n",
    "\n",
    "<hr>\n",
    "\n",
    "Örnek"
   ]
  },
  {
   "cell_type": "code",
   "execution_count": 39,
   "id": "ba011c3a",
   "metadata": {},
   "outputs": [
    {
     "name": "stdout",
     "output_type": "stream",
     "text": [
      "Lorem ipsum dolor sit amet, consectetur adipiscing elit. Suspendisse a malesuada sapien, sed bibendum ipsum. Mauris scelerisque interdum luctus. Morbi porttitor metus luctus, blandit est ac, vulputate nisi. Curabitur eget tempor mauris, sed facilisis mauris. Cras sed fringilla metus. Curabitur sit amet justo id nunc imperdiet pretium sit amet non est. Cras at justo ex. Nam quis pharetra nibh.\n",
      "\n",
      "Donec pretium blandit tellus malesuada mattis. Suspendisse potenti. Suspendisse tempus nunc eget nibh blandit luctus. Cras condimentum ipsum et sollicitudin finibus. Curabitur sit amet nibh vitae dolor luctus ullamcorper a at lorem. Vestibulum eu purus quis purus efficitur pulvinar sed et nisl. Donec eu urna ut mauris vestibulum vestibulum. Phasellus convallis faucibus elit in sagittis. Lorem ipsum dolor sit amet, consectetur adipiscing elit. Donec purus leo, cursus ac est ut, porta vehicula eros. Curabitur dapibus fringilla semper. Donec tristique elementum condimentum. Suspendisse potenti. Maecenas at odio suscipit, auctor lacus vel, auctor arcu.\n",
      "\n",
      "Proin interdum leo ut tortor dictum suscipit. Proin sollicitudin enim sollicitudin turpis aliquet varius. Maecenas ac elit eget nulla posuere sollicitudin. Phasellus imperdiet ut turpis nec ullamcorper. Morbi maximus imperdiet semper. Interdum et malesuada fames ac ante ipsum primis in faucibus. Donec ultrices tempus lectus, vitae tempus augue finibus a. Proin imperdiet in ex id sodales. Nunc sed odio tempus, efficitur mi eget, ornare mi. Donec turpis nulla, vestibulum et convallis quis, tincidunt auctor lorem. Suspendisse aliquam nisi eros, at aliquet ex dignissim vitae. Praesent ultrices sodales nisi, vitae ultrices felis finibus nec. Nunc felis arcu, convallis nec hendrerit at, blandit eu magna. Aliquam erat volutpat. Pellentesque in pharetra ex, vitae maximus sem.\n",
      "\n"
     ]
    },
    {
     "ename": "NameError",
     "evalue": "name 'hatali_satir' is not defined",
     "output_type": "error",
     "traceback": [
      "\u001b[1;31m---------------------------------------------------------------------------\u001b[0m",
      "\u001b[1;31mNameError\u001b[0m                                 Traceback (most recent call last)",
      "\u001b[1;32m~\\AppData\\Local\\Temp/ipykernel_5004/2632306783.py\u001b[0m in \u001b[0;36m<module>\u001b[1;34m\u001b[0m\n\u001b[0;32m      4\u001b[0m     \u001b[0mprint\u001b[0m\u001b[1;33m(\u001b[0m\u001b[0msatir\u001b[0m\u001b[1;33m)\u001b[0m\u001b[1;33m\u001b[0m\u001b[1;33m\u001b[0m\u001b[0m\n\u001b[0;32m      5\u001b[0m \u001b[1;33m\u001b[0m\u001b[0m\n\u001b[1;32m----> 6\u001b[1;33m \u001b[0mhatali_satir\u001b[0m\u001b[1;33m\u001b[0m\u001b[1;33m\u001b[0m\u001b[0m\n\u001b[0m\u001b[0;32m      7\u001b[0m \u001b[1;33m\u001b[0m\u001b[0m\n\u001b[0;32m      8\u001b[0m \u001b[0mf\u001b[0m\u001b[1;33m.\u001b[0m\u001b[0mclose\u001b[0m\u001b[1;33m(\u001b[0m\u001b[1;33m)\u001b[0m\u001b[1;33m\u001b[0m\u001b[1;33m\u001b[0m\u001b[0m\n",
      "\u001b[1;31mNameError\u001b[0m: name 'hatali_satir' is not defined"
     ]
    }
   ],
   "source": [
    "f = open(\"bir_dosya.txt\")\n",
    "\n",
    "for satir in f:\n",
    "    print(satir)\n",
    "    \n",
    "hatali_satir\n",
    "\n",
    "f.close()"
   ]
  },
  {
   "cell_type": "markdown",
   "id": "dddf0cf4",
   "metadata": {},
   "source": [
    "Bu tür sorunları gidermek için ```Python```'da ```context manager```lar kullanılır. ```Context manager```ların nasıl çalıştığına daha sonra değineceğiz. Bu aşamada bilmemiz gereken, ```open``` gibi bağlantı sağlayan ve iş bitiminde kapatılması gereken protokollerde ```context manager```lar oluşan bağlantının kapandığından emin olmak için kullanılır.\n",
    "\n",
    "```Conext manager```lar ```with``` anahtar kelimesi ile ifade edilirler:\n",
    "\n",
    "<hr>\n",
    "\n",
    "Örnek\n",
    "\n",
    "Bir metin dosyasının içeriğini bir ```str``` olarak okuyunuz."
   ]
  },
  {
   "cell_type": "code",
   "execution_count": 23,
   "id": "d520bbe2",
   "metadata": {},
   "outputs": [
    {
     "data": {
      "text/plain": [
       "'Lorem ipsum dolor sit amet, consectetur adipiscing elit. Suspendisse a malesuada sapien, sed bibendum ipsum. Mauris scelerisque interdum luctus. Morbi porttitor metus luctus, blandit est ac, vulputate nisi. Curabitur eget tempor mauris, sed facilisis mauris. Cras sed fringilla metus. Curabitur sit amet justo id nunc imperdiet pretium sit amet non est. Cras at justo ex. Nam quis pharetra nibh. \\nDonec pretium blandit tellus malesuada mattis. Suspendisse potenti. Suspendisse tempus nunc eget nibh blandit luctus. Cras condimentum ipsum et sollicitudin finibus. Curabitur sit amet nibh vitae dolor luctus ullamcorper a at lorem. Vestibulum eu purus quis purus efficitur pulvinar sed et nisl. Donec eu urna ut mauris vestibulum vestibulum. Phasellus convallis faucibus elit in sagittis. Lorem ipsum dolor sit amet, consectetur adipiscing elit. Donec purus leo, cursus ac est ut, porta vehicula eros. Curabitur dapibus fringilla semper. Donec tristique elementum condimentum. Suspendisse potenti. Maecenas at odio suscipit, auctor lacus vel, auctor arcu.\\nProin interdum leo ut tortor dictum suscipit. Proin sollicitudin enim sollicitudin turpis aliquet varius. Maecenas ac elit eget nulla posuere sollicitudin. Phasellus imperdiet ut turpis nec ullamcorper. Morbi maximus imperdiet semper. Interdum et malesuada fames ac ante ipsum primis in faucibus. Donec ultrices tempus lectus, vitae tempus augue finibus a. Proin imperdiet in ex id sodales. Nunc sed odio tempus, efficitur mi eget, ornare mi. Donec turpis nulla, vestibulum et convallis quis, tincidunt auctor lorem. Suspendisse aliquam nisi eros, at aliquet ex dignissim vitae. Praesent ultrices sodales nisi, vitae ultrices felis finibus nec. Nunc felis arcu, convallis nec hendrerit at, blandit eu magna. Aliquam erat volutpat. Pellentesque in pharetra ex, vitae maximus sem.\\n'"
      ]
     },
     "execution_count": 23,
     "metadata": {},
     "output_type": "execute_result"
    }
   ],
   "source": [
    "with open(\"bir_dosya.txt\") as f:\n",
    "    icerik = f.read()\n",
    "icerik"
   ]
  },
  {
   "cell_type": "markdown",
   "id": "975e6549",
   "metadata": {},
   "source": [
    "<hr>\n",
    "\n",
    "Örnek\n",
    "\n",
    "Bir metin dosyasının satırlarını bir dizi olarak okuyunuz."
   ]
  },
  {
   "cell_type": "code",
   "execution_count": 24,
   "id": "ecc1d3a7",
   "metadata": {},
   "outputs": [
    {
     "data": {
      "text/plain": [
       "['Lorem ipsum dolor sit amet, consectetur adipiscing elit. Suspendisse a malesuada sapien, sed bibendum ipsum. Mauris scelerisque interdum luctus. Morbi porttitor metus luctus, blandit est ac, vulputate nisi. Curabitur eget tempor mauris, sed facilisis mauris. Cras sed fringilla metus. Curabitur sit amet justo id nunc imperdiet pretium sit amet non est. Cras at justo ex. Nam quis pharetra nibh. \\n',\n",
       " 'Donec pretium blandit tellus malesuada mattis. Suspendisse potenti. Suspendisse tempus nunc eget nibh blandit luctus. Cras condimentum ipsum et sollicitudin finibus. Curabitur sit amet nibh vitae dolor luctus ullamcorper a at lorem. Vestibulum eu purus quis purus efficitur pulvinar sed et nisl. Donec eu urna ut mauris vestibulum vestibulum. Phasellus convallis faucibus elit in sagittis. Lorem ipsum dolor sit amet, consectetur adipiscing elit. Donec purus leo, cursus ac est ut, porta vehicula eros. Curabitur dapibus fringilla semper. Donec tristique elementum condimentum. Suspendisse potenti. Maecenas at odio suscipit, auctor lacus vel, auctor arcu.\\n',\n",
       " 'Proin interdum leo ut tortor dictum suscipit. Proin sollicitudin enim sollicitudin turpis aliquet varius. Maecenas ac elit eget nulla posuere sollicitudin. Phasellus imperdiet ut turpis nec ullamcorper. Morbi maximus imperdiet semper. Interdum et malesuada fames ac ante ipsum primis in faucibus. Donec ultrices tempus lectus, vitae tempus augue finibus a. Proin imperdiet in ex id sodales. Nunc sed odio tempus, efficitur mi eget, ornare mi. Donec turpis nulla, vestibulum et convallis quis, tincidunt auctor lorem. Suspendisse aliquam nisi eros, at aliquet ex dignissim vitae. Praesent ultrices sodales nisi, vitae ultrices felis finibus nec. Nunc felis arcu, convallis nec hendrerit at, blandit eu magna. Aliquam erat volutpat. Pellentesque in pharetra ex, vitae maximus sem.\\n']"
      ]
     },
     "execution_count": 24,
     "metadata": {},
     "output_type": "execute_result"
    }
   ],
   "source": [
    "with open(\"bir_dosya.txt\") as f:\n",
    "    icerik = f.readlines()\n",
    "icerik"
   ]
  },
  {
   "cell_type": "markdown",
   "id": "62079b32",
   "metadata": {},
   "source": [
    "<hr>\n",
    "\n",
    "Örnek\n",
    "\n",
    "Bir metin dosyasının satırlarını bir döngü ile ekrana yazınız"
   ]
  },
  {
   "cell_type": "code",
   "execution_count": 27,
   "id": "a0f0bcdb",
   "metadata": {},
   "outputs": [
    {
     "name": "stdout",
     "output_type": "stream",
     "text": [
      "Lorem ipsum dolor sit amet, consectetur adipiscing elit. Suspendisse a malesuada sapien, sed bibendum ipsum. Mauris scelerisque interdum luctus. Morbi porttitor metus luctus, blandit est ac, vulputate nisi. Curabitur eget tempor mauris, sed facilisis mauris. Cras sed fringilla metus. Curabitur sit amet justo id nunc imperdiet pretium sit amet non est. Cras at justo ex. Nam quis pharetra nibh. \n",
      "\n",
      "Donec pretium blandit tellus malesuada mattis. Suspendisse potenti. Suspendisse tempus nunc eget nibh blandit luctus. Cras condimentum ipsum et sollicitudin finibus. Curabitur sit amet nibh vitae dolor luctus ullamcorper a at lorem. Vestibulum eu purus quis purus efficitur pulvinar sed et nisl. Donec eu urna ut mauris vestibulum vestibulum. Phasellus convallis faucibus elit in sagittis. Lorem ipsum dolor sit amet, consectetur adipiscing elit. Donec purus leo, cursus ac est ut, porta vehicula eros. Curabitur dapibus fringilla semper. Donec tristique elementum condimentum. Suspendisse potenti. Maecenas at odio suscipit, auctor lacus vel, auctor arcu.\n",
      "\n",
      "Proin interdum leo ut tortor dictum suscipit. Proin sollicitudin enim sollicitudin turpis aliquet varius. Maecenas ac elit eget nulla posuere sollicitudin. Phasellus imperdiet ut turpis nec ullamcorper. Morbi maximus imperdiet semper. Interdum et malesuada fames ac ante ipsum primis in faucibus. Donec ultrices tempus lectus, vitae tempus augue finibus a. Proin imperdiet in ex id sodales. Nunc sed odio tempus, efficitur mi eget, ornare mi. Donec turpis nulla, vestibulum et convallis quis, tincidunt auctor lorem. Suspendisse aliquam nisi eros, at aliquet ex dignissim vitae. Praesent ultrices sodales nisi, vitae ultrices felis finibus nec. Nunc felis arcu, convallis nec hendrerit at, blandit eu magna. Aliquam erat volutpat. Pellentesque in pharetra ex, vitae maximus sem.\n",
      "\n"
     ]
    }
   ],
   "source": [
    "with open(\"bir_dosya.txt\") as f:\n",
    "    for satir in f:\n",
    "        print(satir)"
   ]
  },
  {
   "cell_type": "markdown",
   "id": "a91d5303",
   "metadata": {},
   "source": [
    "### Dosya yazma\n",
    "\n",
    "Bir dosya okumak için ```open``` fonksiyonunun ```w``` kodunda kullanacağız.\n",
    "\n",
    ":::{warning}\n",
    "Bu modda açılan bir dosya eğer halihazırda diskte bulunmuyorsa oluşturulur. Eğer diskte zaten varsa içindeki bütün veri SİLİNİR.\n",
    ":::\n",
    "\n",
    "\n",
    "<hr>\n",
    "\n",
    "Örnek\n",
    "\n",
    "Bir ```str```'yi bir metin dosyasına yazınız."
   ]
  },
  {
   "cell_type": "code",
   "execution_count": 28,
   "id": "93e3e4b6",
   "metadata": {},
   "outputs": [],
   "source": [
    "mtn = \"Muhammed eve gel\"\n",
    "with open(\"yazdigim_dosya.txt\", \"w\") as f:\n",
    "    f.write(mtn)"
   ]
  },
  {
   "cell_type": "markdown",
   "id": "2f6bf030",
   "metadata": {},
   "source": [
    "```yazdigim_dosya.txt```\n",
    "\n",
    "```\n",
    "Muhammed eve gel\n",
    "```"
   ]
  },
  {
   "cell_type": "markdown",
   "id": "c7ff1004",
   "metadata": {},
   "source": [
    ":::{warning}\n",
    "```f.write``` metodu içeirği yeni satıra yazmaz. Dolayısıyla yazdığımız her satırın sonuna yeni satır (```newline```) karakterini eklememiz gerek.\n",
    ":::"
   ]
  },
  {
   "cell_type": "code",
   "execution_count": 29,
   "id": "837eb775",
   "metadata": {},
   "outputs": [],
   "source": [
    "mtn = \"Muhammed eve gel\"\n",
    "with open(\"yazdigim_dosya.txt\", \"w\") as f:\n",
    "    f.write(mtn + \"\\n\")"
   ]
  },
  {
   "cell_type": "markdown",
   "id": "4012ccec",
   "metadata": {},
   "source": [
    "```yazdigim_dosya.txt```\n",
    "\n",
    "```\n",
    "Muhammed eve gel\n",
    "\n",
    "```"
   ]
  },
  {
   "cell_type": "markdown",
   "id": "ac264fd4",
   "metadata": {},
   "source": [
    "Örnek\n",
    "\n",
    "Çoklu satır bir metni bir dosyaya yazınız"
   ]
  },
  {
   "cell_type": "code",
   "execution_count": 37,
   "id": "c3252493",
   "metadata": {},
   "outputs": [],
   "source": [
    "mtn = \"Muhammed eve gel\"\n",
    "with open(\"yazdigim_dosya.txt\", \"w\") as f:\n",
    "    for i in range(20):\n",
    "        f.write(mtn + str(i) + \"\\n\")"
   ]
  },
  {
   "cell_type": "markdown",
   "id": "16ef456b",
   "metadata": {},
   "source": [
    "```yazdigim_dosya.txt```\n",
    "\n",
    "```\n",
    "Muhammed eve gel0\n",
    "Muhammed eve gel1\n",
    "Muhammed eve gel2\n",
    "Muhammed eve gel3\n",
    "Muhammed eve gel4\n",
    "Muhammed eve gel5\n",
    "Muhammed eve gel6\n",
    "Muhammed eve gel7\n",
    "Muhammed eve gel8\n",
    "Muhammed eve gel9\n",
    "Muhammed eve gel10\n",
    "Muhammed eve gel11\n",
    "Muhammed eve gel12\n",
    "Muhammed eve gel13\n",
    "Muhammed eve gel14\n",
    "Muhammed eve gel15\n",
    "Muhammed eve gel16\n",
    "Muhammed eve gel17\n",
    "Muhammed eve gel18\n",
    "Muhammed eve gel19\n",
    "\n",
    "```"
   ]
  },
  {
   "cell_type": "markdown",
   "id": "c735241a",
   "metadata": {},
   "source": [
    "### Dosya güncelleme\n",
    "\n",
    "Bir dosya okumak için ```open``` fonksiyonunun ```a``` kodunda kullanacağız.\n",
    "\n",
    ":::{warning}\n",
    "Bu modda açılan bir dosya eğer halihazırda diskte bulunuyorsa dosya açılır. Eğer diskte yoksa dosya oluşur.\n",
    ":::\n",
    "\n",
    "<hr>\n",
    "\n",
    "Örnek\n",
    "\n",
    "daha önce yazdığımız ```yazdigim_dsya.txt``` isimli dosyaya, 20 satır ```\"Yücel işe git\"``` metni ekleyiniz."
   ]
  },
  {
   "cell_type": "code",
   "execution_count": 35,
   "id": "64931d89",
   "metadata": {},
   "outputs": [
    {
     "ename": "UnicodeEncodeError",
     "evalue": "'charmap' codec can't encode character '\\u015f' in position 7: character maps to <undefined>",
     "output_type": "error",
     "traceback": [
      "\u001b[1;31m---------------------------------------------------------------------------\u001b[0m",
      "\u001b[1;31mUnicodeEncodeError\u001b[0m                        Traceback (most recent call last)",
      "\u001b[1;32m~\\AppData\\Local\\Temp/ipykernel_5004/859611404.py\u001b[0m in \u001b[0;36m<module>\u001b[1;34m\u001b[0m\n\u001b[0;32m      2\u001b[0m \u001b[1;32mwith\u001b[0m \u001b[0mopen\u001b[0m\u001b[1;33m(\u001b[0m\u001b[1;34m\"yazdigim_dosya.txt\"\u001b[0m\u001b[1;33m,\u001b[0m \u001b[1;34m\"a\"\u001b[0m\u001b[1;33m)\u001b[0m \u001b[1;32mas\u001b[0m \u001b[0mf\u001b[0m\u001b[1;33m:\u001b[0m\u001b[1;33m\u001b[0m\u001b[1;33m\u001b[0m\u001b[0m\n\u001b[0;32m      3\u001b[0m     \u001b[1;32mfor\u001b[0m \u001b[0mi\u001b[0m \u001b[1;32min\u001b[0m \u001b[0mrange\u001b[0m\u001b[1;33m(\u001b[0m\u001b[1;36m20\u001b[0m\u001b[1;33m)\u001b[0m\u001b[1;33m:\u001b[0m\u001b[1;33m\u001b[0m\u001b[1;33m\u001b[0m\u001b[0m\n\u001b[1;32m----> 4\u001b[1;33m         \u001b[0mf\u001b[0m\u001b[1;33m.\u001b[0m\u001b[0mwrite\u001b[0m\u001b[1;33m(\u001b[0m\u001b[0mmtn\u001b[0m \u001b[1;33m+\u001b[0m \u001b[0mstr\u001b[0m\u001b[1;33m(\u001b[0m\u001b[0mi\u001b[0m\u001b[1;33m)\u001b[0m \u001b[1;33m+\u001b[0m \u001b[1;34m\"\\n\"\u001b[0m\u001b[1;33m)\u001b[0m\u001b[1;33m\u001b[0m\u001b[1;33m\u001b[0m\u001b[0m\n\u001b[0m",
      "\u001b[1;32m~\\anaconda3\\envs\\mshemuni.github.io\\lib\\encodings\\cp1252.py\u001b[0m in \u001b[0;36mencode\u001b[1;34m(self, input, final)\u001b[0m\n\u001b[0;32m     17\u001b[0m \u001b[1;32mclass\u001b[0m \u001b[0mIncrementalEncoder\u001b[0m\u001b[1;33m(\u001b[0m\u001b[0mcodecs\u001b[0m\u001b[1;33m.\u001b[0m\u001b[0mIncrementalEncoder\u001b[0m\u001b[1;33m)\u001b[0m\u001b[1;33m:\u001b[0m\u001b[1;33m\u001b[0m\u001b[1;33m\u001b[0m\u001b[0m\n\u001b[0;32m     18\u001b[0m     \u001b[1;32mdef\u001b[0m \u001b[0mencode\u001b[0m\u001b[1;33m(\u001b[0m\u001b[0mself\u001b[0m\u001b[1;33m,\u001b[0m \u001b[0minput\u001b[0m\u001b[1;33m,\u001b[0m \u001b[0mfinal\u001b[0m\u001b[1;33m=\u001b[0m\u001b[1;32mFalse\u001b[0m\u001b[1;33m)\u001b[0m\u001b[1;33m:\u001b[0m\u001b[1;33m\u001b[0m\u001b[1;33m\u001b[0m\u001b[0m\n\u001b[1;32m---> 19\u001b[1;33m         \u001b[1;32mreturn\u001b[0m \u001b[0mcodecs\u001b[0m\u001b[1;33m.\u001b[0m\u001b[0mcharmap_encode\u001b[0m\u001b[1;33m(\u001b[0m\u001b[0minput\u001b[0m\u001b[1;33m,\u001b[0m\u001b[0mself\u001b[0m\u001b[1;33m.\u001b[0m\u001b[0merrors\u001b[0m\u001b[1;33m,\u001b[0m\u001b[0mencoding_table\u001b[0m\u001b[1;33m)\u001b[0m\u001b[1;33m[\u001b[0m\u001b[1;36m0\u001b[0m\u001b[1;33m]\u001b[0m\u001b[1;33m\u001b[0m\u001b[1;33m\u001b[0m\u001b[0m\n\u001b[0m\u001b[0;32m     20\u001b[0m \u001b[1;33m\u001b[0m\u001b[0m\n\u001b[0;32m     21\u001b[0m \u001b[1;32mclass\u001b[0m \u001b[0mIncrementalDecoder\u001b[0m\u001b[1;33m(\u001b[0m\u001b[0mcodecs\u001b[0m\u001b[1;33m.\u001b[0m\u001b[0mIncrementalDecoder\u001b[0m\u001b[1;33m)\u001b[0m\u001b[1;33m:\u001b[0m\u001b[1;33m\u001b[0m\u001b[1;33m\u001b[0m\u001b[0m\n",
      "\u001b[1;31mUnicodeEncodeError\u001b[0m: 'charmap' codec can't encode character '\\u015f' in position 7: character maps to <undefined>"
     ]
    }
   ],
   "source": [
    "mtn = \"Yücel işe git\"\n",
    "with open(\"yazdigim_dosya.txt\", \"a\") as f:\n",
    "    for i in range(20):\n",
    "        f.write(mtn + str(i) + \"\\n\")"
   ]
  },
  {
   "cell_type": "markdown",
   "id": "1c6e4843",
   "metadata": {},
   "source": [
    ":::{warning}\n",
    "Aldığımız hata ```Yücel```'in ```ü```'sünden ve/veya ```iş```'in ```ş```'sinden kaynaklanıyor. ```Python``` bir az nazlandı\n",
    ":::\n",
    "\n",
    "Bunun için ```open```'ın ```encoding``` parametresini kullanacağız ve  yazacağımız dosyanın ```utf-8``` olduğunu söyleyeceğiz."
   ]
  },
  {
   "cell_type": "code",
   "execution_count": 38,
   "id": "36bb053e",
   "metadata": {},
   "outputs": [],
   "source": [
    "mtn = \"Yücel işe git\"\n",
    "with open(\"yazdigim_dosya.txt\", \"a\", encoding=\"utf-8\") as f:\n",
    "    for i in range(20):\n",
    "        f.write(mtn + str(i) + \"\\n\")"
   ]
  },
  {
   "cell_type": "markdown",
   "id": "d7a2113b",
   "metadata": {},
   "source": [
    "```yazdigim_dosya.txt```\n",
    "\n",
    "```\n",
    "Muhammed eve gel0\n",
    "Muhammed eve gel1\n",
    "Muhammed eve gel2\n",
    "Muhammed eve gel3\n",
    "Muhammed eve gel4\n",
    "Muhammed eve gel5\n",
    "Muhammed eve gel6\n",
    "Muhammed eve gel7\n",
    "Muhammed eve gel8\n",
    "Muhammed eve gel9\n",
    "Muhammed eve gel10\n",
    "Muhammed eve gel11\n",
    "Muhammed eve gel12\n",
    "Muhammed eve gel13\n",
    "Muhammed eve gel14\n",
    "Muhammed eve gel15\n",
    "Muhammed eve gel16\n",
    "Muhammed eve gel17\n",
    "Muhammed eve gel18\n",
    "Muhammed eve gel19\n",
    "Yücel işe git0\n",
    "Yücel işe git1\n",
    "Yücel işe git2\n",
    "Yücel işe git3\n",
    "Yücel işe git4\n",
    "Yücel işe git5\n",
    "Yücel işe git6\n",
    "Yücel işe git7\n",
    "Yücel işe git8\n",
    "Yücel işe git9\n",
    "Yücel işe git10\n",
    "Yücel işe git11\n",
    "Yücel işe git12\n",
    "Yücel işe git13\n",
    "Yücel işe git14\n",
    "Yücel işe git15\n",
    "Yücel işe git16\n",
    "Yücel işe git17\n",
    "Yücel işe git18\n",
    "Yücel işe git19\n",
    "\n",
    "```"
   ]
  },
  {
   "cell_type": "markdown",
   "id": "40a62c38",
   "metadata": {},
   "source": [
    ":::{note}\n",
    "Dosya işlemlerini ```binary``` modda yapmak istiyorsanız, açma modunun sonua ```b``` harfi ekleyiniz.\n",
    "\n",
    "- Binary okuma, ```rb```\n",
    "- Binary yazma, ```wb```\n",
    "- Binary güncelleme, ```ab```\n",
    ":::"
   ]
  },
  {
   "cell_type": "code",
   "execution_count": null,
   "id": "4894b7bb",
   "metadata": {},
   "outputs": [],
   "source": []
  }
 ],
 "metadata": {
  "kernelspec": {
   "display_name": "Python 3 (ipykernel)",
   "language": "python",
   "name": "python3"
  },
  "language_info": {
   "codemirror_mode": {
    "name": "ipython",
    "version": 3
   },
   "file_extension": ".py",
   "mimetype": "text/x-python",
   "name": "python",
   "nbconvert_exporter": "python",
   "pygments_lexer": "ipython3",
   "version": "3.9.6"
  }
 },
 "nbformat": 4,
 "nbformat_minor": 5
}
