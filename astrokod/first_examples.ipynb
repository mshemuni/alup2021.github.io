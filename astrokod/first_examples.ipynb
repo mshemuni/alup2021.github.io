{
 "cells": [
  {
   "cell_type": "markdown",
   "id": "e9d2a0fb",
   "metadata": {},
   "source": [
    "# Örnekler\n",
    "\n",
    "Şimdiye kadar öğrendiklerimizle örnekler yapalım."
   ]
  },
  {
   "cell_type": "markdown",
   "id": "7e855afb",
   "metadata": {},
   "source": [
    "## Örnek 1: İki sayının toplamını veren programı yazınız\n",
    "\n",
    "<hr>"
   ]
  },
  {
   "cell_type": "markdown",
   "id": "e2207992",
   "metadata": {},
   "source": [
    "Bunun için ```+``` operatörünü kullanabiliriz"
   ]
  },
  {
   "cell_type": "code",
   "execution_count": 2,
   "id": "264b1f24",
   "metadata": {},
   "outputs": [
    {
     "name": "stdout",
     "output_type": "stream",
     "text": [
      "144\n"
     ]
    }
   ],
   "source": [
    "sayi1 = 56\n",
    "sayi2 = 88\n",
    "print(sayi1 + sayi2)"
   ]
  },
  {
   "cell_type": "markdown",
   "id": "73388fad",
   "metadata": {},
   "source": [
    "## Örnek 2: Bir sayının karekökünü bulunuz\n",
    "\n",
    "<hr>"
   ]
  },
  {
   "cell_type": "markdown",
   "id": "c4e57055",
   "metadata": {},
   "source": [
    "Bir sayının kare kökü, aynı sayının 0.5 kuvvetine eşittir:\n",
    "\n",
    "$$\n",
    "\\sqrt{x} = x^{0.5}\n",
    "$$\n",
    "\n",
    "Bunun için ```**``` operatörünü kullanabiliriz."
   ]
  },
  {
   "cell_type": "code",
   "execution_count": 3,
   "id": "fcceb367",
   "metadata": {},
   "outputs": [
    {
     "name": "stdout",
     "output_type": "stream",
     "text": [
      "2.8284271247461903\n"
     ]
    }
   ],
   "source": [
    "sayi = 8\n",
    "\n",
    "print(sayi ** 0.5)"
   ]
  },
  {
   "cell_type": "markdown",
   "id": "51bb400e",
   "metadata": {},
   "source": [
    "## Örnek 3: Fahrenheit cinsinden verilen bir sıcaklık değerini Celsius'a çeviriniz\n",
    "\n",
    "<hr>"
   ]
  },
  {
   "cell_type": "markdown",
   "id": "bb133a3b",
   "metadata": {},
   "source": [
    "Fahrenheit, Celsius dönüşümü aşağıdaki gibidir:\n",
    "\n",
    "$$\n",
    " {}^o C = \\frac{{}^o F - 32}{1.8}\n",
    "$$"
   ]
  },
  {
   "cell_type": "code",
   "execution_count": 4,
   "id": "f7caf2d7",
   "metadata": {},
   "outputs": [
    {
     "name": "stdout",
     "output_type": "stream",
     "text": [
      "7.222222222222222\n"
     ]
    }
   ],
   "source": [
    "f = 45\n",
    "\n",
    "c = (f - 32) / 1.8\n",
    "print(c)"
   ]
  }
 ],
 "metadata": {
  "kernelspec": {
   "display_name": "Python 3 (ipykernel)",
   "language": "python",
   "name": "python3"
  },
  "language_info": {
   "codemirror_mode": {
    "name": "ipython",
    "version": 3
   },
   "file_extension": ".py",
   "mimetype": "text/x-python",
   "name": "python",
   "nbconvert_exporter": "python",
   "pygments_lexer": "ipython3",
   "version": "3.8.11"
  }
 },
 "nbformat": 4,
 "nbformat_minor": 5
}
