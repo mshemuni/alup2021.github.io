{
 "cells": [
  {
   "cell_type": "markdown",
   "id": "e9d2a0fb",
   "metadata": {},
   "source": [
    "# Örnekler\n",
    "\n",
    "Şimdiye kadar öğrendiklerimizle örnekler yapalım."
   ]
  },
  {
   "cell_type": "markdown",
   "id": "7e855afb",
   "metadata": {},
   "source": [
    "## Örnek 1: İki sayının toplamını veren programı yazınız\n",
    "\n",
    "<hr>"
   ]
  },
  {
   "cell_type": "markdown",
   "id": "e2207992",
   "metadata": {},
   "source": [
    "Bunun için ```+``` operatörünü kullanabiliriz"
   ]
  },
  {
   "cell_type": "code",
   "execution_count": 2,
   "id": "264b1f24",
   "metadata": {},
   "outputs": [
    {
     "name": "stdout",
     "output_type": "stream",
     "text": [
      "144\n"
     ]
    }
   ],
   "source": [
    "sayi1 = 56\n",
    "sayi2 = 88\n",
    "print(sayi1 + sayi2)"
   ]
  },
  {
   "cell_type": "markdown",
   "id": "73388fad",
   "metadata": {},
   "source": [
    "## Örnek 2: Bir sayının karekökünü bulunuz\n",
    "\n",
    "<hr>"
   ]
  },
  {
   "cell_type": "markdown",
   "id": "c4e57055",
   "metadata": {},
   "source": [
    "Bir sayının kare kökü, aynı sayının 0.5 kuvvetine eşittir:\n",
    "\n",
    "$$\n",
    "\\sqrt{x} = x^{0.5}\n",
    "$$\n",
    "\n",
    "Bunun için ```**``` operatörünü kullanabiliriz."
   ]
  },
  {
   "cell_type": "code",
   "execution_count": 3,
   "id": "fcceb367",
   "metadata": {},
   "outputs": [
    {
     "name": "stdout",
     "output_type": "stream",
     "text": [
      "2.8284271247461903\n"
     ]
    }
   ],
   "source": [
    "sayi = 8\n",
    "\n",
    "print(sayi ** 0.5)"
   ]
  },
  {
   "cell_type": "markdown",
   "id": "51bb400e",
   "metadata": {},
   "source": [
    "## Örnek 3: Fahrenheit cinsinden verilen bir sıcaklık değerini Celsius'a çeviriniz\n",
    "\n",
    "<hr>"
   ]
  },
  {
   "cell_type": "markdown",
   "id": "bb133a3b",
   "metadata": {},
   "source": [
    "Fahrenheit, Celsius dönüşümü aşağıdaki gibidir:\n",
    "\n",
    "$$\n",
    " {}^o C = \\frac{{}^o F - 32}{1.8}\n",
    "$$"
   ]
  },
  {
   "cell_type": "code",
   "execution_count": 4,
   "id": "f7caf2d7",
   "metadata": {},
   "outputs": [
    {
     "name": "stdout",
     "output_type": "stream",
     "text": [
      "7.222222222222222\n"
     ]
    }
   ],
   "source": [
    "f = 45\n",
    "\n",
    "c = (f - 32) / 1.8\n",
    "print(c)"
   ]
  },
  {
   "cell_type": "markdown",
   "id": "4f90658f",
   "metadata": {},
   "source": [
    "## Örnek 4: Verilen bir sayının Negatif, Pozitif veya Sıfır mı olduğunu kontrol ediniz\n",
    "\n",
    "<hr>"
   ]
  },
  {
   "cell_type": "code",
   "execution_count": 9,
   "id": "26d037a2",
   "metadata": {},
   "outputs": [
    {
     "name": "stdout",
     "output_type": "stream",
     "text": [
      "Sayi Pozitifdır\n"
     ]
    }
   ],
   "source": [
    "sayi = 8\n",
    "\n",
    "if sayi < 0:\n",
    "    print(\"Sayi Negatifdır\")\n",
    "elif sayi > 0:\n",
    "    print(\"Sayi Pozitifdır\")\n",
    "else:\n",
    "    print(\"Sayi Sıfırdır\")"
   ]
  },
  {
   "cell_type": "markdown",
   "id": "49d7788d",
   "metadata": {},
   "source": [
    "## Örnek 5: Verilen bir sayının çift olup olmadığını kontrol ediniz\n",
    "\n",
    "<hr>"
   ]
  },
  {
   "cell_type": "markdown",
   "id": "cd18c217",
   "metadata": {},
   "source": [
    "Bir ayının ikiye bölümünden kalan sıfır ise söz konusu sayı çifttir. Aksi taktirde sayı tektir.\n",
    "\n",
    "Bunun için ```%``` operatörünü kullanabilirz."
   ]
  },
  {
   "cell_type": "code",
   "execution_count": 16,
   "id": "c9603df9",
   "metadata": {},
   "outputs": [
    {
     "name": "stdout",
     "output_type": "stream",
     "text": [
      "Sayı Çifttir\n"
     ]
    }
   ],
   "source": [
    "sayi = 6\n",
    "\n",
    "if sayi % 2 == 0:\n",
    "    print(\"Sayı Çifttir\")\n",
    "else:\n",
    "    print(\"Sayi Tektir\")"
   ]
  },
  {
   "cell_type": "markdown",
   "id": "02949342",
   "metadata": {},
   "source": [
    "Bir sayının 2'ye bölümünden kalanın alabileceği değer ```0``` veya ```1``` olabilir. ```0``` ve ```1```, mantıksal verilerden sırasıyla ```False``` ve ```True``` olarak algılanabileceğinden kodu kısaltabiliriz."
   ]
  },
  {
   "cell_type": "code",
   "execution_count": 17,
   "id": "4e20478b",
   "metadata": {},
   "outputs": [
    {
     "name": "stdout",
     "output_type": "stream",
     "text": [
      "Sayı Tektir\n"
     ]
    }
   ],
   "source": [
    "sayi = 5\n",
    "\n",
    "if sayi % 2:\n",
    "    print(\"Sayı Tektir\")\n",
    "else:\n",
    "    print(\"Sayi Çiftir\")"
   ]
  },
  {
   "cell_type": "markdown",
   "id": "651611bf",
   "metadata": {},
   "source": [
    "## İkinci dereceden kök hesaplama\n",
    "\n",
    "<hr>"
   ]
  },
  {
   "cell_type": "markdown",
   "id": "809c5d70",
   "metadata": {},
   "source": [
    "$$\n",
    "a x^2 + b x + c = 0\n",
    "$$\n",
    "\n",
    "şekilnde ifade edilen ikinci dereceden bir bilinmeyenli denklemin köklerini hesaplayınız"
   ]
  },
  {
   "cell_type": "markdown",
   "id": "993f7d7f",
   "metadata": {},
   "source": [
    "Bunun için\n",
    "\n",
    "$$\n",
    "\\Delta = b^2 - 4ac\n",
    "$$\n",
    "\n",
    "hesaplanır.\n",
    "\n",
    "Eğer $\\Delta$ negatif ise, denklemin reel kökü yoktur.\n",
    "\n",
    "Daha sonra iki kök\n",
    "\n",
    "$$\n",
    "x_1 = \\frac{-b + \\sqrt{\\Delta}}{2 a} \\\\\n",
    "x_2 = \\frac{-b - \\sqrt{\\Delta}}{2 a}\n",
    "$$\n",
    "şeklinde hesaplanır"
   ]
  },
  {
   "cell_type": "code",
   "execution_count": 22,
   "id": "c811279f",
   "metadata": {},
   "outputs": [
    {
     "name": "stdout",
     "output_type": "stream",
     "text": [
      "-1.0 -1.0\n"
     ]
    }
   ],
   "source": [
    "a, b, c = 1, 2, 1\n",
    "\n",
    "delta = b ** 2 - 4 * a * c\n",
    "\n",
    "if delta < 0:\n",
    "    print(\"Denklemin reel kökü yoktur\")\n",
    "else:\n",
    "    x1 = (-1 * b + delta ** 0.5)/(2 * a)\n",
    "    x2 = (-1 * b - delta ** 0.5)/(2 * a)\n",
    "    \n",
    "    print(x1, x2)"
   ]
  },
  {
   "cell_type": "code",
   "execution_count": null,
   "id": "33df0275",
   "metadata": {},
   "outputs": [],
   "source": []
  }
 ],
 "metadata": {
  "kernelspec": {
   "display_name": "Python 3 (ipykernel)",
   "language": "python",
   "name": "python3"
  },
  "language_info": {
   "codemirror_mode": {
    "name": "ipython",
    "version": 3
   },
   "file_extension": ".py",
   "mimetype": "text/x-python",
   "name": "python",
   "nbconvert_exporter": "python",
   "pygments_lexer": "ipython3",
   "version": "3.9.6"
  }
 },
 "nbformat": 4,
 "nbformat_minor": 5
}
