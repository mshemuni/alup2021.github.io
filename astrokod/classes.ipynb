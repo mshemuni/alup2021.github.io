{
 "cells": [
  {
   "cell_type": "markdown",
   "id": "52ad0d2a",
   "metadata": {},
   "source": [
    "# Sınıf\n",
    "\n",
    "```Python```'da özel veri tipleri oluşturabilirsini. Bunun için ```sınıf```lar kullanılır.\n",
    "\n",
    "\n",
    "```Nesne yönelimli programlama```'in (```Object-oriented programming```) temel taşı olan ```sınıflar``` ```Kapsülleme```'ye yarar:\n",
    "\n",
    "## Kapsülleme\n",
    "\n",
    "Kapsülleme (ya da Sarma) nesne yönelimli programlamada herhangi bir nesnenin metotlarını, verilerini ve değişkenlerini diğer nesnelerden saklayarak ve bunlara erişimini sınırlandırarak yanlış kullanımlardan koruyan bir konsepttir.\n",
    "\n",
    "Ana fikir, bir nesne oluşturacağız, bu nesneye gerekli bilgileri vereceğiz. Daha sonra bu nesneye sorular soracağız. Söz konusu nesne ise elindeki bilgilere göre yanıt verecek.\n",
    "\n",
    "```Python```'da nesne oluşturmak, atama işlemi kadar kolaydır. Daha sonra bu nesnenin bütün özelliklerine nesne adı ile ulaşacağız. (```namespace```)\n",
    "\n",
    ":::{note}\n",
    "```PHP``` gibi dillerde ```new``` anahtar kelimesi kullanmanız beklenir. Fakat ```Python```'da böyle böyle bir anahtar kelime kullanılmaz.\n",
    ":::\n",
    "\n",
    "<hr>\n",
    "\n",
    "Örnek için hayali bir ```Personnel``` nesnsi oluşturacağım.\n",
    "\n",
    "Bu nesne ile personel'in bütün özelliklerine erişeceğim.\n",
    "\n",
    "\n",
    "```\n",
    "personel = Personnel()\n",
    "\n",
    "print(personel.adi)\n",
    "print(personel.soyadi)\n",
    "print(personel.iletisim)\n",
    "print(personel.maas_hesapla())\n",
    "```\n",
    "\n",
    "Yukarıdaki hayali nesne sorduğum sorulara (```adi```, ```soyadi```, ```iletisim```, ```maas_hesapla```) yanıt verir.\n",
    "\n",
    "<hr>"
   ]
  },
  {
   "cell_type": "markdown",
   "id": "b10e5686",
   "metadata": {},
   "source": [
    "## ```class```\n",
    "\n",
    "Bir sınıf oluşturmak için ```class``` anahtar kelimesi kullanılır.\n",
    "\n",
    "<hr>\n",
    "\n",
    "Örnek\n",
    "\n",
    "Personnel adlı, hiçbir şey yapmayan, bir sınıf oluşturunuz. Daha sonra bu sınıftan bir nesne oluşturun."
   ]
  },
  {
   "cell_type": "code",
   "execution_count": 10,
   "id": "b8b1ea7f",
   "metadata": {},
   "outputs": [
    {
     "data": {
      "text/plain": [
       "<__main__.Personnel at 0x1c3f0c1d4c0>"
      ]
     },
     "execution_count": 10,
     "metadata": {},
     "output_type": "execute_result"
    }
   ],
   "source": [
    "class Personnel:\n",
    "    pass\n",
    "\n",
    "personel = Personnel()\n",
    "personel"
   ]
  },
  {
   "cell_type": "markdown",
   "id": "754fd951",
   "metadata": {},
   "source": [
    ":::{warning}\n",
    "Boş bırakmak istediğimiz bloklar varsa, ```pass``` anahtar kelimesini kullanabiliriz.\n",
    "\n",
    "Normalde bloklar ```{}``` içinde yazıldığından, boş bloğu ifade etmek kolay. Fakat ```Python```'da boş bloğu ifade etmek ```indentation``` kullanmamak demek olur. ```indentation``` kullanmamak yazım hatası olarak algılanır. Bu yüzünden ```pass``` anahtar kelimesine ihtiyaç duyulur.\n",
    "\n",
    "Uzun lafın kısası, boş bloklar için ```pass``` kullanını.\n",
    "\n",
    ":::\n",
    "\n",
    "```personel```'in içinde ne var diye baktığımızda bize bir takım bilgiler verildi:\n",
    "\n",
    "```\n",
    "<__main__.Personnel at 0x1c3f0c3c640>\n",
    "```\n",
    "\n",
    "Meali: ```personel```, betik dosyasında bulunan bir ```Personnel``` nesnesidir ve RAM üzerinde ```0x1c3f0c3c640``` adresinde bulunuyor."
   ]
  },
  {
   "cell_type": "code",
   "execution_count": null,
   "id": "fd10d8a4",
   "metadata": {},
   "outputs": [],
   "source": []
  }
 ],
 "metadata": {
  "kernelspec": {
   "display_name": "Python 3 (ipykernel)",
   "language": "python",
   "name": "python3"
  },
  "language_info": {
   "codemirror_mode": {
    "name": "ipython",
    "version": 3
   },
   "file_extension": ".py",
   "mimetype": "text/x-python",
   "name": "python",
   "nbconvert_exporter": "python",
   "pygments_lexer": "ipython3",
   "version": "3.8.11"
  }
 },
 "nbformat": 4,
 "nbformat_minor": 5
}
