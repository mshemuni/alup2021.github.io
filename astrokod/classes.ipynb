{
 "cells": [
  {
   "cell_type": "markdown",
   "id": "52ad0d2a",
   "metadata": {},
   "source": [
    "# Sınıf\n",
    "\n",
    "```Python```'da özel veri tipleri oluşturabilirsini. Bunun için ```sınıf```lar kullanılır.\n",
    "\n",
    "\n",
    "```Nesne yönelimli programlama```'in (```Object-oriented programming```) temel taşı olan ```sınıflar``` ```Kapsülleme```'ye yarar:\n",
    "\n",
    "## Kapsülleme\n",
    "\n",
    "Kapsülleme (ya da Sarma) nesne yönelimli programlamada herhangi bir nesnenin metotlarını, verilerini ve değişkenlerini diğer nesnelerden saklayarak ve bunlara erişimini sınırlandırarak yanlış kullanımlardan koruyan bir konsepttir.\n",
    "\n",
    "Ana fikir, bir nesne oluşturacağız, bu nesneye gerekli bilgileri vereceğiz. Daha sonra bu nesneye sorular soracağız. Söz konusu nesne ise elindeki bilgilere göre yanıt verecek.\n",
    "\n",
    "```Python```'da nesne oluşturmak, atama işlemi kadar kolaydır. Daha sonra bu nesnenin bütün özelliklerine nesne adı ile ulaşacağız. (```namespace```)\n",
    "\n",
    ":::{note}\n",
    "```PHP``` gibi dillerde ```new``` anahtar kelimesi kullanmanız beklenir. Fakat ```Python```'da böyle böyle bir anahtar kelime kullanılmaz.\n",
    ":::\n",
    "\n",
    "<hr>\n",
    "\n",
    "Örnek için hayali bir ```Personnel``` nesnsi oluşturacağım.\n",
    "\n",
    "Bu nesne ile personel'in bütün özelliklerine erişeceğim.\n",
    "\n",
    "\n",
    "```\n",
    "personel = Personnel()\n",
    "\n",
    "print(personel.adi)\n",
    "print(personel.soyadi)\n",
    "print(personel.iletisim)\n",
    "print(personel.maas_hesapla())\n",
    "```\n",
    "\n",
    "Yukarıdaki hayali nesne sorduğum sorulara (```adi```, ```soyadi```, ```iletisim```, ```maas_hesapla```) yanıt verir.\n",
    "\n",
    "<hr>"
   ]
  },
  {
   "cell_type": "markdown",
   "id": "b10e5686",
   "metadata": {},
   "source": [
    "## ```class```\n",
    "\n",
    "Bir sınıf oluşturmak için ```class``` anahtar kelimesi kullanılır.\n",
    "\n",
    "<hr>\n",
    "\n",
    "Örnek\n",
    "\n",
    "Personnel adlı, hiçbir şey yapmayan, bir sınıf oluşturunuz. Daha sonra bu sınıftan bir nesne oluşturun."
   ]
  },
  {
   "cell_type": "code",
   "execution_count": 10,
   "id": "b8b1ea7f",
   "metadata": {},
   "outputs": [
    {
     "data": {
      "text/plain": [
       "<__main__.Personnel at 0x1c3f0c1d4c0>"
      ]
     },
     "execution_count": 10,
     "metadata": {},
     "output_type": "execute_result"
    }
   ],
   "source": [
    "class Personnel:\n",
    "    pass\n",
    "\n",
    "personel = Personnel()\n",
    "personel"
   ]
  },
  {
   "cell_type": "markdown",
   "id": "754fd951",
   "metadata": {},
   "source": [
    "```personel```'in içinde ne var diye baktığımızda bize bir takım bilgiler verildi:\n",
    "\n",
    "```\n",
    "<__main__.Personnel at 0x1c3f0c3c640>\n",
    "```\n",
    "\n",
    "Meali: ```personel```, betik dosyasında bulunan bir ```Personnel``` nesnesidir ve RAM üzerinde ```0x1c3f0c3c640``` adresinde bulunuyor.\n",
    "\n",
    "\n",
    "Her ```class```'ın ```attribute```leri (```özellik```) ve ```Method```ları (```metod```) olur."
   ]
  },
  {
   "cell_type": "markdown",
   "id": "d7350775",
   "metadata": {},
   "source": [
    "### ```attribute```\n",
    "\n",
    "Bir sınıfa ait değerlerdir. Örneğin ```Personnel``` adlı bir nesnenin ```adı```'ndan bahsettik ve ad bilgisine ```personel.adi``` şeklinde ulaştık. Bu bir ```attribute```tur.\n",
    "\n",
    "<hr>\n",
    "\n",
    "Örnek\n",
    "\n",
    "Personnel adlı, hiçbir şey yapmayan, bir sınıf oluşturunuz. Daha sonra bu sınıftan bir nesne oluşturun ve söz konusu nesneye ```adi``` isimli, ```Muhammed``` değerine sahip bir ```attribute``` ekleyiniz."
   ]
  },
  {
   "cell_type": "code",
   "execution_count": 12,
   "id": "093972ec",
   "metadata": {},
   "outputs": [
    {
     "data": {
      "text/plain": [
       "<__main__.Personnel at 0x1c3f0b7d7c0>"
      ]
     },
     "execution_count": 12,
     "metadata": {},
     "output_type": "execute_result"
    }
   ],
   "source": [
    "class Personnel:\n",
    "    pass\n",
    "\n",
    "personel = Personnel()\n",
    "personel.adi = \"Muhammed\"\n",
    "personel"
   ]
  },
  {
   "cell_type": "markdown",
   "id": "084d5f13",
   "metadata": {},
   "source": [
    "### ```method```\n",
    "\n",
    "Bir sınıfa ait fonksiyonlardır. Örneğin ```Personnel``` adlı bir nesnenin ```maas_hesapla```'sı ile, personel'in maaşını hesapladık ve bu hesabı yapmak için ```personel.maas_hesapla()``` dedik. Bu bir ```method```dur.\n",
    "\n",
    "Bir sınıfa metod eklemek için ```def``` anahtar kelimesi kullanılır.\n",
    "\n",
    "<hr>\n",
    "\n",
    "Örnek\n",
    "\n",
    "Personnel adlı bir sınıf oluşturunuz içinde maaş hesaplamak için ```maas_hesapla()``` adlı bir metod ekleyin."
   ]
  },
  {
   "cell_type": "code",
   "execution_count": 8,
   "id": "01cb11e4",
   "metadata": {},
   "outputs": [],
   "source": [
    "class Personnel:\n",
    "    def maas_hesapla(self):\n",
    "        print(11.59)"
   ]
  },
  {
   "cell_type": "markdown",
   "id": "854c74d4",
   "metadata": {},
   "source": [
    "::::{important}\n",
    "```self``` nedir?\n",
    "\n",
    "Dikkat ederseniz, bir nesne oluşturduğumuzda bu nesneye ait ```attribute``` ve ```method```lara ```namespace``` mantığıyla ulaşabildik.\n",
    "\n",
    "```\n",
    "p = Personnel()\n",
    "p.adi = \"Muhammed\"\n",
    "```\n",
    "\n",
    "gibi...\n",
    "\n",
    "Peki bir sınıfın içindeyken, söz konusu sınıfın ```attribute``` ve ```method```'larına nasıl erişeceğiz?\n",
    "\n",
    "```self```, ```kendi``` demek.\n",
    ":::{note}\n",
    "```Java```, ```PHP```, ```Javascript``` gibi dillerde ```this``` olarak karşımıza çıkar.\n",
    ":::\n",
    "\n",
    "::::"
   ]
  },
  {
   "cell_type": "markdown",
   "id": "88c56187",
   "metadata": {},
   "source": [
    "Peki bir nesneye ait bütün ```attribute```'ların nesne oluşturulduktan sonra tek tek girilmesi mi beklenecek?\n",
    "\n",
    "Hayır. Bu hataya davetiye çıkarır.\n",
    "\n",
    "```adi```, ```soyadi``` gibi bir nesnenin dışarıdan gelmesi gereken bilgileri nesne oluşturulurken almamız gerekiyor. Bunun için ```constructor``` metod kullanılır."
   ]
  },
  {
   "cell_type": "markdown",
   "id": "e7cc0986",
   "metadata": {},
   "source": [
    "#### \\_\\_init\\_\\_\n",
    "\n",
    "```Python```'da ```constructor``` metod bir özel metoddur ve ```__init__``` şeklinde tanımlanır.\n",
    "\n",
    ":::{note}\n",
    "Özel metodlar daha sonra uzun uza anlatılacaktır.\n",
    ":::\n",
    "\n",
    "```__init__```, bir sınıftan her obje oluşturduğumuzda çalışan bir metoddur.\n",
    "\n",
    "<hr>\n",
    "\n",
    "Örnek\n",
    "\n",
    "Personnel adlı, hiçbir şey yapmayan, her çağırıldığında herkesi selamlayan bir sınıf yazınız. Daha sonra bu sınıftan iki nesne oluşturunuz."
   ]
  },
  {
   "cell_type": "code",
   "execution_count": 14,
   "id": "c982f90c",
   "metadata": {},
   "outputs": [],
   "source": [
    "class Personnel:\n",
    "    def __init__(self):\n",
    "        print(\"Herkese merhaba\")"
   ]
  },
  {
   "cell_type": "code",
   "execution_count": 15,
   "id": "f6361bd6",
   "metadata": {},
   "outputs": [
    {
     "name": "stdout",
     "output_type": "stream",
     "text": [
      "Herkese merhaba\n"
     ]
    }
   ],
   "source": [
    "p1 = Personnel()"
   ]
  },
  {
   "cell_type": "code",
   "execution_count": 16,
   "id": "6ad40c26",
   "metadata": {},
   "outputs": [
    {
     "name": "stdout",
     "output_type": "stream",
     "text": [
      "Herkese merhaba\n"
     ]
    }
   ],
   "source": [
    "p2 = Personnel()"
   ]
  },
  {
   "cell_type": "markdown",
   "id": "148e1a41",
   "metadata": {},
   "source": [
    "```__init__``` metodu aynı zamanda dışarıyla ilk bağlantımızı kuran metoddur. Eğer bir sınıftan bir nesne olıuşturduğunuz anda dışarıdan belli başlı bilgiler almak isterseniz, ```__init__``` metodunu kullanabilirsiniz.\n",
    "\n",
    "<hr>\n",
    "\n",
    "Örnek\n",
    "\n",
    "Personnel adlı, hiçbir şey yapmayan, dışarıdan ad ve soyad bilgisini alıp sırasıyla ```adi``` ve ```soyadi``` ```attribute```larına atan bir sınıf yazınız. Daha sonra bu sınıftan bir nesne oluşturup, nesnenin ```adi``` ve ```soyadi``` bilgisini ekrana yazınız."
   ]
  },
  {
   "cell_type": "code",
   "execution_count": 17,
   "id": "578f6e12",
   "metadata": {},
   "outputs": [],
   "source": [
    "class Personnel:\n",
    "    def __init__(self, adi, soyadi):\n",
    "        self.adi = adi\n",
    "        self.soyadi = soyadi"
   ]
  },
  {
   "cell_type": "code",
   "execution_count": 18,
   "id": "49b36de1",
   "metadata": {},
   "outputs": [
    {
     "ename": "TypeError",
     "evalue": "__init__() missing 2 required positional arguments: 'adi' and 'soyadi'",
     "output_type": "error",
     "traceback": [
      "\u001b[1;31m---------------------------------------------------------------------------\u001b[0m",
      "\u001b[1;31mTypeError\u001b[0m                                 Traceback (most recent call last)",
      "\u001b[1;32m~\\AppData\\Local\\Temp/ipykernel_11468/2749609817.py\u001b[0m in \u001b[0;36m<module>\u001b[1;34m\u001b[0m\n\u001b[1;32m----> 1\u001b[1;33m \u001b[0mp1\u001b[0m \u001b[1;33m=\u001b[0m \u001b[0mPersonnel\u001b[0m\u001b[1;33m(\u001b[0m\u001b[1;33m)\u001b[0m\u001b[1;33m\u001b[0m\u001b[1;33m\u001b[0m\u001b[0m\n\u001b[0m",
      "\u001b[1;31mTypeError\u001b[0m: __init__() missing 2 required positional arguments: 'adi' and 'soyadi'"
     ]
    }
   ],
   "source": [
    "p1 = Personnel()"
   ]
  },
  {
   "cell_type": "markdown",
   "id": "98235d4a",
   "metadata": {},
   "source": [
    "Ahanda. ```__init__``` metodu dışarıdan gelecek iki tane argüman bekliyormuş. Biz ise hiçbir ley vermedik."
   ]
  },
  {
   "cell_type": "code",
   "execution_count": 19,
   "id": "7864e8df",
   "metadata": {},
   "outputs": [],
   "source": [
    "p1 = Personnel(\"Muhammed\", \"Shameoni Niaei\")"
   ]
  },
  {
   "cell_type": "code",
   "execution_count": 20,
   "id": "a2739d79",
   "metadata": {},
   "outputs": [
    {
     "data": {
      "text/plain": [
       "'Muhammed'"
      ]
     },
     "execution_count": 20,
     "metadata": {},
     "output_type": "execute_result"
    }
   ],
   "source": [
    "p1.adi"
   ]
  },
  {
   "cell_type": "code",
   "execution_count": 21,
   "id": "bc498921",
   "metadata": {},
   "outputs": [
    {
     "data": {
      "text/plain": [
       "'Shameoni Niaei'"
      ]
     },
     "execution_count": 21,
     "metadata": {},
     "output_type": "execute_result"
    }
   ],
   "source": [
    "p1.soyadi"
   ]
  },
  {
   "cell_type": "code",
   "execution_count": null,
   "id": "a63a1ceb",
   "metadata": {},
   "outputs": [],
   "source": []
  }
 ],
 "metadata": {
  "kernelspec": {
   "display_name": "Python 3 (ipykernel)",
   "language": "python",
   "name": "python3"
  },
  "language_info": {
   "codemirror_mode": {
    "name": "ipython",
    "version": 3
   },
   "file_extension": ".py",
   "mimetype": "text/x-python",
   "name": "python",
   "nbconvert_exporter": "python",
   "pygments_lexer": "ipython3",
   "version": "3.9.6"
  }
 },
 "nbformat": 4,
 "nbformat_minor": 5
}
