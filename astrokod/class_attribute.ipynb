{
 "cells": [
  {
   "cell_type": "markdown",
   "id": "c3fd4c84",
   "metadata": {},
   "source": [
    "# ```attribute```\n",
    "\n",
    "Bir sınıfa ait değerlerdir. Örneğin ```Personnel``` adlı bir nesnenin ```adı```'ndan bahsettik ve ad bilgisine ```personel.adi``` şeklinde ulaştık. Bu bir ```attribute```tur.\n",
    "\n",
    "<hr>\n",
    "\n",
    "Örnek\n",
    "\n",
    "Personnel adlı, hiçbir şey yapmayan, bir sınıf oluşturunuz. Daha sonra bu sınıftan bir nesne oluşturun ve söz konusu nesneye ```adi``` isimli, ```Muhammed``` değerine sahip bir ```attribute``` ekleyiniz."
   ]
  },
  {
   "cell_type": "code",
   "execution_count": 2,
   "id": "71b9bb1e",
   "metadata": {},
   "outputs": [
    {
     "name": "stdout",
     "output_type": "stream",
     "text": [
      "<__main__.Personnel object at 0x7fc8a87a8df0>\n",
      "Muhammed\n"
     ]
    }
   ],
   "source": [
    "class Personnel:\n",
    "    pass\n",
    "\n",
    "personel = Personnel()\n",
    "personel.adi = \"Muhammed\"\n",
    "print(personel)\n",
    "print(personel.adi)"
   ]
  }
 ],
 "metadata": {
  "kernelspec": {
   "display_name": "Python 3 (ipykernel)",
   "language": "python",
   "name": "python3"
  },
  "language_info": {
   "codemirror_mode": {
    "name": "ipython",
    "version": 3
   },
   "file_extension": ".py",
   "mimetype": "text/x-python",
   "name": "python",
   "nbconvert_exporter": "python",
   "pygments_lexer": "ipython3",
   "version": "3.8.11"
  }
 },
 "nbformat": 4,
 "nbformat_minor": 5
}
