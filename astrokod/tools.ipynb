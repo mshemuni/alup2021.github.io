{
 "cells": [
  {
   "cell_type": "markdown",
   "id": "1ad61453",
   "metadata": {},
   "source": [
    "# Araçlar\n",
    "\n",
    "```Python```'da da diğer programlama dillerinde olduğu gibi, varsayılan olarak, olmazsa olmaz \n",
    "\n",
    "- Operatörler\n",
    "- Koşullu ifadeler\n",
    "- Döngüler\n",
    "- Fonksiyonlar\n",
    "- Sınıflar\n",
    "\n",
    "gibi araçlar ile donatılmıştır.\n",
    "\n",
    "Bana sorarsanız, bir yazılımcıyı yazılımcı yapan şey nedir diye\n",
    "\n",
    "1. Matematik\n",
    "2. Hakim olduğu dilin araçlarını doğru kullanmak\n",
    "\n",
    "derdim."
   ]
  },
  {
   "cell_type": "code",
   "execution_count": null,
   "id": "8b960ae8",
   "metadata": {},
   "outputs": [],
   "source": []
  }
 ],
 "metadata": {
  "kernelspec": {
   "display_name": "Python 3 (ipykernel)",
   "language": "python",
   "name": "python3"
  },
  "language_info": {
   "codemirror_mode": {
    "name": "ipython",
    "version": 3
   },
   "file_extension": ".py",
   "mimetype": "text/x-python",
   "name": "python",
   "nbconvert_exporter": "python",
   "pygments_lexer": "ipython3",
   "version": "3.9.6"
  }
 },
 "nbformat": 4,
 "nbformat_minor": 5
}
