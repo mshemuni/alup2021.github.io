{
 "cells": [
  {
   "cell_type": "markdown",
   "id": "c8f0f500",
   "metadata": {},
   "source": [
    "# Nümerik veriler"
   ]
  },
  {
   "cell_type": "markdown",
   "id": "f50c4e02",
   "metadata": {},
   "source": [
    "## ```int```\n",
    "\n",
    "Tam sayı veri tipidir. ```int``` olarak ifade edilir. teorik olarak asgari ve azami limiti yok.\n",
    "\n",
    "> The plain int type is unbounded.\n",
    "\n",
    "<hr>\n",
    "\n",
    "```int``` veri tipine örnek"
   ]
  },
  {
   "cell_type": "code",
   "execution_count": 1,
   "id": "8a83ce37",
   "metadata": {},
   "outputs": [
    {
     "data": {
      "text/plain": [
       "1"
      ]
     },
     "execution_count": 1,
     "metadata": {},
     "output_type": "execute_result"
    }
   ],
   "source": [
    "1"
   ]
  },
  {
   "cell_type": "markdown",
   "id": "59459533",
   "metadata": {},
   "source": [
    "## ```float```\n",
    "\n",
    "Kesirli sayı veri tipidir. Bir ```int```, ```float``` olarak tanımlanabilir.\n",
    "\n",
    "```float``` olarak gösterilir, alabileceği en büyük değer ```1.7976931348623157e+308``` ve alabileceği en küçük değer \n",
    "```-1.7976931348623157e+308```'dir.\n",
    "\n",
    "<hr>\n",
    "\n",
    "```float``` veri tipine örnek:"
   ]
  },
  {
   "cell_type": "code",
   "execution_count": 13,
   "id": "f399d84f",
   "metadata": {},
   "outputs": [
    {
     "data": {
      "text/plain": [
       "1.1"
      ]
     },
     "execution_count": 13,
     "metadata": {},
     "output_type": "execute_result"
    }
   ],
   "source": [
    "1.1"
   ]
  },
  {
   "cell_type": "markdown",
   "id": "848fd099",
   "metadata": {},
   "source": [
    "```Python```'da bütün veri tipleri birer objedir demiştik. Bunun anlamı, bir veriyi incelemek için özellikler/metodlara sahibiz.\n",
    "\n",
    "Örnek olarak ```float``` tipli objelerin, ```is_integer``` metodu vardır. Söz konusu ```float```'un ```int``` olup olmadığını ifade eder. (```1.0``` her ne kadar ```float``` olsa da, aslında bir tam sayıdır)\n",
    "\n",
    "<hr>\n",
    "\n",
    "Örnek"
   ]
  },
  {
   "cell_type": "code",
   "execution_count": 39,
   "id": "2d5701be",
   "metadata": {},
   "outputs": [
    {
     "data": {
      "text/plain": [
       "False"
      ]
     },
     "execution_count": 39,
     "metadata": {},
     "output_type": "execute_result"
    }
   ],
   "source": [
    "a = 1.1\n",
    "\n",
    "a.is_integer()"
   ]
  },
  {
   "cell_type": "markdown",
   "id": "b17fde15",
   "metadata": {},
   "source": [
    "## ```complex```\n",
    "\n",
    "Karmaşık sayı veri tipidir.\n",
    "\n",
    "```complex``` olarak gösterilir, alabileceği en büyük değer (reel ve karmaşık kısımlar için ayrı aryı) ```1.7976931348623157e+308``` ve alabileceği en küçük değer \n",
    "```-1.7976931348623157e+308```'dir.\n",
    "\n",
    "<hr>\n",
    "\n",
    "```complex``` veri tipine örnek:"
   ]
  },
  {
   "cell_type": "code",
   "execution_count": 27,
   "id": "6b2fb26c",
   "metadata": {},
   "outputs": [
    {
     "data": {
      "text/plain": [
       "(1+1.1j)"
      ]
     },
     "execution_count": 27,
     "metadata": {},
     "output_type": "execute_result"
    }
   ],
   "source": [
    "1.0 + 1.1j"
   ]
  },
  {
   "cell_type": "markdown",
   "id": "7de635e2",
   "metadata": {},
   "source": [
    "```complex``` tipli objelerin de metodları/özellikleri var. Bunların en işe yararları:\n",
    "\n",
    "- imag\n",
    "- real\n",
    "\n",
    "<hr>\n",
    "\n",
    "Örnek"
   ]
  },
  {
   "cell_type": "code",
   "execution_count": 41,
   "id": "43610bc7",
   "metadata": {},
   "outputs": [
    {
     "data": {
      "text/plain": [
       "1.1"
      ]
     },
     "execution_count": 41,
     "metadata": {},
     "output_type": "execute_result"
    }
   ],
   "source": [
    "a = 1 + 1.1j\n",
    "\n",
    "a.imag"
   ]
  },
  {
   "cell_type": "code",
   "execution_count": 42,
   "id": "0ab7aafd",
   "metadata": {},
   "outputs": [
    {
     "data": {
      "text/plain": [
       "1.0"
      ]
     },
     "execution_count": 42,
     "metadata": {},
     "output_type": "execute_result"
    }
   ],
   "source": [
    "a.real"
   ]
  },
  {
   "cell_type": "code",
   "execution_count": 43,
   "id": "704d5fd6",
   "metadata": {},
   "outputs": [
    {
     "data": {
      "text/plain": [
       "True"
      ]
     },
     "execution_count": 43,
     "metadata": {},
     "output_type": "execute_result"
    }
   ],
   "source": [
    "a.real.is_integer()"
   ]
  },
  {
   "cell_type": "markdown",
   "id": "65a16ac2",
   "metadata": {},
   "source": [
    ":::{note}\n",
    "Şimdi siz sorarsınız neden ```i``` değil de ```j```. Matematikte ```i``` kullanılır.\n",
    "\n",
    "Evet haklısınız. Bir TİP olarak bunun nedenini açıklayarak kendimle çelişeceğim.\n",
    "\n",
    "```i``` ve ```I``` bazı fontlarda ```1``` ve ```l``` (küçük L)'ye benzediği için ```j``` seçilmiştir.\n",
    "\n",
    "Bu konuyu daha detaylı incelemek isteyenler aşağıdaki bağlantıya bakabilirler.\n",
    "\n",
    "https://bugs.python.org/issue10562\n",
    ":::"
   ]
  },
  {
   "cell_type": "markdown",
   "id": "1fa4e897",
   "metadata": {},
   "source": [
    "Bu veritipi en az kullanacağımız veri tipi olacaktır."
   ]
  }
 ],
 "metadata": {
  "kernelspec": {
   "display_name": "Python 3 (ipykernel)",
   "language": "python",
   "name": "python3"
  },
  "language_info": {
   "codemirror_mode": {
    "name": "ipython",
    "version": 3
   },
   "file_extension": ".py",
   "mimetype": "text/x-python",
   "name": "python",
   "nbconvert_exporter": "python",
   "pygments_lexer": "ipython3",
   "version": "3.9.6"
  }
 },
 "nbformat": 4,
 "nbformat_minor": 5
}
