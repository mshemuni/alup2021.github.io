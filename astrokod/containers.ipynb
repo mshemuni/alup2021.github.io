{
 "cells": [
  {
   "cell_type": "markdown",
   "id": "6d0b8909",
   "metadata": {},
   "source": [
    "# Konteynerler\n",
    "\n",
    "```Python```'da rastgele sayıda obje barındıran veri türleridir. Bunlara ```dizi```ler diyeceğiz.\n",
    "\n",
    "- ```str```\n",
    "- ```list```\n",
    "- ```dict```\n",
    "- ```tuple```\n",
    "- ```set```"
   ]
  },
  {
   "cell_type": "markdown",
   "id": "477bf4ee",
   "metadata": {},
   "source": [
    "## İndeksleme (Indexing)\n",
    "\n",
    "```Python```'da bir dizi'nin elemanlarına erişmek için indeksler kullanılır.\n",
    "\n",
    "İndeksler ```0```'dan başlar ve dizinin eleman sayısının bir eksiğine kadar gider."
   ]
  },
  {
   "cell_type": "markdown",
   "id": "9b506f84",
   "metadata": {},
   "source": [
    "### Pozitif indeksleme\n",
    "\n",
    "İndeksler ```int``` olmak zorunda. Kesirli sayı indeks mümkün değildir. ```0``` indeksi ilk eleman, ```1``` indeksi ikinci eleman ve böylece devam eder.\n",
    "\n",
    "### Negatif indeksleme\n",
    "\n",
    "Bir dizinin elemenlarına negatif tam sayı indekslerle ulaşılabilir. ```-1``` son eleman, ```-2``` sondan bir önceki eleman olacaktır.\n",
    "\n",
    "### Aralık indeksleme\n",
    "\n",
    "Bir dizinin elemanlarına aralık vererek ulaşılabilir. Bunun için 3 adet ```int``` kullanılır ve bu sayılar ```:``` ile ayrılır.\n",
    "\n",
    "```\n",
    "[Başlangıç: Bitiş: Adım]\n",
    "```\n",
    "\n",
    "şeklinde ifade edilir.\n",
    "\n",
    ":::{note}\n",
    "\n",
    "Başlangıç derğeri verilmediğinde ```0```, bitiş derğeri verilmediğinde ```-1``` ve adım değeri verilmediğinde ```1``` olarak kebul edileceltir.\n",
    "\n",
    ":::"
   ]
  },
  {
   "cell_type": "markdown",
   "id": "04334916",
   "metadata": {},
   "source": [
    "## ```str```\n",
    "\n",
    "Metin veri tipidir.\n",
    "\n",
    "<hr>\n",
    "\n",
    "```str``` veri tipine örnek"
   ]
  },
  {
   "cell_type": "code",
   "execution_count": 1,
   "id": "3376c2c8",
   "metadata": {},
   "outputs": [
    {
     "data": {
      "text/plain": [
       "'Mohammad'"
      ]
     },
     "execution_count": 1,
     "metadata": {},
     "output_type": "execute_result"
    }
   ],
   "source": [
    "\"Mohammad\""
   ]
  },
  {
   "cell_type": "markdown",
   "id": "20940130",
   "metadata": {},
   "source": [
    "İndexleme kullanarak bir ```str```'in elemanlarına ulaşabiliriz.\n",
    "\n",
    "<hr>\n",
    "\n",
    "Örnek\n",
    "\n",
    "Bir ```str```'de ilk harfi gösteriniz"
   ]
  },
  {
   "cell_type": "code",
   "execution_count": 2,
   "id": "4ed28c89",
   "metadata": {},
   "outputs": [
    {
     "data": {
      "text/plain": [
       "'M'"
      ]
     },
     "execution_count": 2,
     "metadata": {},
     "output_type": "execute_result"
    }
   ],
   "source": [
    "mtn = \"Muhammed\"\n",
    "\n",
    "mtn[0]"
   ]
  },
  {
   "cell_type": "markdown",
   "id": "e31ac1fd",
   "metadata": {},
   "source": [
    "<hr>\n",
    "\n",
    "Örnek\n",
    "\n",
    "bir ```str```'in son harfini gösteriniz"
   ]
  },
  {
   "cell_type": "code",
   "execution_count": 3,
   "id": "b499b2d7",
   "metadata": {},
   "outputs": [
    {
     "data": {
      "text/plain": [
       "'d'"
      ]
     },
     "execution_count": 3,
     "metadata": {},
     "output_type": "execute_result"
    }
   ],
   "source": [
    "mtn = \"Muhammed\"\n",
    "\n",
    "mtn[-1]"
   ]
  },
  {
   "cell_type": "markdown",
   "id": "1966b4ba",
   "metadata": {},
   "source": [
    "<hr>\n",
    "\n",
    "Örnek\n",
    "\n",
    "Bir ```str```'nin ```1., 3., 5., ...``` harfini gösteriniz"
   ]
  },
  {
   "cell_type": "code",
   "execution_count": 4,
   "id": "0cda014a",
   "metadata": {},
   "outputs": [
    {
     "data": {
      "text/plain": [
       "'Mhme'"
      ]
     },
     "execution_count": 4,
     "metadata": {},
     "output_type": "execute_result"
    }
   ],
   "source": [
    "mtn = \"Muhammed\"\n",
    "mtn[::2]"
   ]
  },
  {
   "cell_type": "markdown",
   "id": "826e9c5f",
   "metadata": {},
   "source": [
    "<hr>\n",
    "\n",
    "Örnek\n",
    "\n",
    "Bir ```str```'yi ters çeviriniz"
   ]
  },
  {
   "cell_type": "code",
   "execution_count": 5,
   "id": "1aec7ab5",
   "metadata": {},
   "outputs": [
    {
     "data": {
      "text/plain": [
       "'demmahuM'"
      ]
     },
     "execution_count": 5,
     "metadata": {},
     "output_type": "execute_result"
    }
   ],
   "source": [
    "mtn = \"Muhammed\"\n",
    "\n",
    "mtn[::-1]"
   ]
  },
  {
   "cell_type": "markdown",
   "id": "55e03b64",
   "metadata": {},
   "source": [
    "### ```str```'nin yararlı metodlar\n",
    "\n",
    "- endswith, Bir metnin başka bir metinle bitip bitmediğini sınar\n",
    "- find, Bir metinin içinde başka bir metin arar. İlk indeks verilir\n",
    "- lower, Bir metni küçük harflre dönüştürür (I harfi sorun olabilir)\n",
    "- join, metinleri birleştirir\n",
    "- removeprefix, ön ek siler\n",
    "- removesuffix, son ek siler\n",
    "- replace, metin içinde aranan metni başka bir metinle değiştirir \n",
    "- split, metni böler\n",
    "- startswith, Bir metnin başka bir metinle başlayıp başlamadığını sınar\n",
    "- strip, ön ve son boşlukları siler\n",
    "- title, Her kelimeyi büyük harf ile başlatır\n",
    "- upper, Bir metni büyük harflre dönüştürür (I harfi sorun olabilir)\n",
    "\n",
    "<hr>\n",
    "\n",
    "Örnek"
   ]
  },
  {
   "cell_type": "code",
   "execution_count": 6,
   "id": "f86f2196",
   "metadata": {},
   "outputs": [
    {
     "data": {
      "text/plain": [
       "True"
      ]
     },
     "execution_count": 6,
     "metadata": {},
     "output_type": "execute_result"
    }
   ],
   "source": [
    "mtn = \"Muhammed shameoni niaei\"\n",
    "\n",
    "mtn.endswith(\"i\")"
   ]
  },
  {
   "cell_type": "code",
   "execution_count": 54,
   "id": "de6de7d9",
   "metadata": {},
   "outputs": [
    {
     "data": {
      "text/plain": [
       "4"
      ]
     },
     "execution_count": 54,
     "metadata": {},
     "output_type": "execute_result"
    }
   ],
   "source": [
    "mtn = \"Muhammed shameoni niaei\"\n",
    "\n",
    "mtn.find(\"m\")"
   ]
  },
  {
   "cell_type": "code",
   "execution_count": 55,
   "id": "bc92a40f",
   "metadata": {},
   "outputs": [
    {
     "data": {
      "text/plain": [
       "'muhammed shameoni niaei'"
      ]
     },
     "execution_count": 55,
     "metadata": {},
     "output_type": "execute_result"
    }
   ],
   "source": [
    "mtn = \"Muhammed shameoni niaei\"\n",
    "\n",
    "mtn.lower()"
   ]
  },
  {
   "cell_type": "code",
   "execution_count": 56,
   "id": "388d88e1",
   "metadata": {},
   "outputs": [
    {
     "data": {
      "text/plain": [
       "'M,u,h,a,m,m,e,d, ,s,h,a,m,e,o,n,i, ,n,i,a,e,i'"
      ]
     },
     "execution_count": 56,
     "metadata": {},
     "output_type": "execute_result"
    }
   ],
   "source": [
    "mtn = \"Muhammed shameoni niaei\"\n",
    "\n",
    "\",\".join(mtn)"
   ]
  },
  {
   "cell_type": "code",
   "execution_count": 1,
   "id": "3ce47ea3",
   "metadata": {},
   "outputs": [
    {
     "ename": "AttributeError",
     "evalue": "'str' object has no attribute 'removeprefix'",
     "output_type": "error",
     "traceback": [
      "\u001b[0;31m---------------------------------------------------------------------------\u001b[0m",
      "\u001b[0;31mAttributeError\u001b[0m                            Traceback (most recent call last)",
      "\u001b[0;32m/tmp/ipykernel_37047/2368786341.py\u001b[0m in \u001b[0;36m<module>\u001b[0;34m\u001b[0m\n\u001b[1;32m      1\u001b[0m \u001b[0mmtn\u001b[0m \u001b[0;34m=\u001b[0m \u001b[0;34m\"Muhammed shameoni niaei\"\u001b[0m\u001b[0;34m\u001b[0m\u001b[0;34m\u001b[0m\u001b[0m\n\u001b[1;32m      2\u001b[0m \u001b[0;34m\u001b[0m\u001b[0m\n\u001b[0;32m----> 3\u001b[0;31m \u001b[0mmtn\u001b[0m\u001b[0;34m.\u001b[0m\u001b[0mremoveprefix\u001b[0m\u001b[0;34m(\u001b[0m\u001b[0;34m\"Mu\"\u001b[0m\u001b[0;34m)\u001b[0m\u001b[0;34m\u001b[0m\u001b[0;34m\u001b[0m\u001b[0m\n\u001b[0m",
      "\u001b[0;31mAttributeError\u001b[0m: 'str' object has no attribute 'removeprefix'"
     ]
    }
   ],
   "source": [
    "mtn = \"Muhammed shameoni niaei\"\n",
    "\n",
    "mtn.removeprefix(\"Mu\")"
   ]
  },
  {
   "cell_type": "code",
   "execution_count": 58,
   "id": "b0e675f7",
   "metadata": {},
   "outputs": [
    {
     "data": {
      "text/plain": [
       "'Muhammed shameoni niaei'"
      ]
     },
     "execution_count": 58,
     "metadata": {},
     "output_type": "execute_result"
    }
   ],
   "source": [
    "mtn = \"Muhammed shameoni niaei\"\n",
    "\n",
    "mtn.removesuffix(\"Mu\")"
   ]
  },
  {
   "cell_type": "code",
   "execution_count": 59,
   "id": "edda8779",
   "metadata": {},
   "outputs": [
    {
     "data": {
      "text/plain": [
       "['Muha', '', 'ed sha', 'eoni niaei']"
      ]
     },
     "execution_count": 59,
     "metadata": {},
     "output_type": "execute_result"
    }
   ],
   "source": [
    "mtn = \"Muhammed shameoni niaei\"\n",
    "\n",
    "mtn.split(\"m\") # m'ye göre böl."
   ]
  },
  {
   "cell_type": "code",
   "execution_count": 60,
   "id": "9380fd19",
   "metadata": {},
   "outputs": [
    {
     "data": {
      "text/plain": [
       "['Muhammed', 'shameoni', 'niaei']"
      ]
     },
     "execution_count": 60,
     "metadata": {},
     "output_type": "execute_result"
    }
   ],
   "source": [
    "mtn = \"Muhammed shameoni niaei\"\n",
    "\n",
    "mtn.split() # beyazboşluğa göre böl. Ard arda gelen boşlukları 1 sayar"
   ]
  },
  {
   "cell_type": "code",
   "execution_count": 61,
   "id": "e07652b9",
   "metadata": {},
   "outputs": [
    {
     "data": {
      "text/plain": [
       "False"
      ]
     },
     "execution_count": 61,
     "metadata": {},
     "output_type": "execute_result"
    }
   ],
   "source": [
    "mtn = \"Muhammed shameoni niaei\"\n",
    "\n",
    "mtn.startswith(\"a\")"
   ]
  },
  {
   "cell_type": "code",
   "execution_count": 62,
   "id": "2a2185ec",
   "metadata": {},
   "outputs": [
    {
     "data": {
      "text/plain": [
       "'Muhammed'"
      ]
     },
     "execution_count": 62,
     "metadata": {},
     "output_type": "execute_result"
    }
   ],
   "source": [
    "mtn = \" Muhammed       \"\n",
    "\n",
    "mtn.strip()"
   ]
  },
  {
   "cell_type": "code",
   "execution_count": 63,
   "id": "339edf76",
   "metadata": {},
   "outputs": [
    {
     "data": {
      "text/plain": [
       "'Muhammed Shameoni Niaei'"
      ]
     },
     "execution_count": 63,
     "metadata": {},
     "output_type": "execute_result"
    }
   ],
   "source": [
    "mtn = \"Muhammed shameoni niaei\"\n",
    "\n",
    "mtn.title()"
   ]
  },
  {
   "cell_type": "code",
   "execution_count": 64,
   "id": "2bbf3a0f",
   "metadata": {
    "scrolled": true
   },
   "outputs": [
    {
     "data": {
      "text/plain": [
       "'MUHAMMED SHAMEONI NIAEI'"
      ]
     },
     "execution_count": 64,
     "metadata": {},
     "output_type": "execute_result"
    }
   ],
   "source": [
    "mtn = \"Muhammed shameoni niaei\"\n",
    "\n",
    "mtn.upper()"
   ]
  },
  {
   "cell_type": "markdown",
   "id": "c2e660bd",
   "metadata": {},
   "source": [
    ":::{note}\n",
    "```Python```'da çoklu satır metinler de yazılabilir. Bunun için metin ```\"\"\"``` ile çevrelenir\n",
    ":::\n",
    "\n",
    "<hr>\n",
    "\n",
    "Örnek"
   ]
  },
  {
   "cell_type": "code",
   "execution_count": 1,
   "id": "64af8608",
   "metadata": {},
   "outputs": [
    {
     "data": {
      "text/plain": [
       "'Muhamed\\nYusuf\\nYücel\\nYavuz'"
      ]
     },
     "execution_count": 1,
     "metadata": {},
     "output_type": "execute_result"
    }
   ],
   "source": [
    "mtn = \"\"\"Muhamed\n",
    "Yusuf\n",
    "Yücel\n",
    "Yavuz\"\"\"\n",
    "\n",
    "mtn"
   ]
  },
  {
   "cell_type": "markdown",
   "id": "8836ba65",
   "metadata": {},
   "source": [
    "## ```list```\n",
    "\n",
    "Rastgele eleman ve farklı veri tiplerinden oluşan bir veri tipidir .\n",
    "\n",
    "<hr>\n",
    "\n",
    "```list``` veri tipine örnek"
   ]
  },
  {
   "cell_type": "code",
   "execution_count": 18,
   "id": "07250618",
   "metadata": {},
   "outputs": [
    {
     "data": {
      "text/plain": [
       "[1, 1.1, 'muhammed', ['shameoni', 'niaei']]"
      ]
     },
     "execution_count": 18,
     "metadata": {},
     "output_type": "execute_result"
    }
   ],
   "source": [
    "[1, 1.1, \"muhammed\", [\"shameoni\", \"niaei\"]]"
   ]
  },
  {
   "cell_type": "markdown",
   "id": "23d25c1d",
   "metadata": {},
   "source": [
    "İndexleme kullanarak bir ```list```'in elemanlarına ulaşabiliriz.\n",
    "\n",
    "<hr>\n",
    "\n",
    "Örnek\n",
    "\n",
    "Bir ```list```'te ilk elemanını gösteriniz"
   ]
  },
  {
   "cell_type": "code",
   "execution_count": 19,
   "id": "d2eb9716",
   "metadata": {},
   "outputs": [
    {
     "data": {
      "text/plain": [
       "1"
      ]
     },
     "execution_count": 19,
     "metadata": {},
     "output_type": "execute_result"
    }
   ],
   "source": [
    "lst = [1, 1.1, \"muhammed\", [\"shameoni\", \"niaei\"]]\n",
    "\n",
    "lst[0]"
   ]
  },
  {
   "cell_type": "markdown",
   "id": "a6494460",
   "metadata": {},
   "source": [
    "<hr>\n",
    "\n",
    "Örnek\n",
    "\n",
    "bir ```list```'in son elemanını gösteriniz"
   ]
  },
  {
   "cell_type": "code",
   "execution_count": 20,
   "id": "0e44b829",
   "metadata": {},
   "outputs": [
    {
     "data": {
      "text/plain": [
       "['shameoni', 'niaei']"
      ]
     },
     "execution_count": 20,
     "metadata": {},
     "output_type": "execute_result"
    }
   ],
   "source": [
    "lst = [1, 1.1, \"muhammed\", [\"shameoni\", \"niaei\"]]\n",
    "\n",
    "lst[-1]"
   ]
  },
  {
   "cell_type": "markdown",
   "id": "5dbb2bfd",
   "metadata": {},
   "source": [
    "<hr>\n",
    "\n",
    "Örnek\n",
    "\n",
    "Bir ```list```'in ```1., 3., 5., ...``` elemanını gösteriniz"
   ]
  },
  {
   "cell_type": "code",
   "execution_count": 21,
   "id": "9227ed6d",
   "metadata": {},
   "outputs": [
    {
     "data": {
      "text/plain": [
       "[1, 'muhammed']"
      ]
     },
     "execution_count": 21,
     "metadata": {},
     "output_type": "execute_result"
    }
   ],
   "source": [
    "lst = [1, 1.1, \"muhammed\", [\"shameoni\", \"niaei\"]]\n",
    "\n",
    "lst[::2]"
   ]
  },
  {
   "cell_type": "markdown",
   "id": "7dc2446c",
   "metadata": {},
   "source": [
    "<hr>\n",
    "\n",
    "Örnek\n",
    "\n",
    "Bir ```list```'i ters çeviriniz"
   ]
  },
  {
   "cell_type": "code",
   "execution_count": 22,
   "id": "a3530490",
   "metadata": {},
   "outputs": [
    {
     "data": {
      "text/plain": [
       "[['shameoni', 'niaei'], 'muhammed', 1.1, 1]"
      ]
     },
     "execution_count": 22,
     "metadata": {},
     "output_type": "execute_result"
    }
   ],
   "source": [
    "lst = [1, 1.1, \"muhammed\", [\"shameoni\", \"niaei\"]]\n",
    "\n",
    "lst[::-1]"
   ]
  },
  {
   "cell_type": "markdown",
   "id": "2df94a8a",
   "metadata": {},
   "source": [
    "### ```list```'nin yararlı metodlar\n",
    "\n",
    "- append, Bir ```list```'in sonuna verilen değeri ekler. ```list```'in üzerinde çalışır (```inplace```)\n",
    "- copy, Bir ```list```'in kopyasını oluşturur\n",
    "- extend, Bir ```list```'in sonuna verilen ```list```'in elemanlarını ekler\n",
    "- index, Bir ```list```'te aranan elemanı bulur (ilk index verilir)\n",
    "- insert, Bir ```list```'e verilen değer, istenen sıraya yerleştirilir\n",
    "- pop, Bir ```list```'in verilen indexi silinir ve silinen değer iade edilir\n",
    "- remove, Bir ```list```'in içinden bir değer silinir (ilk index)\n",
    "- sort, Bir ```list```'i sıralar. ```list```'in üzerinde çalışır (```inplace```)\n",
    "\n",
    "<hr>\n",
    "\n",
    "Örnek"
   ]
  },
  {
   "cell_type": "code",
   "execution_count": 23,
   "id": "c02c3e9f",
   "metadata": {},
   "outputs": [
    {
     "data": {
      "text/plain": [
       "['1', '2', '3', '4', '5', '1', '6', '7', '8', '9', 'Muhammed']"
      ]
     },
     "execution_count": 23,
     "metadata": {},
     "output_type": "execute_result"
    }
   ],
   "source": [
    "lst = [\"1\", \"2\", \"3\", \"4\", \"5\", \"1\", \"6\", \"7\", \"8\", \"9\"]\n",
    "\n",
    "lst.append(\"Muhammed\")\n",
    "lst"
   ]
  },
  {
   "cell_type": "code",
   "execution_count": 24,
   "id": "61c76b62",
   "metadata": {},
   "outputs": [
    {
     "data": {
      "text/plain": [
       "['1', '2', '3', '4', '5', '1', '6', '7', '8', '9']"
      ]
     },
     "execution_count": 24,
     "metadata": {},
     "output_type": "execute_result"
    }
   ],
   "source": [
    "lst = [\"1\", \"2\", \"3\", \"4\", \"5\", \"1\", \"6\", \"7\", \"8\", \"9\"]\n",
    "\n",
    "lst.copy()"
   ]
  },
  {
   "cell_type": "code",
   "execution_count": 25,
   "id": "a506d050",
   "metadata": {},
   "outputs": [
    {
     "data": {
      "text/plain": [
       "['1',\n",
       " '2',\n",
       " '3',\n",
       " '4',\n",
       " '5',\n",
       " '1',\n",
       " '6',\n",
       " '7',\n",
       " '8',\n",
       " '9',\n",
       " 'Muhammed',\n",
       " 'shameoni',\n",
       " 'niaei']"
      ]
     },
     "execution_count": 25,
     "metadata": {},
     "output_type": "execute_result"
    }
   ],
   "source": [
    "lst = [\"1\", \"2\", \"3\", \"4\", \"5\", \"1\", \"6\", \"7\", \"8\", \"9\"]\n",
    "\n",
    "lst.extend([\"Muhammed\", \"shameoni\", \"niaei\"])\n",
    "lst"
   ]
  },
  {
   "cell_type": "code",
   "execution_count": 26,
   "id": "a3a31e6d",
   "metadata": {},
   "outputs": [
    {
     "data": {
      "text/plain": [
       "0"
      ]
     },
     "execution_count": 26,
     "metadata": {},
     "output_type": "execute_result"
    }
   ],
   "source": [
    "lst = [\"1\", \"2\", \"3\", \"4\", \"5\", \"1\", \"6\", \"7\", \"8\", \"9\"]\n",
    "\n",
    "lst.index(\"1\")"
   ]
  },
  {
   "cell_type": "code",
   "execution_count": 27,
   "id": "8c2a2465",
   "metadata": {},
   "outputs": [
    {
     "data": {
      "text/plain": [
       "['1', '2', '3', '4', '5', 'muhammed', '1', '6', '7', '8', '9']"
      ]
     },
     "execution_count": 27,
     "metadata": {},
     "output_type": "execute_result"
    }
   ],
   "source": [
    "lst = [\"1\", \"2\", \"3\", \"4\", \"5\", \"1\", \"6\", \"7\", \"8\", \"9\"]\n",
    "\n",
    "lst.insert(5, \"muhammed\")\n",
    "lst"
   ]
  },
  {
   "cell_type": "code",
   "execution_count": 70,
   "id": "de89e87a",
   "metadata": {},
   "outputs": [
    {
     "name": "stdout",
     "output_type": "stream",
     "text": [
      "6\n",
      "['1', '2', '3', '4', '5', '1', '7', '8', '9']\n"
     ]
    }
   ],
   "source": [
    "lst = [\"1\", \"2\", \"3\", \"4\", \"5\", \"1\", \"6\", \"7\", \"8\", \"9\"]\n",
    "\n",
    "silinen = lst.pop(6)\n",
    "print(silinen)\n",
    "print(lst)"
   ]
  },
  {
   "cell_type": "code",
   "execution_count": 71,
   "id": "3ade1215",
   "metadata": {},
   "outputs": [
    {
     "data": {
      "text/plain": [
       "['1', '2', '4', '5', '1', '6', '7', '8', '9']"
      ]
     },
     "execution_count": 71,
     "metadata": {},
     "output_type": "execute_result"
    }
   ],
   "source": [
    "lst = [\"1\", \"2\", \"3\", \"4\", \"5\", \"1\", \"6\", \"7\", \"8\", \"9\"]\n",
    "\n",
    "lst.remove(\"3\")\n",
    "lst"
   ]
  },
  {
   "cell_type": "code",
   "execution_count": 72,
   "id": "0c577232",
   "metadata": {},
   "outputs": [
    {
     "data": {
      "text/plain": [
       "['1', '1', '2', '3', '4', '5', '6', '7', '8', '9']"
      ]
     },
     "execution_count": 72,
     "metadata": {},
     "output_type": "execute_result"
    }
   ],
   "source": [
    "lst = [\"1\", \"2\", \"3\", \"4\", \"5\", \"1\", \"6\", \"7\", \"8\", \"9\"]\n",
    "\n",
    "lst.sort()\n",
    "lst"
   ]
  },
  {
   "cell_type": "markdown",
   "id": "f661aa7d",
   "metadata": {},
   "source": [
    "```list```'ten indeks ile eleman silmek için ```del``` anahtar kelimesi kullanılır\n",
    "\n",
    "<hr>\n",
    "\n",
    "Bir ```list```'ten ```5.``` elemanı siliniz"
   ]
  },
  {
   "cell_type": "code",
   "execution_count": 73,
   "id": "fd6b0eaf",
   "metadata": {},
   "outputs": [
    {
     "data": {
      "text/plain": [
       "['1', '2', '3', '4', '5', '6', '7', '8', '9']"
      ]
     },
     "execution_count": 73,
     "metadata": {},
     "output_type": "execute_result"
    }
   ],
   "source": [
    "lst = [\"1\", \"2\", \"3\", \"4\", \"5\", \"1\", \"6\", \"7\", \"8\", \"9\"]\n",
    "\n",
    "del lst[5]\n",
    "lst"
   ]
  },
  {
   "cell_type": "markdown",
   "id": "6aa3e497",
   "metadata": {},
   "source": [
    "```str```'nin ```join``` metodu ve ```list``` ile çok eğlenceli şeyler yapabilirsiniz.\n",
    "\n",
    "<hr>\n",
    "\n",
    "Örnek"
   ]
  },
  {
   "cell_type": "code",
   "execution_count": 74,
   "id": "3949e1d3",
   "metadata": {},
   "outputs": [
    {
     "data": {
      "text/plain": [
       "'Muhammed, Shameoni, Niaei'"
      ]
     },
     "execution_count": 74,
     "metadata": {},
     "output_type": "execute_result"
    }
   ],
   "source": [
    "lst = [\"Muhammed\", \"Shameoni\", \"Niaei\"]\n",
    "\n",
    "csv = \", \".join(lst)\n",
    "csv"
   ]
  },
  {
   "cell_type": "markdown",
   "id": "a17b78d1",
   "metadata": {},
   "source": [
    "## ```dict```\n",
    "\n",
    "En sevdiklerimden biridir. ```Json``` benzeri bir veri tipidir. Bir anahtar ve bir değerden oluşur.\n",
    "\n",
    ":::{note}\n",
    "Anahtarlar, \n",
    "- ```str```\n",
    "- ```int```\n",
    "- ```float```\n",
    "- ```complex```\n",
    "- ```tuple```\n",
    "\n",
    "olabilir. Fakat,\n",
    "\n",
    "- ```dict```\n",
    "- ```list```\n",
    "- ```set```\n",
    "\n",
    "olamaz.\n",
    ":::\n",
    "\n",
    "<hr>\n",
    "\n",
    "```dict``` veri tipine örnek"
   ]
  },
  {
   "cell_type": "code",
   "execution_count": 32,
   "id": "7e005a8b",
   "metadata": {},
   "outputs": [
    {
     "data": {
      "text/plain": [
       "{'ad': 'Muhammed', 'soyad': 'Shameoni Niaei', 'dtarihi': 1988}"
      ]
     },
     "execution_count": 32,
     "metadata": {},
     "output_type": "execute_result"
    }
   ],
   "source": [
    "{\"ad\": \"Muhammed\", \"soyad\": \"Shameoni Niaei\", \"dtarihi\": 1988}"
   ]
  },
  {
   "cell_type": "markdown",
   "id": "8eb13e63",
   "metadata": {},
   "source": [
    "İndeksleme kullanarak bir ```list```'in elemanlarına ulaşamayız.\n",
    "\n",
    "Bir ```dict```'in ```0.```, ```1.``` elemanına değil, ```anahtar``` değerine ulaşılır\n",
    "\n",
    ":::{note}\n",
    "```dict```'te 1 diye bir anahtar olursa ```dct[1]``` yanıt verir. Ama bu ```1.``` indekse ulaştığımız anlamına gelmez\n",
    ":::\n",
    "\n",
    "\n",
    ":::{warning}\n",
    "```dict```'in iki anahtarı aynı olmamaz.\n",
    ":::\n",
    "\n",
    "<hr>\n",
    "\n",
    "Örnek\n",
    "\n",
    "Bir ```dict```'te herhangi bir elemanı gösteriniz."
   ]
  },
  {
   "cell_type": "code",
   "execution_count": 33,
   "id": "0856981d",
   "metadata": {},
   "outputs": [
    {
     "data": {
      "text/plain": [
       "'Muhammed'"
      ]
     },
     "execution_count": 33,
     "metadata": {},
     "output_type": "execute_result"
    }
   ],
   "source": [
    "dct = {\"ad\": \"Muhammed\", \"soyad\": \"Shameoni Niaei\", \"dtarihi\": 1988}\n",
    "\n",
    "dct[\"ad\"]"
   ]
  },
  {
   "cell_type": "markdown",
   "id": "a49052f8",
   "metadata": {},
   "source": [
    "<hr>\n",
    "\n",
    "Örnek\n",
    "\n",
    "Bir ```dict```'te ```Atatürk Üniversitesi``` değerine sahip ```kurumu``` diye bir anahtar ekleyiniz."
   ]
  },
  {
   "cell_type": "code",
   "execution_count": 80,
   "id": "9fb6ff81",
   "metadata": {},
   "outputs": [
    {
     "data": {
      "text/plain": [
       "{'ad': 'Muhammed',\n",
       " 'soyad': 'Shameoni Niaei',\n",
       " 'dtarihi': 1988,\n",
       " 'kurumu': 'Atatürk Üniversitesi'}"
      ]
     },
     "execution_count": 80,
     "metadata": {},
     "output_type": "execute_result"
    }
   ],
   "source": [
    "dct = {\"ad\": \"Muhammed\", \"soyad\": \"Shameoni Niaei\", \"dtarihi\": 1988}\n",
    "\n",
    "dct[\"kurumu\"] = \"Atatürk Üniversitesi\"\n",
    "dct"
   ]
  },
  {
   "cell_type": "markdown",
   "id": "7a12c4a1",
   "metadata": {},
   "source": [
    "Örnek\n",
    "\n",
    "Bir ```dict```'ten herhangi bir elemanı siliniz."
   ]
  },
  {
   "cell_type": "code",
   "execution_count": 81,
   "id": "2f9471e4",
   "metadata": {},
   "outputs": [
    {
     "data": {
      "text/plain": [
       "{'soyad': 'Shameoni Niaei', 'dtarihi': 1988}"
      ]
     },
     "execution_count": 81,
     "metadata": {},
     "output_type": "execute_result"
    }
   ],
   "source": [
    "dct = {\"ad\": \"Muhammed\", \"soyad\": \"Shameoni Niaei\", \"dtarihi\": 1988}\n",
    "\n",
    "del dct[\"ad\"]\n",
    "dct"
   ]
  },
  {
   "cell_type": "markdown",
   "id": "16b68122",
   "metadata": {},
   "source": [
    "### ```dict```'nin yararlı metodlar\n",
    "\n",
    "- copy, ```dict```'in kopyasını oluşturur\n",
    "- items, ```dict```'in anahtar, değer ikilikerini verir\n",
    "- keys, ```dict```'in anahtarlarını verir\n",
    "- get, ```dict```'in bir anahtarının değerini verir\n",
    "\n",
    "<hr>\n",
    "\n",
    "Örnek"
   ]
  },
  {
   "cell_type": "code",
   "execution_count": 34,
   "id": "bedee89c",
   "metadata": {},
   "outputs": [
    {
     "data": {
      "text/plain": [
       "{'ad': 'Muhammed', 'soyad': 'Shameoni Niaei', 'dtarihi': 1988}"
      ]
     },
     "execution_count": 34,
     "metadata": {},
     "output_type": "execute_result"
    }
   ],
   "source": [
    "dct = {\"ad\": \"Muhammed\", \"soyad\": \"Shameoni Niaei\", \"dtarihi\": 1988}\n",
    "\n",
    "dct.copy()"
   ]
  },
  {
   "cell_type": "code",
   "execution_count": 35,
   "id": "a21326c0",
   "metadata": {},
   "outputs": [
    {
     "data": {
      "text/plain": [
       "dict_items([('ad', 'Muhammed'), ('soyad', 'Shameoni Niaei'), ('dtarihi', 1988)])"
      ]
     },
     "execution_count": 35,
     "metadata": {},
     "output_type": "execute_result"
    }
   ],
   "source": [
    "dct = {\"ad\": \"Muhammed\", \"soyad\": \"Shameoni Niaei\", \"dtarihi\": 1988}\n",
    "\n",
    "dct.items()"
   ]
  },
  {
   "cell_type": "code",
   "execution_count": 36,
   "id": "fe697c40",
   "metadata": {},
   "outputs": [
    {
     "data": {
      "text/plain": [
       "dict_keys(['ad', 'soyad', 'dtarihi'])"
      ]
     },
     "execution_count": 36,
     "metadata": {},
     "output_type": "execute_result"
    }
   ],
   "source": [
    "dct = {\"ad\": \"Muhammed\", \"soyad\": \"Shameoni Niaei\", \"dtarihi\": 1988}\n",
    "\n",
    "dct.keys()"
   ]
  },
  {
   "cell_type": "code",
   "execution_count": 37,
   "id": "26476ee5",
   "metadata": {},
   "outputs": [
    {
     "data": {
      "text/plain": [
       "'Muhammed'"
      ]
     },
     "execution_count": 37,
     "metadata": {},
     "output_type": "execute_result"
    }
   ],
   "source": [
    "dct = {\"ad\": \"Muhammed\", \"soyad\": \"Shameoni Niaei\", \"dtarihi\": 1988}\n",
    "\n",
    "dct.get(\"ad\")"
   ]
  },
  {
   "cell_type": "markdown",
   "id": "21102bb9",
   "metadata": {},
   "source": [
    ":::{note}\n",
    "```dct[anahtar]```, bir ```dict```'in ```anahtar``` değerini gösterir. ```get``` metodu da aynı şeyi yapar. Amaç?\n",
    "\n",
    "```dct[anahtar]``` yönteminde eğer ```anahtar```, ```dict```'in içinde mevcüt değilse, HATA alırsınız.\n",
    "\n",
    "```get``` metodunda ise varayılan ```None``` değeri alırsınız. İsterseniz, ```anahtar``` bulunmadığında özel bir değer de alabilirsiniz\n",
    "\n",
    ":::\n",
    "\n",
    "<hr>\n",
    "\n",
    "Örnek"
   ]
  },
  {
   "cell_type": "code",
   "execution_count": 38,
   "id": "a342ef91",
   "metadata": {},
   "outputs": [
    {
     "ename": "KeyError",
     "evalue": "'adi'",
     "output_type": "error",
     "traceback": [
      "\u001b[1;31m---------------------------------------------------------------------------\u001b[0m",
      "\u001b[1;31mKeyError\u001b[0m                                  Traceback (most recent call last)",
      "\u001b[1;32m~\\AppData\\Local\\Temp/ipykernel_18956/1509176710.py\u001b[0m in \u001b[0;36m<module>\u001b[1;34m\u001b[0m\n\u001b[0;32m      1\u001b[0m \u001b[0mdct\u001b[0m \u001b[1;33m=\u001b[0m \u001b[1;33m{\u001b[0m\u001b[1;34m\"ad\"\u001b[0m\u001b[1;33m:\u001b[0m \u001b[1;34m\"Muhammed\"\u001b[0m\u001b[1;33m,\u001b[0m \u001b[1;34m\"soyad\"\u001b[0m\u001b[1;33m:\u001b[0m \u001b[1;34m\"Shameoni Niaei\"\u001b[0m\u001b[1;33m,\u001b[0m \u001b[1;34m\"dtarihi\"\u001b[0m\u001b[1;33m:\u001b[0m \u001b[1;36m1988\u001b[0m\u001b[1;33m}\u001b[0m\u001b[1;33m\u001b[0m\u001b[1;33m\u001b[0m\u001b[0m\n\u001b[0;32m      2\u001b[0m \u001b[1;33m\u001b[0m\u001b[0m\n\u001b[1;32m----> 3\u001b[1;33m \u001b[0mdct\u001b[0m\u001b[1;33m[\u001b[0m\u001b[1;34m\"adi\"\u001b[0m\u001b[1;33m]\u001b[0m\u001b[1;33m\u001b[0m\u001b[1;33m\u001b[0m\u001b[0m\n\u001b[0m",
      "\u001b[1;31mKeyError\u001b[0m: 'adi'"
     ]
    }
   ],
   "source": [
    "dct = {\"ad\": \"Muhammed\", \"soyad\": \"Shameoni Niaei\", \"dtarihi\": 1988}\n",
    "\n",
    "dct[\"adi\"]"
   ]
  },
  {
   "cell_type": "code",
   "execution_count": 39,
   "id": "37d0f24f",
   "metadata": {},
   "outputs": [
    {
     "name": "stdout",
     "output_type": "stream",
     "text": [
      "None\n"
     ]
    }
   ],
   "source": [
    "dct = {\"ad\": \"Muhammed\", \"soyad\": \"Shameoni Niaei\", \"dtarihi\": 1988}\n",
    "\n",
    "print(dct.get(\"adi\"))"
   ]
  },
  {
   "cell_type": "code",
   "execution_count": 40,
   "id": "d8d0c9d1",
   "metadata": {},
   "outputs": [
    {
     "name": "stdout",
     "output_type": "stream",
     "text": [
      "Bulamadım\n"
     ]
    }
   ],
   "source": [
    "dct = {\"ad\": \"Muhammed\", \"soyad\": \"Shameoni Niaei\", \"dtarihi\": 1988}\n",
    "\n",
    "print(dct.get(\"adi\", \"Bulamadım\"))"
   ]
  },
  {
   "cell_type": "markdown",
   "id": "6ed4c243",
   "metadata": {},
   "source": [
    "## ```tupe```\n",
    "\n",
    "```tupe```, ```list```'e benzer bir dizi veri tipidir. Farklı olarak oluşturulduktan sonra düzenlenemez.\n",
    "\n",
    "Böyle bir şeye neden ihtiyacımız olsun ki?\n",
    "\n",
    "Elinizde bir konumun coğrafi koordinatları var. Söz konusu koordinatın değişme durumu olamaz. Bu durumda kod içerisinde bir yerde değeri değiştirememek adına ```tupe``` tercih edilebilir.\n",
    "\n",
    "Aynı şey, renk değerleri için geçerli olabilir. Rengin değeri değişmez.\n",
    "\n",
    "\n",
    "<hr>\n",
    "\n",
    "```tupe``` veri tipine örnek"
   ]
  },
  {
   "cell_type": "code",
   "execution_count": 41,
   "id": "b0b6f094",
   "metadata": {},
   "outputs": [
    {
     "data": {
      "text/plain": [
       "('1', '2', '3', '4', '5', '1', '6', '7', '8', '9')"
      ]
     },
     "execution_count": 41,
     "metadata": {},
     "output_type": "execute_result"
    }
   ],
   "source": [
    "(\"1\", \"2\", \"3\", \"4\", \"5\", \"1\", \"6\", \"7\", \"8\", \"9\")"
   ]
  },
  {
   "cell_type": "markdown",
   "id": "99ca394f",
   "metadata": {},
   "source": [
    "İndexleme kullanarak bir ```tuple```'in elemanlarına ulaşabiliriz.\n",
    "\n",
    "<hr>\n",
    "\n",
    "Örnek\n",
    "\n",
    "Bir ```tuple```'de ilk harfi gösteriniz"
   ]
  },
  {
   "cell_type": "code",
   "execution_count": 42,
   "id": "a105afed",
   "metadata": {},
   "outputs": [
    {
     "data": {
      "text/plain": [
       "'1'"
      ]
     },
     "execution_count": 42,
     "metadata": {},
     "output_type": "execute_result"
    }
   ],
   "source": [
    "tpl = (\"1\", \"2\", \"3\", \"4\", \"5\", \"1\", \"6\", \"7\", \"8\", \"9\")\n",
    "\n",
    "tpl[0]"
   ]
  },
  {
   "cell_type": "markdown",
   "id": "6e0581ad",
   "metadata": {},
   "source": [
    "<hr>\n",
    "\n",
    "Örnek\n",
    "\n",
    "bir ```tpl```'in son elemanını gösteriniz"
   ]
  },
  {
   "cell_type": "code",
   "execution_count": 43,
   "id": "cd28681e",
   "metadata": {},
   "outputs": [
    {
     "data": {
      "text/plain": [
       "'9'"
      ]
     },
     "execution_count": 43,
     "metadata": {},
     "output_type": "execute_result"
    }
   ],
   "source": [
    "tpl = (\"1\", \"2\", \"3\", \"4\", \"5\", \"1\", \"6\", \"7\", \"8\", \"9\")\n",
    "\n",
    "tpl[-1]"
   ]
  },
  {
   "cell_type": "markdown",
   "id": "8e70992c",
   "metadata": {},
   "source": [
    "<hr>\n",
    "\n",
    "Örnek\n",
    "\n",
    "Bir ```tpl```'in ```1., 3., 5., ...``` elemanını gösteriniz"
   ]
  },
  {
   "cell_type": "code",
   "execution_count": 44,
   "id": "30ff99af",
   "metadata": {},
   "outputs": [
    {
     "data": {
      "text/plain": [
       "('1', '3', '5', '6', '8')"
      ]
     },
     "execution_count": 44,
     "metadata": {},
     "output_type": "execute_result"
    }
   ],
   "source": [
    "tpl = (\"1\", \"2\", \"3\", \"4\", \"5\", \"1\", \"6\", \"7\", \"8\", \"9\")\n",
    "\n",
    "tpl[::2]"
   ]
  },
  {
   "cell_type": "markdown",
   "id": "3ed50cf0",
   "metadata": {},
   "source": [
    "<hr>\n",
    "\n",
    "Örnek\n",
    "\n",
    "Bir ```tuple```'i ters çeviriniz"
   ]
  },
  {
   "cell_type": "code",
   "execution_count": 45,
   "id": "82cb5253",
   "metadata": {},
   "outputs": [
    {
     "data": {
      "text/plain": [
       "('9', '8', '7', '6', '1', '5', '4', '3', '2', '1')"
      ]
     },
     "execution_count": 45,
     "metadata": {},
     "output_type": "execute_result"
    }
   ],
   "source": [
    "tpl = (\"1\", \"2\", \"3\", \"4\", \"5\", \"1\", \"6\", \"7\", \"8\", \"9\")\n",
    "\n",
    "tpl[::-1]"
   ]
  },
  {
   "cell_type": "markdown",
   "id": "d853253a",
   "metadata": {},
   "source": [
    "```tuple```'ın öyle acayip acapyi metodları yok. Elemanı güncelleymiyoruz bile"
   ]
  },
  {
   "cell_type": "markdown",
   "id": "0d209138",
   "metadata": {},
   "source": [
    "## ```set```\n",
    "\n",
    "```set``` de, ```list```'e benzer bir dizi veri tipidir. Farklı olarak tekrar veri barındıramaz. Tekil olmak zorunda.\n",
    "\n",
    "Böyle bir şeye neden ihtiyacımız olsun ki? Neden olmasın?\n",
    "\n",
    "\n",
    "<hr>\n",
    "\n",
    "```tupe``` veri tipine örnek"
   ]
  },
  {
   "cell_type": "code",
   "execution_count": 46,
   "id": "d406a8fd",
   "metadata": {},
   "outputs": [
    {
     "data": {
      "text/plain": [
       "{'1', '2', '3', '4', '5', '6', '7', '8', '9'}"
      ]
     },
     "execution_count": 46,
     "metadata": {},
     "output_type": "execute_result"
    }
   ],
   "source": [
    "{\"1\", \"2\", \"3\", \"4\", \"5\", \"1\", \"6\", \"7\", \"8\", \"9\"}"
   ]
  },
  {
   "cell_type": "markdown",
   "id": "b4b59ebd",
   "metadata": {},
   "source": [
    "İndeksleme kullanarak bir ```set```'in elemanlarına ulaşamayız."
   ]
  },
  {
   "cell_type": "markdown",
   "id": "04fb21b0",
   "metadata": {},
   "source": [
    "### ```set```'in yararlı metodlar\n",
    "\n",
    "- add, Bir ```set```'e bir eleman ekler. Eleman zaten varsa hiçbir şey yapmaz. ```set```'in üzerinde çalışır (```inplace```)\n",
    "- copy, Bir ```set```'in koyasını oluşturur\n",
    "- difference, İki ```set```'in farklını iade eder\n",
    "- intersection, İki ```set```'in kesişimini iade eder\n",
    "- union, İki ```set```'in birleşimini verir\n",
    "\n",
    "<hr>\n",
    "\n",
    "Örnek"
   ]
  },
  {
   "cell_type": "code",
   "execution_count": 47,
   "id": "a5e0ff02",
   "metadata": {},
   "outputs": [
    {
     "data": {
      "text/plain": [
       "{'1', '2', '3', '4', '5', '6', '7', '8', '9', 'muhammed'}"
      ]
     },
     "execution_count": 47,
     "metadata": {},
     "output_type": "execute_result"
    }
   ],
   "source": [
    "st = {\"1\", \"2\", \"3\", \"4\", \"5\", \"1\", \"6\", \"7\", \"8\", \"9\"}\n",
    "\n",
    "st.add(\"muhammed\")\n",
    "st"
   ]
  },
  {
   "cell_type": "code",
   "execution_count": 48,
   "id": "6c3112a8",
   "metadata": {},
   "outputs": [
    {
     "data": {
      "text/plain": [
       "{'1', '2', '3', '4', '5', '6', '7', '8', '9'}"
      ]
     },
     "execution_count": 48,
     "metadata": {},
     "output_type": "execute_result"
    }
   ],
   "source": [
    "st = {\"1\", \"2\", \"3\", \"4\", \"5\", \"1\", \"6\", \"7\", \"8\", \"9\"}\n",
    "\n",
    "st.copy()"
   ]
  },
  {
   "cell_type": "code",
   "execution_count": 49,
   "id": "11de95fd",
   "metadata": {},
   "outputs": [
    {
     "data": {
      "text/plain": [
       "{'1', '2', '4', '6', '7', '8', '9'}"
      ]
     },
     "execution_count": 49,
     "metadata": {},
     "output_type": "execute_result"
    }
   ],
   "source": [
    "st = {\"1\", \"2\", \"3\", \"4\", \"5\", \"1\", \"6\", \"7\", \"8\", \"9\"}\n",
    "st2 = {\"3\", \"muhammed\", \"5\", \"Shameoni\", \"Niaei\"}\n",
    "\n",
    "st.difference(st2)"
   ]
  },
  {
   "cell_type": "code",
   "execution_count": 50,
   "id": "b9cd47b9",
   "metadata": {},
   "outputs": [
    {
     "data": {
      "text/plain": [
       "{'3', '5'}"
      ]
     },
     "execution_count": 50,
     "metadata": {},
     "output_type": "execute_result"
    }
   ],
   "source": [
    "st = {\"1\", \"2\", \"3\", \"4\", \"5\", \"1\", \"6\", \"7\", \"8\", \"9\"}\n",
    "st2 = {\"3\", \"muhammed\", \"5\", \"Shameoni\", \"Niaei\"}\n",
    "\n",
    "st.intersection(st2)"
   ]
  },
  {
   "cell_type": "code",
   "execution_count": 51,
   "id": "565e3cef",
   "metadata": {},
   "outputs": [
    {
     "data": {
      "text/plain": [
       "{'1', '2', '3', '4', '5', '6', '7', '8', '9', 'Niaei', 'Shameoni', 'muhammed'}"
      ]
     },
     "execution_count": 51,
     "metadata": {},
     "output_type": "execute_result"
    }
   ],
   "source": [
    "st = {\"1\", \"2\", \"3\", \"4\", \"5\", \"1\", \"6\", \"7\", \"8\", \"9\"}\n",
    "st2 = {\"3\", \"muhammed\", \"5\", \"Shameoni\", \"Niaei\"}\n",
    "\n",
    "st.union(st2)"
   ]
  },
  {
   "cell_type": "markdown",
   "id": "8f1d4e91",
   "metadata": {},
   "source": [
    ":::{note}\n",
    "```set```'i kullanarak bir ```list```'in tekil değerlerini (unique) alabiliriz\n",
    ":::\n"
   ]
  },
  {
   "cell_type": "code",
   "execution_count": 52,
   "id": "2a17b584",
   "metadata": {},
   "outputs": [
    {
     "data": {
      "text/plain": [
       "[1, 2, 3, 4, 5, 6, 7, 8, 9]"
      ]
     },
     "execution_count": 52,
     "metadata": {},
     "output_type": "execute_result"
    }
   ],
   "source": [
    "lst = [1, 2, 3, 5, 4, 5, 1, 6, 7, 8, 9]\n",
    "\n",
    "list(set(lst))"
   ]
  },
  {
   "cell_type": "markdown",
   "id": "797f80ba",
   "metadata": {},
   "source": [
    "```{image} ../images/no_idea.gif\n",
    ":class: bg-primary mb-1\n",
    ":width: 400px\n",
    ":align: center\n",
    "```"
   ]
  },
  {
   "cell_type": "code",
   "execution_count": null,
   "id": "43a81434",
   "metadata": {},
   "outputs": [],
   "source": []
  }
 ],
 "metadata": {
  "kernelspec": {
   "display_name": "Python 3 (ipykernel)",
   "language": "python",
   "name": "python3"
  },
  "language_info": {
   "codemirror_mode": {
    "name": "ipython",
    "version": 3
   },
   "file_extension": ".py",
   "mimetype": "text/x-python",
   "name": "python",
   "nbconvert_exporter": "python",
   "pygments_lexer": "ipython3",
   "version": "3.9.6"
  }
 },
 "nbformat": 4,
 "nbformat_minor": 5
}
