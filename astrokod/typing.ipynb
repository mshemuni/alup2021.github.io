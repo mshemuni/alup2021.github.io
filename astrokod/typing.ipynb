{
 "cells": [
  {
   "cell_type": "markdown",
   "id": "816b3a78",
   "metadata": {},
   "source": [
    "# Tip açıklamaları\n",
    "\n",
    "```Python``` ```dinamik``` bir dildir. Bunun en büyük dezavantajlarından (Belki de avantajlarında. Bakış açınıza göre değişir) biri de değişken tipi belirtme mantığının olmayışıdır.\n",
    "\n",
    "Örneğin ```c, c++``` gibi dillerde bir değişken aşağıdaki gibi tanımlanır:\n",
    "\n",
    "```\n",
    "DEĞİŞKEN_TİPİ DEĞİŞKEN_ADI = DEĞER;\n",
    "```\n",
    "\n",
    "Buna Örnek\n",
    "\n",
    "```\n",
    "int saiy = 0;\n",
    "```\n",
    "\n",
    "olabilir.\n",
    "\n",
    "```Python```'da ise ```0``` değerli ```int``` bir değişken tanımlamak istersek aşağıdaki gibi bir satır yazarız:\n",
    "\n",
    "```\n",
    "DEĞİŞKEN_ADI = DEĞER\n",
    "```\n",
    "\n",
    "Buna örnek\n",
    "\n",
    "```\n",
    "sayi = 0\n",
    "```\n",
    "\n",
    "Faka kodun daha okunur olması ve bazı ```IDE```'lerin uyarı mekanizmasının devreye girmesi için ```type-annotation``` kullanılabilir. Bunlar değişkenin tipini belirler.\n",
    "\n",
    ":::{note}\n",
    "Bir değişkenin ```type-annotation``` ile tipinin belirlenmesi, söz konusu değişkenin tipinin değişmeyeceği anlamına gelmez.\n",
    ":::\n",
    "\n",
    "```type-annotation``` için değişen adı ile değeri arasında ```:``` değeri kullanılır.\n",
    "\n",
    "<hr>\n",
    "\n",
    "Örnek.\n",
    "\n",
    "İçinde 2 değeri olan, ```sayi``` adlı bir ```int``` tanımlayınız."
   ]
  },
  {
   "cell_type": "code",
   "execution_count": 3,
   "id": "8a463e23",
   "metadata": {},
   "outputs": [
    {
     "data": {
      "text/plain": [
       "2"
      ]
     },
     "execution_count": 3,
     "metadata": {},
     "output_type": "execute_result"
    }
   ],
   "source": [
    "sayi = 2\n",
    "sayi"
   ]
  },
  {
   "cell_type": "markdown",
   "id": "2c0af880",
   "metadata": {},
   "source": [
    "```type-annotation``` kullanalım:"
   ]
  },
  {
   "cell_type": "code",
   "execution_count": 5,
   "id": "8641f2be",
   "metadata": {},
   "outputs": [
    {
     "data": {
      "text/plain": [
       "2"
      ]
     },
     "execution_count": 5,
     "metadata": {},
     "output_type": "execute_result"
    }
   ],
   "source": [
    "sayi: int = 2\n",
    "sayi"
   ]
  },
  {
   "cell_type": "markdown",
   "id": "71294c76",
   "metadata": {},
   "source": [
    "```type-annotation```lar bir fonksiyonun nasıl bir değer iade ettiğini de ifade edebilir.\n",
    "\n",
    "Bir fonksiyonun nasıl bir değer iade edeceği aşağıdaki gibi ifade edilir:\n",
    "\n",
    "```\n",
    "def my_function() -> DEĞER_TİPİ:\n",
    "    ...\n",
    "```\n",
    "\n",
    "<hr>\n",
    "\n",
    "Örneğin daha önce yazdığımız ```factorial``` kodumuzu ele alalıp, değişken ve iade değeri tipini belirtelim"
   ]
  },
  {
   "cell_type": "code",
   "execution_count": 18,
   "id": "92b1060c",
   "metadata": {},
   "outputs": [
    {
     "data": {
      "text/plain": [
       "120"
      ]
     },
     "execution_count": 18,
     "metadata": {},
     "output_type": "execute_result"
    }
   ],
   "source": [
    "def factorial(n: int) -> int:\n",
    "    \n",
    "    # Hesaplanmak istenen değer 1 ise sonucu 1 olarka iade et\n",
    "    if n == 1:\n",
    "        return 1\n",
    "    \n",
    "    \"\"\"\n",
    "    Bu fonksiyon tam olarak nasıl çalışır?\n",
    "    n! = n * (n - 1)!\n",
    "    (n - 1)! = (n - 1) * (n - 2)!\n",
    "    .\n",
    "    .\n",
    "    .\n",
    "    3! = 3 * 2!\n",
    "    2! = 2 * 1!\n",
    "    1! = 1\n",
    "    mantığını kullanır\n",
    "    \"\"\"\n",
    "    \n",
    "    # Değilse gelen değeri, kendisinin bir eksiğinin factorial'i ile çarp (n * (n - 1)!)\n",
    "    return n * factorial(n - 1)\n",
    "\n",
    "factorial(5)"
   ]
  },
  {
   "cell_type": "markdown",
   "id": "2a1a9c17",
   "metadata": {},
   "source": [
    ":::{note}\n",
    "Bazen bir değişken farklı tiplerde değer alabilir. Bunun için ```Union``` kullanılır.\n",
    ":::"
   ]
  },
  {
   "cell_type": "markdown",
   "id": "6a8501bc",
   "metadata": {},
   "source": [
    "<hr>\n",
    "\n",
    "Örneğin daha önce yazdığımız ```daire_alani``` kodumuzu ele alalıp, değişken ve iade değeri tipini belirtelim"
   ]
  },
  {
   "cell_type": "code",
   "execution_count": 11,
   "id": "f9deb50c",
   "metadata": {},
   "outputs": [
    {
     "name": "stdout",
     "output_type": "stream",
     "text": [
      "78.53981633974483\n"
     ]
    }
   ],
   "source": [
    "from typing import Union\n",
    "from math import pi\n",
    "\n",
    "def daire_alani(r: Union[int, float]) -> Union[int, float]:\n",
    "    \"\"\"r yarıçaplı dairenin alanını hesaplan fonksiyon\"\"\"\n",
    "    \n",
    "    # pi * r2'yi kullanır\n",
    "    alan = pi * r ** 2\n",
    "    print(alan)\n",
    "    \n",
    "daire_alani(5)"
   ]
  },
  {
   "cell_type": "markdown",
   "id": "a8672502",
   "metadata": {},
   "source": [
    "Daha önce yazdığımız ```aci``` sınıfına ```type-annotation```lar ekleyelim"
   ]
  },
  {
   "cell_type": "markdown",
   "id": "8429c64a",
   "metadata": {},
   "source": [
    ":::{warning}\n",
    "Bir değişkenin tipinin, içinde bulunduğu sınıf ile aynı olduğunu belitmek isterseniz, ```from __future__ import annotations``` içe aktarma işlemini yapmak zorundasınız.\n",
    ":::"
   ]
  },
  {
   "cell_type": "code",
   "execution_count": 16,
   "id": "b8ee58e4",
   "metadata": {},
   "outputs": [],
   "source": [
    "from __future__ import annotations\n",
    "from typing import Union\n",
    "from math import pi\n",
    "\n",
    "class Angle:\n",
    "    \"\"\"\n",
    "    Açı sınıfı.\n",
    "    Bu sınıf dönüşümler yapabilir.\n",
    "    Aritmetik ve mantıksal işlemler yapabilir\n",
    "    \"\"\"\n",
    "    def __init__(self, angle) -> None:\n",
    "        \"\"\"\n",
    "        Constructor metod. Açı değerini derece cinsinden alır\n",
    "        \"\"\"\n",
    "        self.angle = angle\n",
    "        \n",
    "    def __str__(self) -> str:\n",
    "        \"\"\"\n",
    "        Nesneyi str'e çevirdiğimizde açının değerini iade etmek için __str__ metodu\n",
    "        \"\"\"\n",
    "        return str(self.angle)\n",
    "    \n",
    "    def __repr__(self) -> str:\n",
    "        \"\"\"\n",
    "        Nesneyi gösterdiğimizde açı değerini  iade etmek için __str__ metodu\n",
    "        \"\"\"\n",
    "        return str(self.angle)\n",
    "    \n",
    "    def __add__(self, other: Angle) -> Angle:\n",
    "        \"\"\"\n",
    "        Python + işlemini tanımlayan __add__ metodu. self.add'i kullanır\n",
    "        \"\"\"\n",
    "        return self.add(other)\n",
    "    \n",
    "    def __sub__(self, other: Angle) -> Angle:\n",
    "        \"\"\"\n",
    "        Python - işlemini tanımlayan __sub__ metodu. self.subtract'i kullanır\n",
    "        \"\"\"\n",
    "        return self.subtract(other)\n",
    "    \n",
    "    def __mul__(self, other: Union[int, float]) -> Angle:\n",
    "        \"\"\"\n",
    "        Python * işlemini tanımlayan __mul__ metodu. self.multiply'ı kullanır\n",
    "        \"\"\"\n",
    "        return self.multiply(other)\n",
    "    \n",
    "    def __rmul__(self, other: Union[int, float]) -> Angle:\n",
    "        \"\"\"\n",
    "        Python * işlemini (Soldan) tanımlayan __rmul__ metodu. self.multiply'ı kullanır\n",
    "        \"\"\"\n",
    "        return self.multiply(other)\n",
    "    \n",
    "    def __truediv__(self, other: Union[int, float]) -> Angle:\n",
    "        \"\"\"\n",
    "        Python / işlemini tanımlayan __truediv__ metodu. self.divide'ı kullanır\n",
    "        \"\"\"\n",
    "        return self.divide(other)\n",
    "    \n",
    "    def __eq__(self, other: Angle) -> bool:\n",
    "        \"\"\"\n",
    "        Python == işlemini tanımlayan __eq__ metodu. Açı değerlerini karşılaştırır\n",
    "        \"\"\"\n",
    "        return self.angle == other.angle\n",
    "    \n",
    "    def __ne__(self, other: Angle) -> bool:\n",
    "        \"\"\"\n",
    "        Python != işlemini tanımlayan __ne__ metodu. Açı değerlerini karşılaştırır\n",
    "        \"\"\"\n",
    "        return self.angle != other.angle\n",
    "    \n",
    "    def __gt__(self, other: Angle) -> bool:\n",
    "        \"\"\"\n",
    "        Python > işlemini tanımlayan __gt__ metodu. Açı değerlerini karşılaştırır\n",
    "        \"\"\"\n",
    "        return self.angle > other.angle\n",
    "    \n",
    "    def __ge__(self, other: Angle) -> bool:\n",
    "        \"\"\"\n",
    "        Python >= işlemini tanımlayan __ge__ metodu. Açı değerlerini karşılaştırır\n",
    "        \"\"\"\n",
    "        return self.angle >= other.angle\n",
    "    \n",
    "    def __lt__(self, other: Angle) -> bool:\n",
    "        \"\"\"\n",
    "        Python < işlemini tanımlayan __lt__ metodu. Açı değerlerini karşılaştırır\n",
    "        \"\"\"\n",
    "        return self.angle < other.angle\n",
    "    \n",
    "    def __le__(self, other: Angle) -> bool:\n",
    "        \"\"\"\n",
    "        Python <= işlemini tanımlayan __le__ metodu. Açı değerlerini karşılaştırır\n",
    "        \"\"\"\n",
    "        return self.angle <= other.angle\n",
    "    \n",
    "    def radians(self) -> Union[int, float]:\n",
    "        \"\"\"\n",
    "        Açı değerini yay deerecesinden radian'a çeviren metod\n",
    "        \"\"\"\n",
    "        return self.angle * pi / 180\n",
    "    \n",
    "    def gradians(self) -> Union[int, float]:\n",
    "        \"\"\"\n",
    "        Açı değerini yay deerecesinden gradian'a çeviren metod\n",
    "        \"\"\"\n",
    "        return self.angle * 10 / 9\n",
    "    \n",
    "    def hours(self) -> Union[int, float]:\n",
    "        \"\"\"\n",
    "        Açı değerini yay deerecesinden saat açısına çeviren metod\n",
    "        \"\"\"\n",
    "        return self.angle / 15\n",
    "    \n",
    "    def add(self, other: Angle) -> Angle:\n",
    "        \"\"\"\n",
    "        İki açı değerini toplayıp bir açı nesnesi döndüren metod\n",
    "        \"\"\"\n",
    "        \n",
    "        # Gelen diğer değer açı değilse hata yükselt\n",
    "        if not isinstance(other, Angle):\n",
    "            raise ValueError(\"Other must be an Angle\")\n",
    "        return Angle(self.angle + other.angle)\n",
    "    \n",
    "    def subtract(self, other: Angle) -> Angle:\n",
    "        \"\"\"\n",
    "        İki açı değerinin farkınnı hesaplayıp bir açı nesnesi döndüren metod\n",
    "        \"\"\"\n",
    "        \n",
    "        # Gelen diğer değer açı değilse hata yükselt\n",
    "        if not isinstance(other, Angle):\n",
    "            raise ValueError(\"Other must be an Angle\")\n",
    "        return Angle(self.angle - other.angle)\n",
    "    \n",
    "    def multiply(self, other: Union[int, float]) -> Angle:\n",
    "        \"\"\"\n",
    "        Bir açı değerini bir sayı ile çarpıp bir açı nesnesi döndüren metod\n",
    "        \"\"\"\n",
    "        \n",
    "        # Gelen diğer değer nümerik (int veya float) değilse hata yükselt\n",
    "        if not isinstance(other, (int, float)):\n",
    "            raise ValueError(\"Other must be a numeric value\")\n",
    "            \n",
    "        return Angle(self.angle * other)\n",
    "    \n",
    "    def divide(self, other: Union[int, float]):\n",
    "        \"\"\"\n",
    "        Bir açı değerini bir sayı ile bölüp bir açı nesnesi döndüren metod\n",
    "        \"\"\"\n",
    "        \n",
    "        # Gelen diğer değer nümerik (int veya float) değilse hata yükselt\n",
    "        if not isinstance(other, (int, float)):\n",
    "            raise ValueError(\"Other must be a numeric value\")\n",
    "            \n",
    "        return Angle(self.angle / other)"
   ]
  },
  {
   "cell_type": "markdown",
   "id": "901c0d1d",
   "metadata": {},
   "source": [
    "Mükemmele yakın bir iş oldu.\n",
    "\n",
    "```{image} ../images/good_job.gif\n",
    ":class: bg-primary mb-1\n",
    ":width: 400px\n",
    ":align: center\n",
    "```"
   ]
  },
  {
   "cell_type": "code",
   "execution_count": null,
   "id": "2665275a",
   "metadata": {},
   "outputs": [],
   "source": []
  }
 ],
 "metadata": {
  "kernelspec": {
   "display_name": "Python 3 (ipykernel)",
   "language": "python",
   "name": "python3"
  },
  "language_info": {
   "codemirror_mode": {
    "name": "ipython",
    "version": 3
   },
   "file_extension": ".py",
   "mimetype": "text/x-python",
   "name": "python",
   "nbconvert_exporter": "python",
   "pygments_lexer": "ipython3",
   "version": "3.9.6"
  }
 },
 "nbformat": 4,
 "nbformat_minor": 5
}
