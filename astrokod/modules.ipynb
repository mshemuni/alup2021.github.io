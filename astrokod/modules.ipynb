{
 "cells": [
  {
   "cell_type": "markdown",
   "id": "02cfc870",
   "metadata": {},
   "source": [
    "# Python modüller\n",
    "\n",
    "Python yalın haliyle güçlüdür. Falakat varsayılan veya sonradan kurulan kütüphane ve modüller ile daha da güçlü hale getirilebilir.\n",
    "\n",
    "Python'da modlüller ```import``` anahtar kelimesiyle içe aktarılabilir.\n",
    "\n",
    "<hr>\n",
    "\n",
    "```Python```'ın varsayılan modüllerinden olam ```math```'i içe aktaralım. Böylece trigonometik, logaritmik vb fonksiyonlara ulaşmış oluruz."
   ]
  },
  {
   "cell_type": "markdown",
   "id": "8c3181a5",
   "metadata": {},
   "source": [
    "## ```import```\n",
    "\n",
    "Bir modülü/kütüphaneyi/paheti içe aktarır"
   ]
  },
  {
   "cell_type": "code",
   "execution_count": 14,
   "id": "d2e72f44",
   "metadata": {},
   "outputs": [],
   "source": [
    "import math"
   ]
  },
  {
   "cell_type": "markdown",
   "id": "f389a85a",
   "metadata": {},
   "source": [
    "```math``` içe aktarıldı. Artık ```math```'te bulunan herşeye ```namespace``` (```isim alanı```) mantığıyla erişebiliriz."
   ]
  },
  {
   "cell_type": "markdown",
   "id": "05f03512",
   "metadata": {},
   "source": [
    "## ```dir```\n",
    "\n",
    "Python'da varsayılan fonksiyonlardan olan ```dir``` fonksiyonu, bir objeye ait geçerli özellik ve metodların listesini verir.\n",
    "\n",
    "Kısacası, ```math``` modülünde neler var bakmak istersek"
   ]
  },
  {
   "cell_type": "code",
   "execution_count": 15,
   "id": "9f995366",
   "metadata": {
    "scrolled": true
   },
   "outputs": [
    {
     "name": "stdout",
     "output_type": "stream",
     "text": [
      "['__doc__', '__loader__', '__name__', '__package__', '__spec__', 'acos', 'acosh', 'asin', 'asinh', 'atan', 'atan2', 'atanh', 'ceil', 'comb', 'copysign', 'cos', 'cosh', 'degrees', 'dist', 'e', 'erf', 'erfc', 'exp', 'expm1', 'fabs', 'factorial', 'floor', 'fmod', 'frexp', 'fsum', 'gamma', 'gcd', 'hypot', 'inf', 'isclose', 'isfinite', 'isinf', 'isnan', 'isqrt', 'lcm', 'ldexp', 'lgamma', 'log', 'log10', 'log1p', 'log2', 'modf', 'nan', 'nextafter', 'perm', 'pi', 'pow', 'prod', 'radians', 'remainder', 'sin', 'sinh', 'sqrt', 'tan', 'tanh', 'tau', 'trunc', 'ulp']\n"
     ]
    }
   ],
   "source": [
    "import math\n",
    "\n",
    "print(dir(math))"
   ]
  },
  {
   "cell_type": "markdown",
   "id": "d613201d",
   "metadata": {},
   "source": [
    "## ```help```\n",
    "\n",
    "Python'da varsayılan fonksiyonlardan olan ```help``` fonksiyonu, bir objeye ait yardım metnini gösterir. Bu metin, objenin ne yaptığını ve nasıl kullanılması gerektiğini gösterir\n",
    "\n",
    "Kısacası, ```math``` modülünün yardım metnine ulaşmak istersek"
   ]
  },
  {
   "cell_type": "code",
   "execution_count": 16,
   "id": "2c032ac6",
   "metadata": {},
   "outputs": [
    {
     "name": "stdout",
     "output_type": "stream",
     "text": [
      "Help on built-in module math:\n",
      "\n",
      "NAME\n",
      "    math\n",
      "\n",
      "DESCRIPTION\n",
      "    This module provides access to the mathematical functions\n",
      "    defined by the C standard.\n",
      "\n",
      "FUNCTIONS\n",
      "    acos(x, /)\n",
      "        Return the arc cosine (measured in radians) of x.\n",
      "        \n",
      "        The result is between 0 and pi.\n",
      "    \n",
      "    acosh(x, /)\n",
      "        Return the inverse hyperbolic cosine of x.\n",
      "    \n",
      "    asin(x, /)\n",
      "        Return the arc sine (measured in radians) of x.\n",
      "        \n",
      "        The result is between -pi/2 and pi/2.\n",
      "    \n",
      "    asinh(x, /)\n",
      "        Return the inverse hyperbolic sine of x.\n",
      "    \n",
      "    atan(x, /)\n",
      "        Return the arc tangent (measured in radians) of x.\n",
      "        \n",
      "        The result is between -pi/2 and pi/2.\n",
      "    \n",
      "    atan2(y, x, /)\n",
      "        Return the arc tangent (measured in radians) of y/x.\n",
      "        \n",
      "        Unlike atan(y/x), the signs of both x and y are considered.\n",
      "    \n",
      "    atanh(x, /)\n",
      "        Return the inverse hyperbolic tangent of x.\n",
      "    \n",
      "    ceil(x, /)\n",
      "        Return the ceiling of x as an Integral.\n",
      "        \n",
      "        This is the smallest integer >= x.\n",
      "    \n",
      "    comb(n, k, /)\n",
      "        Number of ways to choose k items from n items without repetition and without order.\n",
      "        \n",
      "        Evaluates to n! / (k! * (n - k)!) when k <= n and evaluates\n",
      "        to zero when k > n.\n",
      "        \n",
      "        Also called the binomial coefficient because it is equivalent\n",
      "        to the coefficient of k-th term in polynomial expansion of the\n",
      "        expression (1 + x)**n.\n",
      "        \n",
      "        Raises TypeError if either of the arguments are not integers.\n",
      "        Raises ValueError if either of the arguments are negative.\n",
      "    \n",
      "    copysign(x, y, /)\n",
      "        Return a float with the magnitude (absolute value) of x but the sign of y.\n",
      "        \n",
      "        On platforms that support signed zeros, copysign(1.0, -0.0)\n",
      "        returns -1.0.\n",
      "    \n",
      "    cos(x, /)\n",
      "        Return the cosine of x (measured in radians).\n",
      "    \n",
      "    cosh(x, /)\n",
      "        Return the hyperbolic cosine of x.\n",
      "    \n",
      "    degrees(x, /)\n",
      "        Convert angle x from radians to degrees.\n",
      "    \n",
      "    dist(p, q, /)\n",
      "        Return the Euclidean distance between two points p and q.\n",
      "        \n",
      "        The points should be specified as sequences (or iterables) of\n",
      "        coordinates.  Both inputs must have the same dimension.\n",
      "        \n",
      "        Roughly equivalent to:\n",
      "            sqrt(sum((px - qx) ** 2.0 for px, qx in zip(p, q)))\n",
      "    \n",
      "    erf(x, /)\n",
      "        Error function at x.\n",
      "    \n",
      "    erfc(x, /)\n",
      "        Complementary error function at x.\n",
      "    \n",
      "    exp(x, /)\n",
      "        Return e raised to the power of x.\n",
      "    \n",
      "    expm1(x, /)\n",
      "        Return exp(x)-1.\n",
      "        \n",
      "        This function avoids the loss of precision involved in the direct evaluation of exp(x)-1 for small x.\n",
      "    \n",
      "    fabs(x, /)\n",
      "        Return the absolute value of the float x.\n",
      "    \n",
      "    factorial(x, /)\n",
      "        Find x!.\n",
      "        \n",
      "        Raise a ValueError if x is negative or non-integral.\n",
      "    \n",
      "    floor(x, /)\n",
      "        Return the floor of x as an Integral.\n",
      "        \n",
      "        This is the largest integer <= x.\n",
      "    \n",
      "    fmod(x, y, /)\n",
      "        Return fmod(x, y), according to platform C.\n",
      "        \n",
      "        x % y may differ.\n",
      "    \n",
      "    frexp(x, /)\n",
      "        Return the mantissa and exponent of x, as pair (m, e).\n",
      "        \n",
      "        m is a float and e is an int, such that x = m * 2.**e.\n",
      "        If x is 0, m and e are both 0.  Else 0.5 <= abs(m) < 1.0.\n",
      "    \n",
      "    fsum(seq, /)\n",
      "        Return an accurate floating point sum of values in the iterable seq.\n",
      "        \n",
      "        Assumes IEEE-754 floating point arithmetic.\n",
      "    \n",
      "    gamma(x, /)\n",
      "        Gamma function at x.\n",
      "    \n",
      "    gcd(*integers)\n",
      "        Greatest Common Divisor.\n",
      "    \n",
      "    hypot(...)\n",
      "        hypot(*coordinates) -> value\n",
      "        \n",
      "        Multidimensional Euclidean distance from the origin to a point.\n",
      "        \n",
      "        Roughly equivalent to:\n",
      "            sqrt(sum(x**2 for x in coordinates))\n",
      "        \n",
      "        For a two dimensional point (x, y), gives the hypotenuse\n",
      "        using the Pythagorean theorem:  sqrt(x*x + y*y).\n",
      "        \n",
      "        For example, the hypotenuse of a 3/4/5 right triangle is:\n",
      "        \n",
      "            >>> hypot(3.0, 4.0)\n",
      "            5.0\n",
      "    \n",
      "    isclose(a, b, *, rel_tol=1e-09, abs_tol=0.0)\n",
      "        Determine whether two floating point numbers are close in value.\n",
      "        \n",
      "          rel_tol\n",
      "            maximum difference for being considered \"close\", relative to the\n",
      "            magnitude of the input values\n",
      "          abs_tol\n",
      "            maximum difference for being considered \"close\", regardless of the\n",
      "            magnitude of the input values\n",
      "        \n",
      "        Return True if a is close in value to b, and False otherwise.\n",
      "        \n",
      "        For the values to be considered close, the difference between them\n",
      "        must be smaller than at least one of the tolerances.\n",
      "        \n",
      "        -inf, inf and NaN behave similarly to the IEEE 754 Standard.  That\n",
      "        is, NaN is not close to anything, even itself.  inf and -inf are\n",
      "        only close to themselves.\n",
      "    \n",
      "    isfinite(x, /)\n",
      "        Return True if x is neither an infinity nor a NaN, and False otherwise.\n",
      "    \n",
      "    isinf(x, /)\n",
      "        Return True if x is a positive or negative infinity, and False otherwise.\n",
      "    \n",
      "    isnan(x, /)\n",
      "        Return True if x is a NaN (not a number), and False otherwise.\n",
      "    \n",
      "    isqrt(n, /)\n",
      "        Return the integer part of the square root of the input.\n",
      "    \n",
      "    lcm(*integers)\n",
      "        Least Common Multiple.\n",
      "    \n",
      "    ldexp(x, i, /)\n",
      "        Return x * (2**i).\n",
      "        \n",
      "        This is essentially the inverse of frexp().\n",
      "    \n",
      "    lgamma(x, /)\n",
      "        Natural logarithm of absolute value of Gamma function at x.\n",
      "    \n",
      "    log(...)\n",
      "        log(x, [base=math.e])\n",
      "        Return the logarithm of x to the given base.\n",
      "        \n",
      "        If the base not specified, returns the natural logarithm (base e) of x.\n",
      "    \n",
      "    log10(x, /)\n",
      "        Return the base 10 logarithm of x.\n",
      "    \n",
      "    log1p(x, /)\n",
      "        Return the natural logarithm of 1+x (base e).\n",
      "        \n",
      "        The result is computed in a way which is accurate for x near zero.\n",
      "    \n",
      "    log2(x, /)\n",
      "        Return the base 2 logarithm of x.\n",
      "    \n",
      "    modf(x, /)\n",
      "        Return the fractional and integer parts of x.\n",
      "        \n",
      "        Both results carry the sign of x and are floats.\n",
      "    \n",
      "    nextafter(x, y, /)\n",
      "        Return the next floating-point value after x towards y.\n",
      "    \n",
      "    perm(n, k=None, /)\n",
      "        Number of ways to choose k items from n items without repetition and with order.\n",
      "        \n",
      "        Evaluates to n! / (n - k)! when k <= n and evaluates\n",
      "        to zero when k > n.\n",
      "        \n",
      "        If k is not specified or is None, then k defaults to n\n",
      "        and the function returns n!.\n",
      "        \n",
      "        Raises TypeError if either of the arguments are not integers.\n",
      "        Raises ValueError if either of the arguments are negative.\n",
      "    \n",
      "    pow(x, y, /)\n",
      "        Return x**y (x to the power of y).\n",
      "    \n",
      "    prod(iterable, /, *, start=1)\n",
      "        Calculate the product of all the elements in the input iterable.\n",
      "        \n",
      "        The default start value for the product is 1.\n",
      "        \n",
      "        When the iterable is empty, return the start value.  This function is\n",
      "        intended specifically for use with numeric values and may reject\n",
      "        non-numeric types.\n",
      "    \n",
      "    radians(x, /)\n",
      "        Convert angle x from degrees to radians.\n",
      "    \n",
      "    remainder(x, y, /)\n",
      "        Difference between x and the closest integer multiple of y.\n",
      "        \n",
      "        Return x - n*y where n*y is the closest integer multiple of y.\n",
      "        In the case where x is exactly halfway between two multiples of\n",
      "        y, the nearest even value of n is used. The result is always exact.\n",
      "    \n",
      "    sin(x, /)\n",
      "        Return the sine of x (measured in radians).\n",
      "    \n",
      "    sinh(x, /)\n",
      "        Return the hyperbolic sine of x.\n",
      "    \n",
      "    sqrt(x, /)\n",
      "        Return the square root of x.\n",
      "    \n",
      "    tan(x, /)\n",
      "        Return the tangent of x (measured in radians).\n",
      "    \n",
      "    tanh(x, /)\n",
      "        Return the hyperbolic tangent of x.\n",
      "    \n",
      "    trunc(x, /)\n",
      "        Truncates the Real x to the nearest Integral toward 0.\n",
      "        \n",
      "        Uses the __trunc__ magic method.\n",
      "    \n",
      "    ulp(x, /)\n",
      "        Return the value of the least significant bit of the float x.\n",
      "\n",
      "DATA\n",
      "    e = 2.718281828459045\n",
      "    inf = inf\n",
      "    nan = nan\n",
      "    pi = 3.141592653589793\n",
      "    tau = 6.283185307179586\n",
      "\n",
      "FILE\n",
      "    (built-in)\n",
      "\n",
      "\n"
     ]
    }
   ],
   "source": [
    "import math\n",
    "\n",
    "help(math)"
   ]
  },
  {
   "cell_type": "markdown",
   "id": "16903929",
   "metadata": {},
   "source": [
    "## namespace\n",
    "\n",
    "Aynı amaca hizmet eden özellikleri, sınıfları ve fonksiyonları bir çatı altında toplarken, bu çatıya verdiğimiz isime ```namespace``` (```isim alanı```) denir.\n",
    "\n",
    "Math modülünde bulunan metodları çalıştırmak için ```math.metod_adı``` şeklinde ulaşacağız.\n",
    "\n",
    "<hr>\n",
    "\n",
    "Örnek\n",
    "\n",
    "```math``` kullanarak bir açının kosinüsünü hesaplayınız"
   ]
  },
  {
   "cell_type": "markdown",
   "id": "80d1456d",
   "metadata": {},
   "source": [
    "Bunun için öncelikle, ```math```'i içe aktaracağız.\n",
    "\n",
    "Daha sonra ```math.cos``` metodunu çalıştıracağız. Fakat ```math.cos``` nasıl çalışıyor bilmemiz gerekiyor.\n",
    "\n",
    "Bunun için ise varsayılan fonksiyon olan ```help```'ten yardım alacağız"
   ]
  },
  {
   "cell_type": "code",
   "execution_count": 17,
   "id": "2e27cddc",
   "metadata": {},
   "outputs": [
    {
     "name": "stdout",
     "output_type": "stream",
     "text": [
      "Help on built-in function cos in module math:\n",
      "\n",
      "cos(x, /)\n",
      "    Return the cosine of x (measured in radians).\n",
      "\n"
     ]
    }
   ],
   "source": [
    "import math\n",
    "\n",
    "help(math.cos)"
   ]
  },
  {
   "cell_type": "markdown",
   "id": "9ac89c53",
   "metadata": {},
   "source": [
    ":::{warning}\n",
    "\n",
    "```math.cos``` metodu bir zorunlu değer alır. Bu değer kosinüsü hesaplanmak istenen açıdır.\n",
    "\n",
    "Fakat açının radian cinsinden verilmesi gerektiğini de unutmamalıyız\n",
    "\n",
    ":::\n",
    "\n",
    "Yay derecesi radian dönüşümünü\n",
    "\n",
    "$$\n",
    "R = Y \\frac{\\pi}{180}\n",
    "$$\n",
    "\n",
    ":::{note}\n",
    "$R$ radian cinsinden açı, $Y$ yay derecesi cinsinden açı olmak üzere\n",
    ":::\n",
    "\n",
    "olarak hesaplanabilir.\n",
    "\n",
    "Fakat ```math```'in bir de ```radians``` metodu varmış. Hemen yardım alalım:"
   ]
  },
  {
   "cell_type": "code",
   "execution_count": 18,
   "id": "18db6cf4",
   "metadata": {},
   "outputs": [
    {
     "name": "stdout",
     "output_type": "stream",
     "text": [
      "Help on built-in function radians in module math:\n",
      "\n",
      "radians(x, /)\n",
      "    Convert angle x from degrees to radians.\n",
      "\n"
     ]
    }
   ],
   "source": [
    "import math\n",
    "\n",
    "help(math.radians)"
   ]
  },
  {
   "cell_type": "markdown",
   "id": "43aa63d3",
   "metadata": {},
   "source": [
    "E güzelmiş. Açıyı radiana çevirmek için ```math```'i kullanabiliriz.\n",
    "\n",
    "Haydi başlayalım"
   ]
  },
  {
   "cell_type": "code",
   "execution_count": 19,
   "id": "e4d72f34",
   "metadata": {},
   "outputs": [
    {
     "name": "stdout",
     "output_type": "stream",
     "text": [
      "0.7071067811865476\n"
     ]
    }
   ],
   "source": [
    "import math\n",
    "\n",
    "aci = 45\n",
    "aci_r = math.radians(aci)\n",
    "print(math.cos(aci_r))"
   ]
  },
  {
   "cell_type": "markdown",
   "id": "53248a4f",
   "metadata": {},
   "source": [
    "## ```as```\n",
    "\n",
    "Varsayalım ki çalıştığımız betikte ```math``` adında bir obje bulunuyor (değişken veya fonksiyon). Aynı zamanda ```math``` modülünü içe aktarmak istersek, ```math```'i farklı bir adla içe aktarmamız gerekecek.\n",
    "\n",
    "Bunun için ```as``` anahtar kelimesi kullanılır.\n",
    "\n",
    "<hr>\n",
    "\n",
    "Örnek\n",
    "\n",
    "```math``` modülünü ```m``` olarak içe aktaralım"
   ]
  },
  {
   "cell_type": "code",
   "execution_count": 20,
   "id": "4970d5bc",
   "metadata": {},
   "outputs": [
    {
     "name": "stdout",
     "output_type": "stream",
     "text": [
      "0.7071067811865476\n"
     ]
    }
   ],
   "source": [
    "import math as m\n",
    "\n",
    "aci = 45\n",
    "aci_r = m.radians(aci)\n",
    "print(m.cos(aci_r))"
   ]
  },
  {
   "cell_type": "markdown",
   "id": "fb84af41",
   "metadata": {},
   "source": [
    "## ```from```\n",
    "\n",
    "Bazen ise bütün modüle değilde içinden belirli objelere ihtiyacımız olur. Bu durumda ```from``` anahtar kelimesi kullanılır.\n",
    "\n",
    "<hr>\n",
    "\n",
    "Örnek\n",
    "\n",
    "```math``` modülünden ```cos``` ve ```radians```'i içe aktarıp, bir açının kosinüsünü hesaplayalım"
   ]
  },
  {
   "cell_type": "code",
   "execution_count": 21,
   "id": "debb9067",
   "metadata": {},
   "outputs": [
    {
     "name": "stdout",
     "output_type": "stream",
     "text": [
      "0.7071067811865476\n"
     ]
    }
   ],
   "source": [
    "from math import cos, radians\n",
    "\n",
    "aci = 45\n",
    "aci_r = radians(aci)\n",
    "print(cos(aci_r))"
   ]
  },
  {
   "cell_type": "markdown",
   "id": "689e3cea",
   "metadata": {},
   "source": [
    ":::{warning}\n",
    "\n",
    "```from``` kullanarak içe aktardığımız objelerin ```namespace```'i ```math``` olmaktan çıkar ve direkt olarak çağırılabilecektir.\n",
    "\n",
    "Özellikle istenmediği sürece bir modülden bir objeyi ```from``` kullanarak içe aktarmak hiç mantıklı bir davranış değişdir.\n",
    "\n",
    "1. İçe aktarılan objenin objenin hangi kütüphane/modül'e ait olduğu bilgisini kaybedersiniz.\n",
    "2. Var olan bir objeyi geçersiz kılabilirsiniz (```override```). Bu durum çok tehlikelidir. Örneğin ```Python```'da varsayılan gelen ```pow``` fonksiyonu bulunmakta. Üssel işlem yapar. ```math``` modülünün de ```pow``` diye bir objesi var. O da üssel işelm yapar. Peki ```math```'ten ```pow```'u içe aktarırsanız ne olur? Varsayılan ```pow``` geçersiz kılınır. \n",
    "\n",
    ":::"
   ]
  },
  {
   "cell_type": "markdown",
   "id": "e9b132b0",
   "metadata": {},
   "source": [
    "```from``` ve ```as``` birlikte kullanılabilir.\n",
    "\n",
    "<hr>\n",
    "\n",
    "örnek\n",
    "\n",
    "```math``` modülünden, ```cos``` objesini ```kosinus``` olarak ve ```radians``` objesini ```deg_den_rad_a``` olarak içe aktarıp bir açının kosinüsünü hesaplayınız"
   ]
  },
  {
   "cell_type": "code",
   "execution_count": 28,
   "id": "ecd666ca",
   "metadata": {},
   "outputs": [
    {
     "name": "stdout",
     "output_type": "stream",
     "text": [
      "0.7071067811865476\n"
     ]
    }
   ],
   "source": [
    "from math import cos as kosinus\n",
    "from math import radians as deg_den_rad_a\n",
    "\n",
    "aci = 45\n",
    "aci_r = deg_den_rad_a(aci)\n",
    "print(kosinus(aci_r))"
   ]
  },
  {
   "cell_type": "markdown",
   "id": "2cdaf733",
   "metadata": {},
   "source": [
    "## ```*``` joker karakteri\n",
    "\n",
    "Bir modülün içindeki bütün objeleri ```*``` ile içe aktarabilirsiniz."
   ]
  },
  {
   "cell_type": "code",
   "execution_count": 29,
   "id": "7250dedd",
   "metadata": {},
   "outputs": [
    {
     "name": "stdout",
     "output_type": "stream",
     "text": [
      "0.7071067811865476\n"
     ]
    }
   ],
   "source": [
    "from math import *\n",
    "\n",
    "aci = 45\n",
    "aci_r = radians(aci)\n",
    "print(cos(aci_r))"
   ]
  },
  {
   "cell_type": "markdown",
   "id": "5b1c7a49",
   "metadata": {},
   "source": [
    ":::{warning}\n",
    "\n",
    "Bu çeşit içe aktarmadan ölümüne kaçının.\n",
    "\n",
    "Bir modülün içindeki herşey ```namespace``` olmaksızın içe aktarmak, bilemeyeceğimiz sayıda ```override```'a neden olabilir. Ayrıca nereden geldiğini bilmediğimiz, bilemediğimiz sayıda obje içe aktarılmış olur.\n",
    "\n",
    ":::\n",
    "\n",
    "```{image} ../images/big_no_no.gif\n",
    ":class: bg-primary mb-1\n",
    ":width: 400px\n",
    ":align: center\n",
    "```"
   ]
  },
  {
   "cell_type": "code",
   "execution_count": null,
   "id": "53e7234d",
   "metadata": {},
   "outputs": [],
   "source": []
  }
 ],
 "metadata": {
  "kernelspec": {
   "display_name": "Python 3 (ipykernel)",
   "language": "python",
   "name": "python3"
  },
  "language_info": {
   "codemirror_mode": {
    "name": "ipython",
    "version": 3
   },
   "file_extension": ".py",
   "mimetype": "text/x-python",
   "name": "python",
   "nbconvert_exporter": "python",
   "pygments_lexer": "ipython3",
   "version": "3.9.6"
  }
 },
 "nbformat": 4,
 "nbformat_minor": 5
}
