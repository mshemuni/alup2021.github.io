{
 "cells": [
  {
   "cell_type": "markdown",
   "id": "9166e288",
   "metadata": {},
   "source": [
    "# Sınıf Örnek\n",
    "\n",
    "Sınıfları daha iyi anlamak için bir örnek yapalım.\n",
    "\n",
    "```{image} ../images/codding.gif\n",
    ":class: bg-primary mb-1\n",
    ":width: 400px\n",
    ":align: center\n",
    "```\n",
    "\n",
    "<hr>\n",
    "\n",
    "Problem:\n",
    "\n",
    "```Açı``` işlemleri yapabilen bir Sınıf oluşturalım.\n",
    "\n",
    "Ne yapmak isteriz:\n",
    "\n",
    "- Açıyı ifade eden bir değer taşımalı\n",
    "- Farklı açı biimlerine dönüşüm yapabilmeli:\n",
    "    - Radian\n",
    "    - Gradian\n",
    "    - Saat Açısı\n",
    "- İki açı nesnesi, kendi aralarında ve nümerik verilerle, aritmeik işlemler yapabilmeli\n",
    "- İki açı nesnesi, kendi aralarında mantıksal işlemler yapabilmeli\n",
    "\n",
    "```class``` anahtar kelimesiyle sınıfı oluşturalım:"
   ]
  },
  {
   "cell_type": "code",
   "execution_count": 2,
   "id": "050d164d",
   "metadata": {},
   "outputs": [],
   "source": [
    "class Angle:\n",
    "    pass"
   ]
  },
  {
   "cell_type": "markdown",
   "id": "7989730d",
   "metadata": {},
   "source": [
    "Şimdi ise bu ```angle``` nesnesi, bir ```constructor``` metod ile bizden açı bilgisini ```derece``` cinsinden alsın."
   ]
  },
  {
   "cell_type": "code",
   "execution_count": 3,
   "id": "e3d879cf",
   "metadata": {},
   "outputs": [],
   "source": [
    "class Angle:\n",
    "    def __init__(self, angle):\n",
    "        self.angle = angle"
   ]
  },
  {
   "cell_type": "markdown",
   "id": "9acbe871",
   "metadata": {},
   "source": [
    "Bu sınıf artık kullanıcıdan bir açı değer alır ve ```self.angle```'da tutar.\n",
    "\n",
    "<hr>\n",
    "\n",
    "Örnek ile gösterelim:\n",
    "\n",
    "```Angle``` sınıfından, ```ang``` adlı bir nesne oluşturup, açı değerini gösterelim"
   ]
  },
  {
   "cell_type": "code",
   "execution_count": 4,
   "id": "351b3132",
   "metadata": {},
   "outputs": [
    {
     "data": {
      "text/plain": [
       "20"
      ]
     },
     "execution_count": 4,
     "metadata": {},
     "output_type": "execute_result"
    }
   ],
   "source": [
    "class Angle:\n",
    "    def __init__(self, angle):\n",
    "        self.angle = angle\n",
    "        \n",
    "ang = Angle(20)\n",
    "ang.angle"
   ]
  },
  {
   "cell_type": "markdown",
   "id": "22e010af",
   "metadata": {},
   "source": [
    "Peki ```ang```'yi göstersek ne görürüz?"
   ]
  },
  {
   "cell_type": "code",
   "execution_count": 6,
   "id": "35e5309b",
   "metadata": {},
   "outputs": [
    {
     "data": {
      "text/plain": [
       "<__main__.Angle at 0x7f0098702b80>"
      ]
     },
     "execution_count": 6,
     "metadata": {},
     "output_type": "execute_result"
    }
   ],
   "source": [
    "class Angle:\n",
    "    def __init__(self, angle):\n",
    "        self.angle = angle\n",
    "        \n",
    "ang = Angle(20)\n",
    "\n",
    "ang"
   ]
  },
  {
   "cell_type": "markdown",
   "id": "e43c4b83",
   "metadata": {},
   "source": [
    "```ang```'nin ```__main__```'den bir ```Angle``` objesi olduğunu söylüyor.\n",
    "\n",
    "Bence bu güzel değil. Ben nesineyi gösterdiğimde veya ```print``` ile ekrana yazdırdığımda açı değeri yazılsın isterdim.\n",
    "\n",
    "Bunu için ```special method```'lara başvuracağız.\n",
    "\n",
    "```__init__```'in bir ```special method``` olduğunu söylemiştirk zaten.\n",
    "\n",
    "Şimdi ise ```special method```'lardan ```__str__``` ve ```__repr__```'e bakalım.\n",
    "\n",
    "\n",
    "```__str__```, bir nesneyi ```string```\n",
    "'e çevirdiğimizde çalışan metoddur ve bir ```str``` döndürmeli.\n",
    "```__repr__``` ise (represent) nesne gösterildiğinde çalışacak bir metoddur ve bir ```str``` döndürmeli."
   ]
  },
  {
   "cell_type": "code",
   "execution_count": 9,
   "id": "54010eb1",
   "metadata": {},
   "outputs": [
    {
     "name": "stdout",
     "output_type": "stream",
     "text": [
      "20\n"
     ]
    },
    {
     "data": {
      "text/plain": [
       "20"
      ]
     },
     "execution_count": 9,
     "metadata": {},
     "output_type": "execute_result"
    }
   ],
   "source": [
    "class Angle:\n",
    "    def __init__(self, angle):\n",
    "        self.angle = angle\n",
    "        \n",
    "    def __str__(self):\n",
    "        return str(self.angle)\n",
    "    \n",
    "    def __repr__(self):\n",
    "        return str(self.angle)\n",
    "\n",
    "ang = Angle(20)\n",
    "print(ang)\n",
    "ang"
   ]
  },
  {
   "cell_type": "markdown",
   "id": "21b60f58",
   "metadata": {},
   "source": [
    "Artık ```Angle```'dan oluşturduğumuz nesneleri ekrana yazdığımızda veya gösterdiğimizde açının değerini görürüz.\n",
    "\n",
    "## Dönüşümler\n",
    "\n",
    "Şimdi ise farklı açı birimlerine dönüşüm yapmak isteriz.\n",
    "\n",
    "Bunun için yeni metodlar yazacağız.\n",
    "\n",
    "- Radian'a çevirmek için ```radians```\n",
    "- Gradian'a çevirmek için ```gradians```\n",
    "- Saat açısına çevirmek için ise ```hours``` metodlarını kullanacağız"
   ]
  },
  {
   "cell_type": "markdown",
   "id": "958300d0",
   "metadata": {},
   "source": [
    "### Radian'a dönüşüm\n",
    "\n",
    "Radians'a dönüşüm\n",
    "\n",
    "$$\n",
    "R = Y \\frac{\\pi}{180}\n",
    "$$\n",
    "\n",
    ":::{note}\n",
    "$R$ açının radian değeri ve $Y$ açının yay derecesi değeri olmak üzere\n",
    ":::\n",
    "\n",
    "şeklinde hesaplanır.\n",
    "\n",
    ":::{note}\n",
    "$\\pi$ değerini ```math``` modülünden alacağız\n",
    ":::"
   ]
  },
  {
   "cell_type": "code",
   "execution_count": 15,
   "id": "c1e9eb5a",
   "metadata": {},
   "outputs": [
    {
     "name": "stdout",
     "output_type": "stream",
     "text": [
      "0.3490658503988659\n"
     ]
    }
   ],
   "source": [
    "from math import pi\n",
    "\n",
    "\n",
    "class Angle:\n",
    "    def __init__(self, angle):\n",
    "        self.angle = angle\n",
    "        \n",
    "    def __str__(self):\n",
    "        return str(self.angle)\n",
    "    \n",
    "    def __repr__(self):\n",
    "        return str(self.angle)\n",
    "    \n",
    "    def radians(self):\n",
    "        return self.angle * pi / 180\n",
    "\n",
    "ang = Angle(20)\n",
    "print(ang.radians())"
   ]
  },
  {
   "cell_type": "markdown",
   "id": "c9575064",
   "metadata": {},
   "source": [
    "### Gradian'a dönüşüm\n",
    "\n",
    "360, derece 400 gradian'dır. Böylece Gradian'a dönüşüm\n",
    "\n",
    "\n",
    "$$\n",
    "G = Y \\frac{10}{9}\n",
    "$$\n",
    "\n",
    ":::{note}\n",
    "$G$ açının gradian değeri ve $Y$ açının yay derecesi değeri olmak üzere\n",
    ":::\n",
    "\n",
    "şeklinde hesaplanı\n"
   ]
  },
  {
   "cell_type": "code",
   "execution_count": 18,
   "id": "de79276b",
   "metadata": {},
   "outputs": [
    {
     "name": "stdout",
     "output_type": "stream",
     "text": [
      "22.22222222222222\n"
     ]
    }
   ],
   "source": [
    "from math import pi\n",
    "\n",
    "\n",
    "class Angle:\n",
    "    def __init__(self, angle):\n",
    "        self.angle = angle\n",
    "        \n",
    "    def __str__(self):\n",
    "        return str(self.angle)\n",
    "    \n",
    "    def __repr__(self):\n",
    "        return str(self.angle)\n",
    "    \n",
    "    def radians(self):\n",
    "        return self.angle * pi / 180\n",
    "    \n",
    "    def gradians(self):\n",
    "        return self.angle * 10 / 9\n",
    "\n",
    "ang = Angle(20)\n",
    "print(ang.gradians())"
   ]
  },
  {
   "cell_type": "markdown",
   "id": "74bd9356",
   "metadata": {},
   "source": [
    "### Saat açısına dönüşüm\n",
    "\n",
    "360, derece 24 saat'tir. Böylece saat açısına'a dönüşüm\n",
    "\n",
    "\n",
    "$$\n",
    "S = Y \\frac{1}{15}\n",
    "$$\n",
    "\n",
    ":::{note}\n",
    "$S$ açının saat açısı değeri ve $Y$ açının yay derecesi değeri olmak üzere\n",
    ":::\n",
    "\n",
    "şeklinde hesaplanı\n"
   ]
  },
  {
   "cell_type": "code",
   "execution_count": 21,
   "id": "7a4d8bf6",
   "metadata": {},
   "outputs": [
    {
     "name": "stdout",
     "output_type": "stream",
     "text": [
      "1.3333333333333333\n"
     ]
    }
   ],
   "source": [
    "from math import pi\n",
    "\n",
    "\n",
    "class Angle:\n",
    "    def __init__(self, angle):\n",
    "        self.angle = angle\n",
    "        \n",
    "    def __str__(self):\n",
    "        return str(self.angle)\n",
    "    \n",
    "    def __repr__(self):\n",
    "        return str(self.angle)\n",
    "    \n",
    "    def radians(self):\n",
    "        return self.angle * pi / 180\n",
    "    \n",
    "    def gradians(self):\n",
    "        return self.angle * 10 / 9\n",
    "    \n",
    "    def hours(self):\n",
    "        return self.angle / 15\n",
    "\n",
    "ang = Angle(20)\n",
    "print(ang.hours())"
   ]
  },
  {
   "cell_type": "markdown",
   "id": "83a67dbd",
   "metadata": {},
   "source": [
    "## Aritmetik işlemleri\n",
    "\n",
    "### Toplama işlemi\n",
    "\n",
    "Dışarıdan (diğer) bir açı nesnesi alıp, kendi ve diğer nesnenin değerlerinin toplamını yeni bir açı ensnesi olarak döndüren bir metod yazacağız:\n",
    "\n",
    ":::{note}\n",
    "Dışarıdan gelecek olan bilginin türünün ```Angle``` olması gerekiyor. Dolayısıyla bunu ```isinstance``` fonksiyonu ile denetleyeceğiz.\n",
    "\n",
    "```isinstance``` verilen bir değişkenin tipini kontrol eder.\n",
    "\n",
    ":::"
   ]
  },
  {
   "cell_type": "code",
   "execution_count": 12,
   "id": "c0626028",
   "metadata": {},
   "outputs": [
    {
     "data": {
      "text/plain": [
       "True"
      ]
     },
     "execution_count": 12,
     "metadata": {},
     "output_type": "execute_result"
    }
   ],
   "source": [
    "isinstance(1, int)"
   ]
  },
  {
   "cell_type": "markdown",
   "id": "eac44ed1",
   "metadata": {},
   "source": [
    ":::{note}\n",
    "Eğer gelen verinin tipi bir ```Angle``` değilse hata vermek isteriz. Bunun için ```raise``` anahtar kelimesini kullanacağız. ```raise``` hata verir, hatanın ise farklı türleri vardır. Burada ise ```ValueError``` (değer) hatasi vereceği.\n",
    ":::"
   ]
  },
  {
   "cell_type": "code",
   "execution_count": 13,
   "id": "ef287430",
   "metadata": {},
   "outputs": [
    {
     "name": "stdout",
     "output_type": "stream",
     "text": [
      "20\n",
      "25\n",
      "45\n"
     ]
    }
   ],
   "source": [
    "from math import pi\n",
    "\n",
    "\n",
    "class Angle:\n",
    "    def __init__(self, angle):\n",
    "        self.angle = angle\n",
    "        \n",
    "    def __str__(self):\n",
    "        return str(self.angle)\n",
    "    \n",
    "    def __repr__(self):\n",
    "        return str(self.angle)\n",
    "    \n",
    "    def radians(self):\n",
    "        return self.angle * pi / 180\n",
    "    \n",
    "    def gradians(self):\n",
    "        return self.angle * 10 / 9\n",
    "    \n",
    "    def hours(self):\n",
    "        return self.angle / 15\n",
    "    \n",
    "    def add(self, other):\n",
    "        if not isinstance(other, Angle):\n",
    "            raise ValueError(\"Other must be an Angle\")\n",
    "        return Angle(self.angle + other.angle)\n",
    "\n",
    "ang1 = Angle(20)\n",
    "ang2 = Angle(25)\n",
    "\n",
    "print(ang1)\n",
    "print(ang2)\n",
    "print(ang1.add(ang2))"
   ]
  },
  {
   "cell_type": "markdown",
   "id": "54d8128c",
   "metadata": {},
   "source": [
    "### Çıkarma işlemi\n",
    "\n",
    "Dışarıdan (diğer) bir açı nesnesi alıp, kendi ve diğer nesnenin değerleri arasındaki farklı yeni bir açı ensnesi olarak döndüren bir metod yazacağız:"
   ]
  },
  {
   "cell_type": "code",
   "execution_count": 25,
   "id": "4b4cc3e7",
   "metadata": {},
   "outputs": [
    {
     "name": "stdout",
     "output_type": "stream",
     "text": [
      "20\n",
      "25\n",
      "-5\n"
     ]
    }
   ],
   "source": [
    "from math import pi\n",
    "\n",
    "\n",
    "class Angle:\n",
    "    def __init__(self, angle):\n",
    "        self.angle = angle\n",
    "        \n",
    "    def __str__(self):\n",
    "        return str(self.angle)\n",
    "    \n",
    "    def __repr__(self):\n",
    "        return str(self.angle)\n",
    "    \n",
    "    def radians(self):\n",
    "        return self.angle * pi / 180\n",
    "    \n",
    "    def gradians(self):\n",
    "        return self.angle * 10 / 9\n",
    "    \n",
    "    def hours(self):\n",
    "        return self.angle / 15\n",
    "    \n",
    "    def add(self, other):\n",
    "        if not isinstance(other, Angle):\n",
    "            raise ValueError(\"Other must be an Angle\")\n",
    "        return Angle(self.angle + other.angle)\n",
    "    \n",
    "    def subtract(self, other):\n",
    "        if not isinstance(other, Angle):\n",
    "            raise ValueError(\"Other must be an Angle\")\n",
    "        return Angle(self.angle - other.angle)\n",
    "\n",
    "    def subtract(self, other):\n",
    "        return Angle(self.angle - other.angle)\n",
    "        \n",
    "ang1 = Angle(20)\n",
    "ang2 = Angle(25)\n",
    "\n",
    "print(ang1)\n",
    "print(ang2)\n",
    "print(ang1.subtract(ang2))"
   ]
  },
  {
   "cell_type": "markdown",
   "id": "ee0cf02c",
   "metadata": {},
   "source": [
    "### Çarpma işlemi\n",
    "\n",
    "Dışarıdan (diğer) bir nümerik değer (``float`` veya ``int``) alıp, kendi ve diğer sayı değerlerini çarpıp yeni bir açı ensnesi olarak döndüren bir metod yazacağız:\n",
    "\n",
    ":::{note}\n",
    "Dışarıdan gelecek olan bilginin türünün ```float``` veya ```int``` olması gerekiyor. Dolayısıyla bunu ```isinstance``` fonksiyonu ile denetleyeceğiz.\n",
    ":::"
   ]
  },
  {
   "cell_type": "code",
   "execution_count": 24,
   "id": "fa7a57e2",
   "metadata": {},
   "outputs": [
    {
     "name": "stdout",
     "output_type": "stream",
     "text": [
      "20\n",
      "40\n"
     ]
    }
   ],
   "source": [
    "from math import pi\n",
    "\n",
    "\n",
    "class Angle:\n",
    "    def __init__(self, angle):\n",
    "        self.angle = angle\n",
    "        \n",
    "    def __str__(self):\n",
    "        return str(self.angle)\n",
    "    \n",
    "    def __repr__(self):\n",
    "        return str(self.angle)\n",
    "    \n",
    "    def radians(self):\n",
    "        return self.angle * pi / 180\n",
    "    \n",
    "    def gradians(self):\n",
    "        return self.angle * 10 / 9\n",
    "    \n",
    "    def hours(self):\n",
    "        return self.angle / 15\n",
    "    \n",
    "    def add(self, other):\n",
    "        if not isinstance(other, Angle):\n",
    "            raise ValueError(\"Other must be an Angle\")\n",
    "        return Angle(self.angle + other.angle)\n",
    "    \n",
    "    def subtract(self, other):\n",
    "        if not isinstance(other, Angle):\n",
    "            raise ValueError(\"Other must be an Angle\")\n",
    "        return Angle(self.angle - other.angle)\n",
    "    \n",
    "    def multiply(self, other):\n",
    "        if not isinstance(other, (int, float)):\n",
    "            raise ValueError(\"Other must be a numeric value\")\n",
    "            \n",
    "        return Angle(self.angle * other)\n",
    "        \n",
    "ang1 = Angle(20)\n",
    "\n",
    "print(ang1)\n",
    "print(ang1.multiply(2))"
   ]
  },
  {
   "cell_type": "markdown",
   "id": "f4817d8a",
   "metadata": {},
   "source": [
    "### Bölme işlemi\n",
    "\n",
    "Dışarıdan (diğer) bir nümerik değer (``float`` veya ``int``) alıp, kendi ve diğer sayı değerlerini bölüp yeni bir açı ensnesi olarak döndüren bir metod yazacağız:\n",
    "\n",
    ":::{note}\n",
    "Dışarıdan gelecek olan bilginin türünün ```float``` veya ```int``` olması gerekiyor. Dolayısıyla bunu ```isinstance``` fonksiyonu ile denetleyeceğiz.\n",
    ":::"
   ]
  },
  {
   "cell_type": "code",
   "execution_count": 26,
   "id": "ffd75fe3",
   "metadata": {},
   "outputs": [
    {
     "name": "stdout",
     "output_type": "stream",
     "text": [
      "20\n",
      "10.0\n"
     ]
    }
   ],
   "source": [
    "from math import pi\n",
    "\n",
    "class Angle:\n",
    "    def __init__(self, angle):\n",
    "        self.angle = angle\n",
    "        \n",
    "    def __str__(self):\n",
    "        return str(self.angle)\n",
    "    \n",
    "    def __repr__(self):\n",
    "        return str(self.angle)\n",
    "    \n",
    "    def radians(self):\n",
    "        return self.angle * pi / 180\n",
    "    \n",
    "    def gradians(self):\n",
    "        return self.angle * 10 / 9\n",
    "    \n",
    "    def hours(self):\n",
    "        return self.angle / 15\n",
    "    \n",
    "    def add(self, other):\n",
    "        if not isinstance(other, Angle):\n",
    "            raise ValueError(\"Other must be an Angle\")\n",
    "        return Angle(self.angle + other.angle)\n",
    "    \n",
    "    def subtract(self, other):\n",
    "        if not isinstance(other, Angle):\n",
    "            raise ValueError(\"Other must be an Angle\")\n",
    "        return Angle(self.angle - other.angle)\n",
    "    \n",
    "    def multiply(self, other):\n",
    "        if not isinstance(other, (int, float)):\n",
    "            raise ValueError(\"Other must be a numeric value\")\n",
    "            \n",
    "        return Angle(self.angle * other)\n",
    "    \n",
    "    def divide(self, other):\n",
    "        if not isinstance(other, (int, float)):\n",
    "            raise ValueError(\"Other must be a numeric value\")\n",
    "            \n",
    "        return Angle(self.angle / other)\n",
    "        \n",
    "ang1 = Angle(20)\n",
    "\n",
    "print(ang1)\n",
    "print(ang1.divide(2))"
   ]
  },
  {
   "cell_type": "markdown",
   "id": "39d927bc",
   "metadata": {},
   "source": [
    "Şimdi ise aritmetik işlemleri, ```Python```'ın aritmetik operatörleriyle yapabilmek isteriz.\n",
    "\n",
    "Örneğin toplama işlemini\n",
    "\n",
    "```\n",
    "ang1.add(ang2)\n",
    "```\n",
    "\n",
    "Şeklinde yapabilirken, aynı zamanda\n",
    "\n",
    "```\n",
    "ang1 + ang2\n",
    "```\n",
    "\n",
    "şeklide de yapabilmek istiyoruz.\n",
    "\n",
    "Bunun için yine ```Python```'ın ```special method```larından yararlanacağız.\n",
    "\n",
    "```Python```'da nesneler arasında aritmetik işlemeri düzenleyen ```special method```lar var. Bunlar:\n",
    "\n",
    "- Toplama, ```__add__```\n",
    "- Çıkarma, ```__sub__```\n",
    "- Çarpma, ```__mul__```\n",
    "- Bölme, ```__truediv__```\n",
    "\n",
    "dır.\n",
    "\n",
    "Kısacası \n",
    "\n",
    "```\n",
    "ang1 + ang2\n",
    "``` \n",
    "\n",
    "işlemi yaptığımızda aslında ```__add__``` metodu çalışır."
   ]
  },
  {
   "cell_type": "code",
   "execution_count": 45,
   "id": "f3509018",
   "metadata": {},
   "outputs": [
    {
     "name": "stdout",
     "output_type": "stream",
     "text": [
      "Toplama yapıyorsun!\n"
     ]
    }
   ],
   "source": [
    "from math import pi\n",
    "\n",
    "class Angle:\n",
    "    def __init__(self, angle):\n",
    "        self.angle = angle\n",
    "        \n",
    "    def __str__(self):\n",
    "        return str(self.angle)\n",
    "    \n",
    "    def __repr__(self):\n",
    "        return str(self.angle)\n",
    "    \n",
    "    def __add__(self, other):\n",
    "        print(\"Toplama yapıyorsun!\")\n",
    "    \n",
    "    def radians(self):\n",
    "        return self.angle * pi / 180\n",
    "    \n",
    "    def gradians(self):\n",
    "        return self.angle * 10 / 9\n",
    "    \n",
    "    def hours(self):\n",
    "        return self.angle / 15\n",
    "    \n",
    "    def add(self, other):\n",
    "        if not isinstance(other, Angle):\n",
    "            raise ValueError(\"Other must be an Angle\")\n",
    "        return Angle(self.angle + other.angle)\n",
    "    \n",
    "    def subtract(self, other):\n",
    "        if not isinstance(other, Angle):\n",
    "            raise ValueError(\"Other must be an Angle\")\n",
    "        return Angle(self.angle - other.angle)\n",
    "    \n",
    "    def multiply(self, other):\n",
    "        if not isinstance(other, (int, float)):\n",
    "            raise ValueError(\"Other must be a numeric value\")\n",
    "            \n",
    "        return Angle(self.angle * other)\n",
    "    \n",
    "    def divide(self, other):\n",
    "        if not isinstance(other, (int, float)):\n",
    "            raise ValueError(\"Other must be a numeric value\")\n",
    "            \n",
    "        return Angle(self.angle / other)\n",
    "        \n",
    "ang1 = Angle(20)\n",
    "ang2 = Angle(25)\n",
    "\n",
    "ang1 +  ang2"
   ]
  },
  {
   "cell_type": "markdown",
   "id": "b6bb7483",
   "metadata": {},
   "source": [
    "Gördüğünüz gibi ```__add__``` çalıştı. Şimdi ise ```__add__```'in doğru işlemi yapıp, doğru sonucu döndürmesini sağlamalıyız. Toplama işlemi için zaten bir metod yazmıştık. Burada da onu kullanacağız:\n"
   ]
  },
  {
   "cell_type": "code",
   "execution_count": 29,
   "id": "7564036a",
   "metadata": {},
   "outputs": [
    {
     "name": "stdout",
     "output_type": "stream",
     "text": [
      "45\n"
     ]
    }
   ],
   "source": [
    "from math import pi\n",
    "\n",
    "class Angle:\n",
    "    def __init__(self, angle):\n",
    "        self.angle = angle\n",
    "        \n",
    "    def __str__(self):\n",
    "        return str(self.angle)\n",
    "    \n",
    "    def __repr__(self):\n",
    "        return str(self.angle)\n",
    "    \n",
    "    def __add__(self, other):\n",
    "        return self.add(other)\n",
    "    \n",
    "    def radians(self):\n",
    "        return self.angle * pi / 180\n",
    "    \n",
    "    def gradians(self):\n",
    "        return self.angle * 10 / 9\n",
    "    \n",
    "    def hours(self):\n",
    "        return self.angle / 15\n",
    "    \n",
    "    def add(self, other):\n",
    "        if not isinstance(other, Angle):\n",
    "            raise ValueError(\"Other must be an Angle\")\n",
    "        return Angle(self.angle + other.angle)\n",
    "    \n",
    "    def subtract(self, other):\n",
    "        if not isinstance(other, Angle):\n",
    "            raise ValueError(\"Other must be an Angle\")\n",
    "        return Angle(self.angle - other.angle)\n",
    "    \n",
    "    def multiply(self, other):\n",
    "        if not isinstance(other, (int, float)):\n",
    "            raise ValueError(\"Other must be a numeric value\")\n",
    "            \n",
    "        return Angle(self.angle * other)\n",
    "    \n",
    "    def divide(self, other):\n",
    "        if not isinstance(other, (int, float)):\n",
    "            raise ValueError(\"Other must be a numeric value\")\n",
    "            \n",
    "        return Angle(self.angle / other)\n",
    "        \n",
    "ang1 = Angle(20)\n",
    "ang2 = Angle(25)\n",
    "\n",
    "print(ang1 +  ang2)"
   ]
  },
  {
   "cell_type": "markdown",
   "id": "07c9b84b",
   "metadata": {},
   "source": [
    ":::{warning}\n",
    "```__sub__```, ```__mul__``` ve ```__truediv__```'i aynı matıkla ekliyoruz.\n",
    ":::"
   ]
  },
  {
   "cell_type": "code",
   "execution_count": 36,
   "id": "6a8c1812",
   "metadata": {},
   "outputs": [
    {
     "name": "stdout",
     "output_type": "stream",
     "text": [
      "45\n",
      "-5\n",
      "40\n",
      "10.0\n"
     ]
    }
   ],
   "source": [
    "from math import pi\n",
    "\n",
    "class Angle:\n",
    "    def __init__(self, angle):\n",
    "        self.angle = angle\n",
    "        \n",
    "    def __str__(self):\n",
    "        return str(self.angle)\n",
    "    \n",
    "    def __repr__(self):\n",
    "        return str(self.angle)\n",
    "    \n",
    "    def __add__(self, other):\n",
    "        return self.add(other)\n",
    "    \n",
    "    def __sub__(self, other):\n",
    "        return self.subtract(other)\n",
    "    \n",
    "    def __mul__(self, other):\n",
    "        return self.multiply(other)\n",
    "    \n",
    "    def __truediv__(self, other):\n",
    "        return self.divide(other)\n",
    "    \n",
    "    def radians(self):\n",
    "        return self.angle * pi / 180\n",
    "    \n",
    "    def gradians(self):\n",
    "        return self.angle * 10 / 9\n",
    "    \n",
    "    def hours(self):\n",
    "        return self.angle / 15\n",
    "    \n",
    "    def add(self, other):\n",
    "        if not isinstance(other, Angle):\n",
    "            raise ValueError(\"Other must be an Angle\")\n",
    "        return Angle(self.angle + other.angle)\n",
    "    \n",
    "    def subtract(self, other):\n",
    "        if not isinstance(other, Angle):\n",
    "            raise ValueError(\"Other must be an Angle\")\n",
    "        return Angle(self.angle - other.angle)\n",
    "    \n",
    "    def multiply(self, other):\n",
    "        if not isinstance(other, (int, float)):\n",
    "            raise ValueError(\"Other must be a numeric value\")\n",
    "            \n",
    "        return Angle(self.angle * other)\n",
    "    \n",
    "    def divide(self, other):\n",
    "        if not isinstance(other, (int, float)):\n",
    "            raise ValueError(\"Other must be a numeric value\")\n",
    "            \n",
    "        return Angle(self.angle / other)\n",
    "        \n",
    "ang1 = Angle(20)\n",
    "ang2 = Angle(25)\n",
    "\n",
    "print(ang1 +  ang2)\n",
    "print(ang1 -  ang2)\n",
    "print(ang1 * 2)\n",
    "print(ang1 / 2)"
   ]
  },
  {
   "cell_type": "markdown",
   "id": "d4d41ba3",
   "metadata": {},
   "source": [
    ":::{warning}\n",
    "Bir açı nesnesi, bir nümerik veri ile çarpılabiliyor. Fakata bir nümerik veri ile bir açı nesnesi ile çarpılamaz.\n",
    ":::"
   ]
  },
  {
   "cell_type": "code",
   "execution_count": 38,
   "id": "5e9d33f0",
   "metadata": {},
   "outputs": [
    {
     "name": "stdout",
     "output_type": "stream",
     "text": [
      "40\n"
     ]
    },
    {
     "ename": "TypeError",
     "evalue": "unsupported operand type(s) for *: 'int' and 'Angle'",
     "output_type": "error",
     "traceback": [
      "\u001b[0;31m---------------------------------------------------------------------------\u001b[0m",
      "\u001b[0;31mTypeError\u001b[0m                                 Traceback (most recent call last)",
      "\u001b[0;32m/tmp/ipykernel_4164/1802416175.py\u001b[0m in \u001b[0;36m<module>\u001b[0;34m\u001b[0m\n\u001b[1;32m     57\u001b[0m \u001b[0;34m\u001b[0m\u001b[0m\n\u001b[1;32m     58\u001b[0m \u001b[0mprint\u001b[0m\u001b[0;34m(\u001b[0m\u001b[0mang1\u001b[0m \u001b[0;34m*\u001b[0m \u001b[0;36m2\u001b[0m\u001b[0;34m)\u001b[0m\u001b[0;34m\u001b[0m\u001b[0;34m\u001b[0m\u001b[0m\n\u001b[0;32m---> 59\u001b[0;31m \u001b[0mprint\u001b[0m\u001b[0;34m(\u001b[0m\u001b[0;36m2\u001b[0m \u001b[0;34m*\u001b[0m \u001b[0mang1\u001b[0m\u001b[0;34m)\u001b[0m\u001b[0;34m\u001b[0m\u001b[0;34m\u001b[0m\u001b[0m\n\u001b[0m",
      "\u001b[0;31mTypeError\u001b[0m: unsupported operand type(s) for *: 'int' and 'Angle'"
     ]
    }
   ],
   "source": [
    "from math import pi\n",
    "\n",
    "class Angle:\n",
    "    def __init__(self, angle):\n",
    "        self.angle = angle\n",
    "        \n",
    "    def __str__(self):\n",
    "        return str(self.angle)\n",
    "    \n",
    "    def __repr__(self):\n",
    "        return str(self.angle)\n",
    "    \n",
    "    def __add__(self, other):\n",
    "        return self.add(other)\n",
    "    \n",
    "    def __sub__(self, other):\n",
    "        return self.subtract(other)\n",
    "    \n",
    "    def __mul__(self, other):\n",
    "        return self.multiply(other)\n",
    "    \n",
    "    def __truediv__(self, other):\n",
    "        return self.divide(other)\n",
    "    \n",
    "    def radians(self):\n",
    "        return self.angle * pi / 180\n",
    "    \n",
    "    def gradians(self):\n",
    "        return self.angle * 10 / 9\n",
    "    \n",
    "    def hours(self):\n",
    "        return self.angle / 15\n",
    "    \n",
    "    def add(self, other):\n",
    "        if not isinstance(other, Angle):\n",
    "            raise ValueError(\"Other must be an Angle\")\n",
    "        return Angle(self.angle + other.angle)\n",
    "    \n",
    "    def subtract(self, other):\n",
    "        if not isinstance(other, Angle):\n",
    "            raise ValueError(\"Other must be an Angle\")\n",
    "        return Angle(self.angle - other.angle)\n",
    "    \n",
    "    def multiply(self, other):\n",
    "        if not isinstance(other, (int, float)):\n",
    "            raise ValueError(\"Other must be a numeric value\")\n",
    "            \n",
    "        return Angle(self.angle * other)\n",
    "    \n",
    "    def divide(self, other):\n",
    "        if not isinstance(other, (int, float)):\n",
    "            raise ValueError(\"Other must be a numeric value\")\n",
    "            \n",
    "        return Angle(self.angle / other)\n",
    "        \n",
    "ang1 = Angle(20)\n",
    "\n",
    "print(ang1 * 2)\n",
    "print(2 * ang1)"
   ]
  },
  {
   "cell_type": "markdown",
   "id": "e89dc128",
   "metadata": {},
   "source": [
    "Bu durumu düzeltmek için ```__rmul__``` metodunu kullanacağız"
   ]
  },
  {
   "cell_type": "code",
   "execution_count": 40,
   "id": "f6d2abac",
   "metadata": {},
   "outputs": [
    {
     "name": "stdout",
     "output_type": "stream",
     "text": [
      "40\n",
      "40\n"
     ]
    }
   ],
   "source": [
    "from math import pi\n",
    "\n",
    "class Angle:\n",
    "    def __init__(self, angle):\n",
    "        self.angle = angle\n",
    "        \n",
    "    def __str__(self):\n",
    "        return str(self.angle)\n",
    "    \n",
    "    def __repr__(self):\n",
    "        return str(self.angle)\n",
    "    \n",
    "    def __add__(self, other):\n",
    "        return self.add(other)\n",
    "    \n",
    "    def __sub__(self, other):\n",
    "        return self.subtract(other)\n",
    "    \n",
    "    def __mul__(self, other):\n",
    "        return self.multiply(other)\n",
    "    \n",
    "    def __rmul__(self, other):\n",
    "        return self.multiply(other)\n",
    "    \n",
    "    def __truediv__(self, other):\n",
    "        return self.divide(other)\n",
    "    \n",
    "    def radians(self):\n",
    "        return self.angle * pi / 180\n",
    "    \n",
    "    def gradians(self):\n",
    "        return self.angle * 10 / 9\n",
    "    \n",
    "    def hours(self):\n",
    "        return self.angle / 15\n",
    "    \n",
    "    def add(self, other):\n",
    "        if not isinstance(other, Angle):\n",
    "            raise ValueError(\"Other must be an Angle\")\n",
    "        return Angle(self.angle + other.angle)\n",
    "    \n",
    "    def subtract(self, other):\n",
    "        if not isinstance(other, Angle):\n",
    "            raise ValueError(\"Other must be an Angle\")\n",
    "        return Angle(self.angle - other.angle)\n",
    "    \n",
    "    def multiply(self, other):\n",
    "        if not isinstance(other, (int, float)):\n",
    "            raise ValueError(\"Other must be a numeric value\")\n",
    "            \n",
    "        return Angle(self.angle * other)\n",
    "    \n",
    "    def divide(self, other):\n",
    "        if not isinstance(other, (int, float)):\n",
    "            raise ValueError(\"Other must be a numeric value\")\n",
    "            \n",
    "        return Angle(self.angle / other)\n",
    "        \n",
    "ang1 = Angle(20)\n",
    "\n",
    "print(ang1 * 2)\n",
    "print(2 * ang1)"
   ]
  },
  {
   "cell_type": "markdown",
   "id": "f8da3410",
   "metadata": {},
   "source": [
    "## Mantıksal işlemler\n",
    "\n",
    "İki açının büyüklüklerini karşılaştırmak için ```special method```'lar kullanacağız.\n",
    "\n",
    "Bunlar:\n",
    "\n",
    "- Eşitlik, ```__eq__``` ,```==```\n",
    "- Eşitsizlik, ```__ne__```, ```!=```\n",
    "- Büyüklük, ```__gt__```, ```<```\n",
    "- Büyük eşitlik, ```__ge__```, ```<=```\n",
    "- Küçüklük, ```__le__```, ```>```\n",
    "- küçük eşitlik, ```__lt__```, ```>=```"
   ]
  },
  {
   "cell_type": "code",
   "execution_count": 44,
   "id": "ef0f49af",
   "metadata": {},
   "outputs": [
    {
     "name": "stdout",
     "output_type": "stream",
     "text": [
      "True\n",
      "False\n",
      "True\n",
      "False\n"
     ]
    }
   ],
   "source": [
    "from math import pi\n",
    "\n",
    "class Angle:\n",
    "    def __init__(self, angle):\n",
    "        self.angle = angle\n",
    "        \n",
    "    def __str__(self):\n",
    "        return str(self.angle)\n",
    "    \n",
    "    def __repr__(self):\n",
    "        return str(self.angle)\n",
    "    \n",
    "    def __add__(self, other):\n",
    "        return self.add(other)\n",
    "    \n",
    "    def __sub__(self, other):\n",
    "        return self.subtract(other)\n",
    "    \n",
    "    def __mul__(self, other):\n",
    "        return self.multiply(other)\n",
    "    \n",
    "    def __rmul__(self, other):\n",
    "        return self.multiply(other)\n",
    "    \n",
    "    def __truediv__(self, other):\n",
    "        return self.divide(other)\n",
    "    \n",
    "    def __eq__(self, other):\n",
    "        return self.angle == other.angle\n",
    "    \n",
    "    def __ne__(self, other):\n",
    "        return self.angle != other.angle\n",
    "    \n",
    "    def __gt__(self, other):\n",
    "        return self.angle > other.angle\n",
    "    \n",
    "    def __ge__(self, other):\n",
    "        return self.angle >= other.angle\n",
    "    \n",
    "    def __lt__(self, other):\n",
    "        return self.angle < other.angle\n",
    "    \n",
    "    def __le__(self, other):\n",
    "        return self.angle <= other.angle\n",
    "    \n",
    "    def radians(self):\n",
    "        return self.angle * pi / 180\n",
    "    \n",
    "    def gradians(self):\n",
    "        return self.angle * 10 / 9\n",
    "    \n",
    "    def hours(self):\n",
    "        return self.angle / 15\n",
    "    \n",
    "    def add(self, other):\n",
    "        if not isinstance(other, Angle):\n",
    "            raise ValueError(\"Other must be an Angle\")\n",
    "        return Angle(self.angle + other.angle)\n",
    "    \n",
    "    def subtract(self, other):\n",
    "        if not isinstance(other, Angle):\n",
    "            raise ValueError(\"Other must be an Angle\")\n",
    "        return Angle(self.angle - other.angle)\n",
    "    \n",
    "    def multiply(self, other):\n",
    "        if not isinstance(other, (int, float)):\n",
    "            raise ValueError(\"Other must be a numeric value\")\n",
    "            \n",
    "        return Angle(self.angle * other)\n",
    "    \n",
    "    def divide(self, other):\n",
    "        if not isinstance(other, (int, float)):\n",
    "            raise ValueError(\"Other must be a numeric value\")\n",
    "            \n",
    "        return Angle(self.angle / other)\n",
    "        \n",
    "ang1 = Angle(20)\n",
    "ang2 = Angle(20)\n",
    "ang3 = Angle(30)\n",
    "\n",
    "print(ang1 == ang2)\n",
    "print(ang1 != ang2)\n",
    "\n",
    "print(ang1 < ang3)\n",
    "print(ang1 > ang3)"
   ]
  },
  {
   "cell_type": "code",
   "execution_count": null,
   "id": "cb1a3587",
   "metadata": {},
   "outputs": [],
   "source": []
  }
 ],
 "metadata": {
  "kernelspec": {
   "display_name": "Python 3 (ipykernel)",
   "language": "python",
   "name": "python3"
  },
  "language_info": {
   "codemirror_mode": {
    "name": "ipython",
    "version": 3
   },
   "file_extension": ".py",
   "mimetype": "text/x-python",
   "name": "python",
   "nbconvert_exporter": "python",
   "pygments_lexer": "ipython3",
   "version": "3.8.11"
  }
 },
 "nbformat": 4,
 "nbformat_minor": 5
}
