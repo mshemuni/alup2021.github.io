{
 "cells": [
  {
   "cell_type": "markdown",
   "id": "e9d2a0fb",
   "metadata": {},
   "source": [
    "# Örnekler\n",
    "\n",
    "Şimdiye kadar öğrendiklerimizle örnekler yapalım."
   ]
  },
  {
   "cell_type": "markdown",
   "id": "033a2a9b",
   "metadata": {},
   "source": [
    "## 1. İkinci dereceden kök hesaplama\n",
    "\n",
    "$$\n",
    "    a x^2 + b x + c = 0\n",
    "$$\n",
    "\n",
    "şekilnde ifade edilen ikinci dereceden bir bilinmeyenli denklemin köklerini hesaplayınız\n",
    "\n",
    "Bunun için\n",
    "\n",
    "$$\n",
    "    \\Delta = b^2 - 4ac\n",
    "$$\n",
    "\n",
    "\n",
    "hesaplanır.\n",
    "\n",
    "Eğer $\\Delta$ negatif ise, denklemin reel kökü yoktur.\n",
    "\n",
    "Daha sonra iki kök\n",
    "\n",
    "$$\n",
    "    x_1 = \\frac{-b + \\sqrt{\\Delta}}{2 a} \n",
    "\\\\\n",
    "    x_2 = \\frac{-b - \\sqrt{\\Delta}}{2 a} \n",
    "$$"
   ]
  },
  {
   "cell_type": "code",
   "execution_count": 1,
   "id": "44b259ef",
   "metadata": {},
   "outputs": [
    {
     "name": "stdout",
     "output_type": "stream",
     "text": [
      "-1.0 -1.0\n"
     ]
    }
   ],
   "source": [
    "a, b, c = 1, 2, 1\n",
    "\n",
    "delta = b ** 2 - 4 * a * c\n",
    "\n",
    "if delta < 0:\n",
    "    print(\"Denklemin reel kökü yoktur\")\n",
    "else:\n",
    "    x1 = (-1 * b + delta ** 0.5)/(2 * a)\n",
    "    x2 = (-1 * b - delta ** 0.5)/(2 * a)\n",
    "    \n",
    "    print(x1, x2)"
   ]
  },
  {
   "cell_type": "markdown",
   "id": "990a4474",
   "metadata": {},
   "source": [
    "## 2. Taylor serilerini kullanarak verilen bir açının ```sin``` değerini hesaplama\n",
    "\n",
    ":::{warning}\n",
    "```math``` modülünü kullanamazsınız\n",
    ":::\n",
    "\n",
    "Taylor serilerini kullanarak ```sin```\n",
    "\n",
    "$$\n",
    "sin(x) = x - \\frac{x^3}{3!} + \\frac{x^5}{5!} - \\frac{x^7}{7!} + ...\n",
    "$$\n",
    "\n",
    ":::{note}\n",
    "$x$ radian cisinden açı olmak üzere\n",
    ":::\n",
    "\n",
    "\n",
    "olarak hesaplanır\n",
    "\n",
    "Denklemi düzenleyecek olursak:\n",
    "\n",
    "$$\n",
    "sin(x) = \\sum_{n=0}^{\\infty}{\\frac{-1^{n} x^{2n + 1}}{(2n + 1)!}}\n",
    "$$"
   ]
  },
  {
   "cell_type": "markdown",
   "id": "169ef1ac",
   "metadata": {},
   "source": [
    "Öncelikle, faktöriyel hesaplayabilen bir fonksiyona ihtiyacımız olacaktır.\n",
    "\n",
    "Faktöriyel\n",
    "\n",
    "$$\n",
    "n! = n \\times (n - 1) \\times (n - 2) \\times ... 3 \\times 2 \\times 1\n",
    "$$\n",
    "\n",
    ":::{note}\n",
    "$n$ faktöriyeli aranan değer olmak üzere\n",
    ":::\n",
    "\n",
    "şeklinde hesaplanır\n",
    "\n",
    "\n",
    "Daha sonra, yay derecesi cinsinden açıyı, radian'a çevirebilen bir fonksiyona ihtiyacımız olacaktır.\n",
    "\n",
    "Yay derecesinden, radian'a dönüştüme\n",
    "\n",
    "$$\n",
    "R = Y \\frac{\\pi}{180}\n",
    "$$\n",
    "\n",
    ":::{note}\n",
    "$R$ açının radian cinsinden değeri ve $Y$ açının yay derecei cinsinden değeri olmak üzere\n",
    ":::"
   ]
  },
  {
   "cell_type": "code",
   "execution_count": 19,
   "id": "e2a64a7f",
   "metadata": {},
   "outputs": [
    {
     "data": {
      "text/plain": [
       "0.3826727322450213"
      ]
     },
     "execution_count": 19,
     "metadata": {},
     "output_type": "execute_result"
    }
   ],
   "source": [
    "def factoriyel(n):\n",
    "    sonuc = 1\n",
    "    for i in range(1, n+1):\n",
    "        sonuc = sonuc * i\n",
    "        \n",
    "    return sonuc\n",
    "\n",
    "def radians(angle):\n",
    "    return angle * 3.1415 / 180\n",
    "\n",
    "def sin(angle):\n",
    "    angle_r = radians(angle)\n",
    "    \n",
    "    sonuc = 0\n",
    "    for i in range(10):\n",
    "        sonuc = sonuc + pow(-1, i) * pow(angle_r, 2 * i + 1) / factoriyel(2 * i + 1)\n",
    "        \n",
    "    return sonuc\n",
    "\n",
    "sin(22.5)"
   ]
  },
  {
   "cell_type": "markdown",
   "id": "66d8faf9",
   "metadata": {},
   "source": [
    "Bakalım doğru mu?"
   ]
  },
  {
   "cell_type": "code",
   "execution_count": 20,
   "id": "259167d8",
   "metadata": {},
   "outputs": [
    {
     "data": {
      "text/plain": [
       "0.3826834323650898"
      ]
     },
     "execution_count": 20,
     "metadata": {},
     "output_type": "execute_result"
    }
   ],
   "source": [
    "import math\n",
    "\n",
    "math.sin(math.radians(22.5))"
   ]
  }
 ],
 "metadata": {
  "kernelspec": {
   "display_name": "Python 3 (ipykernel)",
   "language": "python",
   "name": "python3"
  },
  "language_info": {
   "codemirror_mode": {
    "name": "ipython",
    "version": 3
   },
   "file_extension": ".py",
   "mimetype": "text/x-python",
   "name": "python",
   "nbconvert_exporter": "python",
   "pygments_lexer": "ipython3",
   "version": "3.8.11"
  }
 },
 "nbformat": 4,
 "nbformat_minor": 5
}
