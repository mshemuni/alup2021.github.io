{
 "cells": [
  {
   "cell_type": "markdown",
   "id": "c31f398f",
   "metadata": {},
   "source": [
    "# Çoklu işlem\n",
    "\n",
    "Peki her kod optimize edilebilir mi? Hayır.\n",
    "\n",
    "Çoğu simülasyonlar zaten optimum durumda çalışmakta ve buna rağmen bir simülasyonun sonuç vermesi, süper bilgisayarlarla, haftalar, aylar alabilir. (Tabii bu simülasyonların evrenin ilk 12 milyar yılını simüle ediyor. Orası ayrı.)\n",
    "\n",
    "Şimdi gelelim diğer yöntemlere. Varsayalım ki bir kod yazdınız ve olabildiğince optimizasyon yaptınız. Ama haka daha yüksek performansa ihtiyacınız var. Ne yapabiliriz?\n",
    "\n",
    "Bunun için kodun yavaşlığının nedenini anlamak gerek. Koddali darboğazları (bottleneck) tespit edersek, farklı yaklaşımlarda bulunabiliriz.\n",
    "\n",
    "Örneğin kodun sistem kaynaklarını nasıl kullandığını görmek gerek.\n",
    "\n",
    "## Sistem kaynakları\n",
    "\n",
    "Sistem kaynaklarından kasıt işlem gücü olan bilgisayar birimlerdir. Bu birimleri kontrol edersek, en çok zaman kaybını nerede yaşadığımızı anlar ve gerekli düzeltmeleri yapabiliriz.\n",
    "\n",
    "Öncelikle bir örnek oluştualım. Diskte bulunan ```2000``` adet görüntü dosyasının (Toplamda ```2GB```) ortalamasını alalım.\n",
    "\n",
    "\n",
    "\n",
    "### Disk\n",
    "\n",
    "En gıcık sistem darbağazına neden olur. ```2000``` adet (```2GB```) dosyayı diskten okumamız gerek. Diskimiz saniyede 10MB okuma yapabiliyorsa:"
   ]
  },
  {
   "cell_type": "code",
   "execution_count": 1,
   "id": "8756f344",
   "metadata": {},
   "outputs": [
    {
     "data": {
      "text/plain": [
       "14.628571428571428"
      ]
     },
     "execution_count": 1,
     "metadata": {},
     "output_type": "execute_result"
    }
   ],
   "source": [
    "2 * 1024 / 140"
   ]
  },
  {
   "cell_type": "markdown",
   "id": "bb44f507",
   "metadata": {},
   "source": [
    "Diskten okuma işlemi ```10``` saniye sürecektir.\n",
    "\n",
    "Böyle bir durumda, sistem monitörü yazılımlarından herhangi biriyle sistem kaynaklarınızı takip ederseniz, disk kullanımının ```10``` saniye boyuna ```%100``` olduğunu görürsünüz.\n",
    "\n",
    "İyi leştirmek için çok fazla seçeneğiniz yoktur. \n",
    "\n",
    ":::{warning}\n",
    "```2000``` adet dosyadan oluşan, ```2GB```'lık veriyi 10 adet ten oluşan ```2GB```lik veriye çevirebilrsek belki daha da hızlanabiliriz. Ama bu da ```20000``` dosyayı okumamız gerektiği anlamına gelir.\n",
    ":::\n",
    "\n",
    "Belki donanımı değiştirmek gerek. Bu nedenle sponsorumuz olan ```abuzittin donanım destek```'e teşekkür deriz. ```astrokod``` koduyla ```abuzittin donanım destek```'ten yapacağınız ilk alışverişte %3.5 indirim kazanabilirsiniz.\n",
    "\n",
    "```{image} ../images/hahaha_2.gif\n",
    ":alt: Python resmi web sayfası\n",
    ":class: bg-primary mb-1\n",
    ":width: 400px\n",
    ":align: center\n",
    "```"
   ]
  },
  {
   "cell_type": "markdown",
   "id": "128aa773",
   "metadata": {},
   "source": [
    "### Hafıza (RAM)\n",
    "\n",
    "Belki de sisteminizin hafızası yetersizdir. Aslında bu durum genelde ```memoryError``` hatası alırsınız. Eğer optimizasyon yapmanıza rağmen (Örneğin tüm dosyaları hafızaya almaktansa, kümülatif biçimde toplarsınız) hafıza sorunu yaşıyorsanız, Donanımınızı güncellemeniz gerekebilir."
   ]
  },
  {
   "cell_type": "markdown",
   "id": "b64e578c",
   "metadata": {},
   "source": [
    "### İşlemci (CPU)\n",
    "\n",
    "Bu kısım daha enterasandır. ```Python``` bir thread üzerinde çalışır. Yani işletim sistemi ```Python```'a bir bölge gösterir ve \"git orda oyna\" der.\n",
    "\n",
    "Bu thread bir sanal çekirdek üzerinde çalışır. Kısacası sizin, bilgisayarınız ```8``` çekirdekli ise, sizin toplamda ```16``` sanal çekirdeğiniz var anlamına gelir. Bu ```16``` çekirdeğin ```1```'i size tahsis edilmiştir.\n",
    "\n",
    "Bunu çözebilir miyiz? Evet...\n",
    "\n",
    "```Python```'ın ```multiprocessing``` kütüphanesini kullanabilirsiniz.\n",
    "\n",
    "Elinizdeki verinin farklı threadlerce işlenmesini isteyebilirsiniz. Bizim örneğimizde ```2000``` tane dosyanın RAM'de olduğunu varsayalım. Bunların toplanması gerek. En sonunda ise bütün değerleri ```2000```'e böler ortalamayı hesaplamış oluruz.\n",
    "\n",
    ":::{note}\n",
    "4 tane sanal çekirdek kullanacağımızı varsayalım.\n",
    ":::\n",
    "\n",
    "Benim size anlatabileceğim 2 multiprocess mantığı vardır.\n",
    "\n",
    "1. Orak RAM ihtiyacı duyanlar\n",
    "2. Ortak RAM ihtiyacı duymayanlar\n",
    "\n",
    "#### Orak RAM ihtiyacı duyanlar\n",
    "Bu durumda RAM üzerinde boş bir görüntü oluştururuz. Daha sonra bütün görüntüleri bu boş görüntüye ekleriz. En sonda ise bölme işlemini yaparız.\n",
    "\n",
    "\n",
    "\n",
    "- RAM'de bir yerde boş görüntüyü oluşturdum\n",
    "- 4 thread oluşturup, bu threadlere boş görüntünün yerini gösteririm.\n",
    "- Toplayın arkadaşlar derim.\n",
    "\n",
    "En sonunda ise bu toplam veriyi ```2000```'e bölelim.\n",
    "\n",
    "#### Ortak RAM ihtiyacı duymayanlar\n",
    "Bu durumda götüntülerimizi 4 tane ```500``` adet görüntüden oluşan gruplara böleriz. Her thread kısmetine düşen ```500``` görüntüyü toplar. En sonunda oluşan 4 görüntüyü de toplar ve ```2000```'e böleriz.\n",
    "\n",
    "Burada threadler birbiriyle konuşmadı, aynı veri üzerinde çalışmadılar."
   ]
  },
  {
   "cell_type": "code",
   "execution_count": null,
   "id": "11038ac9",
   "metadata": {},
   "outputs": [],
   "source": []
  }
 ],
 "metadata": {
  "kernelspec": {
   "display_name": "Python 3 (ipykernel)",
   "language": "python",
   "name": "python3"
  },
  "language_info": {
   "codemirror_mode": {
    "name": "ipython",
    "version": 3
   },
   "file_extension": ".py",
   "mimetype": "text/x-python",
   "name": "python",
   "nbconvert_exporter": "python",
   "pygments_lexer": "ipython3",
   "version": "3.9.6"
  }
 },
 "nbformat": 4,
 "nbformat_minor": 5
}
