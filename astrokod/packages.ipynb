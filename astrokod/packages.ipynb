{
 "cells": [
  {
   "cell_type": "markdown",
   "id": "f6296945",
   "metadata": {},
   "source": [
    "# Paketler\n",
    "\n",
    "\n",
    "```Python```'da varsayılan ve varsayılan olmayan kütüphane/paket'lerimiz bulunmakta. Varsayılan kütüphaneler, adından da anlaşılabileceği gibi, ```Python``` kurulumu ile beraber gelir. Varsayılan olmayan kütüphaneler için ise sonradan kurulum gerekiyor.\n",
    "\n",
    "### Varsayılan\n",
    "\n",
    "Daha önce bahsettiğimiz gibi ```Python```'da varsayılan kütüphaneler var. Bunlara örnek olarak:\n",
    "\n",
    "- ```math```\n",
    "- ```sys```\n",
    "- ```json```\n",
    "\n",
    "verilebilir.\n",
    "\n",
    "### ```math```\n",
    "\n",
    "```math``` kütüphanesinden daha önce bahsetmiştik. Çeşitli matematik işlemleri yapacileceğimiz bir modül olduğunu söylemiştik.\n",
    "\n",
    "<hr>\n",
    "\n",
    "Örnek\n",
    "\n",
    "Verilen bir açının, ```sin``` ve ```cos```değerlerinin oranının, aynı açının ```tan``` değernie eşit olduğunu gösteriniz."
   ]
  },
  {
   "cell_type": "code",
   "execution_count": 4,
   "id": "22d5cf32",
   "metadata": {},
   "outputs": [
    {
     "name": "stdout",
     "output_type": "stream",
     "text": [
      "0.6494075931975106\n",
      "0.6494075931975105\n"
     ]
    }
   ],
   "source": [
    "import math\n",
    "\n",
    "aci = 33\n",
    "aci_r = math.radians(aci)\n",
    "\n",
    "sin = math.sin(aci_r)\n",
    "cos = math.cos(aci_r)\n",
    "\n",
    "sin_cos_ratio = sin / cos\n",
    "\n",
    "tan = math.tan(aci_r)\n",
    "\n",
    "print(tan)\n",
    "print(sin_cos_ratio)"
   ]
  },
  {
   "cell_type": "markdown",
   "id": "7efd422a",
   "metadata": {},
   "source": [
    "## ```sys```\n",
    "\n",
    "```sys``` Sisteme özel parametreler ve fonksiyonlar. ```sys``` ile çeşitli işlemler yapılabilir, fakat ```sys```'nin sunduğu en önemli araç ```argv```'dir. ```argv``` yazığımız kodun dışarıdan parametrik olarak iletişime geçmesini sağlar.\n",
    "\n",
    "```sys.argv``` bir ```list``` olup, ```0```. elemanı, çalıştırdığımız ```Python``` betiğin adı, ```1```. elemanı verilen ilk argüman, ```2```. elemanı verilen ikinci argüman ... şeklinde devam eder.\n",
    "\n",
    "```argumanlar.py``` adlı bir betik dosyamız olsun.\n",
    "\n",
    "```\n",
    "import sys\n",
    "\n",
    "print(sys.argv)\n",
    "```\n",
    "\n",
    "Söz konusu betiği aşağıdaki gibi çalıştıralım\n",
    "\n",
    "```\n",
    "python argumanlar.py muhammed eve geldi mi\n",
    "\n",
    "```\n",
    "\n",
    "Çıktı\n",
    "\n",
    "```\n",
    "['argumanlar.py', 'muhammed', 'eve', 'geldi', 'mi']\n",
    "```\n",
    "\n",
    "\n",
    "<hr>\n",
    "\n",
    "Örnek\n",
    "\n",
    "Parametik olarak verilen ismileri selamlayan bir betik yazınız. betik dosyasının adı ```selamla``` olsun."
   ]
  },
  {
   "cell_type": "markdown",
   "id": "43c30bd2",
   "metadata": {},
   "source": [
    "```\n",
    "import sys\n",
    "\n",
    "if len(sys.argv) == 1:\n",
    "    print(\"İsim vermedizi!\")\n",
    "else:\n",
    "    for isim in sys.argv[1:]:\n",
    "        print(\"Merhaba \" + isim)\n",
    "```"
   ]
  },
  {
   "cell_type": "markdown",
   "id": "66429c6a",
   "metadata": {},
   "source": [
    "```\n",
    "$ python selamla.py\n",
    "\n",
    "İsim vermedizi!\n",
    "```"
   ]
  },
  {
   "cell_type": "markdown",
   "id": "6cbd6e05",
   "metadata": {},
   "source": [
    "```\n",
    "$ python selamla.py muhammed yusuf yucel yavuz\n",
    "\n",
    "Merhaba muhammed\n",
    "Merhaba yusuf\n",
    "Merhaba yucel\n",
    "Merhaba yavuz\n",
    "\n",
    "\n",
    "```"
   ]
  },
  {
   "cell_type": "markdown",
   "id": "3f12f93d",
   "metadata": {},
   "source": [
    "## ```json```\n",
    "\n",
    "```json``` (```JavaScript Object Notation```); bütün programlama dilleri arasında, yapılandırılmış veri değişimini kolaylaştıran bir metin biçimidir.\n",
    "\n",
    "```json```'ın taşıyabildiği veri tipleri:\n",
    "\n",
    "- ```nesne```\n",
    "- ```array```\n",
    "- ```str```\n",
    "- ```number```\n",
    "- ```true```\n",
    "- ```false```\n",
    "- ```null```\n",
    "\n",
    "Yazım kuralı ise, ```Python```'ın ```dict``` formatına çok benziyor.\n",
    "\n",
    "```json``` veriye örnek:\n",
    "\n",
    "```\n",
    "{\n",
    "    \"personel_1\": {\n",
    "        \"adi\": \"Mohammad\",\n",
    "        \"soyadi\": \"Shameoni niaei\",\n",
    "        \"Gelistirici\": true,\n",
    "        \"TCKNO\": null,\n",
    "        \"Uzmanlik\": [\"Yazilim Uzmani\", \"Uzman Astronom\"]\n",
    "    }\n",
    "}\n",
    "\n",
    "```\n",
    "\n",
    "olarak gösterilebilir. Burada;\n",
    "\n",
    "\n",
    "- ```nesne``` bir json veri\n",
    "- ```array``` bir ```list``` veri\n",
    "- ```true``` bir ```True``` veri\n",
    "- ```false``` bir ```False``` veri\n",
    "- ```null``` bir ```None``` veri\n",
    "\n",
    "olarak algılanabilir.\n",
    "\n",
    "\n",
    ":::{not}\n",
    "Görüldüğü gibi ```true```, ```false```, ```null``` gibi değerler ```Python```'da farkşlı yazılmakta, ```Python```'ın anladığı yazımları başka bir standartın anlayabileceği yazım şekline çeviröeye ```serialization``` denir.\n",
    ":::\n",
    "\n",
    "```json``` kütüphanesinin yapabilediği ve bizim çokça kullanma ihtiyacı duyacağımız işlemler ```json```'dan ```dict```'e ve ```dict```'ten ```json```'a dönüşümü yapması olarak düşünülebilir.\n",
    "\n",
    "- ```json.dump```, ```json.dumps```\n",
    "- ```json.load```, ```json.loads```"
   ]
  },
  {
   "cell_type": "code",
   "execution_count": null,
   "id": "6b70040a",
   "metadata": {},
   "outputs": [],
   "source": [
    "\n"
   ]
  }
 ],
 "metadata": {
  "kernelspec": {
   "display_name": "Python 3 (ipykernel)",
   "language": "python",
   "name": "python3"
  },
  "language_info": {
   "codemirror_mode": {
    "name": "ipython",
    "version": 3
   },
   "file_extension": ".py",
   "mimetype": "text/x-python",
   "name": "python",
   "nbconvert_exporter": "python",
   "pygments_lexer": "ipython3",
   "version": "3.8.11"
  }
 },
 "nbformat": 4,
 "nbformat_minor": 5
}
