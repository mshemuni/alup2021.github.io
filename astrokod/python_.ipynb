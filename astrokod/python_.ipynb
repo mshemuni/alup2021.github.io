{
 "cells": [
  {
   "cell_type": "markdown",
   "id": "8f787a6c",
   "metadata": {},
   "source": [
    "# Python"
   ]
  },
  {
   "cell_type": "markdown",
   "id": "0449a3bc",
   "metadata": {},
   "source": [
    "Şimdiye kadar Python'ı kurduk.\n",
    "\n",
    "İlk kodumuzu yazma zamanı geldi\n",
    "\n",
    "```{image} ../images/judge-judy-times-up.gif\n",
    ":class: bg-primary mb-1\n",
    ":width: 400px\n",
    ":align: center\n",
    "```\n",
    "\n",
    "İlk kodların şahı, programlamaya girişlerin gardiyanı ```merhaba dünya```.\n"
   ]
  },
  {
   "cell_type": "markdown",
   "id": "20f78ce3",
   "metadata": {},
   "source": [
    "## Python çalıştırma\n",
    "Başlat menüsünden anaconda alt menüsü açarak ```Anaconda Prompt```’a tıklayınız.\n",
    "\n",
    "\n",
    "Bir terminal açılmış olmalı. Bu terminal'de ```python``` yazıp <kbd>enter</kbd> tuşuna bastığınızda\n",
    "\n",
    "```\n",
    "Python 3.8.8 (default, Apr 13 2021, 15:08:03) [MSC v.1916 64 bit (AMD64)] :: Anaconda, Inc. on win32\n",
    "Type \"help\", \"copyright\", \"credits\" or \"license\" for more information.\n",
    ">>>\n",
    "```\n",
    "\n",
    "gibi bir çıktı görürsünüz. Böylece ```Python``` yorumlayıcıyı çalıştırmış oldunuz.\n",
    "\n",
    "Yorumlayıcı size kendisi hakkında bilgi veriyor:\n",
    "\n",
    "Sürüm:\n",
    "```\n",
    "Python 3.8.8 (default, Apr 13 2021, 15:08:03)\n",
    "```\n",
    "\n",
    "Çalıştırıldığı platform:\n",
    "```\n",
    "[MSC v.1916 64 bit (AMD64)] :: Anaconda, Inc. on win32\n",
    "```\n",
    "\n",
    "Daha sonra ise bir az yardımcı oluyor:\n",
    "```\n",
    "Type \"help\", \"copyright\", \"credits\" or \"license\" for more information.\n",
    "```\n",
    "\n",
    "Son olarak sizden talimat beklediğini bildiriyor:\n",
    "\n",
    "```\n",
    ">>>\n",
    "```\n",
    "\n",
    "İlk programımızda ekrana ```merhaba dünya``` yazmak istiyoruz. Python'da ekrana bir metin yazmak için ```print``` \n",
    "fonksiyonu kullanılır.\n",
    "\n",
    "Dolayısıyla ```>>>```'ın olduğu yere\n",
    "\n",
    "```\n",
    "print(\"Merhaba Dünya\")\n",
    "```\n",
    "\n",
    "yazıp <kbd>enter</kbd> tuşuna basınız.\n",
    "```{image} ../images/hellow_world.png\n",
    ":alt: Merhaba Dünya\n",
    ":class: bg-primary mb-1\n",
    ":width: 400px\n",
    ":align: center\n",
    "```\n",
    "\n",
    "Bu terminal ekranında yazacağımız herşey ```Python``` yorumlayıcı tarafından yorumlanacak ve gerekli işlemler \n",
    "yapılacaktır. Fakat bu ortamda çalışmanın büyük dezavantajları var. Bunlardan en önemlisi, uzun bir metin yazıp, \n",
    "son kontolleri yapıp rötüş yaptıktan sonra kodu çalıştıramıyorsunuz. Dolayısıyla bundan sonra işlerimizi daha farklı \n",
    "yapacağız."
   ]
  },
  {
   "cell_type": "markdown",
   "id": "e05cff3f",
   "metadata": {},
   "source": [
    "### Betik Dosyası\n",
    "\n",
    "Öncelikle bir metin belgesi oluşturun. Adı da ```merhaba.py``` olsun.\n",
    "\n",
    "```{image} ../images/hellow_world_script.png\n",
    ":alt: Betik dosyası\n",
    ":class: bg-primary mb-1\n",
    ":width: 400px\n",
    ":align: center\n",
    "```\n",
    "\n",
    "Şimdi bu belgeyi düzenlemek için herhangi bir metin editörüyle dosyamızı açıp kodumuzu içine yazalım.\n",
    "\n",
    "\n",
    "```{image} ../images/hellow_world_script_text.png\n",
    ":alt: Betik Metni\n",
    ":class: bg-primary mb-1\n",
    ":width: 400px\n",
    ":align: center\n",
    "```\n",
    "\n",
    "Şimdi eğer ```Python``` yorumlayıcıyı çalıştırırken bu dosyanın yolunu da sağlarsak, yorumlayıcı dosyanın içindeki \n",
    "satıları tek tek talimat olarak algılayacaktır ve gerekli işlemleri yapacaktır.\n",
    "\n",
    "```{image} ../images/hellow_world_execute.png\n",
    ":alt: Betik Çalıştırma\n",
    ":class: bg-primary mb-1\n",
    ":width: 400px\n",
    ":align: center\n",
    "```\n",
    "\n",
    "Tebrikler. İlk ```Python``` kodunuzu yazdınız."
   ]
  },
  {
   "cell_type": "markdown",
   "id": "b167f3f0",
   "metadata": {},
   "source": [
    "<hr>\n",
    "Örnek:\n",
    "\n",
    "Yarıçapı verilen bir dairenin alanını ve çevresini hesaplayan programı yazınız.\n",
    "\n",
    "Dairenin alanı ve çevresi, \n",
    "\n",
    "$$\n",
    "A = \\pi r^2\n",
    "\n",
    "C = 2 \\pi r\n",
    "$$\n",
    "\n",
    ":::{note}\n",
    "$A$ dairenin alanı, $C$ dairenin çevresi ve $r$ dairenin yarıçapı olmak üzere\n",
    ":::\n",
    "\n",
    "olarak hesaplanır."
   ]
  },
  {
   "cell_type": "code",
   "execution_count": 5,
   "id": "ba0d526a",
   "metadata": {},
   "outputs": [
    {
     "name": "stdout",
     "output_type": "stream",
     "text": [
      "1963.4375\n",
      "157.07500000000002\n"
     ]
    }
   ],
   "source": [
    "r = 25\n",
    "pi = 3.1415\n",
    "\n",
    "alan = pi * r ** 2\n",
    "cevre = 2 * pi * r\n",
    "\n",
    "print(alan)\n",
    "print(cevre)"
   ]
  },
  {
   "cell_type": "markdown",
   "id": "e02c3998",
   "metadata": {},
   "source": [
    "## Python araçlar\n",
    "\n",
    "```Python```'da da diğer programlama dillerinde olduğu gibi varsayılan olarak olmazsa olmaz \n",
    "\n",
    "- Koşullu ifadeler\n",
    "- Döngüler\n",
    "- Fonksiyonlar\n",
    "- Sınıflar\n",
    "\n",
    "gibi araçlar ile donatılmıştır.\n",
    "\n",
    ":::{note}\n",
    "```Python```'ın bu araçlarına kabaca değineceğiz. Lakin ilerleyen zamanlarda bu kavramlar detaylanacaktır.\n",
    "\n",
    ":::\n",
    "\n",
    "### Koşullu ifadeler\n",
    "\n",
    "Bazen yazacağımız bazı talimatların belirli bir koşula bağlı olarak çalıştırılmasını isteyebiliriz. Bunun için koşullu ifadeler kullanılır.\n",
    "\n",
    "Tükçe'de bir koşul ```eğer``` ile ifade edilir. İngilizce'de de ```if``` ile ifade edilir. \n",
    "\n",
    "#### if\n",
    "\n",
    "Programlama/betik dillerinde de benzer bir ifade olmak zorunda. ```Python``` ve çoğu dil İngilizce temelli olduğundan ```if``` ifadesini kullanır.\n",
    "\n",
    "```Python```'da koşullu ifadeler mantıksal veri yahut, sonucu mantıksal ifade olarak algılanabilen mantıksal işlemler alır. Söz konusu mantıksal veri veya mantıksal işlemin sonucuna göre ise işlem yapar.\n",
    "\n",
    "Koşullu ifade yazım kuralı:\n",
    "\n",
    "```\n",
    "if MANTIKSAL_VERİ:\n",
    "    İŞLEM_1\n",
    "    İŞLEM_2\n",
    "    İŞLEM_3\n",
    "```\n",
    "\n",
    "Şeklindedir.\n",
    "\n",
    "Koşullu ifade bir bloktur. Buna ```if bloğu``` adı verili. Bu blokta yazılan işlemler koşulun uygunluğuna göre çalıştırılır.\n",
    "\n",
    "```Python``` bir bloğun başladığını ```:``` ile ifade eder. Dolayısıyla ```:```'dan sonra gelen satır/satırlar ```:``` önce yazılan ifadeye ait bloktur.\n",
    "\n",
    "Bloğa ait ifadeler ise boşluklar ile başlayan satırlarla ifade edilir. Buna ```indentation``` (```girinti```) adı verilir.\n",
    "\n",
    ":::{note}\n",
    "Çoğu dilde bir bloğa ait satırlar ```{}``` içinde yazılır. Örnek olarak ```c++```'ta koşullu ifadeler:\n",
    "\n",
    "```\n",
    "if(MANTIKSAL_VERİ){\n",
    "İŞLEM_1\n",
    "İŞLEM_2\n",
    "İŞLEM_3\n",
    "}\n",
    "```\n",
    "\n",
    "şeklinde yazılır ve kodun okunabilirliğinin artması açısından bir bloğa ait satırlara ```indentation``` uygulanması beklenir. Dolayısıyla kod\n",
    "\n",
    "```\n",
    "if(MANTIKSAL_VERİ){\n",
    "    İŞLEM_1\n",
    "    İŞLEM_2\n",
    "    İŞLEM_3\n",
    "}\n",
    "```\n",
    "\n",
    "şeklini alır. ```Python``` ise parantezlerden kurtulur ve ```indentation```'ı blok tanımı olarak kullanır.\n",
    "\n",
    ":::\n",
    "\n",
    "<hr>\n",
    "\n",
    "Örnek\n",
    "\n",
    "Yarıçapı ```0```'dan büyük olarak kürenin hacmini hesaplayan bir program yazınız."
   ]
  },
  {
   "cell_type": "code",
   "execution_count": 3,
   "id": "fcf7c601",
   "metadata": {},
   "outputs": [
    {
     "name": "stdout",
     "output_type": "stream",
     "text": [
      "65447.916666666664\n"
     ]
    }
   ],
   "source": [
    "r = 25\n",
    "pi = 3.1415\n",
    "\n",
    "if r > 0:\n",
    "    hacim = 4 / 3 * pi * r ** 3\n",
    "    print(hacim)"
   ]
  },
  {
   "cell_type": "markdown",
   "id": "d782e3dd",
   "metadata": {},
   "source": [
    "Peki yarıçap negatif veya ```0``` olarak verilmiş olsaydı?"
   ]
  },
  {
   "cell_type": "code",
   "execution_count": 6,
   "id": "2b157ae5",
   "metadata": {},
   "outputs": [],
   "source": [
    "r = -25\n",
    "pi = 3.1415\n",
    "\n",
    "if r > 0:\n",
    "    hacim = 4 / 3 * pi * r ** 3\n",
    "    print(hacim)"
   ]
  },
  {
   "cell_type": "markdown",
   "id": "f14f0a26",
   "metadata": {},
   "source": [
    "Gördüğünüz gibi if bloğu, koşul sağlanmadığından çalışmadı."
   ]
  },
  {
   "cell_type": "markdown",
   "id": "3582dfab",
   "metadata": {},
   "source": [
    "#### else\n",
    "\n",
    "Bazen ise kimi koşula bağlı olarak farklı işlemler yapmak isteriz.\n",
    "\n",
    "Eğer koşul sağlandıysa bir grup işlem, sağlanmadıysa başka bir grup işlem yapmak isteyebiliriz.\n",
    "\n",
    "Günlük haytta çok kullanılmasa da Türkçe'de bunun ifade etmek için ```değilse``` kullanılır. ```değilse```'nin İngilizce karşılığı da ```else``` olduğundan ```Python```'da ```else``` anahtar kelimesi kullanılır.\n",
    "\n",
    "```else```'in kendi başına bir işe yaramadığını, kendisinden önce bir bloğun var olması gerektiğini unutmayalım. Ayrıca ```else```'in kendisi de bir blok oluşturur. Şaşıracaksınız ama buna da ```else``` bloğu diyeceğiz.\n",
    "\n",
    "\n",
    "```\n",
    "if MANTIKSAL_VERİ:\n",
    "    İŞLEM_1\n",
    "    İŞLEM_2\n",
    "    İŞLEM_3\n",
    "else:\n",
    "    İŞLEM_4\n",
    "    İŞLEM_5\n",
    "    İŞLEM_6\n",
    "```\n",
    "\n",
    "<hr>\n",
    "Örnek\n",
    "\n",
    "Yarıçapı ```0```'dan büyük olarak kürenin hacmini hesaplayan bir program yazınız. Aksi taktirde kullanıcıya ```0```'dan küçük veya ```0```'a eşit uzunluğun olamayacağını bilgiren uyarı gösteriniz."
   ]
  },
  {
   "cell_type": "code",
   "execution_count": 15,
   "id": "f69fda81",
   "metadata": {},
   "outputs": [
    {
     "name": "stdout",
     "output_type": "stream",
     "text": [
      "65447.916666666664\n"
     ]
    }
   ],
   "source": [
    "r = 25\n",
    "pi = 3.1415\n",
    "\n",
    "if r > 0:\n",
    "    hacim = 4 / 3 * pi * r ** 3\n",
    "    print(hacim)\n",
    "else:\n",
    "    print(\"Yarıçap sıfıra eşit veya sıfırdan küçük olamaz.\")"
   ]
  },
  {
   "cell_type": "markdown",
   "id": "03ed2266",
   "metadata": {},
   "source": [
    "Peki yarıçap negatif veya ```0``` olarak verilmiş olsaydı?"
   ]
  },
  {
   "cell_type": "code",
   "execution_count": 17,
   "id": "0a6a8206",
   "metadata": {},
   "outputs": [
    {
     "name": "stdout",
     "output_type": "stream",
     "text": [
      "Yarıçap sıfıra eşit veya sıfırdan küçük olamaz.\n"
     ]
    }
   ],
   "source": [
    "r = 0\n",
    "pi = 3.1415\n",
    "\n",
    "if r > 0:\n",
    "    hacim = 4 / 3 * pi * r ** 3\n",
    "    print(hacim)\n",
    "else:\n",
    "    print(\"Yarıçap sıfıra eşit veya sıfırdan küçük olamaz.\")"
   ]
  },
  {
   "cell_type": "markdown",
   "id": "11c0016e",
   "metadata": {},
   "source": [
    "#### elif\n",
    "\n",
    "Kimi durumda ise çoklu koşullarımız olabilir. Bu durumda ise ```elif``` anahtar kelimesi kullanılır.\n",
    "\n",
    "Bunun için Türkçe'de veya İngilizce'de güzel bir karşılık bulmak zor. Ama Türkçe için ```eğer değilse```, İngilizce'de ise ```else if``` şeklinde düşünülebilir. ```elif``` de ```else if```'in kısaltılmış halidir. Elif ŞAFAK olmadığı kesin.\n",
    "\n",
    "```{image} ../images/not_funny.gif\n",
    ":class: bg-primary mb-1\n",
    ":width: 400px\n",
    ":align: center\n",
    "```\n",
    "\n",
    "```elif```, ```if``` gibi mantıksal veri bekler.\n",
    "\n",
    "\n",
    "```\n",
    "if MANTIKSAL_VERİ1:\n",
    "    İŞLEM_1\n",
    "    İŞLEM_2\n",
    "    İŞLEM_3\n",
    "elif MANTIKSAL_VERİ2:\n",
    "    İŞLEM_4\n",
    "    İŞLEM_5\n",
    "    İŞLEM_6\n",
    "else:\n",
    "    İŞLEM_7\n",
    "    İŞLEM_8\n",
    "    İŞLEM_9\n",
    "```\n",
    "\n",
    ":::{note}\n",
    "```else``` koşullu ifadelerin en sonunda yer almak zoruda. Kendisinden önce gelen blokların tamamı koşulları sağlamadıysa çalışır.\n",
    ":::\n",
    "\n",
    "\n",
    "```elif``` ifadelerinin azami sayısı yoktur. Lakin, eğer çok sayıda ```elif``` kullanmak zorunda kalıyorsanız, muhtemelen mantıksal ifadeyi doğru kurgulayamamışsınızdır. Bir kahve alıp, kafanızı dağıttıktan sonra tekrar düşünün.\n",
    "\n",
    "<hr>\n",
    "\n",
    "Örnek\n",
    "\n",
    "$f(x)$'in sonucunu hesaplayan python programını yazınız\n",
    "\n",
    "$$f(x)=\\begin{equation}\n",
    "\\left\\{ \n",
    "  \\begin{aligned}\n",
    "    x^2 & &x\\ge 10\\\\\n",
    "    x^3 & &x\\le -10\\\\\n",
    "    5 x & & -10 \\lt x \\lt 10 \\\\\n",
    "  \\end{aligned}\n",
    "  \\right.\n",
    "\\end{equation}\n",
    "$$\n",
    "\n"
   ]
  },
  {
   "cell_type": "code",
   "execution_count": 21,
   "id": "d4376821",
   "metadata": {},
   "outputs": [
    {
     "name": "stdout",
     "output_type": "stream",
     "text": [
      "40\n"
     ]
    }
   ],
   "source": [
    "x = 8\n",
    "\n",
    "if x >= 10:\n",
    "    print(x ** 2)\n",
    "elif x <= -10:\n",
    "    print(x ** 3)\n",
    "elif x > -10 and x < 10:\n",
    "    print(5 * x)\n"
   ]
  },
  {
   "cell_type": "markdown",
   "id": "c0d47fee",
   "metadata": {},
   "source": [
    ":::{warning}\n",
    "Dikkat edersek, parçalı fonksiyonumuzdaki son koşul aslında ilk iki koşulun dışında kalan bütün durumları kapsamaktadır. Dolayısıyla kodumuzu aşağıdaki gibi düzenleyebiliriz:\n",
    ":::"
   ]
  },
  {
   "cell_type": "code",
   "execution_count": 24,
   "id": "525d3e54",
   "metadata": {},
   "outputs": [
    {
     "name": "stdout",
     "output_type": "stream",
     "text": [
      "40\n"
     ]
    }
   ],
   "source": [
    "x = 8\n",
    "\n",
    "if x >= 10:\n",
    "    print(x ** 2)\n",
    "elif x <= -10:\n",
    "    print(x ** 3)\n",
    "else:\n",
    "    print(5 * x)\n"
   ]
  },
  {
   "cell_type": "markdown",
   "id": "fa68c3e4",
   "metadata": {},
   "source": [
    ":::{warning}\n",
    "Çoklu bloktan oluşan koşullu ifadelerde, koşullardan birinin sağlanması durumunda geriye kalan koşullara bakılmaz.\n",
    ":::\n",
    "\n",
    "```\n",
    "if MANTIKSAL_VERİ1:\n",
    "    İŞLEM_1\n",
    "elif MANTIKSAL_VERİ2:\n",
    "    İŞLEM_2\n",
    "elif MANTIKSAL_VERİ3:\n",
    "    İŞLEM_3\n",
    "elif MANTIKSAL_VERİ4:\n",
    "    İŞLEM_4\n",
    "elif MANTIKSAL_VERİ5:\n",
    "    İŞLEM_5\n",
    "elif MANTIKSAL_VERİ6:\n",
    "    İŞLEM_6\n",
    "else:\n",
    "    İŞLEM_7\n",
    "```\n",
    "\n",
    "\n",
    "Yukarıdaki ifade de ```MANTIKSAL_VERİ3``` sağlanırsa, ```MANTIKSAL_VERİ4```, ```MANTIKSAL_VERİ5```, ```MANTIKSAL_VERİ6``` ve ```else``` kısmına bakılmaz.\n",
    "\n",
    "Bu, kimi yerde yararlı, kimi yerde ise baş belası olabilir.\n",
    "\n",
    "<hr>\n",
    "\n",
    "*Baş belası olduğu duruma* Örnek\n",
    "\n",
    "Verilen sayı, ```8```'den büyük ise ```çok büyük```, ```5```'te büyük ise ```fena değil```, ```2```'den büyük ise ```çok küçük``` çıktısı veren programı yazınız. (Bir arkadaşımın sorusu bu...)"
   ]
  },
  {
   "cell_type": "code",
   "execution_count": 29,
   "id": "b8153745",
   "metadata": {},
   "outputs": [
    {
     "name": "stdout",
     "output_type": "stream",
     "text": [
      "Çok küçük\n"
     ]
    }
   ],
   "source": [
    "sayi = 65535\n",
    "\n",
    "if sayi > 2:\n",
    "    print(\"Çok küçük\")\n",
    "elif sayi > 5:\n",
    "    print(\"Fena değil\")\n",
    "elif sayi > 8:\n",
    "    print(\"Çok büyük\")"
   ]
  },
  {
   "cell_type": "markdown",
   "id": "2dd96de9",
   "metadata": {},
   "source": [
    "Yukarıdaki koda baktığımızda sayı ```65535``` olmasına rağme ```Çok büyük``` çıktısı almadık.\n",
    "\n",
    "Bunun nedeni ise, önce ```2``` koşulunun denetlenmesidir. ```8``` ve ```5``` koşulunu sağlayan bütün durumlar ```2``` koşulunu da sağlar. dolayısıyla yazdığımız kod hiçbir zaman ```8``` ve ```5``` koşulunun doğru olduğu durumu işlemeyecektir.\n",
    "\n",
    "Düzeltmek için sorgularımızın sırasını değiştirmemiz yeterli olacaktır."
   ]
  },
  {
   "cell_type": "code",
   "execution_count": 30,
   "id": "377dc291",
   "metadata": {},
   "outputs": [
    {
     "name": "stdout",
     "output_type": "stream",
     "text": [
      "Çok büyük\n"
     ]
    }
   ],
   "source": [
    "sayi = 65535\n",
    "\n",
    "if sayi > 8:\n",
    "    print(\"Çok büyük\")\n",
    "elif sayi > 5:\n",
    "    print(\"Fena değil\")\n",
    "elif sayi > 2:\n",
    "    print(\"Çok küçük\")"
   ]
  },
  {
   "cell_type": "markdown",
   "id": "49e0aa3b",
   "metadata": {},
   "source": [
    "<hr>\n",
    "\n",
    "*Yararlı olduğu duruma* Örnek\n",
    "\n",
    "Verilen sayı ```10```'dan büyük ise ```Çok uzamış```, ```[10, 8)``` aralığında ise ```Bence uzun```, ```[8, 5)``` aralığında ise ```Bekleyebilir```, ```5```'ten küçük veya ```5```'e eşit ise ```Çok kısa``` çıktısı veren programı yazınız. (Saçlarımın uzunluğunu denetlemem gerekiyor)"
   ]
  },
  {
   "cell_type": "code",
   "execution_count": 34,
   "id": "1c5192b1",
   "metadata": {},
   "outputs": [
    {
     "name": "stdout",
     "output_type": "stream",
     "text": [
      "Bence uzun\n"
     ]
    }
   ],
   "source": [
    "sayi = 9\n",
    "\n",
    "if sayi > 10:\n",
    "    print(\"Çok uzamış\")\n",
    "elif sayi <= 10 and sayi > 8:\n",
    "    print(\"Bence uzun\")\n",
    "elif sayi <= 8 and sayi > 5:\n",
    "    print(\"Bekleyebilir\")\n",
    "elif sayi < 5:\n",
    "    print(\"Çok kısa\")"
   ]
  },
  {
   "cell_type": "markdown",
   "id": "f236bdf7",
   "metadata": {},
   "source": [
    "Öncelikle yine son ifadeye baktığımızda kendisinden önce gelen bütün ifadelerin dışında kalan herşeyi kapsadığını görüyoruz. Dolayısıyla kodu:"
   ]
  },
  {
   "cell_type": "code",
   "execution_count": 38,
   "id": "1ccda80e",
   "metadata": {},
   "outputs": [
    {
     "name": "stdout",
     "output_type": "stream",
     "text": [
      "Bence uzun\n"
     ]
    }
   ],
   "source": [
    "sayi = 9\n",
    "\n",
    "if sayi > 10:\n",
    "    print(\"Çok uzamış\")\n",
    "elif sayi <= 10 and sayi > 8:\n",
    "    print(\"Bence uzun\")\n",
    "elif sayi <= 8 and sayi > 5:\n",
    "    print(\"Bekleyebilir\")\n",
    "else:\n",
    "    print(\"Çok kısa\")"
   ]
  },
  {
   "cell_type": "markdown",
   "id": "aa7359ea",
   "metadata": {},
   "source": [
    "Şeklinde kısaltabiliriz. Ayrıca koşullu ifadelerin çalışma şeklinden faydalanıp, ifadeyi aşağıdaki gibi düşünebiliriz:"
   ]
  },
  {
   "cell_type": "code",
   "execution_count": 39,
   "id": "5dc63f04",
   "metadata": {},
   "outputs": [
    {
     "name": "stdout",
     "output_type": "stream",
     "text": [
      "Bence uzun\n"
     ]
    }
   ],
   "source": [
    "sayi = 9\n",
    "\n",
    "if sayi > 10:\n",
    "    print(\"Çok uzamış\")\n",
    "elif sayi > 8:\n",
    "    print(\"Bence uzun\")\n",
    "elif sayi > 5:\n",
    "    print(\"Bekleyebilir\")\n",
    "else:\n",
    "    print(\"Çok kısa\")"
   ]
  },
  {
   "cell_type": "markdown",
   "id": "76fca7b3",
   "metadata": {},
   "source": [
    "Verilen sayı ```10```'dan küçük ve ```8```'den büyük olduğu anda ikinci koşula yakalanır ve if bloğu sona erer.\n",
    "\n",
    "Dolayısıyla ```sayi <= 8 and sayi > 5``` yerine ```sayi > 5``` yazılabilir."
   ]
  },
  {
   "cell_type": "markdown",
   "id": "52e96626",
   "metadata": {},
   "source": [
    "```{image} ../images/not_bad.gif\n",
    ":class: bg-primary mb-1\n",
    ":width: 400px\n",
    ":align: center\n",
    "```"
   ]
  },
  {
   "cell_type": "markdown",
   "id": "8ac93d77",
   "metadata": {},
   "source": [
    "### Döngüler\n",
    "\n",
    "Programlamada bazen bir işlemi tekrarlamak isteyebilirsiniz. Bilimsel programlamada bu duruma çokça rastlanır.\n",
    "\n",
    "Örneğin iterasyon yaparken, verilen çok sayıda değerin toplamı, ortalaması vb gibi istatistiki bilgilerini hesaplarken belli başlı işlemleri tekrarlamanız gerekebilir.\n",
    "\n",
    "Bu durumda döngülere başvurulur.\n",
    "\n",
    "Herhangi bir progralama dilinde temelde 3 çeşit döngü bulunur.\n",
    "\n",
    "- ```while```\n",
    "- ```for```\n",
    "- ```foreach```\n",
    "\n",
    "Aslına bakacak olursak, tüm döngülerin temelinde ```while``` döngüsü vardır. Diğerleri iş kolaylaştırmak için var. ```while``` ile bütün işinizi halledebilirsiniz. Diğer döngüler ```while```'ın bir türevidir dersek yanlış olmaz.\n",
    "\n",
    "Bunu anlamak için size süreci anlatayım. Bunun için ```php```'yi kullanacağım. Dolayısıyla sizi ```Python``` diyarından ```php``` diyarına götüreceğim.\n",
    "\n",
    "Hazır mısınız?\n",
    "\n",
    "`````{div} full-width\n",
    "````{panels}\n",
    "PHP diyarı\n",
    "^^^\n",
    "**Döngüler**\n",
    "\n",
    "***While***\n",
    "\n",
    "```while``` belirli bir koşul sağlandığı sürece çalışan bir döngüdür.\n",
    "\n",
    "```\n",
    "while(MANTIKSAL_VERİ){\n",
    "    İŞLEM_1\n",
    "    İŞLEM_2\n",
    "    İŞLEM_3\n",
    "    \n",
    "}\n",
    "```\n",
    "\n",
    "şeklinde yazılır.\n",
    "\n",
    "<hr>\n",
    "Örnek\n",
    "\n",
    "``1``'den ``10``'a kadar olan bütün tam sayıları yazınız.\n",
    "\n",
    "```\n",
    "$i = 1;\n",
    "\n",
    "while($i<=10){\n",
    "    echo $i . \"<br>\";\n",
    "    $i++;\n",
    "}\n",
    "```\n",
    "\n",
    ":::{warning}\n",
    "Koşul kontrolü için kullanılan değişkenin (bizim örneğimizde ```$i```'in) değeri değiştirilmeli. Eğer değer değiştirilmez veya doğru değiştirilmez ise ```sonsuz bir döngü``` ile karşılaşırız.\n",
    ":::\n",
    "\n",
    "Dikkat edecek olursak, rutin bir yapı söz konusu:\n",
    "\n",
    "- Değişken tanımla\n",
    "- Koşulu kontol et\n",
    "- Değişkenin değerini değiştir\n",
    "\n",
    "Bu yapı çokça kullanılınca daha basit bir yapı ortaya çıkmaya başladı.\n",
    "\n",
    "***For***\n",
    "\n",
    "```for``` döngüsü bir değeri belirli bir aralıkta, belirli adımlarla değiştirerek çalışan bir döngüdür.\n",
    "\n",
    "```\n",
    "for(DEĞİŞKEN_TANNIMI; KOŞUL; ARTIM_MİKTARI){\n",
    "    İŞLEM_1\n",
    "    İŞLEM_2\n",
    "    İŞLEM_3\n",
    "    \n",
    "}\n",
    "```\n",
    "şeklinde yazılır.\n",
    "\n",
    "\n",
    "<hr>\n",
    "Örnek\n",
    "\n",
    "``1``'den ``10``'a kadar olan bütün tam sayıları yazınız.\n",
    "\n",
    "```\n",
    "for($i=1; $i<=10; $i++){\n",
    "    echo $i . \"<br>\";\n",
    "}\n",
    "```\n",
    "\n",
    "Ne kadar benziyor değil mi? Aslında ```while``` döngüsünün aynısı, sadece ```değişken tanımı```, ```koşul kontrolü``` ve ```artım miktarı``` aynı satırda ifade edilmiş.\n",
    "\n",
    "```for``` döngüsü kullanıla durmuş. İnsanlar ```for```'u dizilerin elemanlarına istedikleri gibi ulaşabilmek için kullanmaya da başlamış.\n",
    "\n",
    "<hr>\n",
    "\n",
    "örnek\n",
    "\n",
    "Bir dizi oluşturup, dizinin elemanlarını tek tek ekrana yazınız.\n",
    "\n",
    "```  \n",
    "$ar = [11, 4, 654, 8, 214, 5];\n",
    "for($i=1; $i<count($ar); $i++){\n",
    "    echo $ar[$i] . \"<br>\";\n",
    "}\n",
    "```\n",
    "\n",
    "***Foreach***\n",
    "\n",
    "Bu döngü şekli de çok kullanılmış. İnsanlar biz TİPler kadar olmasada tembeldir. Daha kolay yollar arar. Böylece ```foreach``` doğmuş oldu.\n",
    "\n",
    "```foreac``` dizi tipinde bir verinin her bir elemanını tek tek seçerek ilerleyen bir döngüdür.\n",
    "\n",
    "```\n",
    "\n",
    "foreach(DİZİ_DEĞİŞKEN as HER_ELEMANIN_ATANACAĞI_DEĞİŞKEN){\n",
    "    İŞLEM_1\n",
    "    İŞLEM_2\n",
    "    İŞLEM_3\n",
    "}\n",
    "```\n",
    "şeklinde yazılır.\n",
    "\n",
    "\n",
    "<hr>\n",
    "örnek\n",
    "Bir dizi oluşturup, dizinin elemanlarını tek tek ekrana yazınız.\n",
    "\n",
    "```\n",
    "$ar = [11, 4, 654, 8, 214, 5];\n",
    "foreach($ar as $a){\n",
    "    echo $a . \"<br>\";\n",
    "}\n",
    "```\n",
    "\n",
    "Böylece temel 3 döngü ortaya çıkar:\n",
    "\n",
    "- ```while```\n",
    "- ```for```\n",
    "- ```foreach```\n",
    "\n",
    "\n",
    "+++\n",
    "PHP diyarı çıkışı\n",
    "````\n",
    "`````\n",
    "\n",
    "```php```'ye katkıları için teşekkürler\n",
    "\n",
    ":::{warning}\n",
    "Yukarıda anlattığım hikaye tamamen hayal ürünü olup, gerçek derleyici ve yorumlayıcılarla ilgisi yoktur.\n",
    ":::\n"
   ]
  },
  {
   "cell_type": "markdown",
   "id": "80d58987",
   "metadata": {},
   "source": [
    "```while```, ```for``` ve ```foreach```'in ne oldupğunu anladığımıza göre, ```Python```'da döngülere dönebiliriz."
   ]
  },
  {
   "cell_type": "markdown",
   "id": "f77f059f",
   "metadata": {},
   "source": [
    "#### while\n",
    "\n",
    "```while``` döngüsü, blirli bir koşul sağlandığı sürece çalışan döngüdür.\n",
    "\n",
    "Tanımdan da amlaşılacağı üzere bir koşul sağlanacağından bir değer karşılaştırması söz konusu.\n",
    "\n",
    "```\n",
    "while MANTIKSAL_VERİ:\n",
    "    İŞLEM_1\n",
    "    İŞLEM_2\n",
    "    İŞLEM_3\n",
    "```\n",
    "\n",
    "şeklinde yazılır. ```if```'te olduğu gibi bir bloğun başlayacağını ifade etmek için ```:``` kullandık, ve ```:```'dan hemen sonra ```indentation``` başladı. Şimdi sıkı tutunun, buna da ```while``` bloğu denir.\n",
    "\n",
    "```{image} ../images/allah_allah.gif\n",
    ":class: bg-primary mb-1\n",
    ":width: 400px\n",
    ":align: center\n",
    "```\n",
    "\n",
    "\n",
    "```indentation``` içinde kalan bütün işlemler ```while``` bloğuna ait.\n",
    "\n",
    "<hr>\n",
    "\n",
    "Örnek\n",
    "\n",
    "```1```'den ```10```'a kadar olan bütün tam sayıları ekrana yazınız. (```10``` dahil)"
   ]
  },
  {
   "cell_type": "code",
   "execution_count": 48,
   "id": "3d1bba30",
   "metadata": {},
   "outputs": [
    {
     "name": "stdout",
     "output_type": "stream",
     "text": [
      "1\n",
      "2\n",
      "3\n",
      "4\n",
      "5\n",
      "6\n",
      "7\n",
      "8\n",
      "9\n",
      "10\n"
     ]
    }
   ],
   "source": [
    "i = 1\n",
    "while i <= 10:\n",
    "    print(i)\n",
    "    i = i + 1"
   ]
  },
  {
   "cell_type": "markdown",
   "id": "b42f72f0",
   "metadata": {},
   "source": [
    "#### for\n",
    "\n",
    "```Python```'da ```for``` döngüsü yoktur.\n",
    "\n",
    "```{image} ../images/shock.gif\n",
    ":class: bg-primary mb-1\n",
    ":width: 400px\n",
    ":align: center\n",
    "```\n",
    "\n",
    "İşlerimimizi ```foreach``` ile hallediyoruz.\n",
    "\n",
    "Bu yetmezmiş gibi, ```foreach```'e ```for``` diyoruz, ```foreach``` diye bir tanımımız da yok.\n",
    "\n",
    "Kısacası, ```Python```'da ```for``` aslında ```foreeach```'tir.\n",
    "\n",
    "<hr>\n",
    "\n",
    "Örnek\n",
    "\n",
    "Bir dizi oluşturup, dizinin elemanlarını tek tek ekrana yazınız."
   ]
  },
  {
   "cell_type": "code",
   "execution_count": 49,
   "id": "a2035ad3",
   "metadata": {},
   "outputs": [
    {
     "name": "stdout",
     "output_type": "stream",
     "text": [
      "11\n",
      "4\n",
      "654\n",
      "8\n",
      "214\n",
      "5\n"
     ]
    }
   ],
   "source": [
    "dizi = [11, 4, 654, 8, 214, 5]\n",
    "\n",
    "for eleman in dizi:\n",
    "    print(eleman)"
   ]
  },
  {
   "cell_type": "markdown",
   "id": "03677a6e",
   "metadata": {},
   "source": [
    "\"Peki ```1```'den ```10```'a kadar olan sayıları ```for``` döngüsünde gösteremeyecek miyiz?\" diye sorduğunuzu duyar gibiyim. (Sormasanız da söyleyeceğim.)\n",
    "\n",
    "```1```'den ```10```'a kadar olan değerleri barındıran bir dizi oluşturuyoruz. Sonra o dizi için ```for``` çalıştırıyoruz.\n",
    "\n",
    ":::{warning}\n",
    "Demin söylediğim aslında doğru değil. Ama ```generator``` kavramını işlemeden, ki ilerleyen başlıklarda işleyeceğiz, bunu anlamanın daha kolay yolu yok malesef. \n",
    ":::\n",
    "\n",
    "<hr>\n",
    "\n",
    "Örnek\n",
    "\n",
    "``1``'den ``10``'a kadar olan bütün tam sayıları yazınız."
   ]
  },
  {
   "cell_type": "code",
   "execution_count": 52,
   "id": "797faf6a",
   "metadata": {},
   "outputs": [
    {
     "data": {
      "text/plain": [
       "[1, 2, 3, 4, 5, 6, 7, 8, 9, 10]"
      ]
     },
     "execution_count": 52,
     "metadata": {},
     "output_type": "execute_result"
    }
   ],
   "source": [
    "list(range(1, 11))"
   ]
  },
  {
   "cell_type": "code",
   "execution_count": 53,
   "id": "0f61620a",
   "metadata": {},
   "outputs": [
    {
     "name": "stdout",
     "output_type": "stream",
     "text": [
      "1\n",
      "2\n",
      "3\n",
      "4\n",
      "5\n",
      "6\n",
      "7\n",
      "8\n",
      "9\n",
      "10\n"
     ]
    }
   ],
   "source": [
    "for i in range(1, 11):\n",
    "    print(i)"
   ]
  },
  {
   "cell_type": "markdown",
   "id": "74a79bed",
   "metadata": {},
   "source": [
    "### Fonksiyonlar\n",
    "\n",
    "Bazen aynı işlemi defalarca yapmak zorunda kalabilirsiniz. Söz konusu işlemin ne olduğunun, uzunluğunun ne olduğunun bir önemi yok. Sadece işlmei defalarca tekrarlamak zorundasınız.\n",
    "\n",
    "Bu aşamada fonksiyonlar imdada yetişir.\n",
    "\n",
    "```Python```'da bir fonksiyon tanımlamak için ```def``` anahtarkelimesi kullanılır.\n",
    "\n",
    "Fonksiyon yazım kuralı:\n",
    "\n",
    "```\n",
    "def FONKSİYON_ADI():\n",
    "    İŞLEM1\n",
    "    İŞLEM2\n",
    "    İŞLEM3\n",
    "```\n",
    "\n",
    "şeklindedir.\n",
    "\n",
    "<sub>Fonksiyon bloğu. :)</sub>\n",
    "\n",
    "<hr>\n",
    "\n",
    "Örnek\n",
    "\n",
    "Ekrana \"merhaba dünya\" yazan ```selmala``` adlı bir fonksiyon yazınız."
   ]
  },
  {
   "cell_type": "code",
   "execution_count": 54,
   "id": "7809c5cb",
   "metadata": {},
   "outputs": [],
   "source": [
    "def selamla():\n",
    "    print(\"merhaba dünya\")"
   ]
  },
  {
   "cell_type": "markdown",
   "id": "690068cd",
   "metadata": {},
   "source": [
    "```{image} ../images/confiused.gif\n",
    ":class: bg-primary mb-1\n",
    ":width: 400px\n",
    ":align: center\n",
    "```\n",
    "\n",
    "E bir şey olmadı.\n",
    "\n",
    "Bunun nedeni, fonksiyonu tanımlamış fakat çalıştırmamış olmamızdır.\n",
    "\n",
    "Fonksiyonu oluşturduktan sonra bir de çağıralım:"
   ]
  },
  {
   "cell_type": "code",
   "execution_count": 55,
   "id": "facdc284",
   "metadata": {},
   "outputs": [
    {
     "name": "stdout",
     "output_type": "stream",
     "text": [
      "merhaba dünya\n"
     ]
    }
   ],
   "source": [
    "def selamla():\n",
    "    print(\"merhaba dünya\")\n",
    "\n",
    "selamla()"
   ]
  },
  {
   "cell_type": "markdown",
   "id": "3c8521a3",
   "metadata": {},
   "source": [
    "Evet şimdi daha iyi.\n",
    "\n",
    ":::{warning}\n",
    "Bir fonksiyonu çağırmak için fonksiyon adını yazmamız yeterşli değildir. Fonskiyonun çalışması için fonksiyon adından sonra ```()``` kullanmalısınız.\n",
    ":::"
   ]
  },
  {
   "cell_type": "markdown",
   "id": "bfee2c3b",
   "metadata": {},
   "source": [
    "Fonksiyonlar bazen parametre alabilir. Bunun anlamı, fonksiyonumuzun dışarıdan değer alıp, söz konusu değeri işleyeceğidir.\n",
    "\n",
    "Böyle fonksiyonlarda, fonksiyon çağırılırken değer sağlanmalı.\n",
    "\n",
    "<hr>\n",
    "\n",
    "Örnek\n",
    "\n",
    "Dairenin alanını hesaplayan ```daire_alani``` adlı bir fonksiyon yazınız. Bu fonksiyon dışarıdan yarıçap değerini ```r``` olarak almalı."
   ]
  },
  {
   "cell_type": "code",
   "execution_count": 57,
   "id": "6f80e570",
   "metadata": {},
   "outputs": [
    {
     "ename": "TypeError",
     "evalue": "daire_alani() missing 1 required positional argument: 'r'",
     "output_type": "error",
     "traceback": [
      "\u001b[1;31m---------------------------------------------------------------------------\u001b[0m",
      "\u001b[1;31mTypeError\u001b[0m                                 Traceback (most recent call last)",
      "\u001b[1;32m~\\AppData\\Local\\Temp/ipykernel_15660/4168446603.py\u001b[0m in \u001b[0;36m<module>\u001b[1;34m\u001b[0m\n\u001b[0;32m      3\u001b[0m     \u001b[0mprint\u001b[0m\u001b[1;33m(\u001b[0m\u001b[0malan\u001b[0m\u001b[1;33m)\u001b[0m\u001b[1;33m\u001b[0m\u001b[1;33m\u001b[0m\u001b[0m\n\u001b[0;32m      4\u001b[0m \u001b[1;33m\u001b[0m\u001b[0m\n\u001b[1;32m----> 5\u001b[1;33m \u001b[0mdaire_alani\u001b[0m\u001b[1;33m(\u001b[0m\u001b[1;33m)\u001b[0m\u001b[1;33m\u001b[0m\u001b[1;33m\u001b[0m\u001b[0m\n\u001b[0m",
      "\u001b[1;31mTypeError\u001b[0m: daire_alani() missing 1 required positional argument: 'r'"
     ]
    }
   ],
   "source": [
    "def daire_alani(r):\n",
    "    alan = 3.14115 * r ** 2\n",
    "    print(alan)\n",
    "    \n",
    "daire_alani()"
   ]
  },
  {
   "cell_type": "markdown",
   "id": "886218e6",
   "metadata": {},
   "source": [
    "```{image} ../images/scared.gif\n",
    ":class: bg-primary mb-1\n",
    ":width: 400px\n",
    ":align: center\n",
    "```\n",
    "\n",
    "Hata aldık. ne yapacağız? Tabii ki hatanın mesajını okuyacağız:\n",
    "\n",
    "```\n",
    "TypeError: daire_alani() missing 1 required positional argument: 'r'\n",
    "```\n",
    "\n",
    "daire_alani() 1 zorunlu potansiyel argüman eksikliği yaşıyormuş.\n",
    "\n",
    "Sorunu anladınız mı? Yarıçap değerini vermedik...\n",
    "\n",
    "Tüh"
   ]
  },
  {
   "cell_type": "code",
   "execution_count": 58,
   "id": "412e4b30",
   "metadata": {},
   "outputs": [
    {
     "name": "stdout",
     "output_type": "stream",
     "text": [
      "78.52875\n"
     ]
    }
   ],
   "source": [
    "def daire_alani(r):\n",
    "    alan = 3.14115 * r ** 2\n",
    "    print(alan)\n",
    "    \n",
    "daire_alani(5)"
   ]
  },
  {
   "cell_type": "markdown",
   "id": "87f85fcc",
   "metadata": {},
   "source": [
    "Şimdi gelelim bu fonksiyonun hayatımızı nasıl kolaylaştırdığını anlamaya.\n",
    "\n",
    "Hatırlarsanız, başta aynı işlemleri tekrar tekrar yapmak zorunda kalmaktan bahsetmiştim.\n",
    "\n",
    "<hr>\n",
    "\n",
    "Örnek\n",
    "\n",
    "Yarıçapları sırasıyla ```10```, ```5```, ```22```, ```55```, ```98``` ve ```65``` olan dairelerin alanlarını ve çevrelerini hesaplayınız."
   ]
  },
  {
   "cell_type": "markdown",
   "id": "8bf35a7a",
   "metadata": {},
   "source": [
    "Fonksiyonun ne olduğunu bilmeseydik:"
   ]
  },
  {
   "cell_type": "code",
   "execution_count": 60,
   "id": "650600bf",
   "metadata": {},
   "outputs": [
    {
     "name": "stdout",
     "output_type": "stream",
     "text": [
      "314.15000000000003 62.830000000000005\n",
      "78.53750000000001 31.415000000000003\n",
      "1520.486 138.226\n",
      "9503.0375 345.565\n",
      "30170.966 615.734\n",
      "13272.837500000001 408.39500000000004\n"
     ]
    }
   ],
   "source": [
    "pi = 3.1415\n",
    "for r in [10, 5, 22, 55, 98, 65]:\n",
    "    alan = pi * r ** 2\n",
    "    cevre = 2 * pi * r\n",
    "    print(alan, cevre)"
   ]
  },
  {
   "cell_type": "markdown",
   "id": "8cf1378d",
   "metadata": {},
   "source": [
    "Fonksiyonlardan yararlansak"
   ]
  },
  {
   "cell_type": "code",
   "execution_count": 62,
   "id": "a8dc97a9",
   "metadata": {},
   "outputs": [
    {
     "name": "stdout",
     "output_type": "stream",
     "text": [
      "314.15000000000003 62.830000000000005\n",
      "78.53750000000001 31.415000000000003\n",
      "1520.486 138.226\n",
      "9503.0375 345.565\n",
      "30170.966 615.734\n",
      "13272.837500000001 408.39500000000004\n"
     ]
    }
   ],
   "source": [
    "pi = 3.1415\n",
    "def alan_ve_cevre(r):\n",
    "    print(pi * r ** 2, 2 * pi * r)\n",
    "    \n",
    "for r in [10, 5, 22, 55, 98, 65]:\n",
    "    alan_ve_cevre(r)"
   ]
  },
  {
   "cell_type": "markdown",
   "id": "8670a13e",
   "metadata": {},
   "source": [
    "Böylece alan ve çevreye başka yerde ihtiyacım olsa yine çağırabilirim"
   ]
  }
 ],
 "metadata": {
  "kernelspec": {
   "display_name": "Python 3 (ipykernel)",
   "language": "python",
   "name": "python3"
  },
  "language_info": {
   "codemirror_mode": {
    "name": "ipython",
    "version": 3
   },
   "file_extension": ".py",
   "mimetype": "text/x-python",
   "name": "python",
   "nbconvert_exporter": "python",
   "pygments_lexer": "ipython3",
   "version": "3.9.6"
  }
 },
 "nbformat": 4,
 "nbformat_minor": 5
}
