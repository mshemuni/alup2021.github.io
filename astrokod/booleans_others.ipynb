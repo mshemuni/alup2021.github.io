{
 "cells": [
  {
   "cell_type": "markdown",
   "id": "fc925bd3",
   "metadata": {},
   "source": [
    "# ```bool``` ve Diğer\n",
    "\n",
    "## ```bool```\n",
    "\n",
    "Mantıksal veriler aslında ```int```'ların bir alt sınıfır. ```True``` ve ```False``` olmak üzere iki değer taşıyabilirler.\n",
    "\n",
    "```True``` doğru, ```Fales``` yanlış demektir.\n",
    "\n",
    "### Eşdeğerler\n",
    "\n",
    "Diğer veri türleri değerlerine göre ```True``` ve ```False``` olarak algılanabilirler.\n",
    "\n",
    "#### ```True``` olarak algılanan değerler:\n",
    "- ```True```\n",
    "- Boş olmayan ```str```\n",
    "- Boş olmayan ```list```\n",
    "- Boş olmayan ```dict```\n",
    "- Boş olmayan ```tuple```\n",
    "- Boş olmayan ```set```\n",
    "- ```0``` olmayan ```int``` (Negatif değerler dahil)\n",
    "- ```0.0``` olmayan ```float``` (Negatif değerler dahil)\n",
    "- ```0+0j``` olmayan ```complex``` (Negatif değerler dahil)\n",
    "\n",
    "#### ```False``` olarak algılanan değerler:\n",
    "- ```False```\n",
    "- Boş olan ```str```\n",
    "- Boş olan ```list```\n",
    "- Boş olan ```dict```\n",
    "- Boş olan ```tuple```\n",
    "- Boş olan ```set```\n",
    "- ```0``` olan ```int```\n",
    "- ```0.0``` olan ```float```\n",
    "- ```0+0j``` olan ```complex```\n",
    "- ```None```"
   ]
  },
  {
   "cell_type": "markdown",
   "id": "8fa69a86",
   "metadata": {},
   "source": [
    "## Diğer\n",
    "```None``` ve ```object``` olarak diğer değerlerimiz var.\n",
    "\n",
    "### ```None```\n",
    "\n",
    "```None``` aslında bir ```anahtar kelimesi```dir. Yok demektir.\n",
    "\n",
    ":::{note}\n",
    "\n",
    "```None``` var olmayan değer değildir. ```hiçlik```'tir.\n",
    "\n",
    ":::\n",
    "\n",
    "### ```object```\n",
    "Bütün veri türleri, birer objedir. Özel veya varayılan bütün objeler, kalıtım yoluyla ```object```'ten miras alır (```Inheritance ```).\n",
    "\n",
    "<hr>\n",
    "\n",
    "Örnek"
   ]
  },
  {
   "cell_type": "code",
   "execution_count": 5,
   "id": "7b06740d",
   "metadata": {},
   "outputs": [
    {
     "name": "stdout",
     "output_type": "stream",
     "text": [
      "True\n",
      "True\n",
      "True\n",
      "True\n",
      "True\n"
     ]
    }
   ],
   "source": [
    "print(isinstance(1, object))\n",
    "print(isinstance(1.1, object))\n",
    "print(isinstance(1+1j, object))\n",
    "print(isinstance(\"muhammed\", object))\n",
    "print(isinstance([], object))"
   ]
  },
  {
   "cell_type": "code",
   "execution_count": null,
   "id": "40fa9e6a",
   "metadata": {},
   "outputs": [],
   "source": []
  }
 ],
 "metadata": {
  "kernelspec": {
   "display_name": "Python 3 (ipykernel)",
   "language": "python",
   "name": "python3"
  },
  "language_info": {
   "codemirror_mode": {
    "name": "ipython",
    "version": 3
   },
   "file_extension": ".py",
   "mimetype": "text/x-python",
   "name": "python",
   "nbconvert_exporter": "python",
   "pygments_lexer": "ipython3",
   "version": "3.9.6"
  }
 },
 "nbformat": 4,
 "nbformat_minor": 5
}
