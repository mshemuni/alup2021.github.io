{
 "cells": [
  {
   "cell_type": "markdown",
   "id": "3112286a",
   "metadata": {},
   "source": [
    "# Programlama\n",
    "Birileri programlama yaparken, aslında tam olarak veri işler.\n",
    "\n",
    "Hesap makinesi yapan biri aslında 4 işlem yapan bir program yazmıştır.\n",
    "\n",
    "Bir API yazan biri aslında gelen veriyi işleyip sonuç sunan bir program yazmıştır.\n",
    "\n",
    "Bu kadar veri işlediğimize göre Python'da veri tiplerinden bahsedelim\n",
    "\n",
    ":::{note}\n",
    "Python'da veri tipi tanımlaması yapılmaz. Python bu işlemi otomatik olarak gerçekleştirir.\n",
    ":::"
   ]
  },
  {
   "cell_type": "markdown",
   "id": "fe3822e2",
   "metadata": {},
   "source": [
    "## Python'da veri tipleri"
   ]
  },
  {
   "cell_type": "markdown",
   "id": "3c3cf06e",
   "metadata": {},
   "source": [
    "### Nümerik veriler\n",
    "Python'da üç çeşit nümerik veri vardır.\n",
    "\n",
    "- ```Integer```\n",
    "- ```Float```\n",
    "- ```Complex```\n",
    "\n",
    "\n",
    "adlarından anlaşılmadığı için ben bu tür verileri anlatayım."
   ]
  },
  {
   "cell_type": "markdown",
   "id": "7e013a29",
   "metadata": {},
   "source": [
    "#### Integer\n",
    "Tam sayı veri tipidir. Kesirli veya karmaşık sayıları taşıyamaz.\n",
    "\n",
    "```int``` olarak gösterilir ve alt ve üst limiti yoktur.\n",
    "\n",
    ">The plain int type is unbounded.\n",
    "\n",
    "<hr>\n",
    "    \n",
    "```int``` veri tipine örnek:"
   ]
  },
  {
   "cell_type": "code",
   "execution_count": 1,
   "id": "03f768c4",
   "metadata": {},
   "outputs": [
    {
     "data": {
      "text/plain": [
       "1"
      ]
     },
     "execution_count": 1,
     "metadata": {},
     "output_type": "execute_result"
    }
   ],
   "source": [
    "1"
   ]
  },
  {
   "cell_type": "markdown",
   "id": "19e3277e",
   "metadata": {},
   "source": [
    "#### Float\n",
    "Kesirli sayı veri tipidir. Tam sayıları taşıyabilir, fakat karmaşık sayıları taşıyamaz.\n",
    "\n",
    "```float``` olarak gösterilir, alabileceği en büyük değer ```1.7976931348623157e+308``` ve alabileceği en küçük değer \n",
    "```-1.7976931348623157e+308```'dir.\n",
    "\n",
    "<hr>\n",
    "\n",
    "```float``` veri tipine örnek:"
   ]
  },
  {
   "cell_type": "code",
   "execution_count": 2,
   "id": "96ef962a",
   "metadata": {},
   "outputs": [
    {
     "data": {
      "text/plain": [
       "1.1"
      ]
     },
     "execution_count": 2,
     "metadata": {},
     "output_type": "execute_result"
    }
   ],
   "source": [
    "1.1"
   ]
  },
  {
   "cell_type": "markdown",
   "id": "ce742895",
   "metadata": {},
   "source": [
    "<hr>\n",
    "\n",
    "```float```'un ```int``` veri tipini barındırdığından bahsetmiştik. Evet, ```1.0``` bir ```int``` olarak düşünülebilir.\n"
   ]
  },
  {
   "cell_type": "markdown",
   "id": "0c6a2e41",
   "metadata": {},
   "source": [
    "#### complex\n",
    "Karmaşık sayı veri tipidir. (Muhtemelen hiç kullanmayacağız) Tam ve kesirli sayıları taşıyabilir.\n",
    "\n",
    "```complex``` olarak gösterilir, karmaşık ve reel kısım için alabileceği en büyük değer ```1.7976931348623157e+308``` ve alabileceği en küçük değer \n",
    "```-1.7976931348623157e+308```'dir.\n",
    "\n",
    "<hr>\n",
    "\n",
    "```complex``` veri tipine örnek:"
   ]
  },
  {
   "cell_type": "code",
   "execution_count": 3,
   "id": "05c71d78",
   "metadata": {},
   "outputs": [
    {
     "data": {
      "text/plain": [
       "(1+1j)"
      ]
     },
     "execution_count": 3,
     "metadata": {},
     "output_type": "execute_result"
    }
   ],
   "source": [
    "1+1j"
   ]
  },
  {
   "cell_type": "markdown",
   "id": "7b4b366c",
   "metadata": {},
   "source": [
    ":::{note}\n",
    "Şimdi siz sorarsınız neden ```i``` değil de ```j```. Matematikte ```i``` kullanılır.\n",
    "\n",
    "Evet haklısınız. Bir TİP olarak bunun nedenini açıklayarak kendimle çelişeceğim.\n",
    "\n",
    "```i``` ve ```I``` bazı fontlarda ```1``` ve ```l``` (küçük L)'ye benzediği için ```j``` seçilmiştir.\n",
    "\n",
    "Bu konuyu daha detaylı incelemek isteyenler aşağıdaki bağlantıya bakabilirler.\n",
    "\n",
    "https://bugs.python.org/issue10562\n",
    ":::\n",
    "\n",
    "\n",
    "<hr>\n",
    "\n",
    "```complx```'in ```int``` ve ```float``` veri tiplerini barındırdığından bahsetmiştik. Evet, ```1+0j``` bir ```int``` \n",
    "ve ```1.1+0j``` bir ```float``` olarak düşünülebilir."
   ]
  },
  {
   "cell_type": "markdown",
   "id": "62419d4c",
   "metadata": {},
   "source": [
    "### Metin verisi\n",
    "```str``` olarak gösterilen metin veritipi ```String``` olarak da bilinir.\n",
    "\n",
    "Bu veri tipinin azami ve asgari değer gibi özellikleri yoktur.\n",
    "\n",
    "\n",
    "<hr>\n",
    "\n",
    "```str``` veri tipine örnek:"
   ]
  },
  {
   "cell_type": "code",
   "execution_count": 4,
   "id": "b6c7f9a1",
   "metadata": {},
   "outputs": [
    {
     "data": {
      "text/plain": [
       "'Muhammed'"
      ]
     },
     "execution_count": 4,
     "metadata": {},
     "output_type": "execute_result"
    }
   ],
   "source": [
    "\"Muhammed\""
   ]
  },
  {
   "cell_type": "markdown",
   "id": "4755d99d",
   "metadata": {},
   "source": [
    "### Dizi veriler\n",
    "Dizi veriler çoklu değer taşıyabilen veri tipleridir. 4'e ayrılırlar.\n",
    "\n",
    "- ```list```\n",
    "- ```dict```\n",
    "- ```tuple```\n",
    "- ```set```"
   ]
  },
  {
   "cell_type": "markdown",
   "id": "0de53ba1",
   "metadata": {},
   "source": [
    "#### list\n",
    "```list```'ler dizi veri tiplerinden biridir. ```list```'ler içinde bütün veri tiplerinden taşıyabilirler. \n",
    "Aynı ```list``` veri içinde farklı veri tipleri saklanabilir.\n",
    "\n",
    "<hr>\n",
    "\n",
    "```list``` veri tipine örnek:"
   ]
  },
  {
   "cell_type": "code",
   "execution_count": 5,
   "id": "adb49aaf",
   "metadata": {},
   "outputs": [
    {
     "data": {
      "text/plain": [
       "[1, 2, 3]"
      ]
     },
     "execution_count": 5,
     "metadata": {},
     "output_type": "execute_result"
    }
   ],
   "source": [
    "[1, 2, 3] # int'lerden oluşan list"
   ]
  },
  {
   "cell_type": "code",
   "execution_count": 6,
   "id": "972e50e7",
   "metadata": {},
   "outputs": [
    {
     "data": {
      "text/plain": [
       "[1.1, 2.2, 3.3]"
      ]
     },
     "execution_count": 6,
     "metadata": {},
     "output_type": "execute_result"
    }
   ],
   "source": [
    "[1.1, 2.2, 3.3] # float'lardan oluşan list"
   ]
  },
  {
   "cell_type": "code",
   "execution_count": 7,
   "id": "524f3bee",
   "metadata": {},
   "outputs": [
    {
     "data": {
      "text/plain": [
       "[(1+1j), (2+2j), (3+3j)]"
      ]
     },
     "execution_count": 7,
     "metadata": {},
     "output_type": "execute_result"
    }
   ],
   "source": [
    "[1+1j, 2+2j, 3+3j] # comlex'lerden oluşan list"
   ]
  },
  {
   "cell_type": "code",
   "execution_count": 8,
   "id": "668115ac",
   "metadata": {},
   "outputs": [
    {
     "data": {
      "text/plain": [
       "['Muhammed', 'Shameoni', 'Niaei']"
      ]
     },
     "execution_count": 8,
     "metadata": {},
     "output_type": "execute_result"
    }
   ],
   "source": [
    "[\"Muhammed\", \"Shameoni\", \"Niaei\"] # str'lerden oluşan list"
   ]
  },
  {
   "cell_type": "code",
   "execution_count": 9,
   "id": "9fa39e88",
   "metadata": {},
   "outputs": [
    {
     "data": {
      "text/plain": [
       "[[1, 2, 3], [4, 5, 6], [7, 8, 9]]"
      ]
     },
     "execution_count": 9,
     "metadata": {},
     "output_type": "execute_result"
    }
   ],
   "source": [
    "[[1, 2, 3], [4, 5, 6], [7, 8, 9]] # list'lerden oluşan list"
   ]
  },
  {
   "cell_type": "markdown",
   "id": "fcedd1fc",
   "metadata": {},
   "source": [
    "#### dict\n",
    "```dict```'ler dizi veri tiplerinden biridir. ```dict```'ler ```JSON```'a çok benzer. Bir anahtar ve anahtar'a karşılık \n",
    "gelen değerden oluşur."
   ]
  },
  {
   "cell_type": "markdown",
   "id": "c9b61a90",
   "metadata": {},
   "source": [
    "Anahtar, bir ```str```, ```int```, ```float```, ```complex``` veya ```tuple``` olabilir. \n",
    "Fakat ```dict```, ```list``` veya ```set``` olamaz.\n",
    "\n",
    "Değer ise bütün veri tiplerinden olaiblir.\n",
    "\n",
    "<hr>\n",
    "\n",
    "```dict``` veri tipine örnek:"
   ]
  },
  {
   "cell_type": "code",
   "execution_count": 10,
   "id": "3206a35d",
   "metadata": {},
   "outputs": [
    {
     "data": {
      "text/plain": [
       "{'İlk': 1}"
      ]
     },
     "execution_count": 10,
     "metadata": {},
     "output_type": "execute_result"
    }
   ],
   "source": [
    "{\"İlk\": 1}"
   ]
  },
  {
   "cell_type": "code",
   "execution_count": 11,
   "id": "af9585ca",
   "metadata": {},
   "outputs": [
    {
     "data": {
      "text/plain": [
       "{'kimlik': {'ad': 'Mohammad', 'soyad': 'SHAMEONI NIAEI'}}"
      ]
     },
     "execution_count": 11,
     "metadata": {},
     "output_type": "execute_result"
    }
   ],
   "source": [
    "{\n",
    "    \"kimlik\": {\n",
    "        \"ad\": \"Mohammad\",\n",
    "        \"soyad\": \"SHAMEONI NIAEI\",\n",
    "    }\n",
    "}"
   ]
  },
  {
   "cell_type": "markdown",
   "id": "98fa64c7",
   "metadata": {},
   "source": [
    "#### tuple\n",
    "```tuple```'ler dizi veri tiplerinden biridir. ```tuple```'lar değiştirilemezler. ```list```ler, ```dict```ler oluşturulduktan sonra düzenlenebilirler. Fakat ```tuple```lar düzenlemezler. Bu da bazı veriler için biçilmiş kaftan olmalarına neden olur.\n",
    "\n",
    "Örneğin bir yerin coğrafi konumu. Yerin coğrafi konumu değişmeyeceğinden ```tuple``` tipinde tutulmasında yarar vardır.\n",
    "\n",
    "<hr>\n",
    "\n",
    "```tuple``` veri tipine örnek:"
   ]
  },
  {
   "cell_type": "code",
   "execution_count": 12,
   "id": "8ee44ec1",
   "metadata": {},
   "outputs": [
    {
     "data": {
      "text/plain": [
       "(1, 1)"
      ]
     },
     "execution_count": 12,
     "metadata": {},
     "output_type": "execute_result"
    }
   ],
   "source": [
    "(1, 1)"
   ]
  },
  {
   "cell_type": "markdown",
   "id": "13d3f866",
   "metadata": {},
   "source": [
    "#### set\n",
    "```set```'ler dizi veri tiplerinden biridir. ```set```'lar değiştirilemezler. ```set```ler tekrar değer barındıramazlar.\n",
    "\n",
    "<hr>\n",
    "\n",
    "```set``` veri tipine örnek:"
   ]
  },
  {
   "cell_type": "code",
   "execution_count": 13,
   "id": "123e0541",
   "metadata": {},
   "outputs": [
    {
     "data": {
      "text/plain": [
       "{1, 2}"
      ]
     },
     "execution_count": 13,
     "metadata": {},
     "output_type": "execute_result"
    }
   ],
   "source": [
    "{1, 2}"
   ]
  },
  {
   "cell_type": "code",
   "execution_count": 14,
   "id": "2865500d",
   "metadata": {},
   "outputs": [
    {
     "data": {
      "text/plain": [
       "{1, 2}"
      ]
     },
     "execution_count": 14,
     "metadata": {},
     "output_type": "execute_result"
    }
   ],
   "source": [
    "{1, 2, 1, 2}"
   ]
  },
  {
   "cell_type": "markdown",
   "id": "2eb04a9f",
   "metadata": {},
   "source": [
    "### Mantıksal veri\n",
    "```bool``` olarak gösterilen mantıksal veri tipi ```Boolean``` olara da bilinir.\n",
    "\n",
    "Bu veri tipi aslında ```int``` veri tipinin bir alt tipidir.\n",
    "\n",
    "```True``` veya ```False``` değeri alabilir.\n",
    "\n",
    "Benim ingilizcem olduğu için biliyorum, ```True``` doğru, ```False``` yanlış demektir.\n",
    "\n",
    "```True``` olarak algılanan değerler:\n",
    "- ```True```\n",
    "- Boş olmayan ```str```\n",
    "- Boş olmayan ```list```\n",
    "- Boş olmayan ```dict```\n",
    "- Boş olmayan ```tuple```\n",
    "- Boş olmayan ```set```\n",
    "- ```0``` olmayan ```int``` (Negatif değerler dahil)\n",
    "- ```0.0``` olmayan ```float``` (Negatif değerler dahil)\n",
    "- ```0+0j``` olmayan ```complex``` (Negatif değerler dahil)\n",
    "\n",
    "```False``` olarak algılanan değerler:\n",
    "- ```False```\n",
    "- Boş olan ```str```\n",
    "- Boş olan ```list```\n",
    "- Boş olan ```dict```\n",
    "- Boş olan ```tuple```\n",
    "- Boş olan ```set```\n",
    "- ```0``` olan ```int```\n",
    "- ```0.0``` olan ```float```\n",
    "- ```0+0j``` olan ```complex```\n",
    "- ```None```\n",
    "\n",
    "<hr>\n",
    "\n",
    "```bool``` veri tipine örnek:"
   ]
  },
  {
   "cell_type": "code",
   "execution_count": 15,
   "id": "83906963",
   "metadata": {},
   "outputs": [
    {
     "data": {
      "text/plain": [
       "True"
      ]
     },
     "execution_count": 15,
     "metadata": {},
     "output_type": "execute_result"
    }
   ],
   "source": [
    "True"
   ]
  },
  {
   "cell_type": "code",
   "execution_count": 16,
   "id": "3f6164e4",
   "metadata": {},
   "outputs": [
    {
     "data": {
      "text/plain": [
       "False"
      ]
     },
     "execution_count": 16,
     "metadata": {},
     "output_type": "execute_result"
    }
   ],
   "source": [
    "False"
   ]
  },
  {
   "cell_type": "markdown",
   "id": "fc97e42a",
   "metadata": {},
   "source": [
    "```False``` ```0```'a ve ```True``` ```1```'e eşittir"
   ]
  },
  {
   "cell_type": "markdown",
   "id": "ddb1d83c",
   "metadata": {},
   "source": [
    "### Diğer\n",
    "\n",
    "Aslında bir de diğer veri tipleri var. Onu da ilerleyen zamanlarda tartışacağız"
   ]
  },
  {
   "cell_type": "code",
   "execution_count": null,
   "id": "f30e2757",
   "metadata": {},
   "outputs": [],
   "source": []
  }
 ],
 "metadata": {
  "kernelspec": {
   "display_name": "Python 3 (ipykernel)",
   "language": "python",
   "name": "python3"
  },
  "language_info": {
   "codemirror_mode": {
    "name": "ipython",
    "version": 3
   },
   "file_extension": ".py",
   "mimetype": "text/x-python",
   "name": "python",
   "nbconvert_exporter": "python",
   "pygments_lexer": "ipython3",
   "version": "3.9.6"
  }
 },
 "nbformat": 4,
 "nbformat_minor": 5
}
