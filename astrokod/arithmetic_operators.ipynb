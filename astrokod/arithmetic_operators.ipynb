{
 "cells": [
  {
   "cell_type": "markdown",
   "id": "28b34782",
   "metadata": {},
   "source": [
    "# Aritmetik operatörler\n",
    "Aritmetik işlmeler yapabilmek için kullanılan operatörlerdir:\n",
    "\n",
    "- Toplama, ```+```\n",
    "- Çıkarma, ```-```\n",
    "- Çarpma, ```*```\n",
    "- Bölme, ```/```\n",
    "- Modüler, ```%```\n",
    "- Kuvvet, ```**```\n",
    "- Kalansız Bölme, ```//```"
   ]
  },
  {
   "cell_type": "markdown",
   "id": "486da4ac",
   "metadata": {},
   "source": [
    "## Nümerik verilerde aritmetik işlemler\n",
    "\n",
    "Nümerik verilerde aritmetik işlemler matematik derslerinden hatırladığımız gibidir.\n",
    "\n",
    ":::{note}\n",
    "Örneklerde yalnızca ```int``` tipi için hazırlanmıştır. İşlemlerin ```float``` ve ```complex``` veri tipleri için de yanı olacağını unutmayınız.\n",
    ":::\n",
    "\n",
    "<hr>\n",
    "\n",
    "Örnek\n",
    "\n",
    "55 ve 11 için sırasıyla bütün aritmetik operatörleri kullanınız"
   ]
  },
  {
   "cell_type": "markdown",
   "id": "89759968",
   "metadata": {},
   "source": [
    "### Toplama"
   ]
  },
  {
   "cell_type": "code",
   "execution_count": 1,
   "id": "6fec1927",
   "metadata": {},
   "outputs": [
    {
     "data": {
      "text/plain": [
       "66"
      ]
     },
     "execution_count": 1,
     "metadata": {},
     "output_type": "execute_result"
    }
   ],
   "source": [
    "55 + 11"
   ]
  },
  {
   "cell_type": "markdown",
   "id": "6f36db5b",
   "metadata": {},
   "source": [
    "### Çıkarma"
   ]
  },
  {
   "cell_type": "code",
   "execution_count": 2,
   "id": "af3eb416",
   "metadata": {},
   "outputs": [
    {
     "data": {
      "text/plain": [
       "44"
      ]
     },
     "execution_count": 2,
     "metadata": {},
     "output_type": "execute_result"
    }
   ],
   "source": [
    "55 - 11"
   ]
  },
  {
   "cell_type": "markdown",
   "id": "f11fa49d",
   "metadata": {},
   "source": [
    "### Çarpma"
   ]
  },
  {
   "cell_type": "code",
   "execution_count": 3,
   "id": "467ca5b1",
   "metadata": {},
   "outputs": [
    {
     "data": {
      "text/plain": [
       "605"
      ]
     },
     "execution_count": 3,
     "metadata": {},
     "output_type": "execute_result"
    }
   ],
   "source": [
    "55 * 11"
   ]
  },
  {
   "cell_type": "markdown",
   "id": "a9db09a1",
   "metadata": {},
   "source": [
    "### Bölme"
   ]
  },
  {
   "cell_type": "code",
   "execution_count": 4,
   "id": "ad0ff086",
   "metadata": {},
   "outputs": [
    {
     "data": {
      "text/plain": [
       "5.0"
      ]
     },
     "execution_count": 4,
     "metadata": {},
     "output_type": "execute_result"
    }
   ],
   "source": [
    "55 / 11"
   ]
  },
  {
   "cell_type": "markdown",
   "id": "01f775d8",
   "metadata": {},
   "source": [
    "### Modüler"
   ]
  },
  {
   "cell_type": "code",
   "execution_count": 5,
   "id": "23136ee7",
   "metadata": {},
   "outputs": [
    {
     "data": {
      "text/plain": [
       "0"
      ]
     },
     "execution_count": 5,
     "metadata": {},
     "output_type": "execute_result"
    }
   ],
   "source": [
    "55 % 11"
   ]
  },
  {
   "cell_type": "markdown",
   "id": "9646c116",
   "metadata": {},
   "source": [
    "### Kuvvet"
   ]
  },
  {
   "cell_type": "code",
   "execution_count": 6,
   "id": "4f746624",
   "metadata": {},
   "outputs": [
    {
     "data": {
      "text/plain": [
       "13931233916552734375"
      ]
     },
     "execution_count": 6,
     "metadata": {},
     "output_type": "execute_result"
    }
   ],
   "source": [
    "55 ** 11"
   ]
  },
  {
   "cell_type": "code",
   "execution_count": 7,
   "id": "f53ddd02",
   "metadata": {},
   "outputs": [
    {
     "data": {
      "text/plain": [
       "13931233916552734375"
      ]
     },
     "execution_count": 7,
     "metadata": {},
     "output_type": "execute_result"
    }
   ],
   "source": [
    "pow(55, 11)"
   ]
  },
  {
   "cell_type": "markdown",
   "id": "2ea35a96",
   "metadata": {},
   "source": [
    "### Kalansız Bölme"
   ]
  },
  {
   "cell_type": "code",
   "execution_count": 8,
   "id": "9d226dd5",
   "metadata": {},
   "outputs": [
    {
     "data": {
      "text/plain": [
       "5"
      ]
     },
     "execution_count": 8,
     "metadata": {},
     "output_type": "execute_result"
    }
   ],
   "source": [
    "55 // 11"
   ]
  },
  {
   "cell_type": "markdown",
   "id": "e42bb8b3",
   "metadata": {},
   "source": [
    ":::{note}\n",
    "İki nümerik veri aritmetik işleme girdiğinde, sonuç daha kapsayıcı olan veri türünden olur\n",
    "\n",
    "```int``` + ```int``` = ```int```\n",
    "\n",
    "```int``` + ```float``` = ```float```\n",
    "\n",
    "```int``` + ```complex``` = ```complex```\n",
    "\n",
    "```float``` + ```float``` = ```float```\n",
    "\n",
    "```float``` + ```complex``` = ```complex```\n",
    "\n",
    "```complex``` + ```complex``` = ```complex```\n",
    "\n",
    "Bölme operatörü bu durum için bir istisnadır\n",
    "\n",
    "```int``` / ```int``` = ```float```\n",
    "\n",
    ":::"
   ]
  },
  {
   "cell_type": "markdown",
   "id": "e238cda5",
   "metadata": {},
   "source": [
    "## Konteyner verleride aritmetik işlemler\n",
    "\n",
    "Konteyner verilerde aritmetik işlemlerden ```+``` ve ```*``` yapılabilir."
   ]
  },
  {
   "cell_type": "markdown",
   "id": "045c4a76",
   "metadata": {},
   "source": [
    "### Toplama\n",
    "\n",
    "Konteyner verilerde ```+``` işlemi birleştirme olarak algılanır\n",
    "\n",
    "<hr>\n",
    "\n",
    "İki ```str``` verinin toplamını gösteriniz"
   ]
  },
  {
   "cell_type": "code",
   "execution_count": 9,
   "id": "a074c9c3",
   "metadata": {},
   "outputs": [
    {
     "data": {
      "text/plain": [
       "'MuhammedShameoni Niaei'"
      ]
     },
     "execution_count": 9,
     "metadata": {},
     "output_type": "execute_result"
    }
   ],
   "source": [
    "\"Muhammed\" + \"Shameoni Niaei\""
   ]
  },
  {
   "cell_type": "markdown",
   "id": "b171e480",
   "metadata": {},
   "source": [
    "<hr>\n",
    "\n",
    "İki ```list``` verinin toplamını gösteriniz"
   ]
  },
  {
   "cell_type": "code",
   "execution_count": 10,
   "id": "3da8653a",
   "metadata": {
    "scrolled": true
   },
   "outputs": [
    {
     "data": {
      "text/plain": [
       "['Muhammed', 'Shameoni', 'Niaei']"
      ]
     },
     "execution_count": 10,
     "metadata": {},
     "output_type": "execute_result"
    }
   ],
   "source": [
    "[\"Muhammed\", \"Shameoni\"] + [\"Niaei\"]"
   ]
  },
  {
   "cell_type": "markdown",
   "id": "f247fdad",
   "metadata": {},
   "source": [
    "### Çarpma\n",
    "\n",
    "Konteyner verilerde ```*``` bir konteyner ve bir ```int``` arasında gerçekleşebilir ve tekrarlama olarak algılanır. \n",
    "\n",
    "\n",
    "<hr>\n",
    "\n",
    "Bir ```str``` veriyi 2 ile çarpımını gösteriniz"
   ]
  },
  {
   "cell_type": "code",
   "execution_count": 11,
   "id": "990d2e5d",
   "metadata": {},
   "outputs": [
    {
     "data": {
      "text/plain": [
       "'MuhammedMuhammed'"
      ]
     },
     "execution_count": 11,
     "metadata": {},
     "output_type": "execute_result"
    }
   ],
   "source": [
    "\"Muhammed\" * 2"
   ]
  },
  {
   "cell_type": "code",
   "execution_count": 12,
   "id": "33fbf431",
   "metadata": {},
   "outputs": [
    {
     "data": {
      "text/plain": [
       "'MuhammedMuhammed'"
      ]
     },
     "execution_count": 12,
     "metadata": {},
     "output_type": "execute_result"
    }
   ],
   "source": [
    "2 * \"Muhammed\""
   ]
  },
  {
   "cell_type": "markdown",
   "id": "4d7e9b0f",
   "metadata": {},
   "source": [
    "<hr>\n",
    "\n",
    "Bir ```list``` veriyi 2 ile çarpımını gösteriniz"
   ]
  },
  {
   "cell_type": "code",
   "execution_count": 13,
   "id": "3c020292",
   "metadata": {},
   "outputs": [
    {
     "data": {
      "text/plain": [
       "['Muhammed', 'Muhammed']"
      ]
     },
     "execution_count": 13,
     "metadata": {},
     "output_type": "execute_result"
    }
   ],
   "source": [
    "[\"Muhammed\"] * 2"
   ]
  },
  {
   "cell_type": "code",
   "execution_count": 14,
   "id": "af66a093",
   "metadata": {},
   "outputs": [
    {
     "data": {
      "text/plain": [
       "['Muhammed', 'Muhammed']"
      ]
     },
     "execution_count": 14,
     "metadata": {},
     "output_type": "execute_result"
    }
   ],
   "source": [
    "2 * [\"Muhammed\"]"
   ]
  },
  {
   "cell_type": "markdown",
   "id": "4900f117",
   "metadata": {},
   "source": [
    "## Matıksal verilerde aritmetik işlemler\n",
    "\n",
    "Mantıksal verilerin ```int``` verinin bir alt sınıfından olduğunu söylemiştik.\n",
    "\n",
    "Bunun anlamı, mantıksal verilerden ```True``` ```1```'e ve ```False``` ```2```'ye eşittir.\n",
    "\n",
    "Dolayısıyla Mantıksal verileri ```int``` olarak algılayabiliriz.\n",
    "\n",
    "<hr>\n",
    "\n",
    "Örnek\n",
    "\n",
    "İki ```True```'nun toplamını gösteriniz"
   ]
  },
  {
   "cell_type": "code",
   "execution_count": 15,
   "id": "ffc5cbb1",
   "metadata": {},
   "outputs": [
    {
     "data": {
      "text/plain": [
       "2"
      ]
     },
     "execution_count": 15,
     "metadata": {},
     "output_type": "execute_result"
    }
   ],
   "source": [
    "True + True"
   ]
  },
  {
   "cell_type": "markdown",
   "id": "9a79bcee",
   "metadata": {},
   "source": [
    "<hr>\n",
    "\n",
    "Bir sayının ```0```'a bölümü ```Tanımsız```dır. ```Python``` ise ```0```'a bölmelerde hata (```division by zero```) verir.\n",
    "\n",
    "Örnek\n",
    "\n",
    "Bir sayının ```False```'a bölümününü gösteriniz"
   ]
  },
  {
   "cell_type": "code",
   "execution_count": 17,
   "id": "1136ea02",
   "metadata": {},
   "outputs": [
    {
     "ename": "ZeroDivisionError",
     "evalue": "division by zero",
     "output_type": "error",
     "traceback": [
      "\u001b[1;31m---------------------------------------------------------------------------\u001b[0m",
      "\u001b[1;31mZeroDivisionError\u001b[0m                         Traceback (most recent call last)",
      "\u001b[1;32m~\\AppData\\Local\\Temp/ipykernel_18152/339779746.py\u001b[0m in \u001b[0;36m<module>\u001b[1;34m\u001b[0m\n\u001b[1;32m----> 1\u001b[1;33m \u001b[1;36m55\u001b[0m \u001b[1;33m/\u001b[0m \u001b[1;32mFalse\u001b[0m\u001b[1;33m\u001b[0m\u001b[1;33m\u001b[0m\u001b[0m\n\u001b[0m",
      "\u001b[1;31mZeroDivisionError\u001b[0m: division by zero"
     ]
    }
   ],
   "source": [
    "55 / False"
   ]
  },
  {
   "cell_type": "code",
   "execution_count": null,
   "id": "3ba393b7",
   "metadata": {},
   "outputs": [],
   "source": []
  }
 ],
 "metadata": {
  "kernelspec": {
   "display_name": "Python 3 (ipykernel)",
   "language": "python",
   "name": "python3"
  },
  "language_info": {
   "codemirror_mode": {
    "name": "ipython",
    "version": 3
   },
   "file_extension": ".py",
   "mimetype": "text/x-python",
   "name": "python",
   "nbconvert_exporter": "python",
   "pygments_lexer": "ipython3",
   "version": "3.9.6"
  }
 },
 "nbformat": 4,
 "nbformat_minor": 5
}
