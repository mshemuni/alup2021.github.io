{
 "cells": [
  {
   "cell_type": "markdown",
   "id": "617a2c7f",
   "metadata": {},
   "source": [
    "# ```method```\n",
    "\n",
    "```Python```'da nesnelerin ```method```'ları olabilir.\n",
    "\n",
    "```method```'lar bir nesneye bağlı fonksiyonlardır.\n",
    "\n",
    "<hr>\n",
    "\n",
    "Örnek\n",
    "\n",
    "Personnel adlı bir sınıf oluşturunuz içinde maaş hesaplamak için ```maas_hesapla()``` adlı bir metod ekleyin. Daha sonra söz konusu Personnel sınıfından bir nesne oluşturup, ```maas_hesapla()``` metodunu çalıştırın"
   ]
  },
  {
   "cell_type": "code",
   "execution_count": 1,
   "id": "93ddf441",
   "metadata": {},
   "outputs": [
    {
     "name": "stdout",
     "output_type": "stream",
     "text": [
      "11.59\n"
     ]
    }
   ],
   "source": [
    "class Personnel:\n",
    "    def maas_hesapla(self):\n",
    "        print(11.59)\n",
    "        \n",
    "p = Personnel()\n",
    "p.maas_hesapla()"
   ]
  },
  {
   "cell_type": "markdown",
   "id": "5f1b5e31",
   "metadata": {},
   "source": [
    "::::{important}\n",
    "```self``` nedir?\n",
    "\n",
    "Dikkat ederseniz, bir nesne oluşturduğumuzda bu nesneye ait ```attribute``` ve ```method```lara ```namespace``` mantığıyla ulaşabildik.\n",
    "\n",
    "```\n",
    "p = Personnel()\n",
    "p.adi = \"Muhammed\"\n",
    "```\n",
    "\n",
    "gibi...\n",
    "\n",
    "Peki bir sınıfın içindeyken, söz konusu sınıfın ```attribute``` ve ```method```'larına nasıl erişeceğiz?\n",
    "\n",
    "```self```, ```kendi``` demek.\n",
    ":::{note}\n",
    "```Java```, ```PHP```, ```Javascript``` gibi dillerde ```this``` olarak karşımıza çıkar.\n",
    ":::\n",
    "\n",
    "::::"
   ]
  },
  {
   "cell_type": "markdown",
   "id": "c3eb0cb8",
   "metadata": {},
   "source": [
    "## Special methods\n",
    "\n",
    "```Python```'da özel metodlar (```special methods```) vardır.\n",
    "\n",
    "Bunlar sınıftan bir nesne oluşturduğumuzda, söz konusu nesne silindiğinde, söz konusu nesne ```Python```'ın operasyonları ile işleme girdiğinde vb durumlarda nasıl davranması gerektiğini belirtir\n",
    "\n",
    "\n",
    "### ```__init__```\n",
    "\n",
    "```Python```'in özel metodlarından ```__init__```, aynı zamanda ```constructor method``` olarak da bilinir, bir sınıftan bir nesne oluşturduğunuz anda çalışan bir metoddur.\n",
    "\n",
    "<hr>\n",
    "\n",
    "Örnek\n",
    "\n",
    "Personnel adlı, hiçbir şey yapmayan, her çağırıldığında herkesi selamlayan bir sınıf yazınız. Daha sonra bu sınıftan iki nesne oluşturunuz."
   ]
  },
  {
   "cell_type": "code",
   "execution_count": 2,
   "id": "63e36f8e",
   "metadata": {},
   "outputs": [],
   "source": [
    "class Personnel:\n",
    "    def __init__(self):\n",
    "        print(\"Merhabalar\")"
   ]
  },
  {
   "cell_type": "code",
   "execution_count": 3,
   "id": "76187d7b",
   "metadata": {},
   "outputs": [
    {
     "name": "stdout",
     "output_type": "stream",
     "text": [
      "Merhabalar\n"
     ]
    }
   ],
   "source": [
    "p1 = Personnel()"
   ]
  },
  {
   "cell_type": "code",
   "execution_count": 4,
   "id": "3ede9b21",
   "metadata": {},
   "outputs": [
    {
     "name": "stdout",
     "output_type": "stream",
     "text": [
      "Merhabalar\n"
     ]
    }
   ],
   "source": [
    "p2 = Personnel()"
   ]
  },
  {
   "cell_type": "markdown",
   "id": "eb9c28be",
   "metadata": {},
   "source": [
    "```__init__``` metodu, parametre alabilir. Aldığı parametreler, sınıftan her nesne oluşturulduğunda, verilmersi gereken değerler olacaktır."
   ]
  },
  {
   "cell_type": "code",
   "execution_count": 5,
   "id": "b35c3ded",
   "metadata": {},
   "outputs": [
    {
     "ename": "TypeError",
     "evalue": "__init__() missing 2 required positional arguments: 'adi' and 'soyadi'",
     "output_type": "error",
     "traceback": [
      "\u001b[1;31m---------------------------------------------------------------------------\u001b[0m",
      "\u001b[1;31mTypeError\u001b[0m                                 Traceback (most recent call last)",
      "\u001b[1;32m~\\AppData\\Local\\Temp/ipykernel_9492/4163764103.py\u001b[0m in \u001b[0;36m<module>\u001b[1;34m\u001b[0m\n\u001b[0;32m      4\u001b[0m         \u001b[0mself\u001b[0m\u001b[1;33m.\u001b[0m\u001b[0msoyadi\u001b[0m \u001b[1;33m=\u001b[0m \u001b[0msoyadi\u001b[0m\u001b[1;33m\u001b[0m\u001b[1;33m\u001b[0m\u001b[0m\n\u001b[0;32m      5\u001b[0m \u001b[1;33m\u001b[0m\u001b[0m\n\u001b[1;32m----> 6\u001b[1;33m \u001b[0mp\u001b[0m \u001b[1;33m=\u001b[0m \u001b[0mPersonnel\u001b[0m\u001b[1;33m(\u001b[0m\u001b[1;33m)\u001b[0m\u001b[1;33m\u001b[0m\u001b[1;33m\u001b[0m\u001b[0m\n\u001b[0m\u001b[0;32m      7\u001b[0m \u001b[0mp\u001b[0m\u001b[1;33m\u001b[0m\u001b[1;33m\u001b[0m\u001b[0m\n",
      "\u001b[1;31mTypeError\u001b[0m: __init__() missing 2 required positional arguments: 'adi' and 'soyadi'"
     ]
    }
   ],
   "source": [
    "class Personnel:\n",
    "    def __init__(self, adi, soyadi):\n",
    "        self.adi = adi\n",
    "        self.soyadi = soyadi\n",
    "        \n",
    "p = Personnel()\n",
    "p"
   ]
  },
  {
   "cell_type": "markdown",
   "id": "a56502c6",
   "metadata": {},
   "source": [
    "```{image} ../images/wtf.gif\n",
    ":class: bg-primary mb-1\n",
    ":width: 400px\n",
    ":align: center\n",
    "```\n",
    "\n",
    "Anladım. Nesneyi oluştururken ```adi``` ve ```soyadi``` bilgisini vermem gerekiyordu"
   ]
  },
  {
   "cell_type": "code",
   "execution_count": 6,
   "id": "f4cbf690",
   "metadata": {},
   "outputs": [
    {
     "name": "stdout",
     "output_type": "stream",
     "text": [
      "<__main__.Personnel object at 0x000002446B587700>\n",
      "Muhammad\n",
      "Shameoni Niaei\n"
     ]
    }
   ],
   "source": [
    "class Personnel:\n",
    "    def __init__(self, adi, soyadi):\n",
    "        self.adi = adi\n",
    "        self.soyadi = soyadi\n",
    "        \n",
    "p = Personnel(\"Muhammad\", \"Shameoni Niaei\")\n",
    "print(p)\n",
    "print(p.adi)\n",
    "print(p.soyadi)"
   ]
  },
  {
   "cell_type": "code",
   "execution_count": null,
   "id": "77a02718",
   "metadata": {},
   "outputs": [],
   "source": []
  }
 ],
 "metadata": {
  "kernelspec": {
   "display_name": "Python 3 (ipykernel)",
   "language": "python",
   "name": "python3"
  },
  "language_info": {
   "codemirror_mode": {
    "name": "ipython",
    "version": 3
   },
   "file_extension": ".py",
   "mimetype": "text/x-python",
   "name": "python",
   "nbconvert_exporter": "python",
   "pygments_lexer": "ipython3",
   "version": "3.9.6"
  }
 },
 "nbformat": 4,
 "nbformat_minor": 5
}
