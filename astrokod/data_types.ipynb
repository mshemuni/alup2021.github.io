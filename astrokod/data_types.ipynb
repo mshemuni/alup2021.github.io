{
 "cells": [
  {
   "cell_type": "markdown",
   "id": "ff188fe7",
   "metadata": {},
   "source": [
    "# Veri tipleri\n",
    "\n",
    "Programlama aslında, veri işleme olarak kısaca tanımlanabiilir.\n",
    "\n",
    "- Hesap makinesi programı yazarsanız, 4 işlem yapan bir program yazmışsınızdır\n",
    "- Bir API yazarsanız, veri işleyip paylaşıyorsunuzdur\n",
    "- vs\n",
    "\n",
    "Bu kadar veri işlediğimize göre Python'da veri tiplerinden bahsedelim"
   ]
  },
  {
   "cell_type": "markdown",
   "id": "f04703d4",
   "metadata": {},
   "source": [
    "- Nümerik veriler\n",
    "    - ```int```\n",
    "    - ```float```\n",
    "    - ```complex```\n",
    "- Konteynerler\n",
    "    - ```str```\n",
    "    - ```list```\n",
    "    - ```dict```\n",
    "    - ```tuple```\n",
    "    - ```set```\n",
    "- Mantıksal veriler (```bool```)\n",
    "- Diğer\n",
    "    - ```object```\n",
    "    - ```None```"
   ]
  },
  {
   "cell_type": "markdown",
   "id": "84ed66d4",
   "metadata": {},
   "source": [
    ":::{note}\n",
    "```Python```'da bütün veri tipleri aslında birer objedir.\n",
    ":::\n",
    "\n",
    "```Python```'da ```c++```, ```java``` vb gibi dillerde olduğu gibi değişken tanımlaması ve ataması gerçekleşmez.\n",
    "\n",
    "```c++```'da değişken tanımlaması:\n",
    "\n",
    "```\n",
    "int degisken; /*Integer tipinde değişken tanımlama (declaration)*/\n",
    "degisken = 55; /*Değişken başlatma (initialization)*/\n",
    "\n",
    "float degisken2 = 65; /*Float tipinde değişken tanımlama (declaration) ve başlatma (initialization)*/\n",
    "\n",
    "```\n",
    "\n",
    "```Python```'da değişken tanımlaması:\n",
    "\n",
    "```\n",
    "degisken = 55\n",
    "degisken2 = 65.0\n",
    "```"
   ]
  }
 ],
 "metadata": {
  "kernelspec": {
   "display_name": "Python 3 (ipykernel)",
   "language": "python",
   "name": "python3"
  },
  "language_info": {
   "codemirror_mode": {
    "name": "ipython",
    "version": 3
   },
   "file_extension": ".py",
   "mimetype": "text/x-python",
   "name": "python",
   "nbconvert_exporter": "python",
   "pygments_lexer": "ipython3",
   "version": "3.8.11"
  }
 },
 "nbformat": 4,
 "nbformat_minor": 5
}
