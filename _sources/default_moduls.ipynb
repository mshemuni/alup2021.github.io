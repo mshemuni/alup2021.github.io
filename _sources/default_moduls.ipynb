{
 "cells": [
  {
   "cell_type": "markdown",
   "id": "288b352e",
   "metadata": {},
   "source": [
    "# Kütüphane/Modül\n",
    "\n",
    "```Python```'da varsayılan ve sonradan eklenen kütüphane/modüller vardır. Bunlar içe aktarılıp kullanılabilir.\n",
    "\n",
    "Varsayılan kütüphaneler ```Python``` kurulumuyla beraber gelir. Varsayılan olmayanlar ise sonradan kurulmalı.\n",
    "\n",
    "## Varsayılan modüller\n",
    "\n",
    "```{image} ../images/default.gif\n",
    ":class: bg-primary mb-1\n",
    ":width: 400px\n",
    ":align: center\n",
    "```\n",
    "\n",
    "Varsayılan modüllerin tamamını işlememiz mümkün değildir. Fakat en çok işe yarayanlarını inceleyebiliriz.\n",
    "\n",
    "- ```math```\n",
    "- ```sys```\n",
    "- ```json```\n",
    "\n",
    "### ```math```\n",
    "\n",
    "```math``` modülünden daha önce bahsetmiştik. Çeşitli matematik işlemleri yapabileceğimiz bir modüldür kendileri.\n",
    "\n",
    "<hr>\n",
    "\n",
    "Örnek\n",
    "\n",
    "Verilen bir açının, ```sin``` ve ```cos```değerlerinin oranının, aynı açının ```tan``` değerine eşit olduğunu gösteriniz.\n"
   ]
  },
  {
   "cell_type": "code",
   "execution_count": 1,
   "id": "45f5fdf4",
   "metadata": {},
   "outputs": [
    {
     "name": "stdout",
     "output_type": "stream",
     "text": [
      "0.6494075931975106\n",
      "0.6494075931975105\n"
     ]
    }
   ],
   "source": [
    "import math\n",
    "\n",
    "aci = 33\n",
    "aci_r = math.radians(aci)\n",
    "\n",
    "sin = math.sin(aci_r)\n",
    "cos = math.cos(aci_r)\n",
    "\n",
    "sin_cos_ratio = sin / cos\n",
    "\n",
    "tan = math.tan(aci_r)\n",
    "\n",
    "print(tan)\n",
    "print(sin_cos_ratio)"
   ]
  },
  {
   "cell_type": "markdown",
   "id": "f6db0937",
   "metadata": {},
   "source": [
    ":::{warning}\n",
    "```float``` tipinde verilerin eşitliği sınanmaz.\n",
    "\n",
    "Float-pointing denen kavram float değerlerin bire bir olmasını engeller.\n",
    ":::"
   ]
  },
  {
   "cell_type": "markdown",
   "id": "ac456d59",
   "metadata": {},
   "source": [
    "## ```sys```\n",
    "\n",
    "```sys``` Sisteme özel parametreler ve fonksiyonlar içerir. ```sys``` ile çeşitli işlemler yapılabilir. Fakat, ```sys```'nin sunduğu en önemli araç ```argv```'dir. ```argv``` yazdığımız kodun dışarıdan parametrik olarak veri almasını sağlar.\n",
    "\n",
    "```sys.argv``` bir ```list``` olup, $0$. elemanı, çalıştırdığımız ```Python``` betiğin adı, $1$. elemanı verilen ilk argüman, $2$. elemanı verilen ikinci argüman ... şeklinde devam eder.\n",
    "\n",
    "```argumanlar.py``` adlı bir betik dosyamız olsun.\n",
    "\n",
    "```\n",
    "import sys\n",
    "\n",
    "print(sys.argv)\n",
    "```\n",
    "\n",
    "Söz konusu betiği aşağıdaki gibi çalıştıralım\n",
    "\n",
    "```\n",
    "$ python argumanlar.py muhammed eve geldi mi\n",
    "```\n",
    "\n",
    "Çıktı\n",
    "\n",
    "```\n",
    "['argumanlar.py', 'muhammed', 'eve', 'geldi', 'mi']\n",
    "```\n",
    "\n",
    "\n",
    "\n",
    "<hr>\n",
    "\n",
    "Örnek\n",
    "\n",
    "Parametik olarak verilen isimileri sırayla selamlayan bir betik yazınız. Betik dosyasının adı ```selamla``` olsun."
   ]
  },
  {
   "cell_type": "markdown",
   "id": "a624e91b",
   "metadata": {},
   "source": [
    "```selamla.py```\n",
    "\n",
    "```\n",
    "import sys\n",
    "\n",
    "if len(sys.argv) == 1:\n",
    "    print(\"İsim vermedizi!\")\n",
    "else:\n",
    "    for isim in sys.argv[1:]:\n",
    "        print(\"Merhaba \" + isim)\n",
    "```"
   ]
  },
  {
   "cell_type": "markdown",
   "id": "27ef10ed",
   "metadata": {},
   "source": [
    "```\n",
    "$ python selamla.py\n",
    "```\n",
    "\n",
    "Çıktı\n",
    "\n",
    "```\n",
    "İsim vermedizi!\n",
    "```\n"
   ]
  },
  {
   "cell_type": "markdown",
   "id": "f78d6869",
   "metadata": {},
   "source": [
    "```\n",
    "$ python selamla.py muhammed yusuf yucel yavuz\n",
    "```\n",
    "\n",
    "Çıktı\n",
    "\n",
    "```\n",
    "Merhaba muhammed\n",
    "Merhaba yusuf\n",
    "Merhaba yucel\n",
    "Merhaba yavuz\n",
    "```\n",
    "\n",
    "\n"
   ]
  },
  {
   "cell_type": "markdown",
   "id": "72dad36e",
   "metadata": {},
   "source": [
    "## ```json```\n",
    "\n",
    "```json``` (```JavaScript Object Notation```); bütün programlama dilleri arasında, yapılandırılmış veri değişimini kolaylaştıran bir metin biçimidir.\n",
    "\n",
    "```json```'ın taşıyabildiği veri tipleri:\n",
    "\n",
    "- ```nesne```\n",
    "- ```array```\n",
    "- ```str```\n",
    "- ```number```\n",
    "- ```true```\n",
    "- ```false```\n",
    "- ```null```\n",
    "\n",
    "Yazım kuralı ise, ```Python```'ın ```dict``` formatına çok benziyor.\n",
    "\n",
    "```json``` veriye örnek:\n",
    "\n",
    "```\n",
    "{\n",
    "    \"personel_1\": {\n",
    "        \"adi\": \"Mohammad\",\n",
    "        \"soyadi\": \"Shameoni niaei\",\n",
    "        \"Gelistirici\": true,\n",
    "        \"TCKNO\": null,\n",
    "        \"Uzmanlik\": [\"Yazilim Uzmani\", \"Uzman Astronom\"]\n",
    "    }\n",
    "}\n",
    "\n",
    "```\n",
    "\n",
    "olarak gösterilebilir. Burada;\n",
    "\n",
    "\n",
    "- ```nesne``` bir json veri\n",
    "- ```array``` bir ```list``` veri\n",
    "- ```true``` bir ```True``` veri\n",
    "- ```false``` bir ```False``` veri\n",
    "- ```null``` bir ```None``` veri\n",
    "\n",
    "olarak algılanabilir.\n",
    "\n",
    "\n",
    ":::{note}\n",
    "Görüldüğü gibi ```true```, ```false```, ```null``` gibi değerler ```Python```'da farklı yazılmakta, ```Python```'ın anladığı yazımları başka bir standardın anlayabileceği yazım şekline çevirmeye ```serialization``` denir.\n",
    ":::\n",
    "\n",
    "```json``` kütüphanesinin yapabildiği ve bizim çokça kullanma ihtiyacı duyacağımız işlemler ```json```'dan ```dict```'e ve ```dict```'ten ```json```'a dönüşümü yapması olarak düşünülebilir.\n",
    "\n",
    "- ```json.dump```, ```json.dumps```\n",
    "- ```json.load```, ```json.loads```\n",
    "\n",
    "```dump``` bir ```dict``` veriyi ```str```'ye (```json``` formatlı) çevirirken, ```load``` bir ```str```'yi bir ```dict```'e çevirir.\n",
    "\n",
    "```dumps``` ise bir dosya nesnesi alır, içindeki veriyi okuyup ```dict```'e çevirir. Doğal olarak ```loads``` bir ```dict``` veriyi verilen bir dosya nesnesinin yoluna yazar.\n",
    "\n",
    ":::{warning}\n",
    "Dikkat ederseniz dosya değil dosya nesnesi dedim. Dolayısıyla dosyadan okuma ve dosyaya yazma işlemleri için dosya yolu değil, ```open``` ile açmış olduğumuz bir dosya nesnesi sağlamalıyız.\n",
    ":::\n",
    "\n",
    "<hr>\n",
    "\n",
    "Örnek\n",
    "\n",
    "Bir ```dict``` veriyi ```json``` formatlı bir ```str```'ye çeviriniz."
   ]
  },
  {
   "cell_type": "code",
   "execution_count": 5,
   "id": "debebc49",
   "metadata": {},
   "outputs": [
    {
     "data": {
      "text/plain": [
       "'{\"personel1\": {\"adi\": \"Muhammed\", \"soyadi\": \"S.Niaei\"}, \"personel2\": {\"adi\": \"Yusuf\", \"soyadi\": \"Pak\"}, \"personel3\": {\"adi\": \"Y\\\\u00fccel\", \"soyadi\": \"K\\\\u0131l\\\\u0131\\\\u00e7\"}, \"personel4\": {\"adi\": \"Yavuz\", \"soyadi\": \"G\\\\u00fcney\"}}'"
      ]
     },
     "execution_count": 5,
     "metadata": {},
     "output_type": "execute_result"
    }
   ],
   "source": [
    "import json\n",
    "\n",
    "dct = {\n",
    "    \"personel1\": {\n",
    "        \"adi\": \"Muhammed\",\n",
    "        \"soyadi\": \"S.Niaei\"\n",
    "    },\n",
    "    \"personel2\": {\n",
    "        \"adi\": \"Yusuf\",\n",
    "        \"soyadi\": \"Pak\"\n",
    "    },\n",
    "    \"personel3\": {\n",
    "        \"adi\": \"Yücel\",\n",
    "        \"soyadi\": \"Kılıç\"\n",
    "    },\n",
    "    \"personel4\": {\n",
    "        \"adi\": \"Yavuz\",\n",
    "        \"soyadi\": \"Güney\"\n",
    "    }\n",
    "}\n",
    "\n",
    "json.dumps(dct)"
   ]
  },
  {
   "cell_type": "markdown",
   "id": "242b3165",
   "metadata": {},
   "source": [
    ":::{note}\n",
    "Elde edilen bu ```str```'yi ```open``` ile bir dosyaya yazabilirsiniz. Fakat ```write``` vs metodlarıyla uğraşmak istemezseniz dosyaya direkt yazabilirsiniz\n",
    ":::\n",
    "\n",
    "\n",
    "<hr>\n",
    "\n",
    "Örnek\n",
    "\n",
    "Bir ```dict``` veriyi ```json``` formatlı bir dosyaya yazınız."
   ]
  },
  {
   "cell_type": "code",
   "execution_count": 13,
   "id": "eeec7b53",
   "metadata": {},
   "outputs": [],
   "source": [
    "import json\n",
    "\n",
    "dct = {\n",
    "    \"personel1\": {\n",
    "        \"adi\": \"Muhammed\",\n",
    "        \"soyadi\": \"S.Niaei\"\n",
    "    },\n",
    "    \"personel2\": {\n",
    "        \"adi\": \"Yusuf\",\n",
    "        \"soyadi\": \"Pak\"\n",
    "    },\n",
    "    \"personel3\": {\n",
    "        \"adi\": \"Yücel\",\n",
    "        \"soyadi\": \"Kılıç\"\n",
    "    },\n",
    "    \"personel4\": {\n",
    "        \"adi\": \"Yavuz\",\n",
    "        \"soyadi\": \"Güney\"\n",
    "    }\n",
    "}\n",
    "\n",
    "with open(\"personel.json\", \"w\", encoding=\"utf-8\") as f:\n",
    "    json.dump(dct, f)"
   ]
  },
  {
   "cell_type": "markdown",
   "id": "925b6a4e",
   "metadata": {},
   "source": [
    "\n",
    "```personel.json``` dosyasının içeriği:\n",
    "```\n",
    "{\"personel1\": {\"adi\": \"Muhammed\", \"soyadi\": \"S.Niaei\"}, \"personel2\": {\"adi\": \"Yusuf\", \"soyadi\": \"Pak\"}, \"personel3\": {\"adi\": \"Y\\u00fccel\", \"soyadi\": \"K\\u0131l\\u0131\\u00e7\"}, \"personel4\": {\"adi\": \"Yavuz\", \"soyadi\": \"G\\u00fcney\"}}\n",
    "```"
   ]
  },
  {
   "cell_type": "markdown",
   "id": "0a0c008c",
   "metadata": {},
   "source": [
    "<hr>\n",
    "\n",
    "Örnek\n",
    "\n",
    "```json``` formatlı bir ```str``` veriyi bir ```dict```'ye çeviriniz."
   ]
  },
  {
   "cell_type": "code",
   "execution_count": 12,
   "id": "07d2ee85",
   "metadata": {},
   "outputs": [
    {
     "data": {
      "text/plain": [
       "{'personel1': {'adi': 'Muhammed', 'soyadi': 'S.Niaei'},\n",
       " 'personel2': {'adi': 'Yusuf', 'soyadi': 'Pak'},\n",
       " 'personel3': {'adi': 'Yücel', 'soyadi': 'Kılıç'},\n",
       " 'personel4': {'adi': 'Yavuz', 'soyadi': 'Güney'}}"
      ]
     },
     "execution_count": 12,
     "metadata": {},
     "output_type": "execute_result"
    }
   ],
   "source": [
    "import json\n",
    "\n",
    "mtn = \"\"\"\n",
    "{\n",
    "    \"personel1\": {\n",
    "        \"adi\": \"Muhammed\",\n",
    "        \"soyadi\": \"S.Niaei\"\n",
    "    }, \n",
    "\n",
    "    \"personel2\": {\n",
    "        \"adi\": \"Yusuf\", \n",
    "        \"soyadi\": \"Pak\"\n",
    "    }, \n",
    "\n",
    "    \"personel3\": {\n",
    "        \"adi\": \"Y\\u00fccel\",\n",
    "        \"soyadi\": \"K\\u0131l\\u0131\\u00e7\"\n",
    "    },\n",
    "\n",
    "    \"personel4\": {\n",
    "        \"adi\": \"Yavuz\",\n",
    "        \"soyadi\": \"G\\u00fcney\"\n",
    "    }\n",
    "}\n",
    "\"\"\"\n",
    "\n",
    "json.loads(mtn)"
   ]
  },
  {
   "cell_type": "markdown",
   "id": "6c646e23",
   "metadata": {},
   "source": [
    ":::{note}\n",
    "Bir ```str``` bilgiyi dosyadan ```open``` ile okuyup, daha sonra ```loads``` ile ```dict```'e dönüşüm yapılabilir. Fakat ```read``` metoduyla uğraşmak istemezseniz dosyayı direkt okuyabilirsiniz\n",
    ":::\n",
    "\n",
    "\n",
    "<hr>\n",
    "\n",
    "Örnek\n",
    "\n",
    "Bir dosyadan ```json``` formatlı veriyi okuyup bir ```dict```'e dönüştürünüz."
   ]
  },
  {
   "cell_type": "code",
   "execution_count": 16,
   "id": "08648a28",
   "metadata": {},
   "outputs": [
    {
     "name": "stdout",
     "output_type": "stream",
     "text": [
      "{'personel1': {'adi': 'Muhammed', 'soyadi': 'S.Niaei'}, 'personel2': {'adi': 'Yusuf', 'soyadi': 'Pak'}, 'personel3': {'adi': 'Yücel', 'soyadi': 'Kılıç'}, 'personel4': {'adi': 'Yavuz', 'soyadi': 'Güney'}}\n"
     ]
    }
   ],
   "source": [
    "import json\n",
    "\n",
    "with open(\"personel.json\", \"r\", encoding=\"utf-8\") as f:\n",
    "    print(json.load(f))"
   ]
  },
  {
   "cell_type": "code",
   "execution_count": null,
   "id": "b9c7f56a",
   "metadata": {},
   "outputs": [],
   "source": []
  }
 ],
 "metadata": {
  "kernelspec": {
   "display_name": "Python 3 (ipykernel)",
   "language": "python",
   "name": "python3"
  },
  "language_info": {
   "codemirror_mode": {
    "name": "ipython",
    "version": 3
   },
   "file_extension": ".py",
   "mimetype": "text/x-python",
   "name": "python",
   "nbconvert_exporter": "python",
   "pygments_lexer": "ipython3",
   "version": "3.9.6"
  }
 },
 "nbformat": 4,
 "nbformat_minor": 5
}
