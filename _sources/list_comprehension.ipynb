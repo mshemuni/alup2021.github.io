{
 "cells": [
  {
   "cell_type": "markdown",
   "id": "6c9575e2",
   "metadata": {},
   "source": [
    "# List Comprehension\n",
    "\n",
    "Python dongüler için kısa bir yazım şekli sunar. Bunlara ise ```List Comprehension``` denir.\n",
    "\n",
    "Öncelikle list comprehension ile bir ```container``` (```list```, ```dict```, ```set``` veya ```tuple```) elde edebileceğimizi unutmamalıyız.\n",
    "\n",
    "```{image} ../images/list.gif\n",
    ":class: bg-primary mb-1\n",
    ":width: 400px\n",
    ":align: center\n",
    "```\n",
    "\n",
    "Yazım kuraı:\n",
    "\n",
    "```\n",
    "[DEĞER\n",
    " DÖNGÜ ve KOŞULLAR\n",
    " ]\n",
    "\n",
    "```\n",
    "Çokça karşılaşabileceğimiz bir örnekle açıklamayaçalışalım.\n",
    "\n",
    "<hr>\n",
    "\n",
    "Örnek\n",
    "\n",
    "$[1523, 2655]$ aralığında $17$'ye tam bölünebilen sayıların listesini oluşturunuz."
   ]
  },
  {
   "cell_type": "code",
   "execution_count": 7,
   "id": "64dc5ce1",
   "metadata": {
    "scrolled": true
   },
   "outputs": [
    {
     "name": "stdout",
     "output_type": "stream",
     "text": [
      "[1530, 1547, 1564, 1581, 1598, 1615, 1632, 1649, 1666, 1683, 1700, 1717, 1734, 1751, 1768, 1785, 1802, 1819, 1836, 1853, 1870, 1887, 1904, 1921, 1938, 1955, 1972, 1989, 2006, 2023, 2040, 2057, 2074, 2091, 2108, 2125, 2142, 2159, 2176, 2193, 2210, 2227, 2244, 2261, 2278, 2295, 2312, 2329, 2346, 2363, 2380, 2397, 2414, 2431, 2448, 2465, 2482, 2499, 2516, 2533, 2550, 2567, 2584, 2601, 2618, 2635, 2652]\n"
     ]
    }
   ],
   "source": [
    "listem = []\n",
    "for i in range(1523, 2656):\n",
    "    if i % 17 == 0:\n",
    "        listem.append(i)\n",
    "        \n",
    "print(listem)"
   ]
  },
  {
   "cell_type": "markdown",
   "id": "fbd9bfe8",
   "metadata": {},
   "source": [
    "Şimdi de list comprehension kullanalım:"
   ]
  },
  {
   "cell_type": "code",
   "execution_count": 11,
   "id": "8710c474",
   "metadata": {},
   "outputs": [
    {
     "name": "stdout",
     "output_type": "stream",
     "text": [
      "[1530, 1547, 1564, 1581, 1598, 1615, 1632, 1649, 1666, 1683, 1700, 1717, 1734, 1751, 1768, 1785, 1802, 1819, 1836, 1853, 1870, 1887, 1904, 1921, 1938, 1955, 1972, 1989, 2006, 2023, 2040, 2057, 2074, 2091, 2108, 2125, 2142, 2159, 2176, 2193, 2210, 2227, 2244, 2261, 2278, 2295, 2312, 2329, 2346, 2363, 2380, 2397, 2414, 2431, 2448, 2465, 2482, 2499, 2516, 2533, 2550, 2567, 2584, 2601, 2618, 2635, 2652]\n"
     ]
    }
   ],
   "source": [
    "listem = [i\n",
    "    for i in range(1523, 2656)\n",
    "    if i % 17 == 0\n",
    "]\n",
    "\n",
    "print(listem)"
   ]
  },
  {
   "cell_type": "markdown",
   "id": "23fc17fe",
   "metadata": {},
   "source": [
    ":::{warning}\n",
    "Lütfen yazımda ```for``` ve ```if``` satırlarının sonunda ```:``` olmadığına dikkat edin.\n",
    ":::\n",
    "\n",
    "Burada list comprehension'in ilk satırı bir döngü satırı olduğu sürece, ```for``` ve ```if```'lerin sırası ve sayısının bir kuralı yok."
   ]
  },
  {
   "cell_type": "markdown",
   "id": "03fc5ae1",
   "metadata": {},
   "source": [
    "<hr>\n",
    "\n",
    "Örnek\n",
    "\n",
    "```astropy.coordinates```'un ```attribute```'larının listesini gösteriniz.\n",
    "\n",
    "Hazırlık:\n",
    "\n",
    "```Python```'da ```dir```adlı bir fonksiyon var. Bu fonksiton verilen bir nesneye ait ```attribute```'ları veriri.\n",
    "\n",
    "```Python```'da ```callable```adlı bir fonksiyon var. Bu fonksiyon verilen nesnenin çağırılabilir olup olmadığını denetler"
   ]
  },
  {
   "cell_type": "markdown",
   "id": "4bb1267d",
   "metadata": {},
   "source": [
    "```dir``` için örnek:"
   ]
  },
  {
   "cell_type": "code",
   "execution_count": 35,
   "id": "a9a18fa3",
   "metadata": {},
   "outputs": [
    {
     "name": "stdout",
     "output_type": "stream",
     "text": [
      "['__doc__', '__loader__', '__name__', '__package__', '__spec__', 'acos', 'acosh', 'asin', 'asinh', 'atan', 'atan2', 'atanh', 'ceil', 'comb', 'copysign', 'cos', 'cosh', 'degrees', 'dist', 'e', 'erf', 'erfc', 'exp', 'expm1', 'fabs', 'factorial', 'floor', 'fmod', 'frexp', 'fsum', 'gamma', 'gcd', 'hypot', 'inf', 'isclose', 'isfinite', 'isinf', 'isnan', 'isqrt', 'lcm', 'ldexp', 'lgamma', 'log', 'log10', 'log1p', 'log2', 'modf', 'nan', 'nextafter', 'perm', 'pi', 'pow', 'prod', 'radians', 'remainder', 'sin', 'sinh', 'sqrt', 'tan', 'tanh', 'tau', 'trunc', 'ulp']\n"
     ]
    }
   ],
   "source": [
    "import math\n",
    "\n",
    "print(dir(math))"
   ]
  },
  {
   "cell_type": "markdown",
   "id": "b07d6d1a",
   "metadata": {},
   "source": [
    "```callable``` için örnek:\n",
    "```math``` modülünde ```pi```'nin bir değişken olduğunu biliyoruz. Dolayısıyla çağırılamaz. Falat aynı modülde ```sin``` bir metoddur, dolayısıyla çağırılabilir."
   ]
  },
  {
   "cell_type": "code",
   "execution_count": 36,
   "id": "8574fd68",
   "metadata": {},
   "outputs": [
    {
     "name": "stdout",
     "output_type": "stream",
     "text": [
      "False\n",
      "True\n"
     ]
    }
   ],
   "source": [
    "import math\n",
    "\n",
    "print(callable(math.pi))\n",
    "print(callable(math.sin))"
   ]
  },
  {
   "cell_type": "markdown",
   "id": "ead1adfc",
   "metadata": {},
   "source": [
    "Şimdi dönelim asıl probleme:"
   ]
  },
  {
   "cell_type": "code",
   "execution_count": 43,
   "id": "2c88eeb1",
   "metadata": {},
   "outputs": [
    {
     "name": "stdout",
     "output_type": "stream",
     "text": [
      "['AffineTransform', 'AltAz', 'Angle', 'Attribute', 'BarycentricMeanEcliptic', 'BarycentricTrueEcliptic', 'BaseAffineTransform', 'BaseCoordinateFrame', 'BaseDifferential', 'BaseEclipticFrame', 'BaseGeodeticRepresentation', 'BaseRADecFrame', 'BaseRepresentation', 'BaseRepresentationOrDifferential', 'BaseSphericalCosLatDifferential', 'BaseSphericalDifferential', 'BoundsError', 'CIRS', 'CartesianDifferential', 'CartesianRepresentation', 'CartesianRepresentationAttribute', 'CompositeTransform', 'ConvertError', 'CoordinateAttribute', 'CoordinateTransform', 'CustomBarycentricEcliptic', 'CylindricalDifferential', 'CylindricalRepresentation', 'DifferentialAttribute', 'Distance', 'DynamicMatrixTransform', 'EarthLocation', 'EarthLocationAttribute', 'FK4', 'FK4NoETerms', 'FK5', 'FunctionTransform', 'FunctionTransformWithFiniteDifference', 'GCRS', 'GRS80GeodeticRepresentation', 'Galactic', 'GalacticLSR', 'Galactocentric', 'GenericFrame', 'GeocentricMeanEcliptic', 'GeocentricTrueEcliptic', 'HCRS', 'HeliocentricEclipticIAU76', 'HeliocentricMeanEcliptic', 'HeliocentricTrueEcliptic', 'ICRS', 'ITRS', 'IllegalHourError', 'IllegalHourWarning', 'IllegalMinuteError', 'IllegalMinuteWarning', 'IllegalSecondError', 'IllegalSecondWarning', 'LSR', 'LSRD', 'LSRK', 'Latitude', 'Longitude', 'PhysicsSphericalDifferential', 'PhysicsSphericalRepresentation', 'PrecessedGeocentric', 'QuantityAttribute', 'RadialDifferential', 'RadialRepresentation', 'RangeError', 'RepresentationMapping', 'SkyCoord', 'SkyCoordInfo', 'SkyOffsetFrame', 'SpectralCoord', 'SpectralQuantity', 'SphericalCosLatDifferential', 'SphericalDifferential', 'SphericalRepresentation', 'StaticMatrixTransform', 'Supergalactic', 'TEME', 'TETE', 'TimeAttribute', 'TransformGraph', 'UnitSphericalCosLatDifferential', 'UnitSphericalDifferential', 'UnitSphericalRepresentation', 'UnknownSiteException', 'WGS72GeodeticRepresentation', 'WGS84GeodeticRepresentation', '__builtins__', '__cached__', '__doc__', '__file__', '__loader__', '__name__', '__package__', '__path__', '__spec__', 'angle_formats', 'angle_utilities', 'angles', 'angular_separation', 'attributes', 'baseframe', 'builtin_frames', 'calculation', 'cartesian_to_spherical', 'concatenate', 'concatenate_representations', 'distances', 'earth', 'earth_orientation', 'erfa_astrom', 'errors', 'frame_transform_graph', 'funcs', 'galactocentric_frame_defaults', 'get_body', 'get_body_barycentric', 'get_body_barycentric_posvel', 'get_constellation', 'get_icrs_coordinates', 'get_moon', 'get_sun', 'golden_spiral_grid', 'make_transform_graph_docs', 'match_coordinates_3d', 'match_coordinates_sky', 'matching', 'matrix_utilities', 'name_resolve', 'offset_by', 'orbital_elements', 'position_angle', 'representation', 'search_around_3d', 'search_around_sky', 'sky_coordinate', 'sky_coordinate_parsers', 'solar_system', 'solar_system_ephemeris', 'spectral_coordinate', 'spectral_quantity', 'spherical_to_cartesian', 'transformations', 'uniform_spherical_random_surface', 'uniform_spherical_random_volume']\n"
     ]
    }
   ],
   "source": [
    "from astropy import coordinates\n",
    "\n",
    "attribs = [attrib\n",
    "           for attrib in dir(coordinates)\n",
    "           if not callable(attrib)]\n",
    "print(attribs)"
   ]
  },
  {
   "cell_type": "markdown",
   "id": "d12aaae4",
   "metadata": {},
   "source": [
    "Hepimiz ingilizce biliyoruz ya,\n",
    "\n",
    "```\n",
    "[metod\n",
    "    for metod in dir(coordinates)\n",
    "    if not callable(metod)]\n",
    "```\n",
    "\n",
    "ne diyor. Bir bakalım.\n",
    "\n",
    "```coordinates```'ın içinde her bir eleman'ı (```attribs```), eğerçağırılamazsa, listeye ekle.\n",
    "\n",
    "İngilizce deseydik:\n",
    "\n",
    "for each element in ```coordinates``` add it to a list if the element is not callable.\n",
    "\n",
    "Bu cümle ve list comprehension'ımız çok benziyor değil mi?"
   ]
  },
  {
   "cell_type": "code",
   "execution_count": null,
   "id": "26de6444",
   "metadata": {},
   "outputs": [],
   "source": []
  }
 ],
 "metadata": {
  "kernelspec": {
   "display_name": "Python 3 (ipykernel)",
   "language": "python",
   "name": "python3"
  },
  "language_info": {
   "codemirror_mode": {
    "name": "ipython",
    "version": 3
   },
   "file_extension": ".py",
   "mimetype": "text/x-python",
   "name": "python",
   "nbconvert_exporter": "python",
   "pygments_lexer": "ipython3",
   "version": "3.9.6"
  }
 },
 "nbformat": 4,
 "nbformat_minor": 5
}
