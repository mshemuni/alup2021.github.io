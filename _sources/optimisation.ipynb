{
 "cells": [
  {
   "cell_type": "markdown",
   "id": "182c006a",
   "metadata": {},
   "source": [
    "# Optimizasyon\n",
    "\n",
    "Şimdiye kadar az çok kod yazmayı öğrendik. Artık sorgulamamız gereken, yazdığımız kodun ne kadar etkili (efektif) olduğudur.\n",
    "\n",
    "Aslında bilimsel programlama yaptığımız için, milisaniyelerin önemi var diyemeyiz. Bir işlemi $0.62$ saniyede yapmak ile $0.75$ saniyede yapmak arasında bir fark yok gibi.\n",
    "\n",
    "Yoksa var mı? Söz konusu işlemi bir milyon defa yapmak zorunda kalmış olsak?\n",
    "\n",
    "Hemen hesaplayalım:\n",
    "\n",
    "İşlem süresi $0.62$ saniye iken:"
   ]
  },
  {
   "cell_type": "code",
   "execution_count": 5,
   "id": "c1010e8a",
   "metadata": {},
   "outputs": [
    {
     "data": {
      "text/plain": [
       "172.22222222222223"
      ]
     },
     "execution_count": 5,
     "metadata": {},
     "output_type": "execute_result"
    }
   ],
   "source": [
    "islem_suresi = 0.62\n",
    "tekrar_sayisi = 1_000_000\n",
    "\n",
    "toplam_sure = islem_suresi * tekrar_sayisi\n",
    "\n",
    "toplam_sure_saat = toplam_sure / 3600\n",
    "toplam_sure_saat"
   ]
  },
  {
   "cell_type": "markdown",
   "id": "745bd728",
   "metadata": {},
   "source": [
    "İşlem süresi $0.62$ saniye iken:"
   ]
  },
  {
   "cell_type": "code",
   "execution_count": 6,
   "id": "f639e012",
   "metadata": {},
   "outputs": [
    {
     "data": {
      "text/plain": [
       "208.33333333333334"
      ]
     },
     "execution_count": 6,
     "metadata": {},
     "output_type": "execute_result"
    }
   ],
   "source": [
    "islem_suresi = 0.75\n",
    "tekrar_sayisi = 1_000_000\n",
    "\n",
    "toplam_sure = islem_suresi * tekrar_sayisi\n",
    "\n",
    "toplam_sure_saat = toplam_sure / 3600\n",
    "toplam_sure_saat"
   ]
  },
  {
   "cell_type": "markdown",
   "id": "508767a1",
   "metadata": {},
   "source": [
    ":::{note}\n",
    "Sayıyı ifade ederken ne yaptığımız gördünüz mü? ```_``` kullandım. Sayı ifade ederken ```_``` sayıyı etkilemez. Dolayısıyla büyük sayıları yazarken binler ayracı olarak kullanabiliriz.\n",
    ":::"
   ]
  },
  {
   "cell_type": "markdown",
   "id": "a6825b1a",
   "metadata": {},
   "source": [
    "$0.62$ saniye süren işlemi bir milyon defa tekrarlayınca toplam süre yaklaşık $172$ saat iken, $0.75$ saniye süren işlemi bir milyon defa tekrarlayınca toplam süre yaklaşım $208$ saat oldu. Arada $1.5$ gün fark var.\n",
    "\n",
    "```{image} ../images/shock_2.gif\n",
    ":alt: Python resmi web sayfası\n",
    ":class: bg-primary mb-1\n",
    ":width: 400px\n",
    ":align: center\n",
    "```\n",
    "\n",
    "Dolayısıyla bir işlemde $0.13$ saniyelik bir kazanımın ne denli önemli olabileceğini görüyoruz."
   ]
  },
  {
   "cell_type": "markdown",
   "id": "ece4e84c",
   "metadata": {},
   "source": [
    "## Örnek\n",
    "\n",
    "Bir milyon tane $0$'dan oluşan bir liste oluşturalım.\n",
    "\n",
    "Bunun için iki farklı yöntem kullanalım ve süre farkına bakalım.\n",
    "\n",
    ":::{note}\n",
    "Süre farkını hesaplamak için ```time``` modülünü kullanalım.\n",
    ":::\n",
    "\n",
    "<hr>\n",
    "\n",
    "Yöntem 1:\n",
    "\n",
    "Bir döngü ile bir milyon adet $0$'ı listeye ekleyelim:"
   ]
  },
  {
   "cell_type": "code",
   "execution_count": 88,
   "id": "2d844157",
   "metadata": {},
   "outputs": [
    {
     "name": "stdout",
     "output_type": "stream",
     "text": [
      "Geçen süre = 0.1900186538696289 Saniye\n"
     ]
    }
   ],
   "source": [
    "from time import time\n",
    "\n",
    "baslangic = time()\n",
    "sifirlar = []\n",
    "for _ in range(1_000_000):\n",
    "    sifirlar.append(0)\n",
    "bitis = time()\n",
    "print(\"Geçen süre = \" + str(bitis - baslangic) + \" Saniye\")"
   ]
  },
  {
   "cell_type": "markdown",
   "id": "9c05e24d",
   "metadata": {},
   "source": [
    ":::{note}\n",
    "Döngüde $[0, 999999]$ aralığındaki değerler üretildi. Fakat bu değerleri kullanmak istemiyorum. Sadece $1000000$ defa tekrar istiyorum. Dolayısıyla ```for```'un iterasyon değişkenine ```_``` diyorum.\n",
    "\n",
    "```Python```'da ```_``` değişkeni, umursamadığımız değerler için kullanılır.\n",
    ":::"
   ]
  },
  {
   "cell_type": "markdown",
   "id": "4a35ec07",
   "metadata": {},
   "source": [
    "Yöntem 2:\n",
    "\n",
    "Şimdi ```list``` ve ```int``` tipi değişkenlerinin ```*``` özelliğini kullanalım:"
   ]
  },
  {
   "cell_type": "code",
   "execution_count": 89,
   "id": "3dd06700",
   "metadata": {},
   "outputs": [
    {
     "name": "stdout",
     "output_type": "stream",
     "text": [
      "Geçen süre = 0.006022453308105469 Saniye\n"
     ]
    }
   ],
   "source": [
    "from time import time\n",
    "\n",
    "baslangic = time()\n",
    "sifirlar = [0] * 1_000_000\n",
    "bitis = time()\n",
    "print(\"Geçen süre = \" + str(bitis - baslangic) + \" Saniye\")"
   ]
  },
  {
   "cell_type": "markdown",
   "id": "8df78de8",
   "metadata": {},
   "source": [
    "Gördünüz mü? Aradaki fark büyük. \n",
    "\n",
    "Yalnızca $0$'lardan oluşan dizinin oluşturma biçimini değiştirmekle, yaklaşık $21$ kat zaman kazandık."
   ]
  },
  {
   "cell_type": "markdown",
   "id": "f639fff5",
   "metadata": {},
   "source": [
    "Bunu daha gerçekçi bir örnek ile anlamaya çalışalım.\n",
    "\n",
    "## Asal sayılar\n",
    "\n",
    "Yalnızca 1 ve kendisine tam bölünebilen sayılardır.\n",
    "\n",
    "<hr>\n",
    "\n",
    "Örnek:\n",
    "\n",
    "Verilen bir tam sayının asal olup olmadığını kontrol eden fonksiyonu yazınız.\n",
    "\n",
    "Yöntem:\n",
    "Verilen sayıyı (```n```), $[1, n]$ aralığındaki bütün sayılara bölelim. Tam bölme gerçekleştiği anda bir sayacın değerini arttıralım. Sonuçta sayacın değeri $2$'den büyük ise sayı asal değilmiş."
   ]
  },
  {
   "cell_type": "code",
   "execution_count": 81,
   "id": "c29c07cb",
   "metadata": {},
   "outputs": [
    {
     "name": "stdout",
     "output_type": "stream",
     "text": [
      "2 Asaldır\n",
      "3 Asaldır\n",
      "4 Asal değildir\n",
      "5 Asaldır\n",
      "6 Asal değildir\n",
      "7 Asaldır\n"
     ]
    }
   ],
   "source": [
    "def asal(n: int) -> None:\n",
    "    sayac = 0\n",
    "    for i in range(1, n + 1):\n",
    "        if n % i == 0:\n",
    "            sayac += 1\n",
    "            \n",
    "    if sayac == 2:\n",
    "        print(str(n) + \" Asaldır\")\n",
    "    else:\n",
    "        print(str(n) + \" Asal değildir\")\n",
    "        \n",
    "for i in range(2, 8):\n",
    "    asal(i)"
   ]
  },
  {
   "cell_type": "markdown",
   "id": "880c1ddd",
   "metadata": {},
   "source": [
    "Şimdi çok büyük bir sayı için kodun ne kadar sürede yanıt verdiğine bakalım:"
   ]
  },
  {
   "cell_type": "code",
   "execution_count": 90,
   "id": "151700f3",
   "metadata": {
    "scrolled": true
   },
   "outputs": [
    {
     "name": "stdout",
     "output_type": "stream",
     "text": [
      "10000001 Asal değildir\n",
      "Geçen süre = 0.7879555225372314 Saniye\n",
      "10000019 Asaldır\n",
      "Geçen süre = 0.7771518230438232 Saniye\n"
     ]
    }
   ],
   "source": [
    "from time import time\n",
    "\n",
    "def asal(n: int) -> None:\n",
    "    sayac = 0\n",
    "    for i in range(1, n + 1):\n",
    "        if n % i == 0:\n",
    "            sayac += 1\n",
    "            \n",
    "    if sayac == 2:\n",
    "        print(str(n) + \" Asaldır\")\n",
    "    else:\n",
    "        print(str(n) + \" Asal değildir\")\n",
    "        \n",
    "baslangic = time()\n",
    "asal(10000001)\n",
    "bitis = time()\n",
    "print(\"Geçen süre = \" + str(bitis - baslangic) + \" Saniye\")\n",
    "\n",
    "baslangic = time()\n",
    "asal(10000019)\n",
    "bitis = time()\n",
    "print(\"Geçen süre = \" + str(bitis - baslangic) + \" Saniye\")"
   ]
  },
  {
   "cell_type": "markdown",
   "id": "ec9dea85",
   "metadata": {},
   "source": [
    "Şimdi bu fonksiyona optimizasyonlar yapalım.\n",
    "\n",
    "### Çift sayılar\n",
    "\n",
    "Çift sayıların tamamı $2$'ye tam bölündüğünden, $2$ dışındaki çift sayılardan kurtulalım:"
   ]
  },
  {
   "cell_type": "code",
   "execution_count": 91,
   "id": "0f9528cb",
   "metadata": {},
   "outputs": [
    {
     "name": "stdout",
     "output_type": "stream",
     "text": [
      "2 Asaldır\n",
      "3 Asaldır\n",
      "4 Asal değildir\n",
      "5 Asaldır\n",
      "6 Asal değildir\n",
      "7 Asaldır\n"
     ]
    }
   ],
   "source": [
    "def asal(n: int) -> None:\n",
    "    if n == 2:\n",
    "        print(str(n) + \" Asaldır\")\n",
    "    else:\n",
    "        if n % 2 == 0:\n",
    "            print(str(n) + \" Asal değildir\")\n",
    "        else:\n",
    "            sayac = 0\n",
    "            for i in range(1, n + 1, 2):\n",
    "                if n % i == 0:\n",
    "                    sayac += 1\n",
    "            if sayac == 2:\n",
    "                print(str(n) + \" Asaldır\")\n",
    "            else:\n",
    "                print(str(n) + \" Asal değildir\")\n",
    "\n",
    "for i in range(2, 8):\n",
    "    asal(i)"
   ]
  },
  {
   "cell_type": "markdown",
   "id": "686f83c5",
   "metadata": {},
   "source": [
    "Şimdi bu fonksiyonun aldığı süreye bakalım"
   ]
  },
  {
   "cell_type": "code",
   "execution_count": 92,
   "id": "19b773b2",
   "metadata": {},
   "outputs": [
    {
     "name": "stdout",
     "output_type": "stream",
     "text": [
      "10000001 Asal değildir\n",
      "Geçen süre = 0.4238407611846924 Saniye\n",
      "10000019 Asaldır\n",
      "Geçen süre = 0.369396448135376 Saniye\n"
     ]
    }
   ],
   "source": [
    "from time import time\n",
    "\n",
    "def asal(n: int) -> None:\n",
    "    if n == 2:\n",
    "        print(str(n) + \" Asaldır\")\n",
    "    else:\n",
    "        if n % 2 == 0:\n",
    "            print(str(n) + \" Asal değildir\")\n",
    "        else:\n",
    "            sayac = 0\n",
    "            for i in range(1, n + 1, 2):\n",
    "                if n % i == 0:\n",
    "                    sayac += 1\n",
    "            if sayac == 2:\n",
    "                print(str(n) + \" Asaldır\")\n",
    "            else:\n",
    "                print(str(n) + \" Asal değildir\")\n",
    "\n",
    "\n",
    "baslangic = time()\n",
    "asal(10000001)\n",
    "bitis = time()\n",
    "print(\"Geçen süre = \" + str(bitis - baslangic) + \" Saniye\")\n",
    "\n",
    "baslangic = time()\n",
    "asal(10000019)\n",
    "bitis = time()\n",
    "print(\"Geçen süre = \" + str(bitis - baslangic) + \" Saniye\")"
   ]
  },
  {
   "cell_type": "markdown",
   "id": "081df4ea",
   "metadata": {},
   "source": [
    "Fena değil. \n",
    "\n",
    "### Sayaç\n",
    "Biz sayacı işlemlerin en sonunda kontrol ediyoruz. Aslında sayaç değeri $2$'yi aştığı anda daha fazla değere bakmamıza gerek kalmaz..."
   ]
  },
  {
   "cell_type": "code",
   "execution_count": 93,
   "id": "ccc9036f",
   "metadata": {},
   "outputs": [
    {
     "name": "stdout",
     "output_type": "stream",
     "text": [
      "2 Asaldır\n",
      "3 Asaldır\n",
      "4 Asal değildir\n",
      "5 Asaldır\n",
      "6 Asal değildir\n",
      "7 Asaldır\n"
     ]
    }
   ],
   "source": [
    "def asal(n: int) -> None:\n",
    "    if n == 2:\n",
    "        print(str(n) + \" Asaldır\")\n",
    "    else:\n",
    "        if n % 2 == 0:\n",
    "            print(str(n) + \" Asal değildir\")\n",
    "        else:\n",
    "            sayac = 0\n",
    "            for i in range(1, n + 1, 2):\n",
    "                if n % i == 0:\n",
    "                    sayac += 1\n",
    "                    \n",
    "                if sayac > 2:\n",
    "                    break\n",
    "            if sayac == 2:\n",
    "                print(str(n) + \" Asaldır\")\n",
    "            else:\n",
    "                print(str(n) + \" Asal değildir\")\n",
    "                \n",
    "for i in range(2, 8):\n",
    "    asal(i)"
   ]
  },
  {
   "cell_type": "markdown",
   "id": "900f914b",
   "metadata": {},
   "source": [
    ":::{note}\n",
    "```break``` bir döngüyü durdurmak için kullanılır.\n",
    ":::"
   ]
  },
  {
   "cell_type": "markdown",
   "id": "0794028c",
   "metadata": {},
   "source": [
    "Şimdi bu fonksiyonun aldığı süreye bakalım"
   ]
  },
  {
   "cell_type": "code",
   "execution_count": 94,
   "id": "18b31be0",
   "metadata": {},
   "outputs": [
    {
     "name": "stdout",
     "output_type": "stream",
     "text": [
      "10000001 Asal değildir\n",
      "Geçen süre = 0.039602041244506836 Saniye\n",
      "10000019 Asaldır\n",
      "Geçen süre = 0.5947058200836182 Saniye\n"
     ]
    }
   ],
   "source": [
    "from time import time\n",
    "\n",
    "def asal(n: int) -> None:\n",
    "    if n == 2:\n",
    "        print(str(n) + \" Asaldır\")\n",
    "    else:\n",
    "        if n % 2 == 0:\n",
    "            print(str(n) + \" Asal değildir\")\n",
    "        else:\n",
    "            sayac = 0\n",
    "            for i in range(1, n + 1, 2):\n",
    "                if n % i == 0:\n",
    "                    sayac += 1\n",
    "                    \n",
    "                if sayac > 2:\n",
    "                    break\n",
    "            if sayac == 2:\n",
    "                print(str(n) + \" Asaldır\")\n",
    "            else:\n",
    "                print(str(n) + \" Asal değildir\")\n",
    "\n",
    "baslangic = time()\n",
    "asal(10000001)\n",
    "bitis = time()\n",
    "print(\"Geçen süre = \" + str(bitis - baslangic) + \" Saniye\")\n",
    "\n",
    "baslangic = time()\n",
    "asal(10000019)\n",
    "bitis = time()\n",
    "print(\"Geçen süre = \" + str(bitis - baslangic) + \" Saniye\")"
   ]
  },
  {
   "cell_type": "markdown",
   "id": "50e683bb",
   "metadata": {},
   "source": [
    ":::{note}\n",
    "Fonksiyonumuz asal olmayan sayılarda, asal sayılarda olduğundan çok daha hızlı çalışıyor.\n",
    "\n",
    "Zira verilen sayı $2$ defa tam bölündüğünde döngü duruyor. Fakat sayı asal olunca döngünün sonuna kadar gitmek zorunda.\n",
    ":::\n",
    "\n",
    "Fena değil."
   ]
  },
  {
   "cell_type": "markdown",
   "id": "73679e96",
   "metadata": {},
   "source": [
    "### Tüm sayılar\n",
    "\n",
    "Olaya matematiksel açıdan bakalım.\n",
    "\n",
    "Bir sayının bölenlerine bakalım.\n",
    "\n",
    "```24``` için:\n",
    "\n",
    "```1```, ```2```, ```3```, ```4```, ```6```, ```8```, ```12```, ```24```\n",
    "\n",
    "Dikkat etmemiz gereken nokta:\n",
    "\n",
    "Sayımız ```2```'ye tam bölünüyor. Bu aslında sayımızın ```12```'ye de tam bölündüğü anlamına gelir.\n",
    "\n",
    "Aynı şekilde, sayımız ```3```'e tam bölünüyor. Bu da aslında sayımızın ```8```'e de tam bölündüğü anlamına gelir.\n",
    "\n",
    "Kısacası ```24```'ün asal olup olmadığını anlamak için, sayımızın $[1, 24]$ aralığına bölünüp bölünmediğine değil de, $[1, \\sqrt{24}]$'e bakmamız yeterli olur. Bu durumda sayımız herhangi bir değere bölünürse, ```sayı asal değildir``` diyebiliriz.\n",
    "\n",
    ":::{note}\n",
    "Sayının karekökünü alırken üste yuvarlayacağız. Garanti olsun diye.\n",
    ":::"
   ]
  },
  {
   "cell_type": "code",
   "execution_count": 84,
   "id": "9a74b539",
   "metadata": {},
   "outputs": [
    {
     "name": "stdout",
     "output_type": "stream",
     "text": [
      "2 Asaldır\n",
      "3 Asaldır\n",
      "4 Asal değildir\n",
      "5 Asaldır\n",
      "6 Asal değildir\n",
      "7 Asaldır\n"
     ]
    }
   ],
   "source": [
    "import math\n",
    "\n",
    "def asal(n: int) -> None:\n",
    "    if n == 2:\n",
    "        print(str(n) + \" Asaldır\")\n",
    "    else:\n",
    "        if n % 2 == 0:\n",
    "            print(str(n) + \" Asal değildir\")\n",
    "        else:\n",
    "            asaldir = True\n",
    "            for i in range(3, math.ceil(math.sqrt(n)), 2):\n",
    "                print(i)\n",
    "                if n % i == 0:\n",
    "                    asaldir = False\n",
    "                    break\n",
    "                    \n",
    "            if asaldir:\n",
    "                print(str(n) + \" Asaldır\")\n",
    "            else:\n",
    "                print(str(n) + \" Asal değildir\")\n",
    "                \n",
    "for i in range(2, 8):\n",
    "    asal(i)"
   ]
  },
  {
   "cell_type": "markdown",
   "id": "88ee64c8",
   "metadata": {},
   "source": [
    "Şimdi bu fonksiyonun aldığı süreye bakalım"
   ]
  },
  {
   "cell_type": "code",
   "execution_count": 95,
   "id": "4be78fff",
   "metadata": {},
   "outputs": [
    {
     "name": "stdout",
     "output_type": "stream",
     "text": [
      "10000001 Asal değildir\n",
      "Geçen süre = 0.0 Saniye\n",
      "10000019 Asaldır\n",
      "Geçen süre = 0.0 Saniye\n"
     ]
    }
   ],
   "source": [
    "from time import time\n",
    "import math\n",
    "\n",
    "def asal(n: int) -> None:\n",
    "    if n == 2:\n",
    "        print(str(n) + \" Asaldır\")\n",
    "    else:\n",
    "        if n % 2 == 0:\n",
    "            print(str(n) + \" Asal değildir\")\n",
    "        else:\n",
    "            asaldir = True\n",
    "            for i in range(3, math.ceil(math.sqrt(n)), 2):\n",
    "                if n % i == 0:\n",
    "                    asaldir = False\n",
    "                    break\n",
    "                    \n",
    "            if asaldir:\n",
    "                print(str(n) + \" Asaldır\")\n",
    "            else:\n",
    "                print(str(n) + \" Asal değildir\")\n",
    "                \n",
    "baslangic = time()\n",
    "asal(10000001)\n",
    "bitis = time()\n",
    "print(\"Geçen süre = \" + str(bitis - baslangic) + \" Saniye\")\n",
    "\n",
    "baslangic = time()\n",
    "asal(10000019)\n",
    "bitis = time()\n",
    "print(\"Geçen süre = \" + str(bitis - baslangic) + \" Saniye\")"
   ]
  },
  {
   "cell_type": "markdown",
   "id": "02aadb4d",
   "metadata": {},
   "source": [
    "```{image} ../images/success.gif\n",
    ":alt: Python resmi web sayfası\n",
    ":class: bg-primary mb-1\n",
    ":width: 400px\n",
    ":align: center\n",
    "```"
   ]
  },
  {
   "cell_type": "markdown",
   "id": "a156b692",
   "metadata": {},
   "source": [
    "Gördüğünüz gibi, bir az matematik, bir az mantık ile kodumuz daha uzun ve bir az daha karmaşık görünmesine rağmen çok daha hızlı çalışıyor."
   ]
  },
  {
   "cell_type": "code",
   "execution_count": null,
   "id": "8aa87dfa",
   "metadata": {},
   "outputs": [],
   "source": []
  }
 ],
 "metadata": {
  "kernelspec": {
   "display_name": "Python 3 (ipykernel)",
   "language": "python",
   "name": "python3"
  },
  "language_info": {
   "codemirror_mode": {
    "name": "ipython",
    "version": 3
   },
   "file_extension": ".py",
   "mimetype": "text/x-python",
   "name": "python",
   "nbconvert_exporter": "python",
   "pygments_lexer": "ipython3",
   "version": "3.9.6"
  }
 },
 "nbformat": 4,
 "nbformat_minor": 5
}
