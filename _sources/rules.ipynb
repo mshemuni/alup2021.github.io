{
 "cells": [
  {
   "cell_type": "markdown",
   "id": "a464b33d",
   "metadata": {},
   "source": [
    "# Kurallar\n",
    "\n",
    "```Python``` törelerine göre uymamız gereken yazılı ve yazılı olmayan kurallarımız vardr.\n",
    "\n",
    "## ```pep8```\n",
    "\n",
    "```pep``` (```Python Enhancement Proposal```, ```Python Geliştirme Önerisi```) ```Python``` topluluğuna verilen önerilerdir. Tartışmalar sonucunda bu öneriler kabul edilebilir.\n",
    "\n",
    "```pep8``` bunların en önemlilerinden biridir, zira bir ```Python``` kodunun nasıl yazılması gerektiğinden bahseder. (Zorunlu kurallar değildir. Fakat kodunuzu paylaştığınızda, ciddiye alınmak isterseniz, ```pep8```'i göz ardı etmeyin)\n",
    "\n",
    "Örneğin ```Python```'da bir bloğun ```indentation``` ile ayrılması gerektiğinden daha önce bahsetmiştik. Fakat bu ```indentation```ın (```girinti```) nasıl olmasını söyleyen bir kuraldan bahsetmedik.\n",
    "\n",
    "Dolayısıyla girinti işin, ```n``` adet <kbd>Tab</kbd> veya ```boşluk``` kullanmamızı kısıtlayan bir şey yoktur. (Aynı ```indentation```'ın başındaki boşluk sayısı aynı olduğu sürece) \n",
    "\n",
    "Kısıtlama yok dedik ama ```pep8``` aslında bizi kısıtlıyor. ```pep8``` bize, ```indentaion```'larn $4$ ```boşluk```tan oluştuğunu dikte eder.\n",
    "\n",
    "Yahut bir satırın en fazla $82$ karakter olabileceğini söyler.\n",
    "\n",
    "Aslında günümüz ```IDE```leri bu işleri sizin için zaten halleder, lakin ne yaptığımızı bilmekte de yarar var."
   ]
  },
  {
   "cell_type": "markdown",
   "id": "caf3a1b7",
   "metadata": {},
   "source": [
    "## Açıklama satırları\n",
    "\n",
    "Bütün dillerde olduğu gibi ```Python```'da açıklama satırları (```comment line```) yazabilirsiniz. Bu satırlar ```Python``` tarafından yorumlanmazlar. Adı üstünde açıklamalar için kullanılırlar.\n",
    "\n",
    ":::{note}\n",
    "Açıklama satırları çok önemlidir. Bir kodu yalnızca kendiniz kullanacaksanız bile açıklama saıtları yazmalısınız. Böylece yıllar sonra aynı kodu kullanmaya kalkıştığınızda \"Bu ney lan?\" demezsiniz.\n",
    ":::\n",
    "\n",
    "```{image} ../images/three_years_old_code.gif\n",
    ":class: bg-primary mb-1\n",
    ":width: 400px\n",
    ":align: center\n",
    "```\n",
    "\n",
    "```Python```'da açıklama satırları ```#``` ile başlar.\n",
    "\n",
    "<hr>\n",
    "\n",
    "Örneğin daha önce yazdığımız ```factorial``` kodumuzu ele alalım"
   ]
  },
  {
   "cell_type": "code",
   "execution_count": 1,
   "id": "a813329b",
   "metadata": {},
   "outputs": [
    {
     "data": {
      "text/plain": [
       "120"
      ]
     },
     "execution_count": 1,
     "metadata": {},
     "output_type": "execute_result"
    }
   ],
   "source": [
    "def factorial(n):\n",
    "    if n == 1:\n",
    "        return 1\n",
    "    \n",
    "    return n * factorial(n - 1)\n",
    "\n",
    "factorial(5)"
   ]
  },
  {
   "cell_type": "markdown",
   "id": "69bed44b",
   "metadata": {},
   "source": [
    "Bu kod basit olduğundan ilk bakışta ne yaptığını anlayabiliriz. Fakata açıklamalar olsaydı daha iyi olmaz mıydı?"
   ]
  },
  {
   "cell_type": "code",
   "execution_count": 14,
   "id": "0fc7c99c",
   "metadata": {},
   "outputs": [
    {
     "data": {
      "text/plain": [
       "120"
      ]
     },
     "execution_count": 14,
     "metadata": {},
     "output_type": "execute_result"
    }
   ],
   "source": [
    "def factorial(n):\n",
    "    \n",
    "    # Hesaplanmak istenen değer 1 ise sonucu 1 olarka iade et\n",
    "    if n == 1:\n",
    "        return 1\n",
    "    \n",
    "    # Değilse gelen değeri, kendisinin bir eksiğinin factorial'i ile çarp (n * (n - 1)!)\n",
    "    return n * factorial(n - 1)\n",
    "\n",
    "factorial(5)"
   ]
  },
  {
   "cell_type": "markdown",
   "id": "8ee74d53",
   "metadata": {},
   "source": [
    ":::{note}\n",
    "```Python```'da çoklu satır açıklama satırları için, çoklu satır ```str```ler kullanılır.\n",
    ":::\n",
    "\n",
    "<hr>\n",
    "\n",
    "Örnek"
   ]
  },
  {
   "cell_type": "code",
   "execution_count": 15,
   "id": "fc8bf9ed",
   "metadata": {},
   "outputs": [
    {
     "data": {
      "text/plain": [
       "120"
      ]
     },
     "execution_count": 15,
     "metadata": {},
     "output_type": "execute_result"
    }
   ],
   "source": [
    "def factorial(n):\n",
    "    \n",
    "    # Hesaplanmak istenen değer 1 ise sonucu 1 olarka iade et\n",
    "    if n == 1:\n",
    "        return 1\n",
    "    \n",
    "    \"\"\"\n",
    "    Bu fonksiyon tam olarak nasıl çalışır?\n",
    "    n! = n * (n - 1)!\n",
    "    (n - 1)! = (n - 1) * (n - 2)!\n",
    "    .\n",
    "    .\n",
    "    .\n",
    "    3! = 3 * 2!\n",
    "    2! = 2 * 1!\n",
    "    1! = 1\n",
    "    mantığını kullanır\n",
    "    \"\"\"\n",
    "    \n",
    "    # Değilse gelen değeri, kendisinin bir eksiğinin factorial'i ile çarp (n * (n - 1)!)\n",
    "    return n * factorial(n - 1)\n",
    "\n",
    "factorial(5)"
   ]
  },
  {
   "cell_type": "markdown",
   "id": "002970e2",
   "metadata": {},
   "source": [
    "## ```docstring```\n",
    "\n",
    "```docstring``` dokümantasyon için kullanılan açıklama satırlarıdır. Yazdığınız bir kodun ne işe yaradığını ifade eder ve her ```akıllı``` programcının sağlaması gereken bir içeriktir.\n",
    "\n",
    "```docstring```ler fonskiyonun başında yazılan açıklama metinleridir.\n",
    "\n",
    "Daha önce ```help``` fonksiyonundan bahsetmiştik.\n",
    "\n",
    "<hr>\n",
    "\n",
    "Örnek\n",
    "\n",
    "```math.cos``` için yardım bilgisinin ekrana yazalım."
   ]
  },
  {
   "cell_type": "code",
   "execution_count": 4,
   "id": "78056763",
   "metadata": {},
   "outputs": [
    {
     "name": "stdout",
     "output_type": "stream",
     "text": [
      "Help on built-in function cos in module math:\n",
      "\n",
      "cos(x, /)\n",
      "    Return the cosine of x (measured in radians).\n",
      "\n"
     ]
    }
   ],
   "source": [
    "import math\n",
    "\n",
    "help(math.cos)"
   ]
  },
  {
   "cell_type": "markdown",
   "id": "756bca66",
   "metadata": {},
   "source": [
    "Peki, bizim yazdığımız fonskiyonların yardım metni nasıl görünür?"
   ]
  },
  {
   "cell_type": "code",
   "execution_count": 16,
   "id": "0d3f0990",
   "metadata": {},
   "outputs": [
    {
     "name": "stdout",
     "output_type": "stream",
     "text": [
      "Help on function factorial in module __main__:\n",
      "\n",
      "factorial(n)\n",
      "\n"
     ]
    }
   ],
   "source": [
    "def factorial(n):\n",
    "    \n",
    "    # Hesaplanmak istenen değer 1 ise sonucu 1 olarka iade et\n",
    "    if n == 1:\n",
    "        return 1\n",
    "    \n",
    "    # Değilse gelen değeri, kendisinin bir eksiğinin factorial'i ile çarp (n * (n - 1)!)\n",
    "    return n * factorial(n - 1)\n",
    "\n",
    "help(factorial)"
   ]
  },
  {
   "cell_type": "markdown",
   "id": "261c1411",
   "metadata": {},
   "source": [
    "Hiçbir bilgi yok. Bunu hemen düzeltelim."
   ]
  },
  {
   "cell_type": "code",
   "execution_count": 17,
   "id": "53cf4ddb",
   "metadata": {},
   "outputs": [
    {
     "name": "stdout",
     "output_type": "stream",
     "text": [
      "Help on function factorial in module __main__:\n",
      "\n",
      "factorial(n)\n",
      "    Bu fonksiyon alacağı bir pozitif tam sayının faktöriyel değerini hesaplar. n!\n",
      "\n"
     ]
    }
   ],
   "source": [
    "def factorial(n):\n",
    "    \"\"\"Bu fonksiyon alacağı bir pozitif tam sayının faktöriyel değerini hesaplar. n!\"\"\"\n",
    "    # Hesaplanmak istenen değer 1 ise sonucu 1 olarka iade et\n",
    "    if n == 1:\n",
    "        return 1\n",
    "    \n",
    "    # Değilse gelen değeri, kendisinin bir eksiğinin factorial'i ile çarp (n * (n - 1)!)\n",
    "    return n * factorial(n - 1)\n",
    "\n",
    "help(factorial)"
   ]
  },
  {
   "cell_type": "markdown",
   "id": "9e642167",
   "metadata": {},
   "source": [
    "Çok daha iyi."
   ]
  },
  {
   "cell_type": "markdown",
   "id": "3887a22c",
   "metadata": {},
   "source": [
    "Daha önce yazdığımız ```aci``` sınıfına ```docstring```leri ve açıklama satırlarını ekleyelim"
   ]
  },
  {
   "cell_type": "code",
   "execution_count": 12,
   "id": "7f05c05d",
   "metadata": {},
   "outputs": [
    {
     "name": "stdout",
     "output_type": "stream",
     "text": [
      "Help on class Angle in module __main__:\n",
      "\n",
      "class Angle(builtins.object)\n",
      " |  Angle(angle)\n",
      " |  \n",
      " |  Açı sınıfı.\n",
      " |  Bu sınıf dönüşümler yapabilir.\n",
      " |  Aritmetik ve mantıksal işlemler yapabilir\n",
      " |  \n",
      " |  Methods defined here:\n",
      " |  \n",
      " |  __add__(self, other)\n",
      " |      Python + işlemini tanımlayan __add__ metodu. self.add'i kullanır\n",
      " |  \n",
      " |  __eq__(self, other)\n",
      " |      Python == işlemini tanımlayan __eq__ metodu. Açı değerlerini karşılaştırır\n",
      " |  \n",
      " |  __ge__(self, other)\n",
      " |      Python >= işlemini tanımlayan __ge__ metodu. Açı değerlerini karşılaştırır\n",
      " |  \n",
      " |  __gt__(self, other)\n",
      " |      Python > işlemini tanımlayan __gt__ metodu. Açı değerlerini karşılaştırır\n",
      " |  \n",
      " |  __init__(self, angle)\n",
      " |      Constructor metod. Açı değerini derece cinsinden alır\n",
      " |  \n",
      " |  __le__(self, other)\n",
      " |      Python <= işlemini tanımlayan __le__ metodu. Açı değerlerini karşılaştırır\n",
      " |  \n",
      " |  __lt__(self, other)\n",
      " |      Python < işlemini tanımlayan __lt__ metodu. Açı değerlerini karşılaştırır\n",
      " |  \n",
      " |  __mul__(self, other)\n",
      " |      Python * işlemini tanımlayan __mul__ metodu. self.multiply'ı kullanır\n",
      " |  \n",
      " |  __ne__(self, other)\n",
      " |      Python != işlemini tanımlayan __ne__ metodu. Açı değerlerini karşılaştırır\n",
      " |  \n",
      " |  __repr__(self)\n",
      " |      Nesneyi gösterdiğimizde açı değerini  iade etmek için __str__ metodu\n",
      " |  \n",
      " |  __rmul__(self, other)\n",
      " |      Python * işlemini (Soldan) tanımlayan __rmul__ metodu. self.multiply'ı kullanır\n",
      " |  \n",
      " |  __str__(self)\n",
      " |      Nesneyi str'e çevirdiğimizde açının değerini iade etmek için __str__ metodu\n",
      " |  \n",
      " |  __sub__(self, other)\n",
      " |      Python - işlemini tanımlayan __sub__ metodu. self.subtract'i kullanır\n",
      " |  \n",
      " |  __truediv__(self, other)\n",
      " |      Python / işlemini tanımlayan __truediv__ metodu. self.divide'ı kullanır\n",
      " |  \n",
      " |  add(self, other)\n",
      " |      İki açı değerini toplayıp bir açı nesnesi döndüren metod\n",
      " |  \n",
      " |  divide(self, other)\n",
      " |      Bir açı değerini bir sayı ile bölüp bir açı nesnesi döndüren metod\n",
      " |  \n",
      " |  gradians(self)\n",
      " |      Açı değerini yay deerecesinden gradian'a çeviren metod\n",
      " |  \n",
      " |  hours(self)\n",
      " |      Açı değerini yay deerecesinden saat açısına çeviren metod\n",
      " |  \n",
      " |  multiply(self, other)\n",
      " |      Bir açı değerini bir sayı ile çarpıp bir açı nesnesi döndüren metod\n",
      " |  \n",
      " |  radians(self)\n",
      " |      Açı değerini yay deerecesinden radian'a çeviren metod\n",
      " |  \n",
      " |  subtract(self, other)\n",
      " |      İki açı değerinin farkınnı hesaplayıp bir açı nesnesi döndüren metod\n",
      " |  \n",
      " |  ----------------------------------------------------------------------\n",
      " |  Data descriptors defined here:\n",
      " |  \n",
      " |  __dict__\n",
      " |      dictionary for instance variables (if defined)\n",
      " |  \n",
      " |  __weakref__\n",
      " |      list of weak references to the object (if defined)\n",
      " |  \n",
      " |  ----------------------------------------------------------------------\n",
      " |  Data and other attributes defined here:\n",
      " |  \n",
      " |  __hash__ = None\n",
      "\n"
     ]
    }
   ],
   "source": [
    "from math import pi\n",
    "\n",
    "class Angle:\n",
    "    \"\"\"\n",
    "    Açı sınıfı.\n",
    "    Bu sınıf dönüşümler yapabilir.\n",
    "    Aritmetik ve mantıksal işlemler yapabilir\n",
    "    \"\"\"\n",
    "    def __init__(self, angle):\n",
    "        \"\"\"\n",
    "        Constructor metod. Açı değerini derece cinsinden alır\n",
    "        \"\"\"\n",
    "        self.angle = angle\n",
    "        \n",
    "    def __str__(self):\n",
    "        \"\"\"\n",
    "        Nesneyi str'e çevirdiğimizde açının değerini iade etmek için __str__ metodu\n",
    "        \"\"\"\n",
    "        return str(self.angle)\n",
    "    \n",
    "    def __repr__(self):\n",
    "        \"\"\"\n",
    "        Nesneyi gösterdiğimizde açı değerini  iade etmek için __str__ metodu\n",
    "        \"\"\"\n",
    "        return str(self.angle)\n",
    "    \n",
    "    def __add__(self, other):\n",
    "        \"\"\"\n",
    "        Python + işlemini tanımlayan __add__ metodu. self.add'i kullanır\n",
    "        \"\"\"\n",
    "        return self.add(other)\n",
    "    \n",
    "    def __sub__(self, other):\n",
    "        \"\"\"\n",
    "        Python - işlemini tanımlayan __sub__ metodu. self.subtract'i kullanır\n",
    "        \"\"\"\n",
    "        return self.subtract(other)\n",
    "    \n",
    "    def __mul__(self, other):\n",
    "        \"\"\"\n",
    "        Python * işlemini tanımlayan __mul__ metodu. self.multiply'ı kullanır\n",
    "        \"\"\"\n",
    "        return self.multiply(other)\n",
    "    \n",
    "    def __rmul__(self, other):\n",
    "        \"\"\"\n",
    "        Python * işlemini (Soldan) tanımlayan __rmul__ metodu. self.multiply'ı kullanır\n",
    "        \"\"\"\n",
    "        return self.multiply(other)\n",
    "    \n",
    "    def __truediv__(self, other):\n",
    "        \"\"\"\n",
    "        Python / işlemini tanımlayan __truediv__ metodu. self.divide'ı kullanır\n",
    "        \"\"\"\n",
    "        return self.divide(other)\n",
    "    \n",
    "    def __eq__(self, other):\n",
    "        \"\"\"\n",
    "        Python == işlemini tanımlayan __eq__ metodu. Açı değerlerini karşılaştırır\n",
    "        \"\"\"\n",
    "        return self.angle == other.angle\n",
    "    \n",
    "    def __ne__(self, other):\n",
    "        \"\"\"\n",
    "        Python != işlemini tanımlayan __ne__ metodu. Açı değerlerini karşılaştırır\n",
    "        \"\"\"\n",
    "        return self.angle != other.angle\n",
    "    \n",
    "    def __gt__(self, other):\n",
    "        \"\"\"\n",
    "        Python > işlemini tanımlayan __gt__ metodu. Açı değerlerini karşılaştırır\n",
    "        \"\"\"\n",
    "        return self.angle > other.angle\n",
    "    \n",
    "    def __ge__(self, other):\n",
    "        \"\"\"\n",
    "        Python >= işlemini tanımlayan __ge__ metodu. Açı değerlerini karşılaştırır\n",
    "        \"\"\"\n",
    "        return self.angle >= other.angle\n",
    "    \n",
    "    def __lt__(self, other):\n",
    "        \"\"\"\n",
    "        Python < işlemini tanımlayan __lt__ metodu. Açı değerlerini karşılaştırır\n",
    "        \"\"\"\n",
    "        return self.angle < other.angle\n",
    "    \n",
    "    def __le__(self, other):\n",
    "        \"\"\"\n",
    "        Python <= işlemini tanımlayan __le__ metodu. Açı değerlerini karşılaştırır\n",
    "        \"\"\"\n",
    "        return self.angle <= other.angle\n",
    "    \n",
    "    def radians(self):\n",
    "        \"\"\"\n",
    "        Açı değerini yay deerecesinden radian'a çeviren metod\n",
    "        \"\"\"\n",
    "        return self.angle * pi / 180\n",
    "    \n",
    "    def gradians(self):\n",
    "        \"\"\"\n",
    "        Açı değerini yay deerecesinden gradian'a çeviren metod\n",
    "        \"\"\"\n",
    "        return self.angle * 10 / 9\n",
    "    \n",
    "    def hours(self):\n",
    "        \"\"\"\n",
    "        Açı değerini yay deerecesinden saat açısına çeviren metod\n",
    "        \"\"\"\n",
    "        return self.angle / 15\n",
    "    \n",
    "    def add(self, other):\n",
    "        \"\"\"\n",
    "        İki açı değerini toplayıp bir açı nesnesi döndüren metod\n",
    "        \"\"\"\n",
    "        \n",
    "        # Gelen diğer değer açı değilse hata yükselt\n",
    "        if not isinstance(other, Angle):\n",
    "            raise ValueError(\"Other must be an Angle\")\n",
    "        return Angle(self.angle + other.angle)\n",
    "    \n",
    "    def subtract(self, other):\n",
    "        \"\"\"\n",
    "        İki açı değerinin farkınnı hesaplayıp bir açı nesnesi döndüren metod\n",
    "        \"\"\"\n",
    "        \n",
    "        # Gelen diğer değer açı değilse hata yükselt\n",
    "        if not isinstance(other, Angle):\n",
    "            raise ValueError(\"Other must be an Angle\")\n",
    "        return Angle(self.angle - other.angle)\n",
    "    \n",
    "    def multiply(self, other):\n",
    "        \"\"\"\n",
    "        Bir açı değerini bir sayı ile çarpıp bir açı nesnesi döndüren metod\n",
    "        \"\"\"\n",
    "        \n",
    "        # Gelen diğer değer nümerik (int veya float) değilse hata yükselt\n",
    "        if not isinstance(other, (int, float)):\n",
    "            raise ValueError(\"Other must be a numeric value\")\n",
    "            \n",
    "        return Angle(self.angle * other)\n",
    "    \n",
    "    def divide(self, other):\n",
    "        \"\"\"\n",
    "        Bir açı değerini bir sayı ile bölüp bir açı nesnesi döndüren metod\n",
    "        \"\"\"\n",
    "        \n",
    "        # Gelen diğer değer nümerik (int veya float) değilse hata yükselt\n",
    "        if not isinstance(other, (int, float)):\n",
    "            raise ValueError(\"Other must be a numeric value\")\n",
    "            \n",
    "        return Angle(self.angle / other)\n",
    "\n",
    "    \n",
    "help(Angle)"
   ]
  },
  {
   "cell_type": "code",
   "execution_count": null,
   "id": "9b74aaa4",
   "metadata": {},
   "outputs": [],
   "source": []
  }
 ],
 "metadata": {
  "kernelspec": {
   "display_name": "Python 3 (ipykernel)",
   "language": "python",
   "name": "python3"
  },
  "language_info": {
   "codemirror_mode": {
    "name": "ipython",
    "version": 3
   },
   "file_extension": ".py",
   "mimetype": "text/x-python",
   "name": "python",
   "nbconvert_exporter": "python",
   "pygments_lexer": "ipython3",
   "version": "3.9.6"
  }
 },
 "nbformat": 4,
 "nbformat_minor": 5
}
