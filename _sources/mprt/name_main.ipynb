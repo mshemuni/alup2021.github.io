{
 "cells": [
  {
   "cell_type": "markdown",
   "id": "833020c6",
   "metadata": {},
   "source": [
    "# ```if __name__ == \"__main__\"```\n",
    "\n",
    "```Python``` çalıştırılan betiklere isimler verir. Örneğin direk olarak çalıştırdığımız metiğin ```__name__``` değeri (adı) ```__main__```'dir.\n",
    "\n",
    "<hr>\n",
    "\n",
    "Örnek\n",
    "\n",
    "Çalışırılan betiğin adını ekranda gösteriniz."
   ]
  },
  {
   "cell_type": "code",
   "execution_count": 1,
   "id": "2aef5d1a",
   "metadata": {},
   "outputs": [
    {
     "data": {
      "text/plain": [
       "'__main__'"
      ]
     },
     "execution_count": 1,
     "metadata": {},
     "output_type": "execute_result"
    }
   ],
   "source": [
    "__name__"
   ]
  },
  {
   "cell_type": "markdown",
   "id": "3629a72b",
   "metadata": {},
   "source": [
    "İçe aktarılan betiğin adı ise dosya adıyla aynıdır."
   ]
  },
  {
   "cell_type": "code",
   "execution_count": 2,
   "id": "a5a6bbc8",
   "metadata": {
    "scrolled": true
   },
   "outputs": [
    {
     "data": {
      "text/plain": [
       "'json'"
      ]
     },
     "execution_count": 2,
     "metadata": {},
     "output_type": "execute_result"
    }
   ],
   "source": [
    "import json\n",
    "\n",
    "json.__name__"
   ]
  },
  {
   "cell_type": "markdown",
   "id": "6fd64339",
   "metadata": {},
   "source": [
    "## Problem\n",
    "\n",
    "Yazdığımız ```geo.py``` direkt çalıştırdığımızda, parametrik olarak verilen yarıçap değeri için ```daire``` alanı hesaplasın, içe aktarıldığında ise gerekli fonksiyonları sağlasın.\n"
   ]
  },
  {
   "cell_type": "markdown",
   "id": "07c864be",
   "metadata": {},
   "source": [
    "```geo.py```\n",
    "\n",
    "```\n",
    "from typing import Union\n",
    "import sys\n",
    "from math import pi\n",
    "\n",
    "\n",
    "def dik_dortgen_alan(a: Union[int, float], b: Union[int, float]) -> Union[int, float]:\n",
    "    \"\"\"\n",
    "    Dikdörtgen alan hesaplar.\n",
    "    Kare için a ve b deüerini eşit veriniz\n",
    "    \"\"\"\n",
    "    return a * b\n",
    "\n",
    "\n",
    "def dik_dortgen_cevre(a: Union[int, float], b: Union[int, float]) -> Union[int, float]:\n",
    "    \"\"\"\n",
    "    Dikdörtgen çevre hesaplar.\n",
    "    Kare için a ve b deüerini eşit veriniz\n",
    "    \"\"\"\n",
    "    return 2 * (a + b)\n",
    "\n",
    "\n",
    "def daire_alan(r: Union[int, float]) -> Union[int, float]:\n",
    "    \"\"\"\n",
    "    Daire alan hesaplar\n",
    "    \"\"\"\n",
    "    return pi * r ** 2\n",
    "\n",
    "\n",
    "def daire_cevre(r: Union[int, float]) -> Union[int, float]:\n",
    "    \"\"\"\n",
    "    Daire çevre hesaplar\n",
    "    \"\"\"\n",
    "    return 2 * pi * r\n",
    "\n",
    "\n",
    "def ucgen_alan_yt(y: Union[int, float], t: Union[int, float]) -> Union[int, float]:\n",
    "    \"\"\"\n",
    "    Üçgenin alamnını yükseklik ve taban değerlerinden hesaplar\n",
    "    \"\"\"\n",
    "    return (y * t) / 2\n",
    "\n",
    "\n",
    "def ucgen_alan_abc(a: Union[int, float], b: Union[int, float], c: Union[int, float]) -> Union[int, float]:\n",
    "    \"\"\"\n",
    "    Üçgenin alamnını üç kenar uzunluğundan hesaplar\n",
    "    \"\"\"\n",
    "\n",
    "    # Yarı çevre\n",
    "    s = (a + b + c) / 2\n",
    "    return (s * (s - a) * (s - b) * (s - c)) ** 2\n",
    "\n",
    "\n",
    "def ucgen_cevre(a: Union[int, float], b: Union[int, float], c: Union[int, float]) -> Union[int, float]:\n",
    "    \"\"\"\n",
    "    Üçgenin çevresini üç kenar uzunluğundan hesaplar\n",
    "    \"\"\"\n",
    "    return a + b + c\n",
    "\n",
    "\n",
    "if len(sys.argv) == 1:\n",
    "    print(\"Yarıçap değeri vermediniz\")\n",
    "else:\n",
    "    r = float(sys.argv[1])\n",
    "    print(daire_alan(r))\n",
    "\n",
    "    \n",
    "```\n",
    "\n",
    ":::{note}\n",
    "```sys.argv```'nin içindeki bütün değerler ```str``` tipindedir. Dolayısıyla ```str```'den nümerik veriye dönüştürmemiz gerek. Bu nedenle ```float``` fonskiyonunu kullandık.\n",
    "\n",
    "```\n",
    "sayi = float(\"20\")\n",
    "sayi\n",
    "```\n",
    "\n",
    "Çıktı\n",
    "\n",
    "```\n",
    "20\n",
    "```\n",
    "\n",
    ":::"
   ]
  },
  {
   "cell_type": "markdown",
   "id": "da850e98",
   "metadata": {},
   "source": [
    "```\n",
    "$ python .\\geo.py 20\n",
    "```\n",
    "\n",
    "Çıktı\n",
    "\n",
    "```\n",
    "1256.6370614359173\n",
    "```"
   ]
  },
  {
   "cell_type": "markdown",
   "id": "66f28cb8",
   "metadata": {},
   "source": [
    "```\n",
    "import geo\n",
    "```\n",
    "\n",
    "Çıktı:\n",
    "\n",
    "```\n",
    "Yarıçap değeri vermediniz\n",
    "```"
   ]
  },
  {
   "cell_type": "markdown",
   "id": "97baa380",
   "metadata": {},
   "source": [
    "```{image} ../../images/wait_aminute.gif\n",
    ":class: bg-primary mb-1\n",
    ":width: 400px\n",
    ":align: center\n",
    "```\n",
    "\n",
    "İçe aktardığımızda ```print```'de çalıştı.\n",
    "\n",
    "Bunu önlemek için ne yapabiliriz? Bu sayfanın başlığından hiç belli olmuyo değil mi?\n",
    "\n",
    ":::{warning}\n",
    "Eğer bu betik çalıştırılmışsa, ```__name__```'in içinde ```\"__main__\"``` değeri vardır. Eğer Bu betik import edilmişse ```__name__```'in içinde dosya adı bulunur (```\"__main__\"``` değil yani)\n",
    ":::\n",
    "\n",
    "Bu durumda yeni bir betik yazacağız. Ve direkt olarak ```print``` fonksiyonunu çalıştırmaktansa, önce ```__name__```'in içini kontrol edeceğiz."
   ]
  },
  {
   "cell_type": "markdown",
   "id": "a1aaf855",
   "metadata": {},
   "source": [
    "```geometri.py```\n",
    "\n",
    "```\n",
    "from typing import Union\n",
    "import sys\n",
    "from math import pi\n",
    "\n",
    "\n",
    "def dik_dortgen_alan(a: Union[int, float], b: Union[int, float]) -> Union[int, float]:\n",
    "    \"\"\"\n",
    "    Dikdörtgen alan hesaplar.\n",
    "    Kare için a ve b deüerini eşit veriniz\n",
    "    \"\"\"\n",
    "    return a * b\n",
    "\n",
    "\n",
    "def dik_dortgen_cevre(a: Union[int, float], b: Union[int, float]) -> Union[int, float]:\n",
    "    \"\"\"\n",
    "    Dikdörtgen çevre hesaplar.\n",
    "    Kare için a ve b deüerini eşit veriniz\n",
    "    \"\"\"\n",
    "    return 2 * (a + b)\n",
    "\n",
    "\n",
    "def daire_alan(r: Union[int, float]) -> Union[int, float]:\n",
    "    \"\"\"\n",
    "    Daire alan hesaplar\n",
    "    \"\"\"\n",
    "    return pi * r ** 2\n",
    "\n",
    "\n",
    "def daire_cevre(r: Union[int, float]) -> Union[int, float]:\n",
    "    \"\"\"\n",
    "    Daire çevre hesaplar\n",
    "    \"\"\"\n",
    "    return 2 * pi * r\n",
    "\n",
    "\n",
    "def ucgen_alan_yt(y: Union[int, float], t: Union[int, float]) -> Union[int, float]:\n",
    "    \"\"\"\n",
    "    Üçgenin alamnını yükseklik ve taban değerlerinden hesaplar\n",
    "    \"\"\"\n",
    "    return (y * t) / 2\n",
    "\n",
    "\n",
    "def ucgen_alan_abc(a: Union[int, float], b: Union[int, float], c: Union[int, float]) -> Union[int, float]:\n",
    "    \"\"\"\n",
    "    Üçgenin alamnını üç kenar uzunluğundan hesaplar\n",
    "    \"\"\"\n",
    "\n",
    "    # Yarı çevre\n",
    "    s = (a + b + c) / 2\n",
    "    return (s * (s - a) * (s - b) * (s - c)) ** 2\n",
    "\n",
    "\n",
    "def ucgen_cevre(a: Union[int, float], b: Union[int, float], c: Union[int, float]) -> Union[int, float]:\n",
    "    \"\"\"\n",
    "    Üçgenin çevresini üç kenar uzunluğundan hesaplar\n",
    "    \"\"\"\n",
    "    return a + b + c\n",
    "\n",
    "\n",
    "if __name__ == \"__main__\":\n",
    "    if len(sys.argv) == 1:\n",
    "        print(\"Yarıçap değeri vermediniz\")\n",
    "    else:\n",
    "        r = float(sys.argv[1])\n",
    "        print(daire_alan(r))\n",
    "```"
   ]
  },
  {
   "cell_type": "markdown",
   "id": "c3349050",
   "metadata": {},
   "source": [
    "```\n",
    "$ python .\\geometri.py 15.25\n",
    "```\n",
    "\n",
    "Çıktı\n",
    "\n",
    "```\n",
    "730.6166415004762\n",
    "```"
   ]
  },
  {
   "cell_type": "code",
   "execution_count": 4,
   "id": "0cbcb57c",
   "metadata": {},
   "outputs": [],
   "source": [
    "import geometri"
   ]
  },
  {
   "cell_type": "markdown",
   "id": "6bd76b8a",
   "metadata": {},
   "source": [
    "```{image} ../../images/done.gif\n",
    ":class: bg-primary mb-1\n",
    ":width: 400px\n",
    ":align: center\n",
    "```"
   ]
  }
 ],
 "metadata": {
  "kernelspec": {
   "display_name": "Python 3 (ipykernel)",
   "language": "python",
   "name": "python3"
  },
  "language_info": {
   "codemirror_mode": {
    "name": "ipython",
    "version": 3
   },
   "file_extension": ".py",
   "mimetype": "text/x-python",
   "name": "python",
   "nbconvert_exporter": "python",
   "pygments_lexer": "ipython3",
   "version": "3.9.6"
  }
 },
 "nbformat": 4,
 "nbformat_minor": 5
}
