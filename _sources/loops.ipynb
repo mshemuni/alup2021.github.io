{
 "cells": [
  {
   "cell_type": "markdown",
   "id": "697a4170",
   "metadata": {},
   "source": [
    "# Döngüler\n",
    "\n",
    "Programlamada bazen bir işlemi tekrarlamak isteyebilirsiniz. Bilimsel programlamada bu duruma sıkça rastlanır.\n",
    "\n",
    "Örneğin iterasyon yaparken, verilen çok sayıda değerin toplamı, ortalaması vb gibi istatistiki bilgilerini hesaplarken belli başlı işlemleri tekrarlamanız gerekebilir.\n",
    "\n",
    "```{image} ../images/loop.gif\n",
    ":class: bg-primary mb-1\n",
    ":width: 400px\n",
    ":align: center\n",
    "```\n",
    "\n",
    "Bu durumda döngülere başvurulur.\n",
    "\n",
    "Herhangi bir progralama dilinde temelde 3 çeşit döngü bulunur.\n",
    "\n",
    "\n",
    "- ```while```\n",
    "- ```for```\n",
    "- ```foreach```\n",
    "\n",
    "Aslına bakacak olursak, tüm döngülerin temelinde ```while``` döngüsü vardır. Diğerleri iş kolaylaştırmak için var. ```while``` ile bütün işinizi halledebilirsiniz. Diğer döngüler ```while```'ın bir türevidir dersek yanlış olmaz.\n",
    "\n",
    "\n",
    "Bunu anlamak için sizi ```Python``` diyarından ```php``` diyarına götüreceğim."
   ]
  },
  {
   "cell_type": "markdown",
   "id": "6f4e5add",
   "metadata": {},
   "source": [
    "## Php diyarı\n",
    "\n",
    "Hazır mısınız?\n",
    "\n",
    "### Döngüler\n",
    "\n",
    "#### ```while```\n",
    "\n",
    "```while``` belirli bir koşul sağlandığı sürece çalışan bir döngüdür.\n",
    "\n",
    "```\n",
    "while(MANTIKSAL_VERİ){\n",
    "    ...\n",
    "}\n",
    "```\n",
    "\n",
    "şeklinde yazılır.\n",
    "\n",
    "<hr>\n",
    "\n",
    "Örnek\n",
    "\n",
    "``1``'den ``10``'a kadar olan bütün tam sayıları yazınız."
   ]
  },
  {
   "cell_type": "markdown",
   "id": "922df825",
   "metadata": {},
   "source": [
    "```\n",
    "$i = 1;\n",
    "\n",
    "while($i<=10){\n",
    "    echo $i . \"<br>\";\n",
    "    $i++;\n",
    "}\n",
    "```"
   ]
  },
  {
   "cell_type": "markdown",
   "id": "42bf9e7c",
   "metadata": {},
   "source": [
    "```\n",
    "1\n",
    "2\n",
    "3\n",
    "4\n",
    "5\n",
    "6\n",
    "7\n",
    "8\n",
    "9\n",
    "10\n",
    "```"
   ]
  },
  {
   "cell_type": "markdown",
   "id": "bf649ac6",
   "metadata": {},
   "source": [
    ":::{warning}\n",
    "Koşul kontrolü için kullanılan değişkenin (bizim örneğimizde ```$i```'in) değeri değiştirilmeli. Eğer değer değiştirilmez veya doğru değiştirilmez ise ```sonsuz bir döngü``` ile karşılaşırız.\n",
    ":::\n",
    "\n",
    "\n",
    "Dikkat edecek olursak, rutin bir yapı söz konusu:\n",
    "\n",
    "- Değişken tanımla\n",
    "- Koşulu kontol et\n",
    "- Değişkenin değerini değiştir\n",
    "\n",
    "Bu yapı çokça kullanılınca daha basit bir yapı ortaya çıkmaya başladı."
   ]
  },
  {
   "cell_type": "markdown",
   "id": "2447fe4b",
   "metadata": {},
   "source": [
    "#### ```for```\n",
    "\n",
    "```for``` döngüsü bir değeri belirli bir aralıkta, belirli adımlarla değiştirerek çalışan bir döngüdür.\n",
    "\n",
    "```\n",
    "for(DEĞİŞKEN_TANNIMI; KOŞUL; ARTIM_MİKTARI){\n",
    "    ...\n",
    "}\n",
    "```\n",
    "şeklinde yazılır.\n",
    "\n",
    "<hr>\n",
    "Örnek\n",
    "\n",
    "``1``'den ``10``'a kadar olan bütün tam sayıları yazınız."
   ]
  },
  {
   "cell_type": "markdown",
   "id": "7dadd3e2",
   "metadata": {},
   "source": [
    "```\n",
    "for($i=1; $i<=10; $i++){\n",
    "    echo $i . \"<br>\";\n",
    "}\n",
    "```"
   ]
  },
  {
   "cell_type": "markdown",
   "id": "3618b0e8",
   "metadata": {},
   "source": [
    "```\n",
    "1\n",
    "2\n",
    "3\n",
    "4\n",
    "5\n",
    "6\n",
    "7\n",
    "8\n",
    "9\n",
    "10\n",
    "```"
   ]
  },
  {
   "cell_type": "markdown",
   "id": "ff34adab",
   "metadata": {},
   "source": [
    "Ne kadar benziyor değil mi? Aslında ```while``` döngüsünün aynısı, sadece ```değişken tanımı```, ```koşul kontrolü``` ve ```artım miktarı``` aynı satırda ifade edilmiş.\n",
    "\n",
    "```for``` döngüsü kullanıla durmuş. İnsanlar ```for```'u dizilerin elemanlarına istedikleri gibi ulaşabilmek için kullanmaya da başlamış.\n",
    "\n",
    "<hr>\n",
    "\n",
    "Örnek\n",
    "\n",
    "Bir dizi oluşturup, dizinin elemanlarını tek tek ekrana yazınız."
   ]
  },
  {
   "cell_type": "markdown",
   "id": "5db02c24",
   "metadata": {},
   "source": [
    "```  \n",
    "$ar = [11, 4, 654, 8, 214, 5];\n",
    "for($i=1; $i<count($ar); $i++){\n",
    "    echo $ar[$i] . \"<br>\";\n",
    "}\n",
    "```"
   ]
  },
  {
   "cell_type": "markdown",
   "id": "292b38e6",
   "metadata": {},
   "source": [
    "```  \n",
    "11\n",
    "4\n",
    "654\n",
    "8\n",
    "214\n",
    "5\n",
    "```"
   ]
  },
  {
   "cell_type": "markdown",
   "id": "2e11c582",
   "metadata": {},
   "source": [
    "Bu döngü şekli de çok kullanılmış. İnsanlar biz TİPler kadar olmasada tembeldir. Daha kolay yollar arar. Böylece ```foreach``` doğmuş oldu."
   ]
  },
  {
   "cell_type": "markdown",
   "id": "fe99a67e",
   "metadata": {},
   "source": [
    "#### ```foreach```\n",
    "\n",
    "```foreach``` dizi tipinde bir verinin her bir elemanını tek tek seçerek ilerleyen bir döngüdür.\n",
    "\n",
    "```\n",
    "foreach(DİZİ_DEĞİŞKEN as HER_ELEMANIN_ATANACAĞI_DEĞİŞKEN){\n",
    "    ...\n",
    "}\n",
    "```\n",
    "şeklinde yazılır.\n",
    "\n",
    "<hr>\n",
    "\n",
    "Örnek\n",
    "\n",
    "Bir dizi oluşturup, dizinin elemanlarını tek tek ekrana yazınız."
   ]
  },
  {
   "cell_type": "markdown",
   "id": "197d2651",
   "metadata": {},
   "source": [
    "```\n",
    "$ar = [11, 4, 654, 8, 214, 5];\n",
    "foreach($ar as $a){\n",
    "    echo $a . \"<br>\";\n",
    "}\n",
    "```"
   ]
  },
  {
   "cell_type": "markdown",
   "id": "6233e2df",
   "metadata": {},
   "source": [
    "```\n",
    "11\n",
    "4\n",
    "654\n",
    "8\n",
    "214\n",
    "5\n",
    "```"
   ]
  },
  {
   "cell_type": "markdown",
   "id": "cc1a1409",
   "metadata": {},
   "source": [
    "Böylece temel 3 döngü ortaya çıkar:\n",
    "\n",
    "- ```while```\n",
    "- ```for```\n",
    "- ```foreach```"
   ]
  },
  {
   "cell_type": "markdown",
   "id": "270144ce",
   "metadata": {},
   "source": [
    "```php```'ye katkıları için teşekkürler\n",
    "\n",
    ":::{warning}\n",
    "Yukarıda anlattığım hikaye tamamen hayal ürünü olup, gerçek derleyici ve yorumlayıcılarla ilgisi yoktur.\n",
    ":::"
   ]
  },
  {
   "cell_type": "markdown",
   "id": "8d797706",
   "metadata": {},
   "source": [
    "## ```while```\n",
    "\n",
    "```while``` döngüsü, blirli bir koşul sağlandığı sürece çalışan döngüdür.\n",
    "\n",
    "Tanımdan da amlaşılacağı üzere bir koşul sağlanacağından bir değer karşılaştırması söz konusu.\n",
    "\n",
    "```\n",
    "while MANTIKSAL_VERİ:\n",
    "    ...\n",
    "```\n",
    "\n",
    "şeklinde yazılır. ```if```'te olduğu gibi bir bloğun başlayacağını ifade etmek için ```:``` kullandık, ve ```:```'dan hemen sonra ```indentation``` başladı. Şimdi sıkı tutunun, buna da ```while``` bloğu denir.\n",
    "\n",
    "```{image} ../images/allah_allah.gif\n",
    ":class: bg-primary mb-1\n",
    ":width: 400px\n",
    ":align: center\n",
    "```\n",
    "\n",
    "```indentation``` içinde kalan bütün işlemler ```while``` bloğuna ait.\n",
    "\n",
    "<hr>\n",
    "\n",
    "Örnek\n",
    "\n",
    "```1```'den ```10```'a kadar olan bütün tam sayıları ekrana yazınız. (```10``` dahil)"
   ]
  },
  {
   "cell_type": "code",
   "execution_count": 2,
   "id": "69a3a718",
   "metadata": {},
   "outputs": [
    {
     "name": "stdout",
     "output_type": "stream",
     "text": [
      "1\n",
      "2\n",
      "3\n",
      "4\n",
      "5\n",
      "6\n",
      "7\n",
      "8\n",
      "9\n",
      "10\n"
     ]
    }
   ],
   "source": [
    "i = 1\n",
    "while i <= 10:\n",
    "    print(i)\n",
    "    i = i + 1"
   ]
  },
  {
   "cell_type": "markdown",
   "id": "00948d17",
   "metadata": {},
   "source": [
    "## ```for```\n",
    "\n",
    "```Python```'da ```for``` döngüsü yoktur.\n",
    "\n",
    "```{image} ../images/shock.gif\n",
    ":class: bg-primary mb-1\n",
    ":width: 400px\n",
    ":align: center\n",
    "```\n",
    "\n",
    "İşlerimimizi ```foreach``` ile hallediyoruz.\n",
    "\n",
    "Bu yetmezmiş gibi, ```foreach```'e ```for``` diyoruz, ```foreach``` diye bir tanımımız da yok.\n",
    "\n",
    "Kısacası, ```Python```'da ```for``` aslında ```foreeach```'tir.\n",
    "\n",
    "<hr>\n",
    "\n",
    "Örnek\n",
    "\n",
    "Bir dizi oluşturup, dizinin elemanlarını tek tek ekrana yazınız."
   ]
  },
  {
   "cell_type": "code",
   "execution_count": 3,
   "id": "cc6fde20",
   "metadata": {},
   "outputs": [
    {
     "name": "stdout",
     "output_type": "stream",
     "text": [
      "11\n",
      "4\n",
      "654\n",
      "8\n",
      "214\n",
      "5\n"
     ]
    }
   ],
   "source": [
    "dizi = [11, 4, 654, 8, 214, 5]\n",
    "\n",
    "for eleman in dizi:\n",
    "    print(eleman)"
   ]
  },
  {
   "cell_type": "markdown",
   "id": "e17463cf",
   "metadata": {},
   "source": [
    "\"Peki ```1```'den ```10```'a kadar olan sayıları ```for``` döngüsünde gösteremeyecek miyiz?\" diye sorduğunuzu duyar gibiyim. (Sormasanız da söyleyeceğim.)\n",
    "\n",
    "```1```'den ```10```'a kadar olan değerleri barındıran bir dizi oluşturuyoruz. Sonra o dizi için ```for``` çalıştırıyoruz.\n",
    "\n",
    ":::{warning}\n",
    "Demin söylediğim aslında doğru değil. Ama ```generator``` kavramını işlemeden, ki ilerleyen başlıklarda işleyeceğiz, bunu anlamanın daha kolay yolu yok malesef. \n",
    ":::\n",
    "\n",
    "<hr>\n",
    "\n",
    "Örnek\n",
    "\n",
    "``1``'den ``10``'a kadar olan bütün tam sayıları yazınız."
   ]
  },
  {
   "cell_type": "code",
   "execution_count": 4,
   "id": "40b0d691",
   "metadata": {},
   "outputs": [
    {
     "data": {
      "text/plain": [
       "[1, 2, 3, 4, 5, 6, 7, 8, 9, 10]"
      ]
     },
     "execution_count": 4,
     "metadata": {},
     "output_type": "execute_result"
    }
   ],
   "source": [
    "list(range(1, 11))"
   ]
  },
  {
   "cell_type": "code",
   "execution_count": 5,
   "id": "e18cb682",
   "metadata": {},
   "outputs": [
    {
     "name": "stdout",
     "output_type": "stream",
     "text": [
      "1\n",
      "2\n",
      "3\n",
      "4\n",
      "5\n",
      "6\n",
      "7\n",
      "8\n",
      "9\n",
      "10\n"
     ]
    }
   ],
   "source": [
    "for i in range(1, 11):\n",
    "    print(i)"
   ]
  },
  {
   "cell_type": "code",
   "execution_count": null,
   "id": "90a3c2d3",
   "metadata": {},
   "outputs": [],
   "source": []
  }
 ],
 "metadata": {
  "kernelspec": {
   "display_name": "Python 3 (ipykernel)",
   "language": "python",
   "name": "python3"
  },
  "language_info": {
   "codemirror_mode": {
    "name": "ipython",
    "version": 3
   },
   "file_extension": ".py",
   "mimetype": "text/x-python",
   "name": "python",
   "nbconvert_exporter": "python",
   "pygments_lexer": "ipython3",
   "version": "3.8.11"
  }
 },
 "nbformat": 4,
 "nbformat_minor": 5
}
