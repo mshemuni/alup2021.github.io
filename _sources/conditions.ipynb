{
 "cells": [
  {
   "cell_type": "markdown",
   "id": "d2260047",
   "metadata": {},
   "source": [
    "# Koşullu ifadeler\n",
    "\n",
    "Bazen yazacağımız bazı talimatların belirli bir koşula bağlı olarak çalıştırılmasını isteyebiliriz. Bunun için koşullu ifadeler kullanılır.\n",
    "\n",
    "Tükçe'de bir koşul ```eğer``` ile ifade edilir. İngilizce'de de ```if``` ile ifade edilir.\n",
    "\n",
    "## ```if```\n",
    "\n",
    "Programlama/betik dillerinde de benzer bir ifade olmak zorunda. ```Python``` ve çoğu dil İngilizce temelli olduğundan ```if``` ifadesini kullanır.\n",
    "\n",
    "```Python```'da koşullu ifadeler mantıksal veri, matıksal veri olarak algılanabilen değerler yahut sonucu mantıksal veri olan mantıksal işlemler ile çalışır.\n",
    "Söz konusu mantıksal veri veya mantıksal işlemin sonucuna göre ise işlem yapar.\n",
    "\n",
    "Koşullu ifade yazım kuralı:\n",
    "\n",
    "```\n",
    "if MANTIKSAL_VERİ:\n",
    "    ...\n",
    "```\n",
    "\n",
    "Şeklindedir.\n",
    "\n",
    "Koşullu ifade bir bloktur. Buna ```if bloğu``` adı verili. Bu blokta yazılan işlemler koşulun uygunluğuna göre çalıştırılır.\n",
    "\n",
    "```Python``` bir bloğun başladığını ```:``` ile ifade eder. Dolayısıyla ```:```'dan sonra gelen satır/satırlar ```:``` önce yazılan ifadeye ait bloktur.\n",
    "\n",
    "Bloğa ait ifadeler ise boşluklar ile başlayan satırlarla ifade edilir. Buna ```indentation``` (```girinti```) adı verilir.\n",
    "\n",
    ":::{note}\n",
    "Çoğu dilde bir bloğa ait satırlar ```{}``` içinde yazılır. Örnek olarak ```c++```'ta koşullu ifadeler:\n",
    "\n",
    "```\n",
    "if(MANTIKSAL_VERİ){\n",
    "...\n",
    "}\n",
    "```\n",
    "\n",
    "şeklinde yazılır ve kodun okunabilirliğinin artması açısından bir bloğa ait satırlarda ```indentation``` uygulanması beklenir. Dolayısıyla kod\n",
    "\n",
    "```\n",
    "if(MANTIKSAL_VERİ){\n",
    "    ...\n",
    "}\n",
    "```\n",
    "\n",
    "şeklini alır. ```Python``` ise parantezlerden kurtulur ve ```indentation```'ları blok tanımı olarak kullanır.\n",
    "\n",
    ":::\n",
    "\n",
    "<hr>\n",
    "\n",
    "Örnek\n",
    "\n",
    "Yarıçapı $0$'dan büyük olarak kürenin hacmini hesaplayan bir program yazınız."
   ]
  },
  {
   "cell_type": "code",
   "execution_count": 1,
   "id": "9b4f51c2",
   "metadata": {},
   "outputs": [
    {
     "name": "stdout",
     "output_type": "stream",
     "text": [
      "65447.916666666664\n"
     ]
    }
   ],
   "source": [
    "r = 25\n",
    "pi = 3.1415\n",
    "\n",
    "if r > 0:\n",
    "    hacim = 4 / 3 * pi * r ** 3\n",
    "    print(hacim)"
   ]
  },
  {
   "cell_type": "markdown",
   "id": "20373604",
   "metadata": {},
   "source": [
    "Peki yarıçap negatif veya $0$ olarak verilmiş olsaydı?"
   ]
  },
  {
   "cell_type": "code",
   "execution_count": 2,
   "id": "e00b67e7",
   "metadata": {},
   "outputs": [],
   "source": [
    "r = -25\n",
    "pi = 3.1415\n",
    "\n",
    "if r > 0:\n",
    "    hacim = 4 / 3 * pi * r ** 3\n",
    "    print(hacim)"
   ]
  },
  {
   "cell_type": "markdown",
   "id": "30a01575",
   "metadata": {},
   "source": [
    "Gördüğünüz gibi if bloğu, koşul sağlanmadığından çalışmadı."
   ]
  },
  {
   "cell_type": "markdown",
   "id": "31640cdf",
   "metadata": {},
   "source": [
    "## ```elif```\n",
    "\n",
    "Kimi durumda ise çoklu koşullarımız olabilir. Bu durumda ise ```elif``` anahtar kelimesi kullanılır.\n",
    "\n",
    "Bunun için Türkçe'de veya İngilizce'de güzel bir karşılık bulmak zor. Ama Türkçe için ```eğer değilse```, İngilizce'de ise ```else if``` şeklinde düşünülebilir. ```elif``` de ```else if```'in kısaltılmış halidir. Elif ŞAFAK olmadığı kesin.\n",
    "\n",
    "```{image} ../images/not_funny.gif\n",
    ":class: bg-primary mb-1\n",
    ":width: 400px\n",
    ":align: center\n",
    "```\n",
    "\n",
    "```elif```, ```if``` gibi mantıksal veri bekler.\n",
    "\n",
    "\n",
    "```\n",
    "if MANTIKSAL_VERİ1:\n",
    "    ...\n",
    "elif MANTIKSAL_VERİ2:\n",
    "    ...\n",
    "```\n",
    "\n",
    "```elif``` ifadelerinin azami sayısı yoktur.\n",
    "\n",
    ":::{warning}\n",
    "Çok sayıda ```elif``` kullanmak zorunda kalıyorsanız, muhtemelen mantıksal ifadeyi doğru kurgulayamamışsınızdır. Bir kahve alıp, kafanızı dağıttıktan sonra tekrar düşünün.\n",
    ":::\n",
    "\n",
    "<hr>\n",
    "\n",
    "Örnek\n",
    "\n",
    "$f(x)$'in sonucunu hesaplayan python programını yazınız\n",
    "\n",
    "$$f(x)=\\begin{equation}\n",
    "\\left\\{ \n",
    "  \\begin{aligned}\n",
    "    x^2 & &x\\ge 10\\\\\n",
    "    x^3 & &x\\le -10\\\\\n",
    "    5 x & & -10 \\lt x \\lt 10 \\\\\n",
    "  \\end{aligned}\n",
    "  \\right.\n",
    "\\end{equation}\n",
    "$$"
   ]
  },
  {
   "cell_type": "code",
   "execution_count": 3,
   "id": "791a3815",
   "metadata": {},
   "outputs": [
    {
     "name": "stdout",
     "output_type": "stream",
     "text": [
      "40\n"
     ]
    }
   ],
   "source": [
    "x = 8\n",
    "\n",
    "if x >= 10:\n",
    "    print(x ** 2)\n",
    "elif x <= -10:\n",
    "    print(x ** 3)\n",
    "elif x > -10 and x < 10:\n",
    "    print(5 * x)"
   ]
  },
  {
   "cell_type": "markdown",
   "id": "b68e4cff",
   "metadata": {},
   "source": [
    "## else\n",
    "\n",
    "Bazen ise kimi koşula bağlı olarak farklı işlemler yapmak isteriz.\n",
    "\n",
    "Eğer koşul sağlandıysa bir grup işlem, sağlanmadıysa başka bir grup işlem yapmak isteyebiliriz.\n",
    "\n",
    "Günlük haytta çok kullanılmasa da Türkçe'de bunun ifade etmek için ```değilse``` kullanılır. ```değilse```'nin İngilizce karşılığı da ```else``` olduğundan ```Python```'da ```else``` anahtar kelimesi kullanılır.\n",
    "\n",
    "```else```'in kendi başına bir işe yaramadığını, kendisinden önce bir bloğun var olması gerektiğini unutmayalım. Ayrıca ```else```'in kendisi de bir blok oluşturur. Şaşıracaksınız ama buna da ```else``` bloğu diyeceğiz.\n",
    "\n",
    "\n",
    "```\n",
    "if MANTIKSAL_VERİ:\n",
    "    ...\n",
    "else:\n",
    "    ...\n",
    "```\n",
    "\n",
    "<hr>\n",
    "Örnek\n",
    "\n",
    "Yarıçapı $0$'dan büyük olarak kürenin hacmini hesaplayan bir program yazınız. Aksi taktirde kullanıcıya $0$'dan küçük veya $0$'a eşit uzunluğun olamayacağını bilgiren uyarı gösteriniz.\n"
   ]
  },
  {
   "cell_type": "code",
   "execution_count": 4,
   "id": "09ed55f7",
   "metadata": {},
   "outputs": [
    {
     "name": "stdout",
     "output_type": "stream",
     "text": [
      "65447.916666666664\n"
     ]
    }
   ],
   "source": [
    "r = 25\n",
    "pi = 3.1415\n",
    "\n",
    "if r > 0:\n",
    "    hacim = 4 / 3 * pi * r ** 3\n",
    "    print(hacim)\n",
    "else:\n",
    "    print(\"Yarıçap sıfıra eşit veya sıfırdan küçük olamaz.\")"
   ]
  },
  {
   "cell_type": "markdown",
   "id": "2178dd45",
   "metadata": {},
   "source": [
    "Peki yarıçap negatif veya ```0``` olarak verilmiş olsaydı?"
   ]
  },
  {
   "cell_type": "code",
   "execution_count": 5,
   "id": "c09f732c",
   "metadata": {},
   "outputs": [
    {
     "name": "stdout",
     "output_type": "stream",
     "text": [
      "Yarıçap sıfıra eşit veya sıfırdan küçük olamaz.\n"
     ]
    }
   ],
   "source": [
    "r = 0\n",
    "pi = 3.1415\n",
    "\n",
    "if r > 0:\n",
    "    hacim = 4 / 3 * pi * r ** 3\n",
    "    print(hacim)\n",
    "else:\n",
    "    print(\"Yarıçap sıfıra eşit veya sıfırdan küçük olamaz.\")"
   ]
  },
  {
   "cell_type": "markdown",
   "id": "8b75f35f",
   "metadata": {},
   "source": [
    "<hr>\n",
    "\n",
    "```if```, istediğiniz sayıda ```elif``` ve ```else``` ile koşullu ifadelerinizi zenginleştirebilirsiniz.\n",
    "\n",
    ":::{warning}\n",
    "```else``` koşullu ifadelerin en sonunda yer almak zoruda. Kendisinden önce gelen blokların tamamı koşulları sağlamadıysa çalışır.\n",
    "\n",
    "\n",
    "```\n",
    "if MANTIKSAL_VERİ1:\n",
    "    ...\n",
    "elif MANTIKSAL_VERİ2:\n",
    "    ...\n",
    "elif MANTIKSAL_VERİ3:\n",
    "    ...\n",
    "    \n",
    "    .\n",
    "    .\n",
    "    .\n",
    "    \n",
    "else:\n",
    "    ...\n",
    "    \n",
    "```\n",
    "\n",
    ":::\n",
    "\n",
    ":::{warning}\n",
    "Çoklu bloktan oluşan koşullu ifadelerde, koşullardan birinin sağlanması durumunda geriye kalan koşullara bakılmaz.\n",
    ":::\n",
    "\n",
    "```\n",
    "if MANTIKSAL_VERİ1:\n",
    "    İŞLEM_1\n",
    "elif MANTIKSAL_VERİ2:\n",
    "    İŞLEM_2\n",
    "elif MANTIKSAL_VERİ3:\n",
    "    İŞLEM_3\n",
    "elif MANTIKSAL_VERİ4:\n",
    "    İŞLEM_4\n",
    "elif MANTIKSAL_VERİ5:\n",
    "    İŞLEM_5\n",
    "elif MANTIKSAL_VERİ6:\n",
    "    İŞLEM_6\n",
    "else:\n",
    "    İŞLEM_7\n",
    "```\n",
    "\n",
    "Yukarıdaki ifade de ```MANTIKSAL_VERİ3``` sağlanırsa, ```MANTIKSAL_VERİ4```, ```MANTIKSAL_VERİ5```, ```MANTIKSAL_VERİ6``` ve ```else``` kısmına bakılmaz.\n",
    "\n",
    "Bu, kimi yerde yararlı, kimi yerde ise baş belası olabilir.\n",
    "\n",
    "<hr>\n",
    "\n",
    "*Baş belası olduğu duruma* Örnek\n",
    "\n",
    "Verilen sayı, $8$'den büyük ise ```çok büyük```, $5$'te büyük ise ```fena değil```, $2$'den büyük ise ```çok küçük``` çıktısı veren programı yazınız. (Bir arkadaşımın sorusu bu...)"
   ]
  },
  {
   "cell_type": "code",
   "execution_count": 6,
   "id": "ea6f5e71",
   "metadata": {},
   "outputs": [
    {
     "name": "stdout",
     "output_type": "stream",
     "text": [
      "Çok küçük\n"
     ]
    }
   ],
   "source": [
    "sayi = 65535\n",
    "\n",
    "if sayi > 2:\n",
    "    print(\"Çok küçük\")\n",
    "elif sayi > 5:\n",
    "    print(\"Fena değil\")\n",
    "elif sayi > 8:\n",
    "    print(\"Çok büyük\")"
   ]
  },
  {
   "cell_type": "markdown",
   "id": "4dc7a7d0",
   "metadata": {},
   "source": [
    "Yukarıdaki koda baktığımızda sayı $65535$ olmasına rağme ```Çok büyük``` çıktısı almadık.\n",
    "\n",
    "Bunun nedeni ise, önce $2$ koşulunun denetlenmesidir. $8$ ve $5$ koşulunu sağlayan bütün durumlar $2$ koşulunu da sağlar. dolayısıyla yazdığımız kod hiçbir zaman $8$ ve $5$ koşulunun doğru olduğu durumu işlemeyecektir.\n",
    "\n",
    "Düzeltmek için sorgularımızın sırasını değiştirmemiz yeterli olacaktır."
   ]
  },
  {
   "cell_type": "code",
   "execution_count": 7,
   "id": "445a7269",
   "metadata": {},
   "outputs": [
    {
     "name": "stdout",
     "output_type": "stream",
     "text": [
      "Çok büyük\n"
     ]
    }
   ],
   "source": [
    "sayi = 65535\n",
    "\n",
    "if sayi > 8:\n",
    "    print(\"Çok büyük\")\n",
    "elif sayi > 5:\n",
    "    print(\"Fena değil\")\n",
    "elif sayi > 2:\n",
    "    print(\"Çok küçük\")"
   ]
  },
  {
   "cell_type": "markdown",
   "id": "2e6b3937",
   "metadata": {},
   "source": [
    "<hr>\n",
    "\n",
    "*Yararlı olduğu duruma* Örnek\n",
    "\n",
    "Verilen sayı $10$'dan büyük ise ```Çok uzamış```, $(8, 10]$ aralığında ise ```Bence uzun```, $(5, 8]$ aralığında ise ```Bekleyebilir```, $5$'ten küçük veya $5$'e eşit ise ```Çok kısa``` çıktısı veren programı yazınız. (Saçlarımın uzunluğunu denetlemem gerekiyor)"
   ]
  },
  {
   "cell_type": "code",
   "execution_count": 8,
   "id": "728fc2fc",
   "metadata": {},
   "outputs": [
    {
     "name": "stdout",
     "output_type": "stream",
     "text": [
      "Bence uzun\n"
     ]
    }
   ],
   "source": [
    "sayi = 9\n",
    "\n",
    "if sayi > 10:\n",
    "    print(\"Çok uzamış\")\n",
    "elif sayi <= 10 and sayi > 8:\n",
    "    print(\"Bence uzun\")\n",
    "elif sayi <= 8 and sayi > 5:\n",
    "    print(\"Bekleyebilir\")\n",
    "elif sayi < 5:\n",
    "    print(\"Çok kısa\")"
   ]
  },
  {
   "cell_type": "markdown",
   "id": "858fa33c",
   "metadata": {},
   "source": [
    "Öncelikle yine son ifadeye baktığımızda kendisinden önce gelen bütün ifadelerin dışında kalan herşeyi kapsadığını görüyoruz. Dolayısıyla kodu:"
   ]
  },
  {
   "cell_type": "code",
   "execution_count": 9,
   "id": "38a6ea94",
   "metadata": {},
   "outputs": [
    {
     "name": "stdout",
     "output_type": "stream",
     "text": [
      "Bence uzun\n"
     ]
    }
   ],
   "source": [
    "sayi = 9\n",
    "\n",
    "if sayi > 10:\n",
    "    print(\"Çok uzamış\")\n",
    "elif sayi <= 10 and sayi > 8:\n",
    "    print(\"Bence uzun\")\n",
    "elif sayi <= 8 and sayi > 5:\n",
    "    print(\"Bekleyebilir\")\n",
    "else:\n",
    "    print(\"Çok kısa\")"
   ]
  },
  {
   "cell_type": "markdown",
   "id": "1ab3c920",
   "metadata": {},
   "source": [
    "şeklinde kısaltabiliriz. Ayrıca koşullu ifadelerin çalışma şeklinden faydalanıp, ifadeyi aşağıdaki gibi düşünebiliriz:"
   ]
  },
  {
   "cell_type": "code",
   "execution_count": 10,
   "id": "8179d1aa",
   "metadata": {},
   "outputs": [
    {
     "name": "stdout",
     "output_type": "stream",
     "text": [
      "Bence uzun\n"
     ]
    }
   ],
   "source": [
    "sayi = 9\n",
    "\n",
    "if sayi > 10:\n",
    "    print(\"Çok uzamış\")\n",
    "elif sayi > 8:\n",
    "    print(\"Bence uzun\")\n",
    "elif sayi > 5:\n",
    "    print(\"Bekleyebilir\")\n",
    "else:\n",
    "    print(\"Çok kısa\")"
   ]
  },
  {
   "cell_type": "markdown",
   "id": "e4761b5b",
   "metadata": {},
   "source": [
    "Verilen sayı $10$'dan küçük ve $8$'den büyük olduğu anda ikinci koşula yakalanır ve if bloğu sona erer.\n",
    "\n",
    "Dolayısıyla ```sayi <= 8 and sayi > 5``` yerine ```sayi > 5``` yazılabilir.\n",
    "\n",
    "```{image} ../images/not_bad.gif\n",
    ":class: bg-primary mb-1\n",
    ":width: 400px\n",
    ":align: center\n",
    "```"
   ]
  },
  {
   "cell_type": "code",
   "execution_count": null,
   "id": "c8c71902",
   "metadata": {},
   "outputs": [],
   "source": []
  }
 ],
 "metadata": {
  "kernelspec": {
   "display_name": "Python 3 (ipykernel)",
   "language": "python",
   "name": "python3"
  },
  "language_info": {
   "codemirror_mode": {
    "name": "ipython",
    "version": 3
   },
   "file_extension": ".py",
   "mimetype": "text/x-python",
   "name": "python",
   "nbconvert_exporter": "python",
   "pygments_lexer": "ipython3",
   "version": "3.9.6"
  }
 },
 "nbformat": 4,
 "nbformat_minor": 5
}
