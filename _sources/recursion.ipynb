{
 "cells": [
  {
   "cell_type": "markdown",
   "id": "4b082425",
   "metadata": {},
   "source": [
    "# Özyenilemeli fonksiyonlar\n",
    "\n",
    "```Python```'da fonksiyonlardan daha öncce bahsetmiştik.\n",
    "\n",
    "Bir fonksiyon ```def``` anahtar kelimesiyle oluşturulur ve ```fonksiyon_adi()``` şeklinde çalıştırılır\n",
    "\n",
    "<hr>\n",
    "\n",
    "Örnek"
   ]
  },
  {
   "cell_type": "code",
   "execution_count": 1,
   "id": "10a99d3e",
   "metadata": {},
   "outputs": [
    {
     "name": "stdout",
     "output_type": "stream",
     "text": [
      "asd\n"
     ]
    }
   ],
   "source": [
    "def func():\n",
    "    print(\"asd\")\n",
    "    \n",
    "func()"
   ]
  },
  {
   "cell_type": "markdown",
   "id": "4afd9f35",
   "metadata": {},
   "source": [
    ":::{note}\n",
    "Bir fonksiyonun kendi bloğunda çalıştırılamayacağını söyleyen herhangi bir kural yok.\n",
    ":::\n",
    "\n",
    "Programlamada ```recursion``` (```özyenileme```) bir fonksiyonun kendi içinde tekrar çalıştırılması ile oluşur.\n",
    "\n",
    "```{image} ../images/recursion.gif\n",
    ":class: bg-primary mb-1\n",
    ":width: 400px\n",
    ":align: center\n",
    "```\n",
    "\n",
    "Lakin bir fonksiyonu kendi içinde tekrar çağırırsak, sonsuz bir işlem olur ve hata (```maximum recursion depth```) alırız."
   ]
  },
  {
   "cell_type": "markdown",
   "id": "4f172cdb",
   "metadata": {},
   "source": [
    "```\n",
    "def func():\n",
    "    func()\n",
    "    \n",
    "func()\n",
    "```"
   ]
  },
  {
   "cell_type": "markdown",
   "id": "6931ce7b",
   "metadata": {},
   "source": [
    "```\n",
    "Traceback (most recent call last):\n",
    "  File \"<stdin>\", line 1, in <module>\n",
    "  File \"<stdin>\", line 2, in func\n",
    "  File \"<stdin>\", line 2, in func\n",
    "  File \"<stdin>\", line 2, in func\n",
    "  [Previous line repeated 996 more times]\n",
    "RecursionError: maximum recursion depth exceeded\n",
    "```"
   ]
  },
  {
   "cell_type": "markdown",
   "id": "81ce90e6",
   "metadata": {},
   "source": [
    ":::{warning}\n",
    "Bir ```recursion``` fonksiyon yazmanın kuralları vardır.\n",
    "\n",
    "1. Çıkış koşulu\n",
    "2. İşlem yap\n",
    "3. Kendini çağır\n",
    ":::\n",
    "\n",
    "\n",
    "```recursion``` fonksiyonların matematikteki en güzel karşılığı fatöriyeldir.\n",
    "\n",
    "$$\n",
    "n! = n \\times (n - 1) \\times (n - 2) \\times ... \\times 3 \\times 2 \\times 1\n",
    "$$\n",
    "\n",
    "Dikkat edecek olursak:\n",
    "\n",
    "$$\n",
    "    n! = n \\times (n - 1)!\n",
    "$$\n",
    "\n",
    "<hr>\n",
    "\n",
    "$$\n",
    "5! = 5 \\times 4 \\times 3 \\times 2 \\times 1\n",
    "$$\n",
    "\n",
    "$$\n",
    "4! = 4 \\times 3 \\times 2 \\times 1\n",
    "$$\n",
    "\n",
    "<hr>\n",
    "\n",
    "$$\n",
    "5! = 5 \\times 4!\n",
    "$$"
   ]
  },
  {
   "cell_type": "markdown",
   "id": "172f175a",
   "metadata": {},
   "source": [
    "Bu örnekte\n",
    "\n",
    "- Çıkış koşulumuz:\n",
    "    \n",
    "    Eğer verilen değer $1$ ise sonuc $1$'dir\n",
    "- İşlem:\n",
    "    \n",
    "    verilen değeri, yazılan fonksiyonun verilen değerin bir eksiğinin sonucu ile çarpılması\n"
   ]
  },
  {
   "cell_type": "code",
   "execution_count": 2,
   "id": "6d89c5b6",
   "metadata": {},
   "outputs": [
    {
     "data": {
      "text/plain": [
       "120"
      ]
     },
     "execution_count": 2,
     "metadata": {},
     "output_type": "execute_result"
    }
   ],
   "source": [
    "def factorial(n):\n",
    "    if n == 1:\n",
    "        return 1\n",
    "    \n",
    "    return n * factorial(n - 1)\n",
    "\n",
    "factorial(5)"
   ]
  },
  {
   "cell_type": "code",
   "execution_count": null,
   "id": "78aa9adb",
   "metadata": {},
   "outputs": [],
   "source": []
  }
 ],
 "metadata": {
  "kernelspec": {
   "display_name": "Python 3 (ipykernel)",
   "language": "python",
   "name": "python3"
  },
  "language_info": {
   "codemirror_mode": {
    "name": "ipython",
    "version": 3
   },
   "file_extension": ".py",
   "mimetype": "text/x-python",
   "name": "python",
   "nbconvert_exporter": "python",
   "pygments_lexer": "ipython3",
   "version": "3.9.6"
  }
 },
 "nbformat": 4,
 "nbformat_minor": 5
}
