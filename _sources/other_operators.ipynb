{
 "cells": [
  {
   "cell_type": "markdown",
   "id": "2d597a8d",
   "metadata": {},
   "source": [
    "# Diğer operatörler\n",
    "\n",
    "\n",
    "## Üyelik operatörü\n",
    "\n",
    "```in```  operatörü bir verinin, bir konteyner'de var olup olmadığını kontrol eder.\n",
    "\n",
    "<hr>\n",
    "\n",
    "Örnek\n",
    "\n",
    "\"M\" harfinin \"Muhammed\" kelimesinde var olup olmadığını kontol ediniz"
   ]
  },
  {
   "cell_type": "code",
   "execution_count": 1,
   "id": "2beda15c",
   "metadata": {},
   "outputs": [
    {
     "data": {
      "text/plain": [
       "True"
      ]
     },
     "execution_count": 1,
     "metadata": {},
     "output_type": "execute_result"
    }
   ],
   "source": [
    "\"M\" in \"Muhammed\""
   ]
  },
  {
   "cell_type": "markdown",
   "id": "f8dd6358",
   "metadata": {},
   "source": [
    "<hr>\n",
    "\n",
    "Örnek\n",
    "\n",
    "1 sayısının \\[3, 4, 5\\] dizisinde var olup olmadığını kontrol ediniz"
   ]
  },
  {
   "cell_type": "code",
   "execution_count": 2,
   "id": "bf06fcc8",
   "metadata": {},
   "outputs": [
    {
     "data": {
      "text/plain": [
       "False"
      ]
     },
     "execution_count": 2,
     "metadata": {},
     "output_type": "execute_result"
    }
   ],
   "source": [
    "1 in [3, 4, 5]"
   ]
  },
  {
   "cell_type": "markdown",
   "id": "bce9d6b0",
   "metadata": {},
   "source": [
    "## Atama operatörü\n",
    "\n",
    "```=``` bir değişken ataması yapar.\n",
    "\n",
    "<hr>\n",
    "\n",
    "Örnek\n",
    "\n",
    "```sayi``` adlı bir değişkene ```1``` atayınız ve ```sayi```'nin değerini gösteriniz."
   ]
  },
  {
   "cell_type": "code",
   "execution_count": 3,
   "id": "73b64c94",
   "metadata": {},
   "outputs": [
    {
     "data": {
      "text/plain": [
       "1"
      ]
     },
     "execution_count": 3,
     "metadata": {},
     "output_type": "execute_result"
    }
   ],
   "source": [
    "sayi = 1\n",
    "sayi"
   ]
  },
  {
   "cell_type": "markdown",
   "id": "cd75ab54",
   "metadata": {},
   "source": [
    "\n",
    "## Özdeşlik operatörü\n",
    "\n",
    "```is``` operatörü iki verinin, birbirine tam olarak eşit (özdeş) olup olmadığını karşılaştırır\n",
    "\n",
    "<hr>\n",
    "\n",
    "Örnek\n",
    "\n",
    "```1``` sayısının ```1.0```'a eşit olup olmadığını gösteriniz"
   ]
  },
  {
   "cell_type": "code",
   "execution_count": 4,
   "id": "a6ab550e",
   "metadata": {},
   "outputs": [
    {
     "data": {
      "text/plain": [
       "True"
      ]
     },
     "execution_count": 4,
     "metadata": {},
     "output_type": "execute_result"
    }
   ],
   "source": [
    "1 == 1.0"
   ]
  },
  {
   "cell_type": "markdown",
   "id": "7b816d25",
   "metadata": {},
   "source": [
    "<hr>\n",
    "\n",
    "Örnek\n",
    "\n",
    "```1``` sayısının ```1.0```'a tam olarak eşit olup olmadığını gösteriniz"
   ]
  },
  {
   "cell_type": "code",
   "execution_count": 5,
   "id": "a81daca9",
   "metadata": {},
   "outputs": [
    {
     "name": "stderr",
     "output_type": "stream",
     "text": [
      "<>:1: SyntaxWarning: \"is\" with a literal. Did you mean \"==\"?\n",
      "<>:1: SyntaxWarning: \"is\" with a literal. Did you mean \"==\"?\n",
      "C:\\Users\\mshem\\AppData\\Local\\Temp/ipykernel_17192/3336455986.py:1: SyntaxWarning: \"is\" with a literal. Did you mean \"==\"?\n",
      "  1 is 1.0\n"
     ]
    },
    {
     "data": {
      "text/plain": [
       "False"
      ]
     },
     "execution_count": 5,
     "metadata": {},
     "output_type": "execute_result"
    }
   ],
   "source": [
    "1 is 1.0"
   ]
  },
  {
   "cell_type": "markdown",
   "id": "cc68604c",
   "metadata": {},
   "source": [
    ":::{note}\n",
    "```Python```, ```1``` ve ```1.0```'ı karşılaştırdığımız için şaşırdı.\n",
    "\n",
    "Acaba ```is``` yerine ```==``` mi kullansan diyor\n",
    ":::"
   ]
  }
 ],
 "metadata": {
  "kernelspec": {
   "display_name": "Python 3 (ipykernel)",
   "language": "python",
   "name": "python3"
  },
  "language_info": {
   "codemirror_mode": {
    "name": "ipython",
    "version": 3
   },
   "file_extension": ".py",
   "mimetype": "text/x-python",
   "name": "python",
   "nbconvert_exporter": "python",
   "pygments_lexer": "ipython3",
   "version": "3.9.6"
  }
 },
 "nbformat": 4,
 "nbformat_minor": 5
}
