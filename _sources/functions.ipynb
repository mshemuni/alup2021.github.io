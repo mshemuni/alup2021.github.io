{
 "cells": [
  {
   "cell_type": "markdown",
   "id": "245b02ec",
   "metadata": {},
   "source": [
    "# Fonksiyonlar\n",
    "\n",
    "Bazen aynı işlemi defalarca yapmak zorunda kalabilirsiniz. Söz konusu işlemin ne olduğunun, uzunluğunun ne olduğunun bir önemi yok. Sadece işlmei defalarca tekrarlamak zorundasınız.\n",
    "\n",
    "Bu aşamada fonksiyonlar imdada yetişir.\n",
    "\n",
    "```Python```'da bir fonksiyon tanımlamak için ```def``` anahtarkelimesi kullanılır.\n",
    "\n",
    "Fonksiyon yazım kuralı:\n",
    "\n",
    "```\n",
    "def FONKSİYON_ADI():\n",
    "    ...\n",
    "```\n",
    "\n",
    "şeklindedir.\n",
    "\n",
    "<sub>Fonksiyon bloğu. :)</sub>\n",
    "\n",
    "<hr>\n",
    "\n",
    "Örnek\n",
    "\n",
    "Ekrana \"merhaba dünya\" yazan ```selmala``` adlı bir fonksiyon yazınız."
   ]
  },
  {
   "cell_type": "code",
   "execution_count": 1,
   "id": "2383cd3a",
   "metadata": {},
   "outputs": [],
   "source": [
    "def selamla():\n",
    "    print(\"merhaba dünya\")"
   ]
  },
  {
   "cell_type": "markdown",
   "id": "41545cb0",
   "metadata": {},
   "source": [
    "```{image} ../images/confiused.gif\n",
    ":class: bg-primary mb-1\n",
    ":width: 400px\n",
    ":align: center\n",
    "```\n",
    "\n",
    "E bir şey olmadı.\n",
    "\n",
    "Bunun nedeni, fonksiyonu tanımlamış fakat çalıştırmamış olmamızdır.\n",
    "\n",
    "Fonksiyonu oluşturduktan sonra bir de çağıralım:"
   ]
  },
  {
   "cell_type": "code",
   "execution_count": 2,
   "id": "69140704",
   "metadata": {},
   "outputs": [
    {
     "name": "stdout",
     "output_type": "stream",
     "text": [
      "merhaba dünya\n"
     ]
    }
   ],
   "source": [
    "def selamla():\n",
    "    print(\"merhaba dünya\")\n",
    "\n",
    "selamla()"
   ]
  },
  {
   "cell_type": "markdown",
   "id": "e63c416f",
   "metadata": {},
   "source": [
    "Evet şimdi daha iyi.\n",
    "\n",
    ":::{warning}\n",
    "Bir fonksiyonu çağırmak için fonksiyon adını yazmamız yeterli değildir. Fonskiyonun çalışması için fonksiyon adından sonra ```()``` kullanmalısınız.\n",
    ":::"
   ]
  },
  {
   "cell_type": "markdown",
   "id": "92950cd1",
   "metadata": {},
   "source": [
    "Fonksiyonlar bazen parametre alabilir. Bunun anlamı, fonksiyonumuzun dışarıdan değer alıp, söz konusu değeri işleyeceğidir.\n",
    "\n",
    "Böyle fonksiyonlarda, fonksiyon çağırılırken değer sağlanmalı.\n",
    "\n",
    "<hr>\n",
    "\n",
    "Örnek\n",
    "\n",
    "Dairenin alanını hesaplayan ```daire_alani``` adlı bir fonksiyon yazınız. Bu fonksiyon dışarıdan yarıçap değerini ```r``` olarak almalı."
   ]
  },
  {
   "cell_type": "code",
   "execution_count": 3,
   "id": "1a88c8c0",
   "metadata": {},
   "outputs": [
    {
     "ename": "TypeError",
     "evalue": "daire_alani() missing 1 required positional argument: 'r'",
     "output_type": "error",
     "traceback": [
      "\u001b[1;31m---------------------------------------------------------------------------\u001b[0m",
      "\u001b[1;31mTypeError\u001b[0m                                 Traceback (most recent call last)",
      "\u001b[1;32m~\\AppData\\Local\\Temp/ipykernel_8216/4168446603.py\u001b[0m in \u001b[0;36m<module>\u001b[1;34m\u001b[0m\n\u001b[0;32m      3\u001b[0m     \u001b[0mprint\u001b[0m\u001b[1;33m(\u001b[0m\u001b[0malan\u001b[0m\u001b[1;33m)\u001b[0m\u001b[1;33m\u001b[0m\u001b[1;33m\u001b[0m\u001b[0m\n\u001b[0;32m      4\u001b[0m \u001b[1;33m\u001b[0m\u001b[0m\n\u001b[1;32m----> 5\u001b[1;33m \u001b[0mdaire_alani\u001b[0m\u001b[1;33m(\u001b[0m\u001b[1;33m)\u001b[0m\u001b[1;33m\u001b[0m\u001b[1;33m\u001b[0m\u001b[0m\n\u001b[0m",
      "\u001b[1;31mTypeError\u001b[0m: daire_alani() missing 1 required positional argument: 'r'"
     ]
    }
   ],
   "source": [
    "def daire_alani(r):\n",
    "    alan = 3.14115 * r ** 2\n",
    "    print(alan)\n",
    "    \n",
    "daire_alani()"
   ]
  },
  {
   "cell_type": "markdown",
   "id": "52f48f50",
   "metadata": {},
   "source": [
    "```{image} ../images/scared.gif\n",
    ":class: bg-primary mb-1\n",
    ":width: 400px\n",
    ":align: center\n",
    "```\n",
    "\n",
    "Hata aldık. ne yapacağız? Tabii ki hatanın mesajını okuyacağız:\n",
    "\n",
    "```\n",
    "TypeError: daire_alani() missing 1 required positional argument: 'r'\n",
    "```\n",
    "\n",
    "daire_alani() $1$ zorunlu potansiyel argüman eksikliği yaşıyormuş.\n",
    "\n",
    "Sorunu anladınız mı? Yarıçap değerini vermedik...\n",
    "\n",
    "Tüh"
   ]
  },
  {
   "cell_type": "code",
   "execution_count": 2,
   "id": "052ee02f",
   "metadata": {},
   "outputs": [
    {
     "name": "stdout",
     "output_type": "stream",
     "text": [
      "78.52875\n"
     ]
    }
   ],
   "source": [
    "def daire_alani(r):\n",
    "    alan = 3.14115 * r ** 2\n",
    "    print(alan)\n",
    "    \n",
    "daire_alani(5)"
   ]
  },
  {
   "cell_type": "markdown",
   "id": "8abac268",
   "metadata": {},
   "source": [
    "Şimdi gelelim bu fonksiyonun hayatımızı nasıl kolaylaştırdığını anlamaya.\n",
    "\n",
    "Hatırlarsanız, başta aynı işlemleri tekrar tekrar yapmak zorunda kalmaktan bahsetmiştim.\n",
    "\n",
    "<hr>\n",
    "\n",
    "Örnek\n",
    "\n",
    "Yarıçapları sırasıyla $10$, $5$, $22$, $55$, $98$ ve $65$ olan dairelerin alanlarını ve çevrelerini hesaplayınız."
   ]
  },
  {
   "cell_type": "markdown",
   "id": "53e5ad85",
   "metadata": {},
   "source": [
    "Fonksiyonun ne olduğunu bilmeseydik:"
   ]
  },
  {
   "cell_type": "code",
   "execution_count": 7,
   "id": "853bfb3f",
   "metadata": {},
   "outputs": [
    {
     "name": "stdout",
     "output_type": "stream",
     "text": [
      "314.15000000000003 62.830000000000005\n",
      "78.53750000000001 31.415000000000003\n",
      "1520.486 138.226\n",
      "9503.0375 345.565\n",
      "30170.966 615.734\n",
      "13272.837500000001 408.39500000000004\n"
     ]
    }
   ],
   "source": [
    "pi = 3.1415\n",
    "for r in [10, 5, 22, 55, 98, 65]:\n",
    "    alan = pi * r ** 2\n",
    "    cevre = 2 * pi * r\n",
    "    print(alan, cevre)"
   ]
  },
  {
   "cell_type": "markdown",
   "id": "571ac15e",
   "metadata": {},
   "source": [
    "Fonksiyonlardan yararlansak"
   ]
  },
  {
   "cell_type": "code",
   "execution_count": 8,
   "id": "8cbb8c13",
   "metadata": {},
   "outputs": [
    {
     "name": "stdout",
     "output_type": "stream",
     "text": [
      "314.15000000000003 62.830000000000005\n",
      "78.53750000000001 31.415000000000003\n",
      "1520.486 138.226\n",
      "9503.0375 345.565\n",
      "30170.966 615.734\n",
      "13272.837500000001 408.39500000000004\n"
     ]
    }
   ],
   "source": [
    "pi = 3.1415\n",
    "def alan_ve_cevre(r):\n",
    "    print(pi * r ** 2, 2 * pi * r)\n",
    "    \n",
    "for r in [10, 5, 22, 55, 98, 65]:\n",
    "    alan_ve_cevre(r)"
   ]
  },
  {
   "cell_type": "markdown",
   "id": "115efab7",
   "metadata": {},
   "source": [
    "Böylece alan ve çevreye başka yerde ihtiyacım olsa yine çağırabilirim."
   ]
  },
  {
   "cell_type": "markdown",
   "id": "6e30efe7",
   "metadata": {},
   "source": [
    "## ```return```\n",
    "\n",
    "Şimdiye kadar yazdığımız fonksiyonlar sonucu ekrana çıktı olarak veriyor.\n",
    "\n",
    "Peki hesaplanan değeri daha sonra işlemek üzere fonksiyondan alma şansımız var mı?\n",
    "\n",
    "Var tabii. Ettiğiniz lafa bak.\n",
    "\n",
    "Bunun için ```return``` anhtar kelimesi kullanılır.\n",
    "\n",
    "<hr>\n",
    "\n",
    "Örnek\n",
    "\n",
    "Dairenin alanını ve çevresini hesaplayan birer fonksiyon yazınız. Verilen bir yarıçap için dairenin alah, çevre oranını hesaplayınız."
   ]
  },
  {
   "cell_type": "code",
   "execution_count": 3,
   "id": "d5562a49",
   "metadata": {},
   "outputs": [
    {
     "data": {
      "text/plain": [
       "2.5"
      ]
     },
     "execution_count": 3,
     "metadata": {},
     "output_type": "execute_result"
    }
   ],
   "source": [
    "def alan(r):\n",
    "    alan = 3.1415 * r ** 2\n",
    "    return alan\n",
    "    \n",
    "def cevre(r):\n",
    "    cevre = 2* 3.1415 * r\n",
    "    return cevre\n",
    "\n",
    "r = 5\n",
    "\n",
    "a = alan(r)\n",
    "c = cevre(r)\n",
    "\n",
    "a / c"
   ]
  },
  {
   "cell_type": "markdown",
   "id": "ea806fb2",
   "metadata": {},
   "source": [
    ":::{warning}\n",
    "Bir fonksiyon bir değer iade ettiyse, fonksiyona ait diğer işlemler gerçekleşmez.\n",
    ":::\n",
    "\n",
    "<hr>\n",
    "\n",
    "Örnek"
   ]
  },
  {
   "cell_type": "code",
   "execution_count": 1,
   "id": "e3f98dec",
   "metadata": {},
   "outputs": [
    {
     "name": "stdout",
     "output_type": "stream",
     "text": [
      "Alan hesabı bitti\n"
     ]
    },
    {
     "data": {
      "text/plain": [
       "2.5"
      ]
     },
     "execution_count": 1,
     "metadata": {},
     "output_type": "execute_result"
    }
   ],
   "source": [
    "def alan(r):\n",
    "    alan = 3.1415 * r ** 2\n",
    "    print(\"Alan hesabı bitti\")\n",
    "    return alan\n",
    "    \n",
    "def cevre(r):\n",
    "    cevre = 2* 3.1415 * r\n",
    "    return cevre\n",
    "    print(\"Çevre hesabı bitti\")\n",
    "\n",
    "r = 5\n",
    "\n",
    "a = alan(r)\n",
    "c = cevre(r)\n",
    "\n",
    "a / c"
   ]
  },
  {
   "cell_type": "code",
   "execution_count": null,
   "id": "19bbf23e",
   "metadata": {},
   "outputs": [],
   "source": []
  }
 ],
 "metadata": {
  "kernelspec": {
   "display_name": "Python 3 (ipykernel)",
   "language": "python",
   "name": "python3"
  },
  "language_info": {
   "codemirror_mode": {
    "name": "ipython",
    "version": 3
   },
   "file_extension": ".py",
   "mimetype": "text/x-python",
   "name": "python",
   "nbconvert_exporter": "python",
   "pygments_lexer": "ipython3",
   "version": "3.9.6"
  }
 },
 "nbformat": 4,
 "nbformat_minor": 5
}
