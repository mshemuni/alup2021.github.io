{
 "cells": [
  {
   "cell_type": "markdown",
   "id": "05e817b9",
   "metadata": {},
   "source": [
    "# Karşılaştırma operatörleri\n",
    "\n",
    "Karşılaştırma operatörleri, iki değerin karşılaştırır\n",
    "\n",
    "- Eşitlik denetler, ```==```\n",
    "- Eşitsizlik denetler, ```!=```\n",
    "- Küçüklük denetler, ```<```\n",
    "- Küçüklük veya eşitlik denetler, ```<=```\n",
    "- Büyüklük deneter, ```>```\n",
    "- Büyüklük veya eşitlik denetler, ```>=```\n",
    "\n",
    "Karşılaştırma operatörlerinin sonucu her zaman mantıksal bir veridir. ```True``` veya ```False```"
   ]
  },
  {
   "cell_type": "markdown",
   "id": "4bcc6a88",
   "metadata": {},
   "source": [
    "## Nümerik verilerde karşılaştırma operatörleri\n",
    "\n",
    "Nümerik verilerde karşılaştırma işlemler iki sayının karşılaştırılması olarak algılanmalı.\n",
    "\n",
    "```{image} ../images/comparison.gif\n",
    ":class: bg-primary mb-1\n",
    ":width: 400px\n",
    ":align: center\n",
    "```\n",
    "\n",
    "<hr>\n",
    "\n",
    "Örnek\n",
    "\n",
    "55 ve 11 için sırasıyla bütün karşılaştırma operatörleri kullanınız\n"
   ]
  },
  {
   "cell_type": "markdown",
   "id": "e47f0634",
   "metadata": {},
   "source": [
    "### Eşitlik"
   ]
  },
  {
   "cell_type": "code",
   "execution_count": 1,
   "id": "83f7f9f6",
   "metadata": {},
   "outputs": [
    {
     "data": {
      "text/plain": [
       "False"
      ]
     },
     "execution_count": 1,
     "metadata": {},
     "output_type": "execute_result"
    }
   ],
   "source": [
    "55 == 11"
   ]
  },
  {
   "cell_type": "markdown",
   "id": "21c50a29",
   "metadata": {},
   "source": [
    "### Eşitsizlik"
   ]
  },
  {
   "cell_type": "code",
   "execution_count": 2,
   "id": "27df6569",
   "metadata": {},
   "outputs": [
    {
     "data": {
      "text/plain": [
       "True"
      ]
     },
     "execution_count": 2,
     "metadata": {},
     "output_type": "execute_result"
    }
   ],
   "source": [
    "55 != 11"
   ]
  },
  {
   "cell_type": "markdown",
   "id": "18ab9e4b",
   "metadata": {},
   "source": [
    "### Küçüklük"
   ]
  },
  {
   "cell_type": "code",
   "execution_count": 3,
   "id": "cb172670",
   "metadata": {},
   "outputs": [
    {
     "data": {
      "text/plain": [
       "False"
      ]
     },
     "execution_count": 3,
     "metadata": {},
     "output_type": "execute_result"
    }
   ],
   "source": [
    "55 < 11"
   ]
  },
  {
   "cell_type": "markdown",
   "id": "50c64eac",
   "metadata": {},
   "source": [
    "### Küçüklük veya eşitlik"
   ]
  },
  {
   "cell_type": "code",
   "execution_count": 4,
   "id": "52e62236",
   "metadata": {},
   "outputs": [
    {
     "data": {
      "text/plain": [
       "False"
      ]
     },
     "execution_count": 4,
     "metadata": {},
     "output_type": "execute_result"
    }
   ],
   "source": [
    "55 <= 11"
   ]
  },
  {
   "cell_type": "markdown",
   "id": "b33381b0",
   "metadata": {},
   "source": [
    "### Büyüklük"
   ]
  },
  {
   "cell_type": "code",
   "execution_count": 5,
   "id": "2f6dbfee",
   "metadata": {},
   "outputs": [
    {
     "data": {
      "text/plain": [
       "True"
      ]
     },
     "execution_count": 5,
     "metadata": {},
     "output_type": "execute_result"
    }
   ],
   "source": [
    "55 > 11"
   ]
  },
  {
   "cell_type": "markdown",
   "id": "4a12fc57",
   "metadata": {},
   "source": [
    "### Büyüklük veya eşitlik"
   ]
  },
  {
   "cell_type": "code",
   "execution_count": 6,
   "id": "ab9b1913",
   "metadata": {},
   "outputs": [
    {
     "data": {
      "text/plain": [
       "True"
      ]
     },
     "execution_count": 6,
     "metadata": {},
     "output_type": "execute_result"
    }
   ],
   "source": [
    "55 >= 11"
   ]
  },
  {
   "cell_type": "markdown",
   "id": "c232646e",
   "metadata": {},
   "source": [
    "## Konteyner verilerde karşılaştırma operatörleri\n",
    "\n",
    "Konteyner verilerde karşılaştırma işlemlerinden ```==``` ve ```!=``` işlemi yapılabilir.\n",
    "\n",
    "<hr>\n",
    "\n",
    "Örnek\n",
    "\n",
    "İki ```str``` veriyi karşılaştırınız"
   ]
  },
  {
   "cell_type": "markdown",
   "id": "6fc4ee8b",
   "metadata": {},
   "source": [
    "### Eşitlik"
   ]
  },
  {
   "cell_type": "code",
   "execution_count": 7,
   "id": "cd39a14f",
   "metadata": {},
   "outputs": [
    {
     "data": {
      "text/plain": [
       "False"
      ]
     },
     "execution_count": 7,
     "metadata": {},
     "output_type": "execute_result"
    }
   ],
   "source": [
    "\"muhammed\" == \"shameoni niaei\""
   ]
  },
  {
   "cell_type": "markdown",
   "id": "2022c91e",
   "metadata": {},
   "source": [
    "### Eşitsizlik"
   ]
  },
  {
   "cell_type": "code",
   "execution_count": 8,
   "id": "31e67ac7",
   "metadata": {},
   "outputs": [
    {
     "data": {
      "text/plain": [
       "True"
      ]
     },
     "execution_count": 8,
     "metadata": {},
     "output_type": "execute_result"
    }
   ],
   "source": [
    "\"muhammed\" != \"shameoni niaei\""
   ]
  },
  {
   "cell_type": "markdown",
   "id": "5d169263",
   "metadata": {},
   "source": [
    "<hr>\n",
    "\n",
    "Örnek\n",
    "\n",
    "İki ```tuple``` veriyi karşılaştırınız"
   ]
  },
  {
   "cell_type": "markdown",
   "id": "0dd0b46c",
   "metadata": {},
   "source": [
    "### Eşitlik"
   ]
  },
  {
   "cell_type": "code",
   "execution_count": 13,
   "id": "6ced17a9",
   "metadata": {},
   "outputs": [
    {
     "data": {
      "text/plain": [
       "True"
      ]
     },
     "execution_count": 13,
     "metadata": {},
     "output_type": "execute_result"
    }
   ],
   "source": [
    "(1, 2, 3) == (1, 2, 3)"
   ]
  },
  {
   "cell_type": "markdown",
   "id": "552f3948",
   "metadata": {},
   "source": [
    "### Eşitsizlik"
   ]
  },
  {
   "cell_type": "code",
   "execution_count": 14,
   "id": "ef43e1ff",
   "metadata": {},
   "outputs": [
    {
     "data": {
      "text/plain": [
       "False"
      ]
     },
     "execution_count": 14,
     "metadata": {},
     "output_type": "execute_result"
    }
   ],
   "source": [
    "(1, 2, 3) != (1, 2, 3)"
   ]
  },
  {
   "cell_type": "code",
   "execution_count": null,
   "id": "4658c6ca",
   "metadata": {},
   "outputs": [],
   "source": []
  }
 ],
 "metadata": {
  "kernelspec": {
   "display_name": "Python 3 (ipykernel)",
   "language": "python",
   "name": "python3"
  },
  "language_info": {
   "codemirror_mode": {
    "name": "ipython",
    "version": 3
   },
   "file_extension": ".py",
   "mimetype": "text/x-python",
   "name": "python",
   "nbconvert_exporter": "python",
   "pygments_lexer": "ipython3",
   "version": "3.8.11"
  }
 },
 "nbformat": 4,
 "nbformat_minor": 5
}
