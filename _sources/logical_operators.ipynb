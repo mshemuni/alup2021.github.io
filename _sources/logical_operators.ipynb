{
 "cells": [
  {
   "cell_type": "markdown",
   "id": "7a78563c",
   "metadata": {},
   "source": [
    "# Mantıksal operatörler\n",
    "\n",
    "Mantıksal operatörler, iki mantıksal veriyi karşılaştırır. (Matematikteki mantık derslerini hatırlayalım)\n",
    "\n",
    "- ve, ```and```\n",
    "- veya, ```or```\n",
    "- değil, ```not```\n",
    "\n",
    "Mantıksal operatörlerinin sonucu her zaman mantıksal bir veridir. ```True``` veya ```False```\n",
    "\n",
    "<hr>\n",
    "\n",
    "Örnek\n",
    "\n",
    "Bütün mantıksal operatörleri, ```True``` ve ```False``` için kullanınız"
   ]
  },
  {
   "cell_type": "markdown",
   "id": "bda36923",
   "metadata": {},
   "source": [
    "## Ve"
   ]
  },
  {
   "cell_type": "code",
   "execution_count": 1,
   "id": "efc813f1",
   "metadata": {},
   "outputs": [
    {
     "data": {
      "text/plain": [
       "True"
      ]
     },
     "execution_count": 1,
     "metadata": {},
     "output_type": "execute_result"
    }
   ],
   "source": [
    "True and True"
   ]
  },
  {
   "cell_type": "code",
   "execution_count": 2,
   "id": "9859ff1d",
   "metadata": {},
   "outputs": [
    {
     "data": {
      "text/plain": [
       "False"
      ]
     },
     "execution_count": 2,
     "metadata": {},
     "output_type": "execute_result"
    }
   ],
   "source": [
    "True and False"
   ]
  },
  {
   "cell_type": "code",
   "execution_count": 3,
   "id": "b3626826",
   "metadata": {},
   "outputs": [
    {
     "data": {
      "text/plain": [
       "False"
      ]
     },
     "execution_count": 3,
     "metadata": {},
     "output_type": "execute_result"
    }
   ],
   "source": [
    "False and True"
   ]
  },
  {
   "cell_type": "code",
   "execution_count": 4,
   "id": "6597e921",
   "metadata": {},
   "outputs": [
    {
     "data": {
      "text/plain": [
       "False"
      ]
     },
     "execution_count": 4,
     "metadata": {},
     "output_type": "execute_result"
    }
   ],
   "source": [
    "False and False"
   ]
  },
  {
   "cell_type": "markdown",
   "id": "bba113d6",
   "metadata": {},
   "source": [
    "## veya"
   ]
  },
  {
   "cell_type": "code",
   "execution_count": 5,
   "id": "734859ad",
   "metadata": {},
   "outputs": [
    {
     "data": {
      "text/plain": [
       "True"
      ]
     },
     "execution_count": 5,
     "metadata": {},
     "output_type": "execute_result"
    }
   ],
   "source": [
    "True or True"
   ]
  },
  {
   "cell_type": "code",
   "execution_count": 6,
   "id": "be162aa9",
   "metadata": {},
   "outputs": [
    {
     "data": {
      "text/plain": [
       "True"
      ]
     },
     "execution_count": 6,
     "metadata": {},
     "output_type": "execute_result"
    }
   ],
   "source": [
    "True or False"
   ]
  },
  {
   "cell_type": "code",
   "execution_count": 7,
   "id": "688ec049",
   "metadata": {},
   "outputs": [
    {
     "data": {
      "text/plain": [
       "True"
      ]
     },
     "execution_count": 7,
     "metadata": {},
     "output_type": "execute_result"
    }
   ],
   "source": [
    "False or True"
   ]
  },
  {
   "cell_type": "code",
   "execution_count": 8,
   "id": "922b260d",
   "metadata": {},
   "outputs": [
    {
     "data": {
      "text/plain": [
       "False"
      ]
     },
     "execution_count": 8,
     "metadata": {},
     "output_type": "execute_result"
    }
   ],
   "source": [
    "False or False"
   ]
  },
  {
   "cell_type": "markdown",
   "id": "44173118",
   "metadata": {},
   "source": [
    "## Değil"
   ]
  },
  {
   "cell_type": "code",
   "execution_count": 10,
   "id": "001d52ec",
   "metadata": {},
   "outputs": [
    {
     "data": {
      "text/plain": [
       "True"
      ]
     },
     "execution_count": 10,
     "metadata": {},
     "output_type": "execute_result"
    }
   ],
   "source": [
    "not False"
   ]
  },
  {
   "cell_type": "code",
   "execution_count": 11,
   "id": "c8fbb8be",
   "metadata": {},
   "outputs": [
    {
     "data": {
      "text/plain": [
       "False"
      ]
     },
     "execution_count": 11,
     "metadata": {},
     "output_type": "execute_result"
    }
   ],
   "source": [
    "not True"
   ]
  },
  {
   "cell_type": "markdown",
   "id": "6fdff273",
   "metadata": {},
   "source": [
    "## Karşılaştırma ve mantıksal operatörler\n",
    "\n",
    "Mantıksal operatörler, karşılaştırma operatörler ile birleştirilebilir\n",
    "\n",
    "<hr>\n",
    "\n",
    "Örnek 55'in 1 ve 100 arasında olup olmadığını kontrol ediniz (1 ve 100 dahil)"
   ]
  },
  {
   "cell_type": "code",
   "execution_count": 13,
   "id": "9d131708",
   "metadata": {},
   "outputs": [
    {
     "data": {
      "text/plain": [
       "True"
      ]
     },
     "execution_count": 13,
     "metadata": {},
     "output_type": "execute_result"
    }
   ],
   "source": [
    "1 <= 55 and 55 <= 100"
   ]
  },
  {
   "cell_type": "code",
   "execution_count": 14,
   "id": "0c13858f",
   "metadata": {},
   "outputs": [
    {
     "data": {
      "text/plain": [
       "True"
      ]
     },
     "execution_count": 14,
     "metadata": {},
     "output_type": "execute_result"
    }
   ],
   "source": [
    "1 <= 55 <= 100"
   ]
  },
  {
   "cell_type": "markdown",
   "id": "e4c8c148",
   "metadata": {},
   "source": [
    "<hr>\n",
    "\n",
    "Örnek 55'in -1 ve -100 arasında olup olmadığını kontrol ediniz (1 ve 100 dahil)"
   ]
  },
  {
   "cell_type": "code",
   "execution_count": 15,
   "id": "08b236fd",
   "metadata": {},
   "outputs": [
    {
     "data": {
      "text/plain": [
       "False"
      ]
     },
     "execution_count": 15,
     "metadata": {},
     "output_type": "execute_result"
    }
   ],
   "source": [
    "55 < -1 or 55 < -100"
   ]
  }
 ],
 "metadata": {
  "kernelspec": {
   "display_name": "Python 3 (ipykernel)",
   "language": "python",
   "name": "python3"
  },
  "language_info": {
   "codemirror_mode": {
    "name": "ipython",
    "version": 3
   },
   "file_extension": ".py",
   "mimetype": "text/x-python",
   "name": "python",
   "nbconvert_exporter": "python",
   "pygments_lexer": "ipython3",
   "version": "3.9.6"
  }
 },
 "nbformat": 4,
 "nbformat_minor": 5
}
