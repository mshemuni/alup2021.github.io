{
 "cells": [
  {
   "cell_type": "markdown",
   "id": "2380c7df",
   "metadata": {},
   "source": [
    "# Merhaba dünya\n",
    "\n",
    "Şimdiye kadar Python'ı kurduk.\n",
    "\n",
    "İlk kodumuzu yazma zamanı geldi...\n",
    "\n",
    "```{image} ../images/judge-judy-times-up.gif\n",
    ":class: bg-primary mb-1\n",
    ":width: 400px\n",
    ":align: center\n",
    "```\n",
    "\n",
    "İlk kodların şahı, programlamaya girişlerin gardiyanı ```merhaba dünya```."
   ]
  },
  {
   "cell_type": "markdown",
   "id": "f410b4fc",
   "metadata": {},
   "source": [
    "## Python çalıştırma\n",
    "Başlat menüsünden ```anaconda```->```Anaconda Prompt```’a tıklayınız.\n",
    "\n",
    "\n",
    "Bir terminal açılmış olmalı. Bu terminal'de ```python``` yazıp <kbd>enter</kbd> tuşuna bastığınızda\n",
    "\n",
    "```\n",
    "Python 3.8.8 (default, Apr 13 2021, 15:08:03) [MSC v.1916 64 bit (AMD64)] :: Anaconda, Inc. on win32\n",
    "Type \"help\", \"copyright\", \"credits\" or \"license\" for more information.\n",
    ">>>\n",
    "```\n",
    "\n",
    "gibi bir çıktı görürsünüz. Böylece ```Python``` yorumlayıcıyı çalıştırmış oldunuz.\n",
    "\n",
    "Yorumlayıcı size kendisi hakkında bilgi veriyor:\n",
    "\n",
    "Sürüm:\n",
    "```\n",
    "Python 3.8.8 (default, Apr 13 2021, 15:08:03)\n",
    "```\n",
    "\n",
    "Çalıştırıldığı platform:\n",
    "```\n",
    "[MSC v.1916 64 bit (AMD64)] :: Anaconda, Inc. on win32\n",
    "```\n",
    "\n",
    "Daha sonra ise bir az yardımcı oluyor:\n",
    "```\n",
    "Type \"help\", \"copyright\", \"credits\" or \"license\" for more information.\n",
    "```\n",
    "\n",
    "Son olarak sizden talimat beklediğini bildiriyor:\n",
    "\n",
    "```\n",
    ">>>\n",
    "```\n",
    "\n",
    "İlk programımızda ekrana ```merhaba dünya``` yazmak istiyoruz. Python'da ekrana bir metin yazmak için ```print``` \n",
    "fonksiyonu kullanılır.\n",
    "\n",
    "Dolayısıyla ```>>>```'ın olduğu yere\n",
    "\n",
    "```\n",
    "print(\"Merhaba Dünya\")\n",
    "```\n",
    "\n",
    "yazıp <kbd>enter</kbd> tuşuna basınız.\n",
    "```{image} ../images/hello_world.png\n",
    ":alt: Merhaba Dünya\n",
    ":class: bg-primary mb-1\n",
    ":width: 400px\n",
    ":align: center\n",
    "```\n",
    "\n",
    "Bu terminal ekranında yazacağımız herşey ```Python``` yorumlayıcı tarafından yorumlanacak ve gerekli işlemler \n",
    "yapılacaktır.\n",
    "\n",
    "Fakat bu ortamda çalışmanın büyük dezavantajları var. Bunlardan en önemlisi, uzun bir metin yazıp, \n",
    "son kontolleri yapıp rötüşledikten sonra kodu çalıştıramıyorsunuz. Dolayısıyla bundan sonra işlerimizi daha farklı \n",
    "yapacağız."
   ]
  },
  {
   "cell_type": "markdown",
   "id": "89886e73",
   "metadata": {},
   "source": [
    "### Betik Dosyası\n",
    "\n",
    "Öncelikle bir metin belgesi oluşturun. Adı da ```merhaba.py``` olsun.\n",
    "\n",
    "```{image} ../images/hello_world_script.png\n",
    ":alt: Betik dosyası\n",
    ":class: bg-primary mb-1\n",
    ":width: 400px\n",
    ":align: center\n",
    "```\n",
    "\n",
    "Şimdi bu belgeyi düzenlemek için herhangi bir metin editörüyle dosyamızı açalım ve kodumuzu içine yazalım.\n",
    "\n",
    "\n",
    "```{image} ../images/hello_world_script_text.png\n",
    ":alt: Betik Metni\n",
    ":class: bg-primary mb-1\n",
    ":width: 400px\n",
    ":align: center\n",
    "```\n",
    "\n",
    "Şimdi eğer ```Python``` yorumlayıcıyı çalıştırırken bu dosyanın yolunu da sağlarsak, yorumlayıcı dosyanın içindeki \n",
    "satıları tek tek talimat olarak algılayacaktır ve gerekli işlemleri yapacaktır.\n",
    "\n",
    "```{image} ../images/hello_world_execute.png\n",
    ":alt: Betik Çalıştırma\n",
    ":class: bg-primary mb-1\n",
    ":width: 400px\n",
    ":align: center\n",
    "```\n",
    "\n",
    "Tebrikler. İlk ```Python``` kodunuzu yazdınız."
   ]
  },
  {
   "cell_type": "markdown",
   "id": "7ca61062",
   "metadata": {},
   "source": [
    "<hr>\n",
    "Örnek:\n",
    "\n",
    "Yarıçapı verilen bir dairenin alanını ve çevresini hesaplayan programı yazınız.\n",
    "\n",
    "Dairenin alanı ve çevresi, \n",
    "\n",
    "$$\n",
    "A = \\pi r^2\n",
    "\n",
    "C = 2 \\pi r\n",
    "$$\n",
    "\n",
    ":::{note}\n",
    "$A$ dairenin alanı, $C$ dairenin çevresi ve $r$ dairenin yarıçapı olmak üzere\n",
    ":::\n",
    "\n",
    "olarak hesaplanır."
   ]
  },
  {
   "cell_type": "code",
   "execution_count": 4,
   "id": "bd61eaea",
   "metadata": {},
   "outputs": [
    {
     "name": "stdout",
     "output_type": "stream",
     "text": [
      "1963.4375\n",
      "157.07500000000002\n"
     ]
    }
   ],
   "source": [
    "alan = 3.1415 * 25 ** 2\n",
    "cevre = 2 * 3.1415 * 25\n",
    "\n",
    "print(alan)\n",
    "print(cevre)"
   ]
  },
  {
   "cell_type": "code",
   "execution_count": null,
   "id": "edb0a21a",
   "metadata": {},
   "outputs": [],
   "source": []
  }
 ],
 "metadata": {
  "kernelspec": {
   "display_name": "Python 3 (ipykernel)",
   "language": "python",
   "name": "python3"
  },
  "language_info": {
   "codemirror_mode": {
    "name": "ipython",
    "version": 3
   },
   "file_extension": ".py",
   "mimetype": "text/x-python",
   "name": "python",
   "nbconvert_exporter": "python",
   "pygments_lexer": "ipython3",
   "version": "3.9.6"
  }
 },
 "nbformat": 4,
 "nbformat_minor": 5
}
