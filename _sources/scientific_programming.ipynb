{
 "cells": [
  {
   "cell_type": "markdown",
   "id": "af8772c1",
   "metadata": {},
   "source": [
    "# Bilimsel programlama\n",
    "\n",
    "Bilimsel amaçla programlama yaparken, veri yalnızca bilgisayar ortamında işlenesi bir değer değildir. Artık anlamı olan bir değerdir.\n",
    "\n",
    "Örneğin $25 {}^o C$'i bir sayı ile ifade edebiliriz. Fakat bu değerin artık bir anlamı var.\n",
    "\n",
    "Dolayısyıla birimlere çok dikkat etmemiz gerek.\n",
    "\n",
    "Bunu yapmak için çok dikkatlı olabiliriz. Kullanıcıyı verdiği değerler konusunda uyarabiliriz. Fakata ```Python```'da bu işin daha şık bir yolu var.\n",
    "\n",
    "```astropy``` birim ve sabitler.\n",
    "\n",
    ":::{warning}\n",
    "```astropy```'ın sisteminizde kurulmuş olduğunu varsayıyorum.\n",
    "\n",
    "Değilse:\n",
    "\n",
    "```\n",
    "$ pip install astropy\n",
    "```\n",
    ":::"
   ]
  },
  {
   "cell_type": "markdown",
   "id": "393fa18e",
   "metadata": {},
   "source": [
    "## ```astropy.units``` (birimler)\n",
    "\n",
    "```astropy.units``` elinizdeki verinin değeriyle işlenmesini ve gerektiğinde dönüşümler sağlar.\n",
    "\n",
    "İçinde ne var ne yok bir bakalım."
   ]
  },
  {
   "cell_type": "code",
   "execution_count": 40,
   "id": "ae6e1ac6",
   "metadata": {},
   "outputs": [
    {
     "name": "stdout",
     "output_type": "stream",
     "text": [
      "['A', 'AA', 'AB', 'ABflux', 'ABmag', 'AU', 'Angstrom', 'B', 'Ba', 'Barye', 'Bi', 'Biot', 'Bol', 'Bq', 'C', 'Celsius', 'Ci', 'CompositeUnit', 'D', 'DN', 'Da', 'Dalton', 'Debye', 'Decibel', 'DecibelUnit', 'Dex', 'DexUnit', 'EA', 'EAU', 'EB', 'EBa', 'EC', 'ED', 'EF', 'EG', 'EGal', 'EH', 'EHz', 'EJ', 'EJy', 'EK', 'EL', 'EN', 'EOhm', 'EP', 'EPa', 'ER', 'ERy', 'ES', 'ESt', 'ET', 'EV', 'EW', 'EWb', 'Ea', 'Eadu', 'Earcmin', 'Earcsec', 'Eau', 'Eb', 'Ebarn', 'Ebeam', 'Ebin', 'Ebit', 'Ebyte', 'Ecd', 'Echan', 'Ecount', 'Ect', 'Ed', 'Edeg', 'Edyn', 'EeV', 'Eerg', 'Eg', 'Eh', 'EiB', 'Eib', 'Eibit', 'Eibyte', 'Ek', 'El', 'Elm', 'Elx', 'Elyr', 'Em', 'Emag', 'Emin', 'Emol', 'Eohm', 'Epc', 'Eph', 'Ephoton', 'Epix', 'Epixel', 'Equivalency', 'Erad', 'Es', 'Esr', 'Eu', 'Evox', 'Evoxel', 'Eyr', 'F', 'Farad', 'Fr', 'Franklin', 'FunctionQuantity', 'FunctionUnitBase', 'G', 'GA', 'GAU', 'GB', 'GBa', 'GC', 'GD', 'GF', 'GG', 'GGal', 'GH', 'GHz', 'GJ', 'GJy', 'GK', 'GL', 'GN', 'GOhm', 'GP', 'GPa', 'GR', 'GRy', 'GS', 'GSt', 'GT', 'GV', 'GW', 'GWb', 'Ga', 'Gadu', 'Gal', 'Garcmin', 'Garcsec', 'Gau', 'Gauss', 'Gb', 'Gbarn', 'Gbeam', 'Gbin', 'Gbit', 'Gbyte', 'Gcd', 'Gchan', 'Gcount', 'Gct', 'Gd', 'Gdeg', 'Gdyn', 'GeV', 'Gerg', 'Gg', 'Gh', 'GiB', 'Gib', 'Gibit', 'Gibyte', 'Gk', 'Gl', 'Glm', 'Glx', 'Glyr', 'Gm', 'Gmag', 'Gmin', 'Gmol', 'Gohm', 'Gpc', 'Gph', 'Gphoton', 'Gpix', 'Gpixel', 'Grad', 'Gs', 'Gsr', 'Gu', 'Gvox', 'Gvoxel', 'Gyr', 'H', 'Henry', 'Hertz', 'Hz', 'IrreducibleUnit', 'J', 'Jansky', 'Joule', 'Jy', 'K', 'Kayser', 'Kelvin', 'KiB', 'Kib', 'Kibit', 'Kibyte', 'L', 'L_bol', 'L_sun', 'LogQuantity', 'LogUnit', 'Lsun', 'MA', 'MAU', 'MB', 'MBa', 'MC', 'MD', 'MF', 'MG', 'MGal', 'MH', 'MHz', 'MJ', 'MJy', 'MK', 'ML', 'MN', 'MOhm', 'MP', 'MPa', 'MR', 'MRy', 'MS', 'MSt', 'MT', 'MV', 'MW', 'MWb', 'M_bol', 'M_e', 'M_earth', 'M_jup', 'M_jupiter', 'M_p', 'M_sun', 'Ma', 'Madu', 'MagUnit', 'Magnitude', 'Marcmin', 'Marcsec', 'Mau', 'Mb', 'Mbarn', 'Mbeam', 'Mbin', 'Mbit', 'Mbyte', 'Mcd', 'Mchan', 'Mcount', 'Mct', 'Md', 'Mdeg', 'Mdyn', 'MeV', 'Mearth', 'Merg', 'Mg', 'Mh', 'MiB', 'Mib', 'Mibit', 'Mibyte', 'Mjup', 'Mjupiter', 'Mk', 'Ml', 'Mlm', 'Mlx', 'Mlyr', 'Mm', 'Mmag', 'Mmin', 'Mmol', 'Mohm', 'Mpc', 'Mph', 'Mphoton', 'Mpix', 'Mpixel', 'Mrad', 'Ms', 'Msr', 'Msun', 'Mu', 'Mvox', 'Mvoxel', 'Myr', 'N', 'NamedUnit', 'Newton', 'Ohm', 'P', 'PA', 'PAU', 'PB', 'PBa', 'PC', 'PD', 'PF', 'PG', 'PGal', 'PH', 'PHz', 'PJ', 'PJy', 'PK', 'PL', 'PN', 'POhm', 'PP', 'PPa', 'PR', 'PRy', 'PS', 'PSt', 'PT', 'PV', 'PW', 'PWb', 'Pa', 'Padu', 'Parcmin', 'Parcsec', 'Pascal', 'Pau', 'Pb', 'Pbarn', 'Pbeam', 'Pbin', 'Pbit', 'Pbyte', 'Pcd', 'Pchan', 'Pcount', 'Pct', 'Pd', 'Pdeg', 'Pdyn', 'PeV', 'Perg', 'Pg', 'Ph', 'PhysicalType', 'PiB', 'Pib', 'Pibit', 'Pibyte', 'Pk', 'Pl', 'Plm', 'Plx', 'Plyr', 'Pm', 'Pmag', 'Pmin', 'Pmol', 'Pohm', 'Ppc', 'Pph', 'Pphoton', 'Ppix', 'Ppixel', 'Prad', 'PrefixUnit', 'Ps', 'Psr', 'Pu', 'Pvox', 'Pvoxel', 'Pyr', 'Quantity', 'QuantityInfo', 'QuantityInfoBase', 'R', 'R_earth', 'R_jup', 'R_jupiter', 'R_sun', 'Rayleigh', 'Rearth', 'Rjup', 'Rjupiter', 'Rsun', 'Ry', 'S', 'ST', 'STflux', 'STmag', 'Siemens', 'SpecificTypeQuantity', 'St', 'Sun', 'T', 'TA', 'TAU', 'TB', 'TBa', 'TC', 'TD', 'TF', 'TG', 'TGal', 'TH', 'THz', 'TJ', 'TJy', 'TK', 'TL', 'TN', 'TOhm', 'TP', 'TPa', 'TR', 'TRy', 'TS', 'TSt', 'TT', 'TV', 'TW', 'TWb', 'Ta', 'Tadu', 'Tarcmin', 'Tarcsec', 'Tau', 'Tb', 'Tbarn', 'Tbeam', 'Tbin', 'Tbit', 'Tbyte', 'Tcd', 'Tchan', 'Tcount', 'Tct', 'Td', 'Tdeg', 'Tdyn', 'TeV', 'Terg', 'Tesla', 'Tg', 'Th', 'TiB', 'Tib', 'Tibit', 'Tibyte', 'Tk', 'Tl', 'Tlm', 'Tlx', 'Tlyr', 'Tm', 'Tmag', 'Tmin', 'Tmol', 'Tohm', 'Torr', 'Tpc', 'Tph', 'Tphoton', 'Tpix', 'Tpixel', 'Trad', 'Ts', 'Tsr', 'Tu', 'Tvox', 'Tvoxel', 'Tyr', 'Unit', 'UnitBase', 'UnitConversionError', 'UnitTypeError', 'UnitsError', 'UnitsWarning', 'UnrecognizedUnit', 'V', 'Volt', 'W', 'Watt', 'Wb', 'Weber', 'YA', 'YAU', 'YB', 'YBa', 'YC', 'YD', 'YF', 'YG', 'YGal', 'YH', 'YHz', 'YJ', 'YJy', 'YK', 'YL', 'YN', 'YOhm', 'YP', 'YPa', 'YR', 'YRy', 'YS', 'YSt', 'YT', 'YV', 'YW', 'YWb', 'Ya', 'Yadu', 'Yarcmin', 'Yarcsec', 'Yau', 'Yb', 'Ybarn', 'Ybeam', 'Ybin', 'Ybit', 'Ybyte', 'Ycd', 'Ychan', 'Ycount', 'Yct', 'Yd', 'Ydeg', 'Ydyn', 'YeV', 'Yerg', 'Yg', 'Yh', 'Yk', 'Yl', 'Ylm', 'Ylx', 'Ylyr', 'Ym', 'Ymag', 'Ymin', 'Ymol', 'Yohm', 'Ypc', 'Yph', 'Yphoton', 'Ypix', 'Ypixel', 'Yrad', 'Ys', 'Ysr', 'Yu', 'Yvox', 'Yvoxel', 'Yyr', 'ZA', 'ZAU', 'ZB', 'ZBa', 'ZC', 'ZD', 'ZF', 'ZG', 'ZGal', 'ZH', 'ZHz', 'ZJ', 'ZJy', 'ZK', 'ZL', 'ZN', 'ZOhm', 'ZP', 'ZPa', 'ZR', 'ZRy', 'ZS', 'ZSt', 'ZT', 'ZV', 'ZW', 'ZWb', 'Za', 'Zadu', 'Zarcmin', 'Zarcsec', 'Zau', 'Zb', 'Zbarn', 'Zbeam', 'Zbin', 'Zbit', 'Zbyte', 'Zcd', 'Zchan', 'Zcount', 'Zct', 'Zd', 'Zdeg', 'Zdyn', 'ZeV', 'Zerg', 'Zg', 'Zh', 'Zk', 'Zl', 'Zlm', 'Zlx', 'Zlyr', 'Zm', 'Zmag', 'Zmin', 'Zmol', 'Zohm', 'Zpc', 'Zph', 'Zphoton', 'Zpix', 'Zpixel', 'Zrad', 'Zs', 'Zsr', 'Zu', 'Zvox', 'Zvoxel', 'Zyr', '__builtins__', '__cached__', '__doc__', '__file__', '__loader__', '__name__', '__package__', '__path__', '__spec__', 'a', 'aA', 'aAU', 'aB', 'aBa', 'aC', 'aD', 'aF', 'aG', 'aGal', 'aH', 'aHz', 'aJ', 'aJy', 'aK', 'aL', 'aN', 'aOhm', 'aP', 'aPa', 'aR', 'aRy', 'aS', 'aSt', 'aT', 'aV', 'aW', 'aWb', 'aa', 'aadu', 'aarcmin', 'aarcsec', 'aau', 'ab', 'abA', 'abC', 'abampere', 'abarn', 'abcoulomb', 'abeam', 'abin', 'abit', 'abyte', 'acd', 'achan', 'acount', 'act', 'ad', 'add_enabled_aliases', 'add_enabled_equivalencies', 'add_enabled_units', 'adeg', 'adu', 'adyn', 'aeV', 'aerg', 'ag', 'ah', 'ak', 'al', 'allclose', 'alm', 'alx', 'alyr', 'am', 'amag', 'amin', 'amol', 'amp', 'ampere', 'angstrom', 'annum', 'aohm', 'apc', 'aph', 'aphoton', 'apix', 'apixel', 'arad', 'arcmin', 'arcminute', 'arcsec', 'arcsecond', 'asr', 'astronomical_unit', 'astrophys', 'attoBarye', 'attoDa', 'attoDalton', 'attoDebye', 'attoFarad', 'attoGauss', 'attoHenry', 'attoHertz', 'attoJansky', 'attoJoule', 'attoKayser', 'attoKelvin', 'attoNewton', 'attoOhm', 'attoPascal', 'attoRayleigh', 'attoSiemens', 'attoTesla', 'attoVolt', 'attoWatt', 'attoWeber', 'attoamp', 'attoampere', 'attoannum', 'attoarcminute', 'attoarcsecond', 'attoastronomical_unit', 'attobarn', 'attobarye', 'attobit', 'attobyte', 'attocandela', 'attocoulomb', 'attocount', 'attoday', 'attodebye', 'attodegree', 'attodyne', 'attoelectronvolt', 'attofarad', 'attogal', 'attogauss', 'attogram', 'attohenry', 'attohertz', 'attohour', 'attohr', 'attojansky', 'attojoule', 'attokayser', 'attolightyear', 'attoliter', 'attolumen', 'attolux', 'attometer', 'attominute', 'attomole', 'attonewton', 'attoparsec', 'attopascal', 'attophoton', 'attopixel', 'attopoise', 'attoradian', 'attorayleigh', 'attorydberg', 'attosecond', 'attosiemens', 'attosteradian', 'attostokes', 'attotesla', 'attovolt', 'attovoxel', 'attowatt', 'attoweber', 'attoyear', 'au', 'avox', 'avoxel', 'ayr', 'b', 'bar', 'barn', 'barye', 'beam', 'beam_angular_area', 'becquerel', 'bin', 'binary_prefixes', 'bit', 'bol', 'brightness_temperature', 'byte', 'cA', 'cAU', 'cB', 'cBa', 'cC', 'cD', 'cF', 'cG', 'cGal', 'cH', 'cHz', 'cJ', 'cJy', 'cK', 'cL', 'cN', 'cOhm', 'cP', 'cPa', 'cR', 'cRy', 'cS', 'cSt', 'cT', 'cV', 'cW', 'cWb', 'ca', 'cadu', 'candela', 'carcmin', 'carcsec', 'cau', 'cb', 'cbarn', 'cbeam', 'cbin', 'cbit', 'cbyte', 'ccd', 'cchan', 'ccount', 'cct', 'cd', 'cdeg', 'cdyn', 'ceV', 'centiBarye', 'centiDa', 'centiDalton', 'centiDebye', 'centiFarad', 'centiGauss', 'centiHenry', 'centiHertz', 'centiJansky', 'centiJoule', 'centiKayser', 'centiKelvin', 'centiNewton', 'centiOhm', 'centiPascal', 'centiRayleigh', 'centiSiemens', 'centiTesla', 'centiVolt', 'centiWatt', 'centiWeber', 'centiamp', 'centiampere', 'centiannum', 'centiarcminute', 'centiarcsecond', 'centiastronomical_unit', 'centibarn', 'centibarye', 'centibit', 'centibyte', 'centicandela', 'centicoulomb', 'centicount', 'centiday', 'centidebye', 'centidegree', 'centidyne', 'centielectronvolt', 'centifarad', 'centigal', 'centigauss', 'centigram', 'centihenry', 'centihertz', 'centihour', 'centihr', 'centijansky', 'centijoule', 'centikayser', 'centilightyear', 'centiliter', 'centilumen', 'centilux', 'centimeter', 'centiminute', 'centimole', 'centinewton', 'centiparsec', 'centipascal', 'centiphoton', 'centipixel', 'centipoise', 'centiradian', 'centirayleigh', 'centirydberg', 'centisecond', 'centisiemens', 'centisteradian', 'centistokes', 'centitesla', 'centivolt', 'centivoxel', 'centiwatt', 'centiweber', 'centiyear', 'cerg', 'cg', 'cgs', 'ch', 'chan', 'ck', 'cl', 'clm', 'clx', 'clyr', 'cm', 'cmag', 'cmin', 'cmol', 'cohm', 'core', 'coulomb', 'count', 'cpc', 'cph', 'cphoton', 'cpix', 'cpixel', 'crad', 'cs', 'csr', 'ct', 'cu', 'curie', 'cvox', 'cvoxel', 'cy', 'cycle', 'cyr', 'd', 'dA', 'dAU', 'dB', 'dBa', 'dC', 'dD', 'dF', 'dG', 'dGal', 'dH', 'dHz', 'dJ', 'dJy', 'dK', 'dL', 'dN', 'dOhm', 'dP', 'dPa', 'dR', 'dRy', 'dS', 'dSt', 'dT', 'dV', 'dW', 'dWb', 'da', 'daA', 'daAU', 'daB', 'daBa', 'daC', 'daD', 'daF', 'daG', 'daGal', 'daH', 'daHz', 'daJ', 'daJy', 'daK', 'daL', 'daN', 'daOhm', 'daP', 'daPa', 'daR', 'daRy', 'daS', 'daSt', 'daT', 'daV', 'daW', 'daWb', 'daa', 'daadu', 'daarcmin', 'daarcsec', 'daau', 'dab', 'dabarn', 'dabeam', 'dabin', 'dabit', 'dabyte', 'dacd', 'dachan', 'dacount', 'dact', 'dad', 'dadeg', 'dadu', 'dadyn', 'daeV', 'daerg', 'dag', 'dah', 'dak', 'dal', 'dalm', 'dalx', 'dalyr', 'dam', 'damag', 'damin', 'damol', 'daohm', 'dapc', 'daph', 'daphoton', 'dapix', 'dapixel', 'darad', 'darcmin', 'darcsec', 'das', 'dasr', 'dau', 'davox', 'davoxel', 'day', 'dayr', 'db', 'dbarn', 'dbeam', 'dbin', 'dbit', 'dcd', 'dchan', 'dcount', 'dct', 'dd', 'ddeg', 'ddyn', 'deV', 'debye', 'decaBarye', 'decaDa', 'decaDalton', 'decaDebye', 'decaFarad', 'decaGauss', 'decaHenry', 'decaHertz', 'decaJansky', 'decaJoule', 'decaKayser', 'decaKelvin', 'decaNewton', 'decaOhm', 'decaPascal', 'decaRayleigh', 'decaSiemens', 'decaTesla', 'decaVolt', 'decaWatt', 'decaWeber', 'decaamp', 'decaampere', 'decaannum', 'decaarcminute', 'decaarcsecond', 'decaastronomical_unit', 'decabarn', 'decabarye', 'decabit', 'decabyte', 'decacandela', 'decacoulomb', 'decacount', 'decaday', 'decadebye', 'decadegree', 'decadyne', 'decaelectronvolt', 'decafarad', 'decagal', 'decagauss', 'decagram', 'decahenry', 'decahertz', 'decahour', 'decahr', 'decajansky', 'decajoule', 'decakayser', 'decalightyear', 'decaliter', 'decalumen', 'decalux', 'decameter', 'decaminute', 'decamole', 'decanewton', 'decaparsec', 'decapascal', 'decaphoton', 'decapixel', 'decapoise', 'decaradian', 'decarayleigh', 'decarydberg', 'decasecond', 'decasiemens', 'decasteradian', 'decastokes', 'decatesla', 'decavolt', 'decavoxel', 'decawatt', 'decaweber', 'decayear', 'deciBarye', 'deciDa', 'deciDalton', 'deciDebye', 'deciFarad', 'deciGauss', 'deciHenry', 'deciHertz', 'deciJansky', 'deciJoule', 'deciKayser', 'deciKelvin', 'deciNewton', 'deciOhm', 'deciPascal', 'deciRayleigh', 'deciSiemens', 'deciTesla', 'deciVolt', 'deciWatt', 'deciWeber', 'deciamp', 'deciampere', 'deciannum', 'deciarcminute', 'deciarcsecond', 'deciastronomical_unit', 'decibarn', 'decibarye', 'decibel', 'decibit', 'decibyte', 'decicandela', 'decicoulomb', 'decicount', 'deciday', 'decidebye', 'decidegree', 'decidyne', 'decielectronvolt', 'decifarad', 'decigal', 'decigauss', 'decigram', 'decihenry', 'decihertz', 'decihour', 'decihr', 'decijansky', 'decijoule', 'decikayser', 'decilightyear', 'deciliter', 'decilumen', 'decilux', 'decimeter', 'deciminute', 'decimole', 'decinewton', 'deciparsec', 'decipascal', 'deciphoton', 'decipixel', 'decipoise', 'deciradian', 'decirayleigh', 'decirydberg', 'decisecond', 'decisiemens', 'decisteradian', 'decistokes', 'decitesla', 'decivolt', 'decivoxel', 'deciwatt', 'deciweber', 'deciyear', 'decorators', 'def_physical_type', 'def_unit', 'deg', 'deg_C', 'degree', 'dekaBarye', 'dekaDa', 'dekaDalton', 'dekaDebye', 'dekaFarad', 'dekaGauss', 'dekaHenry', 'dekaHertz', 'dekaJansky', 'dekaJoule', 'dekaKayser', 'dekaKelvin', 'dekaNewton', 'dekaOhm', 'dekaPascal', 'dekaRayleigh', 'dekaSiemens', 'dekaTesla', 'dekaVolt', 'dekaWatt', 'dekaWeber', 'dekaamp', 'dekaampere', 'dekaannum', 'dekaarcminute', 'dekaarcsecond', 'dekaastronomical_unit', 'dekabarn', 'dekabarye', 'dekabit', 'dekabyte', 'dekacandela', 'dekacoulomb', 'dekacount', 'dekaday', 'dekadebye', 'dekadegree', 'dekadyne', 'dekaelectronvolt', 'dekafarad', 'dekagal', 'dekagauss', 'dekagram', 'dekahenry', 'dekahertz', 'dekahour', 'dekahr', 'dekajansky', 'dekajoule', 'dekakayser', 'dekalightyear', 'dekaliter', 'dekalumen', 'dekalux', 'dekameter', 'dekaminute', 'dekamole', 'dekanewton', 'dekaparsec', 'dekapascal', 'dekaphoton', 'dekapixel', 'dekapoise', 'dekaradian', 'dekarayleigh', 'dekarydberg', 'dekasecond', 'dekasiemens', 'dekasteradian', 'dekastokes', 'dekatesla', 'dekavolt', 'dekavoxel', 'dekawatt', 'dekaweber', 'dekayear', 'derg', 'dex', 'dg', 'dh', 'dimensionless_angles', 'dimensionless_unscaled', 'dk', 'dl', 'dlm', 'dlx', 'dlyr', 'dm', 'dmag', 'dmin', 'dmol', 'dn', 'dohm', 'doppler_optical', 'doppler_radio', 'doppler_relativistic', 'dpc', 'dph', 'dphoton', 'dpix', 'dpixel', 'drad', 'ds', 'dsr', 'du', 'dvox', 'dvoxel', 'dyn', 'dyne', 'dyr', 'eV', 'earthMass', 'earthRad', 'electron', 'electronvolt', 'equivalencies', 'erg', 'esu', 'exaBarye', 'exaDa', 'exaDalton', 'exaDebye', 'exaFarad', 'exaGauss', 'exaHenry', 'exaHertz', 'exaJansky', 'exaJoule', 'exaKayser', 'exaKelvin', 'exaNewton', 'exaOhm', 'exaPascal', 'exaRayleigh', 'exaSiemens', 'exaTesla', 'exaVolt', 'exaWatt', 'exaWeber', 'exaamp', 'exaampere', 'exaannum', 'exaarcminute', 'exaarcsecond', 'exaastronomical_unit', 'exabarn', 'exabarye', 'exabit', 'exabyte', 'exacandela', 'exacoulomb', 'exacount', 'exaday', 'exadebye', 'exadegree', 'exadyne', 'exaelectronvolt', 'exafarad', 'exagal', 'exagauss', 'exagram', 'exahenry', 'exahertz', 'exahour', 'exahr', 'exajansky', 'exajoule', 'exakayser', 'exalightyear', 'exaliter', 'exalumen', 'exalux', 'exameter', 'examinute', 'examole', 'exanewton', 'exaparsec', 'exapascal', 'exaphoton', 'exapixel', 'exapoise', 'exaradian', 'exarayleigh', 'exarydberg', 'exasecond', 'exasiemens', 'exasteradian', 'exastokes', 'exatesla', 'exavolt', 'exavoxel', 'exawatt', 'exaweber', 'exayear', 'exbibit', 'exbibyte', 'fA', 'fAU', 'fB', 'fBa', 'fC', 'fD', 'fF', 'fG', 'fGal', 'fH', 'fHz', 'fJ', 'fJy', 'fK', 'fL', 'fN', 'fOhm', 'fP', 'fPa', 'fR', 'fRy', 'fS', 'fSt', 'fT', 'fV', 'fW', 'fWb', 'f_bol', 'fa', 'fadu', 'farad', 'farcmin', 'farcsec', 'fau', 'fb', 'fbarn', 'fbeam', 'fbin', 'fbit', 'fbyte', 'fcd', 'fchan', 'fcount', 'fct', 'fd', 'fdeg', 'fdyn', 'feV', 'femtoBarye', 'femtoDa', 'femtoDalton', 'femtoDebye', 'femtoFarad', 'femtoGauss', 'femtoHenry', 'femtoHertz', 'femtoJansky', 'femtoJoule', 'femtoKayser', 'femtoKelvin', 'femtoNewton', 'femtoOhm', 'femtoPascal', 'femtoRayleigh', 'femtoSiemens', 'femtoTesla', 'femtoVolt', 'femtoWatt', 'femtoWeber', 'femtoamp', 'femtoampere', 'femtoannum', 'femtoarcminute', 'femtoarcsecond', 'femtoastronomical_unit', 'femtobarn', 'femtobarye', 'femtobit', 'femtobyte', 'femtocandela', 'femtocoulomb', 'femtocount', 'femtoday', 'femtodebye', 'femtodegree', 'femtodyne', 'femtoelectronvolt', 'femtofarad', 'femtogal', 'femtogauss', 'femtogram', 'femtohenry', 'femtohertz', 'femtohour', 'femtohr', 'femtojansky', 'femtojoule', 'femtokayser', 'femtolightyear', 'femtoliter', 'femtolumen', 'femtolux', 'femtometer', 'femtominute', 'femtomole', 'femtonewton', 'femtoparsec', 'femtopascal', 'femtophoton', 'femtopixel', 'femtopoise', 'femtoradian', 'femtorayleigh', 'femtorydberg', 'femtosecond', 'femtosiemens', 'femtosteradian', 'femtostokes', 'femtotesla', 'femtovolt', 'femtovoxel', 'femtowatt', 'femtoweber', 'femtoyear', 'ferg', 'fg', 'fh', 'fk', 'fl', 'flm', 'flx', 'flyr', 'fm', 'fmag', 'fmin', 'fmol', 'fohm', 'format', 'fortnight', 'fpc', 'fph', 'fphoton', 'fpix', 'fpixel', 'frad', 'fs', 'fsr', 'fu', 'function', 'function_units', 'fvox', 'fvoxel', 'fyr', 'g', 'gal', 'gauss', 'get_current_unit_registry', 'get_physical_type', 'gibibit', 'gibibyte', 'gigaBarye', 'gigaDa', 'gigaDalton', 'gigaDebye', 'gigaFarad', 'gigaGauss', 'gigaHenry', 'gigaHertz', 'gigaJansky', 'gigaJoule', 'gigaKayser', 'gigaKelvin', 'gigaNewton', 'gigaOhm', 'gigaPascal', 'gigaRayleigh', 'gigaSiemens', 'gigaTesla', 'gigaVolt', 'gigaWatt', 'gigaWeber', 'gigaamp', 'gigaampere', 'gigaannum', 'gigaarcminute', 'gigaarcsecond', 'gigaastronomical_unit', 'gigabarn', 'gigabarye', 'gigabit', 'gigabyte', 'gigacandela', 'gigacoulomb', 'gigacount', 'gigaday', 'gigadebye', 'gigadegree', 'gigadyne', 'gigaelectronvolt', 'gigafarad', 'gigagal', 'gigagauss', 'gigagram', 'gigahenry', 'gigahertz', 'gigahour', 'gigahr', 'gigajansky', 'gigajoule', 'gigakayser', 'gigalightyear', 'gigaliter', 'gigalumen', 'gigalux', 'gigameter', 'gigaminute', 'gigamole', 'giganewton', 'gigaparsec', 'gigapascal', 'gigaphoton', 'gigapixel', 'gigapoise', 'gigaradian', 'gigarayleigh', 'gigarydberg', 'gigasecond', 'gigasiemens', 'gigasteradian', 'gigastokes', 'gigatesla', 'gigavolt', 'gigavoxel', 'gigawatt', 'gigaweber', 'gigayear', 'gram', 'h', 'hA', 'hAU', 'hB', 'hBa', 'hC', 'hD', 'hF', 'hG', 'hGal', 'hH', 'hHz', 'hJ', 'hJy', 'hK', 'hL', 'hN', 'hOhm', 'hP', 'hPa', 'hR', 'hRy', 'hS', 'hSt', 'hT', 'hV', 'hW', 'hWb', 'ha', 'hadu', 'harcmin', 'harcsec', 'hau', 'hb', 'hbarn', 'hbeam', 'hbin', 'hbit', 'hbyte', 'hcd', 'hchan', 'hcount', 'hct', 'hd', 'hdeg', 'hdyn', 'heV', 'hectoBarye', 'hectoDa', 'hectoDalton', 'hectoDebye', 'hectoFarad', 'hectoGauss', 'hectoHenry', 'hectoHertz', 'hectoJansky', 'hectoJoule', 'hectoKayser', 'hectoKelvin', 'hectoNewton', 'hectoOhm', 'hectoPascal', 'hectoRayleigh', 'hectoSiemens', 'hectoTesla', 'hectoVolt', 'hectoWatt', 'hectoWeber', 'hectoamp', 'hectoampere', 'hectoannum', 'hectoarcminute', 'hectoarcsecond', 'hectoastronomical_unit', 'hectobarn', 'hectobarye', 'hectobit', 'hectobyte', 'hectocandela', 'hectocoulomb', 'hectocount', 'hectoday', 'hectodebye', 'hectodegree', 'hectodyne', 'hectoelectronvolt', 'hectofarad', 'hectogal', 'hectogauss', 'hectogram', 'hectohenry', 'hectohertz', 'hectohour', 'hectohr', 'hectojansky', 'hectojoule', 'hectokayser', 'hectolightyear', 'hectoliter', 'hectolumen', 'hectolux', 'hectometer', 'hectominute', 'hectomole', 'hectonewton', 'hectoparsec', 'hectopascal', 'hectophoton', 'hectopixel', 'hectopoise', 'hectoradian', 'hectorayleigh', 'hectorydberg', 'hectosecond', 'hectosiemens', 'hectosteradian', 'hectostokes', 'hectotesla', 'hectovolt', 'hectovoxel', 'hectowatt', 'hectoweber', 'hectoyear', 'henry', 'herg', 'hertz', 'hg', 'hh', 'hk', 'hl', 'hlm', 'hlx', 'hlyr', 'hm', 'hmag', 'hmin', 'hmol', 'hohm', 'hour', 'hourangle', 'hpc', 'hph', 'hphoton', 'hpix', 'hpixel', 'hr', 'hrad', 'hs', 'hsr', 'hu', 'hvox', 'hvoxel', 'hyr', 'imperial', 'isclose', 'jansky', 'joule', 'jupiterMass', 'jupiterRad', 'k', 'kA', 'kAU', 'kB', 'kBa', 'kC', 'kD', 'kF', 'kG', 'kGal', 'kH', 'kHz', 'kJ', 'kJy', 'kK', 'kL', 'kN', 'kOhm', 'kP', 'kPa', 'kR', 'kRy', 'kS', 'kSt', 'kT', 'kV', 'kW', 'kWb', 'ka', 'kadu', 'karcmin', 'karcsec', 'kau', 'kayser', 'kb', 'kbarn', 'kbeam', 'kbin', 'kbit', 'kbyte', 'kcd', 'kchan', 'kcount', 'kct', 'kd', 'kdeg', 'kdyn', 'keV', 'kerg', 'kg', 'kh', 'kibibit', 'kibibyte', 'kiloBarye', 'kiloDa', 'kiloDalton', 'kiloDebye', 'kiloFarad', 'kiloGauss', 'kiloHenry', 'kiloHertz', 'kiloJansky', 'kiloJoule', 'kiloKayser', 'kiloKelvin', 'kiloNewton', 'kiloOhm', 'kiloPascal', 'kiloRayleigh', 'kiloSiemens', 'kiloTesla', 'kiloVolt', 'kiloWatt', 'kiloWeber', 'kiloamp', 'kiloampere', 'kiloannum', 'kiloarcminute', 'kiloarcsecond', 'kiloastronomical_unit', 'kilobarn', 'kilobarye', 'kilobit', 'kilobyte', 'kilocandela', 'kilocoulomb', 'kilocount', 'kiloday', 'kilodebye', 'kilodegree', 'kilodyne', 'kiloelectronvolt', 'kilofarad', 'kilogal', 'kilogauss', 'kilogram', 'kilohenry', 'kilohertz', 'kilohour', 'kilohr', 'kilojansky', 'kilojoule', 'kilokayser', 'kilolightyear', 'kiloliter', 'kilolumen', 'kilolux', 'kilometer', 'kilominute', 'kilomole', 'kilonewton', 'kiloparsec', 'kilopascal', 'kilophoton', 'kilopixel', 'kilopoise', 'kiloradian', 'kilorayleigh', 'kilorydberg', 'kilosecond', 'kilosiemens', 'kilosteradian', 'kilostokes', 'kilotesla', 'kilovolt', 'kilovoxel', 'kilowatt', 'kiloweber', 'kiloyear', 'kk', 'kl', 'klm', 'klx', 'klyr', 'km', 'kmag', 'kmin', 'kmol', 'kohm', 'kpc', 'kph', 'kphoton', 'kpix', 'kpixel', 'krad', 'ks', 'ksr', 'ku', 'kvox', 'kvoxel', 'kyr', 'l', 'lightyear', 'liter', 'littleh', 'lm', 'logarithmic', 'lumen', 'lux', 'lx', 'lyr', 'm', 'mA', 'mAU', 'mB', 'mBa', 'mC', 'mD', 'mF', 'mG', 'mGal', 'mH', 'mHz', 'mJ', 'mJy', 'mK', 'mL', 'mN', 'mOhm', 'mP', 'mPa', 'mR', 'mRy', 'mS', 'mSt', 'mT', 'mTorr', 'mV', 'mW', 'mWb', 'm_bol', 'ma', 'madu', 'mag', 'maggy', 'marcmin', 'marcsec', 'mas', 'mass_energy', 'mau', 'mb', 'mbar', 'mbarn', 'mbeam', 'mbin', 'mbit', 'mbyte', 'mcd', 'mchan', 'mcount', 'mct', 'md', 'mdeg', 'mdyn', 'meV', 'mebibit', 'mebibyte', 'megaBarye', 'megaDa', 'megaDalton', 'megaDebye', 'megaFarad', 'megaGauss', 'megaHenry', 'megaHertz', 'megaJansky', 'megaJoule', 'megaKayser', 'megaKelvin', 'megaNewton', 'megaOhm', 'megaPascal', 'megaRayleigh', 'megaSiemens', 'megaTesla', 'megaVolt', 'megaWatt', 'megaWeber', 'megaamp', 'megaampere', 'megaannum', 'megaarcminute', 'megaarcsecond', 'megaastronomical_unit', 'megabarn', 'megabarye', 'megabit', 'megabyte', 'megacandela', 'megacoulomb', 'megacount', 'megaday', 'megadebye', 'megadegree', 'megadyne', 'megaelectronvolt', 'megafarad', 'megagal', 'megagauss', 'megagram', 'megahenry', 'megahertz', 'megahour', 'megahr', 'megajansky', 'megajoule', 'megakayser', 'megalightyear', 'megaliter', 'megalumen', 'megalux', 'megameter', 'megaminute', 'megamole', 'meganewton', 'megaparsec', 'megapascal', 'megaphoton', 'megapixel', 'megapoise', 'megaradian', 'megarayleigh', 'megarydberg', 'megasecond', 'megasiemens', 'megasteradian', 'megastokes', 'megatesla', 'megavolt', 'megavoxel', 'megawatt', 'megaweber', 'megayear', 'merg', 'meter', 'mg', 'mgy', 'mh', 'microBarye', 'microDa', 'microDalton', 'microDebye', 'microFarad', 'microGauss', 'microHenry', 'microHertz', 'microJansky', 'microJoule', 'microKayser', 'microKelvin', 'microNewton', 'microOhm', 'microPascal', 'microRayleigh', 'microSiemens', 'microTesla', 'microVolt', 'microWatt', 'microWeber', 'microamp', 'microampere', 'microannum', 'microarcminute', 'microarcsecond', 'microastronomical_unit', 'microbarn', 'microbarye', 'microbit', 'microbyte', 'microcandela', 'microcoulomb', 'microcount', 'microday', 'microdebye', 'microdegree', 'microdyne', 'microelectronvolt', 'microfarad', 'microgal', 'microgauss', 'microgram', 'microhenry', 'microhertz', 'microhour', 'microhr', 'microjansky', 'microjoule', 'microkayser', 'microlightyear', 'microliter', 'microlumen', 'microlux', 'micrometer', 'microminute', 'micromole', 'micron', 'micronewton', 'microparsec', 'micropascal', 'microphoton', 'micropixel', 'micropoise', 'microradian', 'microrayleigh', 'microrydberg', 'microsecond', 'microsiemens', 'microsteradian', 'microstokes', 'microtesla', 'microvolt', 'microvoxel', 'microwatt', 'microweber', 'microyear', 'milliBarye', 'milliDa', 'milliDalton', 'milliDebye', 'milliFarad', 'milliGauss', 'milliHenry', 'milliHertz', 'milliJansky', 'milliJoule', 'milliKayser', 'milliKelvin', 'milliNewton', 'milliOhm', 'milliPascal', 'milliRayleigh', 'milliSiemens', 'milliTesla', 'milliVolt', 'milliWatt', 'milliWeber', 'milliamp', 'milliampere', 'milliannum', 'milliarcminute', 'milliarcsecond', 'milliastronomical_unit', 'millibarn', 'millibarye', 'millibit', 'millibyte', 'millicandela', 'millicoulomb', 'millicount', 'milliday', 'millidebye', 'millidegree', 'millidyne', 'millielectronvolt', 'millifarad', 'milligal', 'milligauss', 'milligram', 'millihenry', 'millihertz', 'millihour', 'millihr', 'millijansky', 'millijoule', 'millikayser', 'millilightyear', 'milliliter', 'millilumen', 'millilux', 'millimeter', 'milliminute', 'millimole', 'millinewton', 'milliparsec', 'millipascal', 'milliphoton', 'millipixel', 'millipoise', 'milliradian', 'millirayleigh', 'millirydberg', 'millisecond', 'millisiemens', 'millisteradian', 'millistokes', 'millitesla', 'millitorr', 'millivolt', 'millivoxel', 'milliwatt', 'milliweber', 'milliyear', 'min', 'minute', 'misc', 'mk', 'ml', 'mlm', 'mlx', 'mlyr', 'mm', 'mmag', 'mmin', 'mmol', 'mohm', 'mol', 'molar_mass_amu', 'mole', 'mpc', 'mph', 'mphoton', 'mpix', 'mpixel', 'mrad', 'ms', 'msr', 'mu', 'mvox', 'mvoxel', 'myr', 'nA', 'nAU', 'nB', 'nBa', 'nC', 'nD', 'nF', 'nG', 'nGal', 'nH', 'nHz', 'nJ', 'nJy', 'nK', 'nL', 'nN', 'nOhm', 'nP', 'nPa', 'nR', 'nRy', 'nS', 'nSt', 'nT', 'nV', 'nW', 'nWb', 'na', 'nadu', 'nanoBarye', 'nanoDa', 'nanoDalton', 'nanoDebye', 'nanoFarad', 'nanoGauss', 'nanoHenry', 'nanoHertz', 'nanoJansky', 'nanoJoule', 'nanoKayser', 'nanoKelvin', 'nanoNewton', 'nanoOhm', 'nanoPascal', 'nanoRayleigh', 'nanoSiemens', 'nanoTesla', 'nanoVolt', 'nanoWatt', 'nanoWeber', 'nanoamp', 'nanoampere', 'nanoannum', 'nanoarcminute', 'nanoarcsecond', 'nanoastronomical_unit', 'nanobarn', 'nanobarye', 'nanobit', 'nanobyte', 'nanocandela', 'nanocoulomb', 'nanocount', 'nanoday', 'nanodebye', 'nanodegree', 'nanodyne', 'nanoelectronvolt', 'nanofarad', 'nanogal', 'nanogauss', 'nanogram', 'nanohenry', 'nanohertz', 'nanohour', 'nanohr', 'nanojansky', 'nanojoule', 'nanokayser', 'nanolightyear', 'nanoliter', 'nanolumen', 'nanolux', 'nanomaggy', 'nanometer', 'nanominute', 'nanomole', 'nanonewton', 'nanoparsec', 'nanopascal', 'nanophoton', 'nanopixel', 'nanopoise', 'nanoradian', 'nanorayleigh', 'nanorydberg', 'nanosecond', 'nanosiemens', 'nanosteradian', 'nanostokes', 'nanotesla', 'nanovolt', 'nanovoxel', 'nanowatt', 'nanoweber', 'nanoyear', 'narcmin', 'narcsec', 'nau', 'nb', 'nbarn', 'nbeam', 'nbin', 'nbit', 'nbyte', 'ncd', 'nchan', 'ncount', 'nct', 'nd', 'ndeg', 'ndyn', 'neV', 'nerg', 'newton', 'ng', 'nh', 'nk', 'nl', 'nlm', 'nlx', 'nlyr', 'nm', 'nmag', 'nmgy', 'nmin', 'nmol', 'nohm', 'npc', 'nph', 'nphoton', 'npix', 'npixel', 'nrad', 'ns', 'nsr', 'nu', 'nvox', 'nvoxel', 'nyr', 'ohm', 'one', 'pA', 'pAU', 'pB', 'pBa', 'pC', 'pD', 'pF', 'pG', 'pGal', 'pH', 'pHz', 'pJ', 'pJy', 'pK', 'pL', 'pN', 'pOhm', 'pP', 'pPa', 'pR', 'pRy', 'pS', 'pSt', 'pT', 'pV', 'pW', 'pWb', 'pa', 'padu', 'parallax', 'parcmin', 'parcsec', 'parsec', 'pascal', 'pau', 'pb', 'pbarn', 'pbeam', 'pbin', 'pbit', 'pbyte', 'pc', 'pcd', 'pchan', 'pct', 'pd', 'pdeg', 'pdyn', 'peV', 'pebibit', 'pebibyte', 'percent', 'perg', 'petaBarye', 'petaDa', 'petaDalton', 'petaDebye', 'petaFarad', 'petaGauss', 'petaHenry', 'petaHertz', 'petaJansky', 'petaJoule', 'petaKayser', 'petaKelvin', 'petaNewton', 'petaOhm', 'petaPascal', 'petaRayleigh', 'petaSiemens', 'petaTesla', 'petaVolt', 'petaWatt', 'petaWeber', 'petaamp', 'petaampere', 'petaannum', 'petaarcminute', 'petaarcsecond', 'petaastronomical_unit', 'petabarn', 'petabarye', 'petabit', 'petabyte', 'petacandela', 'petacoulomb', 'petacount', 'petaday', 'petadebye', 'petadegree', 'petadyne', 'petaelectronvolt', 'petafarad', 'petagal', 'petagauss', 'petagram', 'petahenry', 'petahertz', 'petahour', 'petahr', 'petajansky', 'petajoule', 'petakayser', 'petalightyear', 'petaliter', 'petalumen', 'petalux', 'petameter', 'petaminute', 'petamole', 'petanewton', 'petaparsec', 'petapascal', 'petaphoton', 'petapixel', 'petapoise', 'petaradian', 'petarayleigh', 'petarydberg', 'petasecond', 'petasiemens', 'petasteradian', 'petastokes', 'petatesla', 'petavolt', 'petavoxel', 'petawatt', 'petaweber', 'petayear', 'pg', 'ph', 'photometric', 'photon', 'physical', 'picoBarye', 'picoDa', 'picoDalton', 'picoDebye', 'picoFarad', 'picoGauss', 'picoHenry', 'picoHertz', 'picoJansky', 'picoJoule', 'picoKayser', 'picoKelvin', 'picoNewton', 'picoOhm', 'picoPascal', 'picoRayleigh', 'picoSiemens', 'picoTesla', 'picoVolt', 'picoWatt', 'picoWeber', 'picoamp', 'picoampere', 'picoannum', 'picoarcminute', 'picoarcsecond', 'picoastronomical_unit', 'picobarn', 'picobarye', 'picobit', 'picobyte', 'picocandela', 'picocoulomb', 'picocount', 'picoday', 'picodebye', 'picodegree', 'picodyne', 'picoelectronvolt', 'picofarad', 'picogal', 'picogauss', 'picogram', 'picohenry', 'picohertz', 'picohour', 'picohr', 'picojansky', 'picojoule', 'picokayser', 'picolightyear', 'picoliter', 'picolumen', 'picolux', 'picometer', 'picominute', 'picomole', 'piconewton', 'picoparsec', 'picopascal', 'picophoton', 'picopixel', 'picopoise', 'picoradian', 'picorayleigh', 'picorydberg', 'picosecond', 'picosiemens', 'picosteradian', 'picostokes', 'picotesla', 'picovolt', 'picovoxel', 'picowatt', 'picoweber', 'picoyear', 'pix', 'pixel', 'pixel_scale', 'pk', 'pl', 'plate_scale', 'plm', 'plx', 'plyr', 'pm', 'pmag', 'pmin', 'pmol', 'pohm', 'poise', 'ppc', 'pph', 'pphoton', 'ppix', 'ppixel', 'prad', 'ps', 'psr', 'pu', 'pvox', 'pvoxel', 'pyr', 'quantity', 'quantity_helper', 'quantity_input', 'rad', 'radian', 'rayleigh', 'rydberg', 's', 'sday', 'second', 'set_enabled_aliases', 'set_enabled_equivalencies', 'set_enabled_units', 'si', 'si_prefixes', 'siemens', 'solLum', 'solMass', 'solRad', 'sp', 'spat', 'spectral', 'spectral_density', 'sr', 'statA', 'statC', 'statampere', 'statcoulomb', 'steradian', 'stokes', 't', 'tebibit', 'tebibyte', 'temperature', 'temperature_energy', 'teraBarye', 'teraDa', 'teraDalton', 'teraDebye', 'teraFarad', 'teraGauss', 'teraHenry', 'teraHertz', 'teraJansky', 'teraJoule', 'teraKayser', 'teraKelvin', 'teraNewton', 'teraOhm', 'teraPascal', 'teraRayleigh', 'teraSiemens', 'teraTesla', 'teraVolt', 'teraWatt', 'teraWeber', 'teraamp', 'teraampere', 'teraannum', 'teraarcminute', 'teraarcsecond', 'teraastronomical_unit', 'terabarn', 'terabarye', 'terabit', 'terabyte', 'teracandela', 'teracoulomb', 'teracount', 'teraday', 'teradebye', 'teradegree', 'teradyne', 'teraelectronvolt', 'terafarad', 'teragal', 'teragauss', 'teragram', 'terahenry', 'terahertz', 'terahour', 'terahr', 'terajansky', 'terajoule', 'terakayser', 'teralightyear', 'teraliter', 'teralumen', 'teralux', 'terameter', 'teraminute', 'teramole', 'teranewton', 'teraparsec', 'terapascal', 'teraphoton', 'terapixel', 'terapoise', 'teraradian', 'terarayleigh', 'terarydberg', 'terasecond', 'terasiemens', 'terasteradian', 'terastokes', 'teratesla', 'teravolt', 'teravoxel', 'terawatt', 'teraweber', 'terayear', 'tesla', 'thermodynamic_temperature', 'tonne', 'torr', 'u', 'uA', 'uAU', 'uB', 'uBa', 'uC', 'uD', 'uF', 'uG', 'uGal', 'uH', 'uHz', 'uJ', 'uJy', 'uK', 'uL', 'uN', 'uOhm', 'uP', 'uPa', 'uR', 'uRy', 'uS', 'uSt', 'uT', 'uV', 'uW', 'uWb', 'ua', 'uadu', 'uarcmin', 'uarcsec', 'uas', 'uau', 'ub', 'ubarn', 'ubeam', 'ubin', 'ubit', 'ubyte', 'ucd', 'uchan', 'ucount', 'uct', 'ud', 'udeg', 'udyn', 'ueV', 'uerg', 'ug', 'uh', 'uk', 'ul', 'ulm', 'ulx', 'ulyr', 'um', 'umag', 'umin', 'umol', 'uohm', 'upc', 'uph', 'uphoton', 'upix', 'upixel', 'urad', 'us', 'usr', 'utils', 'uu', 'uvox', 'uvoxel', 'uyr', 'volt', 'vox', 'voxel', 'watt', 'weber', 'week', 'with_H0', 'wk', 'yA', 'yAU', 'yB', 'yBa', 'yC', 'yD', 'yF', 'yG', 'yGal', 'yH', 'yHz', 'yJ', 'yJy', 'yK', 'yL', 'yN', 'yOhm', 'yP', 'yPa', 'yR', 'yRy', 'yS', 'ySt', 'yT', 'yV', 'yW', 'yWb', 'ya', 'yadu', 'yarcmin', 'yarcsec', 'yau', 'yb', 'ybarn', 'ybeam', 'ybin', 'ybit', 'ybyte', 'ycd', 'ychan', 'ycount', 'yct', 'ydeg', 'ydyn', 'yeV', 'year', 'yerg', 'yg', 'yh', 'yk', 'yl', 'ylm', 'ylx', 'ylyr', 'ym', 'ymag', 'ymin', 'ymol', 'yoctoBarye', 'yoctoDa', 'yoctoDalton', 'yoctoDebye', 'yoctoFarad', 'yoctoGauss', 'yoctoHenry', 'yoctoHertz', 'yoctoJansky', 'yoctoJoule', 'yoctoKayser', 'yoctoKelvin', 'yoctoNewton', 'yoctoOhm', 'yoctoPascal', 'yoctoRayleigh', 'yoctoSiemens', 'yoctoTesla', 'yoctoVolt', 'yoctoWatt', 'yoctoWeber', 'yoctoamp', 'yoctoampere', 'yoctoannum', 'yoctoarcminute', 'yoctoarcsecond', 'yoctoastronomical_unit', 'yoctobarn', 'yoctobarye', 'yoctobit', 'yoctobyte', 'yoctocandela', 'yoctocoulomb', 'yoctocount', 'yoctoday', 'yoctodebye', 'yoctodegree', 'yoctodyne', 'yoctoelectronvolt', 'yoctofarad', 'yoctogal', 'yoctogauss', 'yoctogram', 'yoctohenry', 'yoctohertz', 'yoctohour', 'yoctohr', 'yoctojansky', 'yoctojoule', 'yoctokayser', 'yoctolightyear', 'yoctoliter', 'yoctolumen', 'yoctolux', 'yoctometer', 'yoctominute', 'yoctomole', 'yoctonewton', 'yoctoparsec', 'yoctopascal', 'yoctophoton', 'yoctopixel', 'yoctopoise', 'yoctoradian', 'yoctorayleigh', 'yoctorydberg', 'yoctosecond', 'yoctosiemens', 'yoctosteradian', 'yoctostokes', 'yoctotesla', 'yoctovolt', 'yoctovoxel', 'yoctowatt', 'yoctoweber', 'yoctoyear', 'yohm', 'yottaBarye', 'yottaDa', 'yottaDalton', 'yottaDebye', 'yottaFarad', 'yottaGauss', 'yottaHenry', 'yottaHertz', 'yottaJansky', 'yottaJoule', 'yottaKayser', 'yottaKelvin', 'yottaNewton', 'yottaOhm', 'yottaPascal', 'yottaRayleigh', 'yottaSiemens', 'yottaTesla', 'yottaVolt', 'yottaWatt', 'yottaWeber', 'yottaamp', 'yottaampere', 'yottaannum', 'yottaarcminute', 'yottaarcsecond', 'yottaastronomical_unit', 'yottabarn', 'yottabarye', 'yottabit', 'yottabyte', 'yottacandela', 'yottacoulomb', 'yottacount', 'yottaday', 'yottadebye', 'yottadegree', 'yottadyne', 'yottaelectronvolt', 'yottafarad', 'yottagal', 'yottagauss', 'yottagram', 'yottahenry', 'yottahertz', 'yottahour', 'yottahr', 'yottajansky', 'yottajoule', 'yottakayser', 'yottalightyear', 'yottaliter', 'yottalumen', 'yottalux', 'yottameter', 'yottaminute', 'yottamole', 'yottanewton', 'yottaparsec', 'yottapascal', 'yottaphoton', 'yottapixel', 'yottapoise', 'yottaradian', 'yottarayleigh', 'yottarydberg', 'yottasecond', 'yottasiemens', 'yottasteradian', 'yottastokes', 'yottatesla', 'yottavolt', 'yottavoxel', 'yottawatt', 'yottaweber', 'yottayear', 'ypc', 'yph', 'yphoton', 'ypix', 'ypixel', 'yr', 'yrad', 'ys', 'ysr', 'yu', 'yvox', 'yvoxel', 'yyr', 'zA', 'zAU', 'zB', 'zBa', 'zC', 'zD', 'zF', 'zG', 'zGal', 'zH', 'zHz', 'zJ', 'zJy', 'zK', 'zL', 'zN', 'zOhm', 'zP', 'zPa', 'zR', 'zRy', 'zS', 'zSt', 'zT', 'zV', 'zW', 'zWb', 'za', 'zadu', 'zarcmin', 'zarcsec', 'zau', 'zb', 'zbarn', 'zbeam', 'zbin', 'zbit', 'zbyte', 'zcd', 'zchan', 'zcount', 'zct', 'zd', 'zdeg', 'zdyn', 'zeV', 'zeptoBarye', 'zeptoDa', 'zeptoDalton', 'zeptoDebye', 'zeptoFarad', 'zeptoGauss', 'zeptoHenry', 'zeptoHertz', 'zeptoJansky', 'zeptoJoule', 'zeptoKayser', 'zeptoKelvin', 'zeptoNewton', 'zeptoOhm', 'zeptoPascal', 'zeptoRayleigh', 'zeptoSiemens', 'zeptoTesla', 'zeptoVolt', 'zeptoWatt', 'zeptoWeber', 'zeptoamp', 'zeptoampere', 'zeptoannum', 'zeptoarcminute', 'zeptoarcsecond', 'zeptoastronomical_unit', 'zeptobarn', 'zeptobarye', 'zeptobit', 'zeptobyte', 'zeptocandela', 'zeptocoulomb', 'zeptocount', 'zeptoday', 'zeptodebye', 'zeptodegree', 'zeptodyne', 'zeptoelectronvolt', 'zeptofarad', 'zeptogal', 'zeptogauss', 'zeptogram', 'zeptohenry', 'zeptohertz', 'zeptohour', 'zeptohr', 'zeptojansky', 'zeptojoule', 'zeptokayser', 'zeptolightyear', 'zeptoliter', 'zeptolumen', 'zeptolux', 'zeptometer', 'zeptominute', 'zeptomole', 'zeptonewton', 'zeptoparsec', 'zeptopascal', 'zeptophoton', 'zeptopixel', 'zeptopoise', 'zeptoradian', 'zeptorayleigh', 'zeptorydberg', 'zeptosecond', 'zeptosiemens', 'zeptosteradian', 'zeptostokes', 'zeptotesla', 'zeptovolt', 'zeptovoxel', 'zeptowatt', 'zeptoweber', 'zeptoyear', 'zerg', 'zero_point_flux', 'zettaBarye', 'zettaDa', 'zettaDalton', 'zettaDebye', 'zettaFarad', 'zettaGauss', 'zettaHenry', 'zettaHertz', 'zettaJansky', 'zettaJoule', 'zettaKayser', 'zettaKelvin', 'zettaNewton', 'zettaOhm', 'zettaPascal', 'zettaRayleigh', 'zettaSiemens', 'zettaTesla', 'zettaVolt', 'zettaWatt', 'zettaWeber', 'zettaamp', 'zettaampere', 'zettaannum', 'zettaarcminute', 'zettaarcsecond', 'zettaastronomical_unit', 'zettabarn', 'zettabarye', 'zettabit', 'zettabyte', 'zettacandela', 'zettacoulomb', 'zettacount', 'zettaday', 'zettadebye', 'zettadegree', 'zettadyne', 'zettaelectronvolt', 'zettafarad', 'zettagal', 'zettagauss', 'zettagram', 'zettahenry', 'zettahertz', 'zettahour', 'zettahr', 'zettajansky', 'zettajoule', 'zettakayser', 'zettalightyear', 'zettaliter', 'zettalumen', 'zettalux', 'zettameter', 'zettaminute', 'zettamole', 'zettanewton', 'zettaparsec', 'zettapascal', 'zettaphoton', 'zettapixel', 'zettapoise', 'zettaradian', 'zettarayleigh', 'zettarydberg', 'zettasecond', 'zettasiemens', 'zettasteradian', 'zettastokes', 'zettatesla', 'zettavolt', 'zettavoxel', 'zettawatt', 'zettaweber', 'zettayear', 'zg', 'zh', 'zk', 'zl', 'zlm', 'zlx', 'zlyr', 'zm', 'zmag', 'zmin', 'zmol', 'zohm', 'zpc', 'zph', 'zphoton', 'zpix', 'zpixel', 'zrad', 'zs', 'zsr', 'zu', 'zvox', 'zvoxel', 'zyr']\n"
     ]
    }
   ],
   "source": [
    "from astropy import units\n",
    "\n",
    "print(dir(units))"
   ]
  },
  {
   "cell_type": "markdown",
   "id": "4a528bfc",
   "metadata": {},
   "source": [
    "```{image} ../images/yokamk.gif\n",
    ":alt: Anaconda terminal\n",
    ":class: bg-primary mb-1\n",
    ":width: 400px\n",
    ":align: center\n",
    "```"
   ]
  },
  {
   "cell_type": "markdown",
   "id": "ecb47e7b",
   "metadata": {},
   "source": [
    "Çokmuş. Ama arada tanıdıklar var. $metre$, $gram$, $second$ gibi. Bunlar üzerinden gidelim.\n",
    "\n",
    "<hr>\n",
    "\n",
    "Örnek\n",
    "\n",
    "$3$ metrelik bir değer oluşturunuz."
   ]
  },
  {
   "cell_type": "code",
   "execution_count": 15,
   "id": "35b9d4f3",
   "metadata": {},
   "outputs": [
    {
     "data": {
      "text/latex": [
       "$3 \\; \\mathrm{m}$"
      ],
      "text/plain": [
       "<Quantity 3. m>"
      ]
     },
     "execution_count": 15,
     "metadata": {},
     "output_type": "execute_result"
    }
   ],
   "source": [
    "from astropy import units\n",
    "\n",
    "deger = 3 * units.meter\n",
    "deger"
   ]
  },
  {
   "cell_type": "markdown",
   "id": "e91d47f1",
   "metadata": {},
   "source": [
    "oluşan değerin \"değeri\" ve \"birimi\"ni gösteriniz"
   ]
  },
  {
   "cell_type": "code",
   "execution_count": 14,
   "id": "bb06110e",
   "metadata": {},
   "outputs": [
    {
     "name": "stdout",
     "output_type": "stream",
     "text": [
      "3.0\n",
      "m\n"
     ]
    }
   ],
   "source": [
    "from astropy import units\n",
    "\n",
    "deger = 3 * units.meter\n",
    "print(deger.value)\n",
    "print(deger.unit)"
   ]
  },
  {
   "cell_type": "markdown",
   "id": "6f9da3fa",
   "metadata": {},
   "source": [
    "<hr>\n",
    "\n",
    "Örnek\n",
    "\n",
    "Yarıçapı $3$ $metre$ olan dairenin alanını hesaplayınız."
   ]
  },
  {
   "cell_type": "code",
   "execution_count": 87,
   "id": "255ed4b2",
   "metadata": {},
   "outputs": [
    {
     "data": {
      "text/latex": [
       "$28.274334 \\; \\mathrm{m^{2}}$"
      ],
      "text/plain": [
       "<Quantity 28.27433388 m2>"
      ]
     },
     "execution_count": 87,
     "metadata": {},
     "output_type": "execute_result"
    }
   ],
   "source": [
    "from astropy import units\n",
    "from math import pi\n",
    "\n",
    "r = 3 * units.meter\n",
    "alan = pi * r ** 2\n",
    "alan"
   ]
  },
  {
   "cell_type": "markdown",
   "id": "c409ac13",
   "metadata": {},
   "source": [
    "<hr>\n",
    "\n",
    "Örnek\n",
    "\n",
    "Kenarları sırasıyla $75 cm$ ve $2 m$ olan dikdörtgenin alanını hesaplayınız."
   ]
  },
  {
   "cell_type": "code",
   "execution_count": 39,
   "id": "919cd9fd",
   "metadata": {},
   "outputs": [
    {
     "data": {
      "text/latex": [
       "$150 \\; \\mathrm{cm\\,m}$"
      ],
      "text/plain": [
       "<Quantity 150. cm m>"
      ]
     },
     "execution_count": 39,
     "metadata": {},
     "output_type": "execute_result"
    }
   ],
   "source": [
    "from astropy import units\n",
    "\n",
    "\n",
    "a = 75 * units.centimeter\n",
    "b = 2 * units.meter\n",
    "\n",
    "alan = a * b\n",
    "alan"
   ]
  },
  {
   "cell_type": "markdown",
   "id": "fd34c5d9",
   "metadata": {},
   "source": [
    "$150 ~ cm ~ m$ ne biçin değerdir ya hu? Aslında değerde bir sorun yok. Sadece alışık değiliz böyle gösterimlere. Alışık olduğumuz hale getirmek için bu değeri $m^2$'ye veya temel birimlere dönüştürmek gerek."
   ]
  },
  {
   "cell_type": "markdown",
   "id": "6e22d519",
   "metadata": {},
   "source": [
    "### Dönüşüm\n",
    "\n",
    "Her astropy ```units``` nesnesinin bir ```to``` metodu var. Bu metod bir birim nesnesi alır ve dönüşüm yapar.\n",
    "\n",
    "<hr>\n",
    "\n",
    "Örnek\n",
    "\n",
    "Kenarları sırasıyla $75 cm$ ve $2 m$ olan dikdörtgenin alanını $m^2$ cinsinden hesaplayınız."
   ]
  },
  {
   "cell_type": "code",
   "execution_count": 38,
   "id": "7dff6963",
   "metadata": {},
   "outputs": [
    {
     "data": {
      "text/latex": [
       "$1.5 \\; \\mathrm{m^{2}}$"
      ],
      "text/plain": [
       "<Quantity 1.5 m2>"
      ]
     },
     "execution_count": 38,
     "metadata": {},
     "output_type": "execute_result"
    }
   ],
   "source": [
    "from astropy import units\n",
    "\n",
    "\n",
    "a = 75 * units.centimeter\n",
    "b = 2 * units.meter\n",
    "\n",
    "alan = a * b\n",
    "alan.to(units.m**2)"
   ]
  },
  {
   "cell_type": "markdown",
   "id": "8a5c4ebd",
   "metadata": {},
   "source": [
    "### Temel birimlere dönüşüm\n",
    "\n",
    "Bir birim veya birimlerin kombinasyonları çok farklılık gösterebilir. Lakin ne kadar karmaşık olursa olsun bir sonucu temel birimler cinsinden görmek isteyebiliriz. ```astropy.units```'da temel birim, $mks$'dir.\n",
    "\n",
    "```astropy.units``` temel birimlere dönüşüm için ```decompose``` metodunu kullanır.\n",
    "\n",
    "<hr>\n",
    "\n",
    "Örnek\n",
    "\n",
    "$10 mil$'lik mesafeyi $25$ dakikada kateden bir aracın hızını $mks$ cinsinden hesaplayınız. "
   ]
  },
  {
   "cell_type": "code",
   "execution_count": 37,
   "id": "510078c4",
   "metadata": {},
   "outputs": [
    {
     "data": {
      "text/latex": [
       "$10.72896 \\; \\mathrm{\\frac{m}{s}}$"
      ],
      "text/plain": [
       "<Quantity 10.72896 m / s>"
      ]
     },
     "execution_count": 37,
     "metadata": {},
     "output_type": "execute_result"
    }
   ],
   "source": [
    "from astropy import units\n",
    "\n",
    "\n",
    "yol = 10 * units.imperial.mile\n",
    "sure = 25 * units.minute\n",
    "\n",
    "hiz = yol / sure\n",
    "\n",
    "hiz.decompose()"
   ]
  },
  {
   "cell_type": "markdown",
   "id": "e3de4fad",
   "metadata": {},
   "source": [
    "### Özel birimler\n",
    "\n",
    "```astropy.units``` kullanarak yeni birimler tanımlayabilirsiniz. \n",
    "\n",
    "<hr>\n",
    "\n",
    "Örnek\n",
    "\n",
    "Birim zamanda, metre başına kilogram olarak bir birim tanımlayıp bu birime sahip bir değer oluşturunuz."
   ]
  },
  {
   "cell_type": "code",
   "execution_count": 36,
   "id": "953f50cd",
   "metadata": {},
   "outputs": [
    {
     "data": {
      "text/latex": [
       "$4 \\; \\mathrm{\\frac{kg}{m\\,s}}$"
      ],
      "text/plain": [
       "<Quantity 4. kg / (m s)>"
      ]
     },
     "execution_count": 36,
     "metadata": {},
     "output_type": "execute_result"
    }
   ],
   "source": [
    "from astropy import units\n",
    "\n",
    "birim = units.kilogram / (units.second * units.meter)\n",
    "\n",
    "deger = 4 * birim\n",
    "deger"
   ]
  },
  {
   "cell_type": "markdown",
   "id": "52e6c2a8",
   "metadata": {},
   "source": [
    "## ```astropy.constants``` (sabitler)\n",
    "\n",
    "```astropy.constants``` astronomide işe yarayan bir takım sabitlerdir.\n",
    "\n",
    "İçinde ne var ne yok bir bakalım."
   ]
  },
  {
   "cell_type": "code",
   "execution_count": 43,
   "id": "b4df12d0",
   "metadata": {},
   "outputs": [
    {
     "name": "stdout",
     "output_type": "stream",
     "text": [
      "['Constant', 'EMConstant', 'G', 'GM_earth', 'GM_jup', 'GM_sun', 'L_bol0', 'L_sun', 'M_earth', 'M_jup', 'M_sun', 'N_A', 'R', 'R_earth', 'R_jup', 'R_sun', 'Ryd', '__builtins__', '__cached__', '__doc__', '__file__', '__loader__', '__name__', '__package__', '__path__', '__spec__', 'a0', 'alpha', 'atm', 'au', 'b_wien', 'c', 'cgs', 'codata', 'codata2018', 'config', 'constant', 'e', 'eps0', 'g0', 'h', 'hbar', 'iau2015', 'iaudata', 'k_B', 'kpc', 'm_e', 'm_n', 'm_p', 'mu0', 'muB', 'pc', 'set_enabled_constants', 'si', 'sigma_T', 'sigma_sb', 'u', 'utils']\n"
     ]
    }
   ],
   "source": [
    "from astropy import constants\n",
    "\n",
    "print(dir(constants))"
   ]
  },
  {
   "cell_type": "markdown",
   "id": "e9bca7fa",
   "metadata": {},
   "source": [
    "Sabitlerin sayısı daha azmış...\n",
    "\n",
    "Bir tanesine bakalım.\n",
    "\n",
    "<hr>\n",
    "\n",
    "Örnek\n",
    "\n",
    "Işık hızının değerini, birimini ve tanımını gösteriniz."
   ]
  },
  {
   "cell_type": "code",
   "execution_count": 52,
   "id": "7277fed0",
   "metadata": {},
   "outputs": [
    {
     "name": "stdout",
     "output_type": "stream",
     "text": [
      "299792458.0\n",
      "m / s\n",
      "  Name   = Speed of light in vacuum\n",
      "  Value  = 299792458.0\n",
      "  Uncertainty  = 0.0\n",
      "  Unit  = m / s\n",
      "  Reference = CODATA 2018\n"
     ]
    }
   ],
   "source": [
    "from astropy import constants\n",
    "\n",
    "\n",
    "print(constants.c.value)\n",
    "print(constants.c.unit)\n",
    "print(constants.c)"
   ]
  },
  {
   "cell_type": "markdown",
   "id": "f7c59f5f",
   "metadata": {},
   "source": [
    "<hr>\n",
    "\n",
    "Örnek\n",
    "\n",
    "$E = m c^2$'yi kullanarak, $1 gr$ maddenin ne kadar enerji üretebildiğini, $erg$ cinsinden, gösteriniz."
   ]
  },
  {
   "cell_type": "code",
   "execution_count": 88,
   "id": "3b4e602e",
   "metadata": {},
   "outputs": [
    {
     "data": {
      "text/latex": [
       "$8.9875518 \\times 10^{20} \\; \\mathrm{erg}$"
      ],
      "text/plain": [
       "<Quantity 8.98755179e+20 erg>"
      ]
     },
     "execution_count": 88,
     "metadata": {},
     "output_type": "execute_result"
    }
   ],
   "source": [
    "from astropy import constants\n",
    "from astropy import units\n",
    "\n",
    "kutle = 1 * units.gram\n",
    "enerji = kutle * constants.c ** 2\n",
    "enerji.to(units.erg)"
   ]
  },
  {
   "cell_type": "markdown",
   "id": "e12c84de",
   "metadata": {},
   "source": [
    "<hr>\n",
    "\n",
    "Örnek\n",
    "\n",
    "Wien kayma yasasını kullanarak, $25{}^o K$ sıcaklığındaki bir cismin maksimum dalgaboyunu, Angstrom cinsinden, hesaplayan fonksiyonu yazınız.\n",
    "\n",
    "Wien Kayma yasası\n",
    "\n",
    "$$\n",
    "\\lambda_{max} = \\frac{b}{T}\n",
    "$$\n",
    "\n",
    ":::{note}\n",
    "$\\lambda_{max}$ maksimum dalgaboyu, $b$ Wien kayma sabiti, $T$ ise kelvin cinsinden sıcaklığı ifade eder.\n",
    ":::\n",
    "\n",
    "şeklinde hsaplanır."
   ]
  },
  {
   "cell_type": "code",
   "execution_count": 82,
   "id": "56ad996e",
   "metadata": {},
   "outputs": [
    {
     "name": "stdout",
     "output_type": "stream",
     "text": [
      "1159108.782074069 Angstrom\n"
     ]
    }
   ],
   "source": [
    "from astropy import constants\n",
    "from astropy import units\n",
    "\n",
    "\n",
    "def wien(T):\n",
    "    return constants.b_wien / T\n",
    "\n",
    "print(wien(25 * units.K).to(units.angstrom))"
   ]
  },
  {
   "cell_type": "markdown",
   "id": "61c8a11e",
   "metadata": {},
   "source": [
    ":::{warning}\n",
    "Yazdığımız fonksiyon, sıcaklık değerini Kelvin olarak bekler. Celsius veya Fahrenheit, cinsinden sıcaklık değeri verilirse, bu fonksiyon hata verir. Dolayısıyla, verilen sıcaklık değerinin türüne bakmaksızın, değeri Kelvin'e dönüştürmekte yarar var.\n",
    ":::\n",
    "\n",
    "Sıcaklık dönüşümleri gibi, dönüşümlerde ```Equivalencies``` kullanma zorunluluğu vardır. Burada yine ```to``` metodu kullanılır ve dönüştütülmesi sitenen birim sağlanır. Fakat ek olarak ```equivalencies``` yani dönüşümü yapabilen nesne verilmelidir.\n",
    "\n",
    "<hr>\n",
    "\n",
    "Örnek\n",
    "\n",
    "$25$ Fahrenheit değerini Kelvine'e dönüştürünüz."
   ]
  },
  {
   "cell_type": "code",
   "execution_count": 83,
   "id": "31aade06",
   "metadata": {},
   "outputs": [
    {
     "ename": "UnitConversionError",
     "evalue": "'deg_F' (temperature) and 'K' (temperature) are not convertible",
     "output_type": "error",
     "traceback": [
      "\u001b[1;31m---------------------------------------------------------------------------\u001b[0m",
      "\u001b[1;31mUnitConversionError\u001b[0m                       Traceback (most recent call last)",
      "\u001b[1;32m~\\AppData\\Local\\Temp/ipykernel_13028/3749233363.py\u001b[0m in \u001b[0;36m<module>\u001b[1;34m\u001b[0m\n\u001b[0;32m      2\u001b[0m \u001b[1;33m\u001b[0m\u001b[0m\n\u001b[0;32m      3\u001b[0m \u001b[0mt\u001b[0m \u001b[1;33m=\u001b[0m \u001b[1;36m25\u001b[0m \u001b[1;33m*\u001b[0m \u001b[0munits\u001b[0m\u001b[1;33m.\u001b[0m\u001b[0mimperial\u001b[0m\u001b[1;33m.\u001b[0m\u001b[0mdeg_F\u001b[0m\u001b[1;33m\u001b[0m\u001b[1;33m\u001b[0m\u001b[0m\n\u001b[1;32m----> 4\u001b[1;33m \u001b[0mt\u001b[0m\u001b[1;33m.\u001b[0m\u001b[0mto\u001b[0m\u001b[1;33m(\u001b[0m\u001b[0munits\u001b[0m\u001b[1;33m.\u001b[0m\u001b[0mK\u001b[0m\u001b[1;33m)\u001b[0m\u001b[1;33m\u001b[0m\u001b[1;33m\u001b[0m\u001b[0m\n\u001b[0m",
      "\u001b[1;32m~\\anaconda3\\envs\\mshemuni.github.io\\lib\\site-packages\\astropy\\units\\quantity.py\u001b[0m in \u001b[0;36mto\u001b[1;34m(self, unit, equivalencies, copy)\u001b[0m\n\u001b[0;32m    703\u001b[0m             \u001b[1;31m# Avoid using to_value to ensure that we make a copy. We also\u001b[0m\u001b[1;33m\u001b[0m\u001b[1;33m\u001b[0m\u001b[1;33m\u001b[0m\u001b[0m\n\u001b[0;32m    704\u001b[0m             \u001b[1;31m# don't want to slow down this method (esp. the scalar case).\u001b[0m\u001b[1;33m\u001b[0m\u001b[1;33m\u001b[0m\u001b[1;33m\u001b[0m\u001b[0m\n\u001b[1;32m--> 705\u001b[1;33m             \u001b[0mvalue\u001b[0m \u001b[1;33m=\u001b[0m \u001b[0mself\u001b[0m\u001b[1;33m.\u001b[0m\u001b[0m_to_value\u001b[0m\u001b[1;33m(\u001b[0m\u001b[0munit\u001b[0m\u001b[1;33m,\u001b[0m \u001b[0mequivalencies\u001b[0m\u001b[1;33m)\u001b[0m\u001b[1;33m\u001b[0m\u001b[1;33m\u001b[0m\u001b[0m\n\u001b[0m\u001b[0;32m    706\u001b[0m         \u001b[1;32melse\u001b[0m\u001b[1;33m:\u001b[0m\u001b[1;33m\u001b[0m\u001b[1;33m\u001b[0m\u001b[0m\n\u001b[0;32m    707\u001b[0m             \u001b[1;31m# to_value only copies if necessary\u001b[0m\u001b[1;33m\u001b[0m\u001b[1;33m\u001b[0m\u001b[1;33m\u001b[0m\u001b[0m\n",
      "\u001b[1;32m~\\anaconda3\\envs\\mshemuni.github.io\\lib\\site-packages\\astropy\\units\\quantity.py\u001b[0m in \u001b[0;36m_to_value\u001b[1;34m(self, unit, equivalencies)\u001b[0m\n\u001b[0;32m    667\u001b[0m         \u001b[1;32mif\u001b[0m \u001b[0mequivalencies\u001b[0m \u001b[1;33m==\u001b[0m \u001b[1;33m[\u001b[0m\u001b[1;33m]\u001b[0m\u001b[1;33m:\u001b[0m\u001b[1;33m\u001b[0m\u001b[1;33m\u001b[0m\u001b[0m\n\u001b[0;32m    668\u001b[0m             \u001b[0mequivalencies\u001b[0m \u001b[1;33m=\u001b[0m \u001b[0mself\u001b[0m\u001b[1;33m.\u001b[0m\u001b[0m_equivalencies\u001b[0m\u001b[1;33m\u001b[0m\u001b[1;33m\u001b[0m\u001b[0m\n\u001b[1;32m--> 669\u001b[1;33m         return self.unit.to(unit, self.view(np.ndarray),\n\u001b[0m\u001b[0;32m    670\u001b[0m                             equivalencies=equivalencies)\n\u001b[0;32m    671\u001b[0m \u001b[1;33m\u001b[0m\u001b[0m\n",
      "\u001b[1;32m~\\anaconda3\\envs\\mshemuni.github.io\\lib\\site-packages\\astropy\\units\\core.py\u001b[0m in \u001b[0;36mto\u001b[1;34m(self, other, value, equivalencies)\u001b[0m\n\u001b[0;32m   1131\u001b[0m             \u001b[1;32mreturn\u001b[0m \u001b[0mUNITY\u001b[0m\u001b[1;33m\u001b[0m\u001b[1;33m\u001b[0m\u001b[0m\n\u001b[0;32m   1132\u001b[0m         \u001b[1;32melse\u001b[0m\u001b[1;33m:\u001b[0m\u001b[1;33m\u001b[0m\u001b[1;33m\u001b[0m\u001b[0m\n\u001b[1;32m-> 1133\u001b[1;33m             return self._get_converter(Unit(other),\n\u001b[0m\u001b[0;32m   1134\u001b[0m                                        equivalencies=equivalencies)(value)\n\u001b[0;32m   1135\u001b[0m \u001b[1;33m\u001b[0m\u001b[0m\n",
      "\u001b[1;32m~\\anaconda3\\envs\\mshemuni.github.io\\lib\\site-packages\\astropy\\units\\core.py\u001b[0m in \u001b[0;36m_get_converter\u001b[1;34m(self, other, equivalencies)\u001b[0m\n\u001b[0;32m   1062\u001b[0m                             \u001b[1;32mpass\u001b[0m\u001b[1;33m\u001b[0m\u001b[1;33m\u001b[0m\u001b[0m\n\u001b[0;32m   1063\u001b[0m \u001b[1;33m\u001b[0m\u001b[0m\n\u001b[1;32m-> 1064\u001b[1;33m             \u001b[1;32mraise\u001b[0m \u001b[0mexc\u001b[0m\u001b[1;33m\u001b[0m\u001b[1;33m\u001b[0m\u001b[0m\n\u001b[0m\u001b[0;32m   1065\u001b[0m \u001b[1;33m\u001b[0m\u001b[0m\n\u001b[0;32m   1066\u001b[0m     \u001b[1;32mdef\u001b[0m \u001b[0m_to\u001b[0m\u001b[1;33m(\u001b[0m\u001b[0mself\u001b[0m\u001b[1;33m,\u001b[0m \u001b[0mother\u001b[0m\u001b[1;33m)\u001b[0m\u001b[1;33m:\u001b[0m\u001b[1;33m\u001b[0m\u001b[1;33m\u001b[0m\u001b[0m\n",
      "\u001b[1;32m~\\anaconda3\\envs\\mshemuni.github.io\\lib\\site-packages\\astropy\\units\\core.py\u001b[0m in \u001b[0;36m_get_converter\u001b[1;34m(self, other, equivalencies)\u001b[0m\n\u001b[0;32m   1047\u001b[0m         \u001b[1;31m# if that doesn't work, maybe we can do it with equivalencies?\u001b[0m\u001b[1;33m\u001b[0m\u001b[1;33m\u001b[0m\u001b[1;33m\u001b[0m\u001b[0m\n\u001b[0;32m   1048\u001b[0m         \u001b[1;32mtry\u001b[0m\u001b[1;33m:\u001b[0m\u001b[1;33m\u001b[0m\u001b[1;33m\u001b[0m\u001b[0m\n\u001b[1;32m-> 1049\u001b[1;33m             return self._apply_equivalencies(\n\u001b[0m\u001b[0;32m   1050\u001b[0m                 self, other, self._normalize_equivalencies(equivalencies))\n\u001b[0;32m   1051\u001b[0m         \u001b[1;32mexcept\u001b[0m \u001b[0mUnitsError\u001b[0m \u001b[1;32mas\u001b[0m \u001b[0mexc\u001b[0m\u001b[1;33m:\u001b[0m\u001b[1;33m\u001b[0m\u001b[1;33m\u001b[0m\u001b[0m\n",
      "\u001b[1;32m~\\anaconda3\\envs\\mshemuni.github.io\\lib\\site-packages\\astropy\\units\\core.py\u001b[0m in \u001b[0;36m_apply_equivalencies\u001b[1;34m(self, unit, other, equivalencies)\u001b[0m\n\u001b[0;32m   1023\u001b[0m         \u001b[0mother_str\u001b[0m \u001b[1;33m=\u001b[0m \u001b[0mget_err_str\u001b[0m\u001b[1;33m(\u001b[0m\u001b[0mother\u001b[0m\u001b[1;33m)\u001b[0m\u001b[1;33m\u001b[0m\u001b[1;33m\u001b[0m\u001b[0m\n\u001b[0;32m   1024\u001b[0m \u001b[1;33m\u001b[0m\u001b[0m\n\u001b[1;32m-> 1025\u001b[1;33m         raise UnitConversionError(\n\u001b[0m\u001b[0;32m   1026\u001b[0m             f\"{unit_str} and {other_str} are not convertible\")\n\u001b[0;32m   1027\u001b[0m \u001b[1;33m\u001b[0m\u001b[0m\n",
      "\u001b[1;31mUnitConversionError\u001b[0m: 'deg_F' (temperature) and 'K' (temperature) are not convertible"
     ]
    }
   ],
   "source": [
    "from astropy import units\n",
    "\n",
    "t = 25 * units.imperial.deg_F\n",
    "t.to(units.K)"
   ]
  },
  {
   "cell_type": "markdown",
   "id": "3cd775df",
   "metadata": {},
   "source": [
    "Gördüğünüz gibi $deg\\_F$'den $K$'ye dönüşüm yapamadından yakındı."
   ]
  },
  {
   "cell_type": "code",
   "execution_count": 84,
   "id": "0907c71e",
   "metadata": {},
   "outputs": [
    {
     "data": {
      "text/latex": [
       "$269.26111 \\; \\mathrm{K}$"
      ],
      "text/plain": [
       "<Quantity 269.26111111 K>"
      ]
     },
     "execution_count": 84,
     "metadata": {},
     "output_type": "execute_result"
    }
   ],
   "source": [
    "from astropy import units\n",
    "\n",
    "t = 25 * units.imperial.deg_F\n",
    "t.to(units.K, equivalencies=units.temperature())"
   ]
  },
  {
   "cell_type": "markdown",
   "id": "506624af",
   "metadata": {},
   "source": [
    "Şimdi fonksiyonumuzu düzenleyelim:"
   ]
  },
  {
   "cell_type": "code",
   "execution_count": 86,
   "id": "67a65e25",
   "metadata": {},
   "outputs": [
    {
     "name": "stdout",
     "output_type": "stream",
     "text": [
      "1159108.782074069 Angstrom\n",
      "97191.74761647401 Angstrom\n",
      "107619.40122832671 Angstrom\n"
     ]
    }
   ],
   "source": [
    "from astropy import constants\n",
    "from astropy import units\n",
    "\n",
    "\n",
    "def wien(T):\n",
    "    t_k = T.to(units.K, equivalencies=units.temperature())\n",
    "    return constants.b_wien / t_k\n",
    "\n",
    "print(wien(25 * units.K).to(units.angstrom))\n",
    "print(wien(25 * units.deg_C).to(units.angstrom))\n",
    "print(wien(25 * units.imperial.deg_F).to(units.angstrom))"
   ]
  },
  {
   "cell_type": "markdown",
   "id": "ebc3bf3e",
   "metadata": {},
   "source": [
    "```{image} ../images/cfk.png\n",
    ":alt: Anaconda terminal\n",
    ":class: bg-primary mb-1\n",
    ":width: 400px\n",
    ":align: center\n",
    "```"
   ]
  },
  {
   "cell_type": "code",
   "execution_count": null,
   "id": "e5f330cd",
   "metadata": {},
   "outputs": [],
   "source": []
  }
 ],
 "metadata": {
  "kernelspec": {
   "display_name": "Python 3 (ipykernel)",
   "language": "python",
   "name": "python3"
  },
  "language_info": {
   "codemirror_mode": {
    "name": "ipython",
    "version": 3
   },
   "file_extension": ".py",
   "mimetype": "text/x-python",
   "name": "python",
   "nbconvert_exporter": "python",
   "pygments_lexer": "ipython3",
   "version": "3.9.6"
  }
 },
 "nbformat": 4,
 "nbformat_minor": 5
}
